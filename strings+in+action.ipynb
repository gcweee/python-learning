{
 "cells": [
  {
   "cell_type": "markdown",
   "metadata": {},
   "source": [
    "string backslash characters"
   ]
  },
  {
   "cell_type": "markdown",
   "metadata": {},
   "source": [
    "    \\\\  backsalsh\n",
    "    \\'  single quote\n",
    "    \\\"  double quote\n",
    "    \\a  bell\n",
    "    \\b  backspace\n",
    "    \\f  formfeed\n",
    "    \\n  newline\n",
    "    \\r  carriage return\n",
    "    \\t  horizontal tab\n",
    "    \\v  vertical tab\n",
    "    \\xhh  hex value hh\n",
    "    \\ooo  octal value oo"
   ]
  },
  {
   "cell_type": "markdown",
   "metadata": {},
   "source": [
    "we can use ord() and chr() to transform between numbers and strings"
   ]
  },
  {
   "cell_type": "code",
   "execution_count": 80,
   "metadata": {
    "collapsed": false
   },
   "outputs": [
    {
     "data": {
      "text/plain": [
       "115"
      ]
     },
     "execution_count": 80,
     "metadata": {},
     "output_type": "execute_result"
    }
   ],
   "source": [
    "ord('s')"
   ]
  },
  {
   "cell_type": "code",
   "execution_count": 81,
   "metadata": {
    "collapsed": false
   },
   "outputs": [
    {
     "data": {
      "text/plain": [
       "'s'"
      ]
     },
     "execution_count": 81,
     "metadata": {},
     "output_type": "execute_result"
    }
   ],
   "source": [
    "chr(115)"
   ]
  },
  {
   "cell_type": "code",
   "execution_count": 82,
   "metadata": {
    "collapsed": false
   },
   "outputs": [
    {
     "data": {
      "text/plain": [
       "'6'"
      ]
     },
     "execution_count": 82,
     "metadata": {},
     "output_type": "execute_result"
    }
   ],
   "source": [
    "S='5'\n",
    "S=chr(ord(S)+1)\n",
    "S"
   ]
  },
  {
   "cell_type": "code",
   "execution_count": 83,
   "metadata": {
    "collapsed": false
   },
   "outputs": [
    {
     "data": {
      "text/plain": [
       "5"
      ]
     },
     "execution_count": 83,
     "metadata": {},
     "output_type": "execute_result"
    }
   ],
   "source": [
    "int('5')"
   ]
  },
  {
   "cell_type": "code",
   "execution_count": 84,
   "metadata": {
    "collapsed": false
   },
   "outputs": [
    {
     "data": {
      "text/plain": [
       "5"
      ]
     },
     "execution_count": 84,
     "metadata": {},
     "output_type": "execute_result"
    }
   ],
   "source": [
    "ord('5')-ord('0')"
   ]
  },
  {
   "cell_type": "code",
   "execution_count": 85,
   "metadata": {
    "collapsed": false
   },
   "outputs": [
    {
     "data": {
      "text/plain": [
       "13"
      ]
     },
     "execution_count": 85,
     "metadata": {},
     "output_type": "execute_result"
    }
   ],
   "source": [
    "B='1101'\n",
    "I=0\n",
    "while B!='':\n",
    "    I=I*2+(ord(B[0])-ord('0'))\n",
    "    B=B[1:]\n",
    "I"
   ]
  },
  {
   "cell_type": "markdown",
   "metadata": {},
   "source": [
    "str and repr(which means represention) "
   ]
  },
  {
   "cell_type": "markdown",
   "metadata": {},
   "source": [
    "    repr produces results that look as though they were code"
   ]
  },
  {
   "cell_type": "code",
   "execution_count": 1,
   "metadata": {
    "collapsed": false
   },
   "outputs": [
    {
     "data": {
      "text/plain": [
       "('spam', \"'spam'\")"
      ]
     },
     "execution_count": 1,
     "metadata": {},
     "output_type": "execute_result"
    }
   ],
   "source": [
    "str('spam'),repr('spam')"
   ]
  },
  {
   "cell_type": "code",
   "execution_count": 3,
   "metadata": {
    "collapsed": false
   },
   "outputs": [
    {
     "name": "stdout",
     "output_type": "stream",
     "text": [
      "spam 'spam'\n"
     ]
    }
   ],
   "source": [
    "print(str('spam'),repr('spam'))"
   ]
  },
  {
   "cell_type": "code",
   "execution_count": 79,
   "metadata": {
    "collapsed": false
   },
   "outputs": [
    {
     "name": "stdout",
     "output_type": "stream",
     "text": [
      "--------------------------------------------------------------------------------\n"
     ]
    }
   ],
   "source": [
    "print('-'*80)"
   ]
  },
  {
   "cell_type": "markdown",
   "metadata": {},
   "source": [
    "ectended slicing(s[i:j:k])"
   ]
  },
  {
   "cell_type": "markdown",
   "metadata": {},
   "source": [
    "    accepts a step (or stride)k, which defaults to +1\n",
    "    means extract all the items in X,from offset I thoutgh J-1,by K"
   ]
  },
  {
   "cell_type": "code",
   "execution_count": 70,
   "metadata": {
    "collapsed": false
   },
   "outputs": [
    {
     "data": {
      "text/plain": [
       "'gjdl'"
      ]
     },
     "execution_count": 70,
     "metadata": {},
     "output_type": "execute_result"
    }
   ],
   "source": [
    "X='adgfjldflafwovmbdfjlg'\n",
    "X[2:10:2]"
   ]
  },
  {
   "cell_type": "code",
   "execution_count": 71,
   "metadata": {
    "collapsed": false
   },
   "outputs": [
    {
     "data": {
      "text/plain": [
       "'agjdlfomdjg'"
      ]
     },
     "execution_count": 71,
     "metadata": {},
     "output_type": "execute_result"
    }
   ],
   "source": [
    "X[::2]"
   ]
  },
  {
   "cell_type": "code",
   "execution_count": 73,
   "metadata": {
    "collapsed": false
   },
   "outputs": [
    {
     "data": {
      "text/plain": [
       "'olleh'"
      ]
     },
     "execution_count": 73,
     "metadata": {},
     "output_type": "execute_result"
    }
   ],
   "source": [
    "'hello'[::-1]"
   ]
  },
  {
   "cell_type": "code",
   "execution_count": 74,
   "metadata": {
    "collapsed": false
   },
   "outputs": [
    {
     "data": {
      "text/plain": [
       "'ldj'"
      ]
     },
     "execution_count": 74,
     "metadata": {},
     "output_type": "execute_result"
    }
   ],
   "source": [
    "# and S[5:1:-1] fetches the items from 2 to 5 ,in reverse order\n",
    "X[8:2:-2]"
   ]
  },
  {
   "cell_type": "code",
   "execution_count": 75,
   "metadata": {
    "collapsed": false
   },
   "outputs": [
    {
     "data": {
      "text/plain": [
       "'gfmwllg'"
      ]
     },
     "execution_count": 75,
     "metadata": {},
     "output_type": "execute_result"
    }
   ],
   "source": [
    "X[::-3]"
   ]
  },
  {
   "cell_type": "code",
   "execution_count": 76,
   "metadata": {
    "collapsed": false
   },
   "outputs": [
    {
     "data": {
      "text/plain": [
       "'pa'"
      ]
     },
     "execution_count": 76,
     "metadata": {},
     "output_type": "execute_result"
    }
   ],
   "source": [
    "'spam'[1:3]"
   ]
  },
  {
   "cell_type": "code",
   "execution_count": 77,
   "metadata": {
    "collapsed": false
   },
   "outputs": [
    {
     "data": {
      "text/plain": [
       "'spa'"
      ]
     },
     "execution_count": 77,
     "metadata": {},
     "output_type": "execute_result"
    }
   ],
   "source": [
    "'spam'[slice(0,3)]"
   ]
  },
  {
   "cell_type": "code",
   "execution_count": 78,
   "metadata": {
    "collapsed": false
   },
   "outputs": [
    {
     "data": {
      "text/plain": [
       "'maps'"
      ]
     },
     "execution_count": 78,
     "metadata": {},
     "output_type": "execute_result"
    }
   ],
   "source": [
    "'spam'[slice(None,None,-1)]# the same as 'spam'[::-1]"
   ]
  },
  {
   "cell_type": "markdown",
   "metadata": {},
   "source": [
    "replace and find"
   ]
  },
  {
   "cell_type": "code",
   "execution_count": 4,
   "metadata": {
    "collapsed": false,
    "scrolled": true
   },
   "outputs": [
    {
     "data": {
      "text/plain": [
       "'spamalot'"
      ]
     },
     "execution_count": 4,
     "metadata": {},
     "output_type": "execute_result"
    }
   ],
   "source": [
    "# the use of replace function\n",
    "S='splot'\n",
    "S=S.replace('pl','pamal')\n",
    "S"
   ]
  },
  {
   "cell_type": "code",
   "execution_count": 8,
   "metadata": {
    "collapsed": false
   },
   "outputs": [
    {
     "data": {
      "text/plain": [
       "4"
      ]
     },
     "execution_count": 8,
     "metadata": {},
     "output_type": "execute_result"
    }
   ],
   "source": [
    "# where & find function\n",
    "S='xxxxSPAMxxxxSPAMxxxxSPAM'\n",
    "where=S.find('SPAM')\n",
    "where"
   ]
  },
  {
   "cell_type": "code",
   "execution_count": 9,
   "metadata": {
    "collapsed": false
   },
   "outputs": [
    {
     "data": {
      "text/plain": [
       "'xxxxEGGSxxxxSPAMxxxxSPAM'"
      ]
     },
     "execution_count": 9,
     "metadata": {},
     "output_type": "execute_result"
    }
   ],
   "source": [
    "S=S[:where]+'EGGS'+S[(where+4):]\n",
    "S"
   ]
  },
  {
   "cell_type": "markdown",
   "metadata": {},
   "source": [
    "we can use another way to change the strings\n",
    "by using list and join method"
   ]
  },
  {
   "cell_type": "code",
   "execution_count": 10,
   "metadata": {
    "collapsed": false
   },
   "outputs": [
    {
     "data": {
      "text/plain": [
       "['s', 'p', 'a', 'm', 'm', 'y']"
      ]
     },
     "execution_count": 10,
     "metadata": {},
     "output_type": "execute_result"
    }
   ],
   "source": [
    "S='spammy'\n",
    "L=list(S)\n",
    "L"
   ]
  },
  {
   "cell_type": "code",
   "execution_count": 12,
   "metadata": {
    "collapsed": false
   },
   "outputs": [
    {
     "data": {
      "text/plain": [
       "['s', 'p', 'a', 'x', 'x', 'y']"
      ]
     },
     "execution_count": 12,
     "metadata": {},
     "output_type": "execute_result"
    }
   ],
   "source": [
    "L[3]='x'\n",
    "L[4]='x'\n",
    "L"
   ]
  },
  {
   "cell_type": "code",
   "execution_count": 14,
   "metadata": {
    "collapsed": false
   },
   "outputs": [
    {
     "data": {
      "text/plain": [
       "'spaxxy'"
      ]
     },
     "execution_count": 14,
     "metadata": {},
     "output_type": "execute_result"
    }
   ],
   "source": [
    "S=''.join(L)\n",
    "S"
   ]
  },
  {
   "cell_type": "code",
   "execution_count": 18,
   "metadata": {
    "collapsed": false,
    "scrolled": true
   },
   "outputs": [
    {
     "data": {
      "text/plain": [
       "'eggssPaMasausagesPaMhamsPaMtoast'"
      ]
     },
     "execution_count": 18,
     "metadata": {},
     "output_type": "execute_result"
    }
   ],
   "source": [
    "'sPaM'.join(['eggs','asausage','ham','toast'])"
   ]
  },
  {
   "cell_type": "markdown",
   "metadata": {},
   "source": [
    "about split: Parsing text"
   ]
  },
  {
   "cell_type": "code",
   "execution_count": 19,
   "metadata": {
    "collapsed": false
   },
   "outputs": [
    {
     "data": {
      "text/plain": [
       "'aaa'"
      ]
     },
     "execution_count": 19,
     "metadata": {},
     "output_type": "execute_result"
    }
   ],
   "source": [
    "line='aaa bbb ccc'\n",
    "col1=line[0:3]\n",
    "col3=line[8:]\n",
    "col1"
   ]
  },
  {
   "cell_type": "code",
   "execution_count": 20,
   "metadata": {
    "collapsed": false
   },
   "outputs": [
    {
     "data": {
      "text/plain": [
       "'ccc'"
      ]
     },
     "execution_count": 20,
     "metadata": {},
     "output_type": "execute_result"
    }
   ],
   "source": [
    "col3"
   ]
  },
  {
   "cell_type": "code",
   "execution_count": 21,
   "metadata": {
    "collapsed": false
   },
   "outputs": [
    {
     "data": {
      "text/plain": [
       "['aaa', 'bbb', 'ccc']"
      ]
     },
     "execution_count": 21,
     "metadata": {},
     "output_type": "execute_result"
    }
   ],
   "source": [
    "cols=line.split()\n",
    "cols"
   ]
  },
  {
   "cell_type": "code",
   "execution_count": 22,
   "metadata": {
    "collapsed": false
   },
   "outputs": [
    {
     "data": {
      "text/plain": [
       "'aaa'"
      ]
     },
     "execution_count": 22,
     "metadata": {},
     "output_type": "execute_result"
    }
   ],
   "source": [
    "cols[0]"
   ]
  },
  {
   "cell_type": "code",
   "execution_count": 23,
   "metadata": {
    "collapsed": false
   },
   "outputs": [
    {
     "data": {
      "text/plain": [
       "['bob', 'hacker', '40']"
      ]
     },
     "execution_count": 23,
     "metadata": {},
     "output_type": "execute_result"
    }
   ],
   "source": [
    "line1='bob,hacker,40'\n",
    "line1.split(',')"
   ]
  },
  {
   "cell_type": "code",
   "execution_count": 24,
   "metadata": {
    "collapsed": false
   },
   "outputs": [
    {
     "data": {
      "text/plain": [
       "[\"i'm\", 'a', 'lumberjack']"
      ]
     },
     "execution_count": 24,
     "metadata": {},
     "output_type": "execute_result"
    }
   ],
   "source": [
    "line2=\"i'mSPAMaSPAMlumberjack\"\n",
    "line2.split('SPAM')"
   ]
  },
  {
   "cell_type": "code",
   "execution_count": null,
   "metadata": {
    "collapsed": false
   },
   "outputs": [],
   "source": [
    "file=open('wage1_description.txt','r')\n",
    "col_names=[]\n",
    "for line in file:\n",
    "    t=line.split()\n",
    "    if len(t)>0 and t[0]=='Obs:':\n",
    "        break\n",
    "    col_names +=t\n",
    "col_names=col_names[1:]\n",
    "col_names"
   ]
  },
  {
   "cell_type": "markdown",
   "metadata": {},
   "source": [
    "rstrip() can be used to strip off whitespace at the end of a line of text"
   ]
  },
  {
   "cell_type": "code",
   "execution_count": 47,
   "metadata": {
    "collapsed": false
   },
   "outputs": [
    {
     "data": {
      "text/plain": [
       "'The knights who say Ni!'"
      ]
     },
     "execution_count": 47,
     "metadata": {},
     "output_type": "execute_result"
    }
   ],
   "source": [
    "line='The knights who say Ni!\\n'\n",
    "line.rstrip()"
   ]
  },
  {
   "cell_type": "code",
   "execution_count": 48,
   "metadata": {
    "collapsed": false
   },
   "outputs": [
    {
     "data": {
      "text/plain": [
       "'The knights who say Ni!           '"
      ]
     },
     "execution_count": 48,
     "metadata": {},
     "output_type": "execute_result"
    }
   ],
   "source": [
    "line='The knights who say Ni!           '\n",
    "line"
   ]
  },
  {
   "cell_type": "code",
   "execution_count": 49,
   "metadata": {
    "collapsed": false
   },
   "outputs": [
    {
     "data": {
      "text/plain": [
       "'The knights who say Ni!'"
      ]
     },
     "execution_count": 49,
     "metadata": {},
     "output_type": "execute_result"
    }
   ],
   "source": [
    "line.rstrip() #see? with rstrip(),the whitespaces at the end of the line is wiped out."
   ]
  },
  {
   "cell_type": "code",
   "execution_count": null,
   "metadata": {
    "collapsed": true
   },
   "outputs": [],
   "source": [
    "line.isalpha()"
   ]
  },
  {
   "cell_type": "code",
   "execution_count": 52,
   "metadata": {
    "collapsed": false
   },
   "outputs": [
    {
     "data": {
      "text/plain": [
       "False"
      ]
     },
     "execution_count": 52,
     "metadata": {},
     "output_type": "execute_result"
    }
   ],
   "source": [
    "line.endswith('\\n')\n",
    "line.startswith('The')\n",
    "line.endswith('!') #this is false"
   ]
  },
  {
   "cell_type": "markdown",
   "metadata": {
    "collapsed": true
   },
   "source": [
    "anvanced formatting expression examples"
   ]
  },
  {
   "cell_type": "code",
   "execution_count": 5,
   "metadata": {
    "collapsed": false
   },
   "outputs": [
    {
     "data": {
      "text/plain": [
       "'That is 1 dead bird!'"
      ]
     },
     "execution_count": 5,
     "metadata": {},
     "output_type": "execute_result"
    }
   ],
   "source": [
    "# formatting things\n",
    "'That is %d %s bird!' %(1,'dead')"
   ]
  },
  {
   "cell_type": "code",
   "execution_count": 6,
   "metadata": {
    "collapsed": false,
    "scrolled": true
   },
   "outputs": [
    {
     "data": {
      "text/plain": [
       "'That is dead 1 bird'"
      ]
     },
     "execution_count": 6,
     "metadata": {},
     "output_type": "execute_result"
    }
   ],
   "source": [
    "'That is {1} {0} bird'.format(1,'dead')"
   ]
  },
  {
   "cell_type": "code",
   "execution_count": 2,
   "metadata": {
    "collapsed": false
   },
   "outputs": [
    {
     "data": {
      "text/plain": [
       "'integers:...1234...1234  ...001234'"
      ]
     },
     "execution_count": 2,
     "metadata": {},
     "output_type": "execute_result"
    }
   ],
   "source": [
    "x=1234\n",
    "res='integers:...%d...%-6d...%06d'%(x,x,x)\n",
    "res"
   ]
  },
  {
   "cell_type": "code",
   "execution_count": 3,
   "metadata": {
    "collapsed": false
   },
   "outputs": [
    {
     "data": {
      "text/plain": [
       "'1.234569e+00|1.234569|1.23457'"
      ]
     },
     "execution_count": 3,
     "metadata": {},
     "output_type": "execute_result"
    }
   ],
   "source": [
    "x=1.2345689\n",
    "'%e|%f|%g'%(x,x,x)"
   ]
  },
  {
   "cell_type": "code",
   "execution_count": 5,
   "metadata": {
    "collapsed": false
   },
   "outputs": [
    {
     "data": {
      "text/plain": [
       "'1.23  |01.23|+001.2'"
      ]
     },
     "execution_count": 5,
     "metadata": {},
     "output_type": "execute_result"
    }
   ],
   "source": [
    "#左对齐，右对齐，按小数点对齐\n",
    "'%-6.2f|%05.2f|%+06.1f'%(x,x,x)"
   ]
  },
  {
   "cell_type": "markdown",
   "metadata": {},
   "source": [
    "    when sizes are not known until runtime,you can use a computed width and precision\n",
    "    by specifying them with * in the format string to force their values to be taken from the next item\n",
    "    in the unputs to the right of the % operator\n",
    "    the 4 in the tuple here gives precision"
   ]
  },
  {
   "cell_type": "code",
   "execution_count": 7,
   "metadata": {
    "collapsed": false
   },
   "outputs": [
    {
     "data": {
      "text/plain": [
       "'0.333333,0.333333,0.3333'"
      ]
     },
     "execution_count": 7,
     "metadata": {},
     "output_type": "execute_result"
    }
   ],
   "source": [
    "'%f,%2f,%.*f'%(1/3.0,1/3.0,4,1/3.0)"
   ]
  },
  {
   "cell_type": "code",
   "execution_count": 10,
   "metadata": {
    "collapsed": false
   },
   "outputs": [
    {
     "data": {
      "text/plain": [
       "'0.333333,0.333333,0.33333333'"
      ]
     },
     "execution_count": 10,
     "metadata": {},
     "output_type": "execute_result"
    }
   ],
   "source": [
    "'%f,%2f,%.*f'%(1/3.0,1/3.0,8,1/3.0)"
   ]
  },
  {
   "cell_type": "markdown",
   "metadata": {},
   "source": [
    "dictionary-based formatting expressions"
   ]
  },
  {
   "cell_type": "code",
   "execution_count": 11,
   "metadata": {
    "collapsed": false
   },
   "outputs": [
    {
     "data": {
      "text/plain": [
       "'1 more spam'"
      ]
     },
     "execution_count": 11,
     "metadata": {},
     "output_type": "execute_result"
    }
   ],
   "source": [
    "'%(qty)d more %(food)s'%{'qty':1,'food':'spam'}"
   ]
  },
  {
   "cell_type": "code",
   "execution_count": 12,
   "metadata": {
    "collapsed": false
   },
   "outputs": [
    {
     "name": "stdout",
     "output_type": "stream",
     "text": [
      "Greetings...\n",
      "Hello Bob!\n",
      "Your age is 40\n"
     ]
    }
   ],
   "source": [
    "reply=\"\"\"Greetings...\n",
    "Hello %(name)s!\n",
    "Your age is %(age)s\"\"\"\n",
    "values={'name':'Bob','age':40}\n",
    "print(reply%values)"
   ]
  },
  {
   "cell_type": "code",
   "execution_count": 13,
   "metadata": {
    "collapsed": false
   },
   "outputs": [
    {
     "data": {
      "text/plain": [
       "{'In': ['',\n",
       "  \"x=1234\\nres='integers:...%d...%-6d...%06d'%(x,x,x)\\nres\",\n",
       "  \"x=1234\\nres='integers:...%d...%-6d...%06d'%(x,x,x)\\nres\",\n",
       "  \"x=1.2345689\\n'%e|%f|%g'%(x,x,x)\",\n",
       "  \"#左对齐，右对齐，按小数点对齐\\n'%-6.2f|%05.2f|%+06.1f'%(x,x,x)\",\n",
       "  \"#左对齐，右对齐，按小数点对齐\\n'%-6.2f|%05.2f|%+06.1f'%(x,x,x)\",\n",
       "  \"'%f,%2f,%.*f'%(1/3.0,1/3.0,4,1/3.0)\",\n",
       "  \"'%f,%2f,%.*f'%(1/3.0,1/3.0,4,1/3.0)\",\n",
       "  \"'%f,%2f,%.*f'%(1/3.0,1/3.8,1/3.0)\",\n",
       "  \"'%f,%2f,%.*f'%(1/3.0,1/3.0,8,1/3.0)\",\n",
       "  \"'%f,%2f,%.*f'%(1/3.0,1/3.0,8,1/3.0)\",\n",
       "  \"'%(qty)d more %(food)s'%{'qty':1,'food':'spam'}\",\n",
       "  'reply=\"\"\"Greetings...\\nHello %(name)s!\\nYour age is %(age)s\"\"\"\\nvalues={\\'name\\':\\'Bob\\',\\'age\\':40}\\nprint(reply%values)',\n",
       "  \"food='spam'\\nqty=10\\nvars()\"],\n",
       " 'Out': {1: 'integers:...1234...1234  ...001234',\n",
       "  2: 'integers:...1234...1234  ...001234',\n",
       "  3: '1.234569e+00|1.234569|1.23457',\n",
       "  4: '1.23  |01.23|+001.2',\n",
       "  5: '1.23  |01.23|+001.2',\n",
       "  6: '0.333333,0.333333,0.3333',\n",
       "  7: '0.333333,0.333333,0.3333',\n",
       "  9: '0.333333,0.333333,0.33333333',\n",
       "  10: '0.333333,0.333333,0.33333333',\n",
       "  11: '1 more spam'},\n",
       " '_': '1 more spam',\n",
       " '_1': 'integers:...1234...1234  ...001234',\n",
       " '_10': '0.333333,0.333333,0.33333333',\n",
       " '_11': '1 more spam',\n",
       " '_2': 'integers:...1234...1234  ...001234',\n",
       " '_3': '1.234569e+00|1.234569|1.23457',\n",
       " '_4': '1.23  |01.23|+001.2',\n",
       " '_5': '1.23  |01.23|+001.2',\n",
       " '_6': '0.333333,0.333333,0.3333',\n",
       " '_7': '0.333333,0.333333,0.3333',\n",
       " '_9': '0.333333,0.333333,0.33333333',\n",
       " '__': '0.333333,0.333333,0.33333333',\n",
       " '___': '0.333333,0.333333,0.33333333',\n",
       " '__builtin__': <module 'builtins' (built-in)>,\n",
       " '__builtins__': <module 'builtins' (built-in)>,\n",
       " '__doc__': 'Automatically created module for IPython interactive environment',\n",
       " '__loader__': None,\n",
       " '__name__': '__main__',\n",
       " '__package__': None,\n",
       " '__spec__': None,\n",
       " '_dh': ['C:\\\\Users\\\\gcwee'],\n",
       " '_i': 'reply=\"\"\"Greetings...\\nHello %(name)s!\\nYour age is %(age)s\"\"\"\\nvalues={\\'name\\':\\'Bob\\',\\'age\\':40}\\nprint(reply%values)',\n",
       " '_i1': \"x=1234\\nres='integers:...%d...%-6d...%06d'%(x,x,x)\\nres\",\n",
       " '_i10': \"'%f,%2f,%.*f'%(1/3.0,1/3.0,8,1/3.0)\",\n",
       " '_i11': \"'%(qty)d more %(food)s'%{'qty':1,'food':'spam'}\",\n",
       " '_i12': 'reply=\"\"\"Greetings...\\nHello %(name)s!\\nYour age is %(age)s\"\"\"\\nvalues={\\'name\\':\\'Bob\\',\\'age\\':40}\\nprint(reply%values)',\n",
       " '_i13': \"food='spam'\\nqty=10\\nvars()\",\n",
       " '_i2': \"x=1234\\nres='integers:...%d...%-6d...%06d'%(x,x,x)\\nres\",\n",
       " '_i3': \"x=1.2345689\\n'%e|%f|%g'%(x,x,x)\",\n",
       " '_i4': \"#左对齐，右对齐，按小数点对齐\\n'%-6.2f|%05.2f|%+06.1f'%(x,x,x)\",\n",
       " '_i5': \"#左对齐，右对齐，按小数点对齐\\n'%-6.2f|%05.2f|%+06.1f'%(x,x,x)\",\n",
       " '_i6': \"'%f,%2f,%.*f'%(1/3.0,1/3.0,4,1/3.0)\",\n",
       " '_i7': \"'%f,%2f,%.*f'%(1/3.0,1/3.0,4,1/3.0)\",\n",
       " '_i8': \"'%f,%2f,%.*f'%(1/3.0,1/3.8,1/3.0)\",\n",
       " '_i9': \"'%f,%2f,%.*f'%(1/3.0,1/3.0,8,1/3.0)\",\n",
       " '_ih': ['',\n",
       "  \"x=1234\\nres='integers:...%d...%-6d...%06d'%(x,x,x)\\nres\",\n",
       "  \"x=1234\\nres='integers:...%d...%-6d...%06d'%(x,x,x)\\nres\",\n",
       "  \"x=1.2345689\\n'%e|%f|%g'%(x,x,x)\",\n",
       "  \"#左对齐，右对齐，按小数点对齐\\n'%-6.2f|%05.2f|%+06.1f'%(x,x,x)\",\n",
       "  \"#左对齐，右对齐，按小数点对齐\\n'%-6.2f|%05.2f|%+06.1f'%(x,x,x)\",\n",
       "  \"'%f,%2f,%.*f'%(1/3.0,1/3.0,4,1/3.0)\",\n",
       "  \"'%f,%2f,%.*f'%(1/3.0,1/3.0,4,1/3.0)\",\n",
       "  \"'%f,%2f,%.*f'%(1/3.0,1/3.8,1/3.0)\",\n",
       "  \"'%f,%2f,%.*f'%(1/3.0,1/3.0,8,1/3.0)\",\n",
       "  \"'%f,%2f,%.*f'%(1/3.0,1/3.0,8,1/3.0)\",\n",
       "  \"'%(qty)d more %(food)s'%{'qty':1,'food':'spam'}\",\n",
       "  'reply=\"\"\"Greetings...\\nHello %(name)s!\\nYour age is %(age)s\"\"\"\\nvalues={\\'name\\':\\'Bob\\',\\'age\\':40}\\nprint(reply%values)',\n",
       "  \"food='spam'\\nqty=10\\nvars()\"],\n",
       " '_ii': \"'%(qty)d more %(food)s'%{'qty':1,'food':'spam'}\",\n",
       " '_iii': \"'%f,%2f,%.*f'%(1/3.0,1/3.0,8,1/3.0)\",\n",
       " '_oh': {1: 'integers:...1234...1234  ...001234',\n",
       "  2: 'integers:...1234...1234  ...001234',\n",
       "  3: '1.234569e+00|1.234569|1.23457',\n",
       "  4: '1.23  |01.23|+001.2',\n",
       "  5: '1.23  |01.23|+001.2',\n",
       "  6: '0.333333,0.333333,0.3333',\n",
       "  7: '0.333333,0.333333,0.3333',\n",
       "  9: '0.333333,0.333333,0.33333333',\n",
       "  10: '0.333333,0.333333,0.33333333',\n",
       "  11: '1 more spam'},\n",
       " '_sh': <module 'IPython.core.shadowns' from 'C:\\\\Users\\\\gcwee\\\\Anaconda3\\\\lib\\\\site-packages\\\\IPython\\\\core\\\\shadowns.py'>,\n",
       " 'exit': <IPython.core.autocall.ZMQExitAutocall at 0x1bbc975fbe0>,\n",
       " 'food': 'spam',\n",
       " 'get_ipython': <bound method InteractiveShell.get_ipython of <ipykernel.zmqshell.ZMQInteractiveShell object at 0x000001BBC8EB71D0>>,\n",
       " 'qty': 10,\n",
       " 'quit': <IPython.core.autocall.ZMQExitAutocall at 0x1bbc975fbe0>,\n",
       " 'reply': 'Greetings...\\nHello %(name)s!\\nYour age is %(age)s',\n",
       " 'res': 'integers:...1234...1234  ...001234',\n",
       " 'values': {'age': 40, 'name': 'Bob'},\n",
       " 'x': 1.2345689}"
      ]
     },
     "execution_count": 13,
     "metadata": {},
     "output_type": "execute_result"
    }
   ],
   "source": [
    "food='spam'\n",
    "qty=10\n",
    "vars()"
   ]
  },
  {
   "cell_type": "markdown",
   "metadata": {},
   "source": [
    "formatting method basics but not expressions"
   ]
  },
  {
   "cell_type": "code",
   "execution_count": 14,
   "metadata": {
    "collapsed": false
   },
   "outputs": [
    {
     "data": {
      "text/plain": [
       "'spam,ham and eggs'"
      ]
     },
     "execution_count": 14,
     "metadata": {},
     "output_type": "execute_result"
    }
   ],
   "source": [
    "template='{motto},{pork} and {food}'\n",
    "template.format(motto='spam',pork='ham',food='eggs')"
   ]
  },
  {
   "cell_type": "code",
   "execution_count": 16,
   "metadata": {
    "collapsed": false
   },
   "outputs": [
    {
     "data": {
      "text/plain": [
       "'spam,ham and eggs'"
      ]
     },
     "execution_count": 16,
     "metadata": {},
     "output_type": "execute_result"
    }
   ],
   "source": [
    "template='{motto},{0} and {food}'\n",
    "template.format('ham',motto='spam',food='eggs')"
   ]
  },
  {
   "cell_type": "code",
   "execution_count": 17,
   "metadata": {
    "collapsed": false
   },
   "outputs": [
    {
     "data": {
      "text/plain": [
       "'spam,ham and eggs'"
      ]
     },
     "execution_count": 17,
     "metadata": {},
     "output_type": "execute_result"
    }
   ],
   "source": [
    "template='%(motto)s,%(pork)s and %(food)s'\n",
    "template % dict(motto='spam',pork='ham',food='eggs')"
   ]
  },
  {
   "cell_type": "code",
   "execution_count": 19,
   "metadata": {
    "collapsed": false
   },
   "outputs": [
    {
     "data": {
      "text/plain": [
       "'My laptop runs win32'"
      ]
     },
     "execution_count": 19,
     "metadata": {},
     "output_type": "execute_result"
    }
   ],
   "source": [
    "import sys\n",
    "'My {1[kind]} runs {0.platform}'.format(sys,{'kind':'laptop'})"
   ]
  },
  {
   "cell_type": "code",
   "execution_count": 20,
   "metadata": {
    "collapsed": false
   },
   "outputs": [
    {
     "data": {
      "text/plain": [
       "['S', 'P', 'A', 'M']"
      ]
     },
     "execution_count": 20,
     "metadata": {},
     "output_type": "execute_result"
    }
   ],
   "source": [
    "somelist=list('SPAM')\n",
    "somelist"
   ]
  },
  {
   "cell_type": "code",
   "execution_count": 24,
   "metadata": {
    "collapsed": false
   },
   "outputs": [
    {
     "data": {
      "text/plain": [
       "'first=S, third=A'"
      ]
     },
     "execution_count": 24,
     "metadata": {},
     "output_type": "execute_result"
    }
   ],
   "source": [
    "'first={0[0]}, third={0[2]}'.format(somelist)"
   ]
  },
  {
   "cell_type": "code",
   "execution_count": 25,
   "metadata": {
    "collapsed": false
   },
   "outputs": [
    {
     "data": {
      "text/plain": [
       "'first=S and last=M'"
      ]
     },
     "execution_count": 25,
     "metadata": {},
     "output_type": "execute_result"
    }
   ],
   "source": [
    "'first={0} and last={1}'.format(somelist[0],somelist[-1])"
   ]
  },
  {
   "cell_type": "code",
   "execution_count": 26,
   "metadata": {
    "collapsed": false
   },
   "outputs": [
    {
     "data": {
      "text/plain": [
       "\"first=S, last=M and middle=['P', 'A']\""
      ]
     },
     "execution_count": 26,
     "metadata": {},
     "output_type": "execute_result"
    }
   ],
   "source": [
    "parts=somelist[0],somelist[1:3],somelist[3]\n",
    "'first={0}, last={2} and middle={1}'.format(*parts)"
   ]
  },
  {
   "cell_type": "markdown",
   "metadata": {},
   "source": [
    "advanced formatting method syntax"
   ]
  },
  {
   "cell_type": "markdown",
   "metadata": {},
   "source": [
    "    the use of :"
   ]
  },
  {
   "cell_type": "code",
   "execution_count": 28,
   "metadata": {
    "collapsed": false
   },
   "outputs": [
    {
     "data": {
      "text/plain": [
       "'spam      =  123.4567'"
      ]
     },
     "execution_count": 28,
     "metadata": {},
     "output_type": "execute_result"
    }
   ],
   "source": [
    "'{0:10}={1:10}'.format('spam',123.4567)"
   ]
  },
  {
   "cell_type": "code",
   "execution_count": 29,
   "metadata": {
    "collapsed": false
   },
   "outputs": [
    {
     "data": {
      "text/plain": [
       "'      spam=123.4567  '"
      ]
     },
     "execution_count": 29,
     "metadata": {},
     "output_type": "execute_result"
    }
   ],
   "source": [
    "'{0:>10}={1:<10}'.format('spam',123.4567) #right and left justified of the first argument"
   ]
  },
  {
   "cell_type": "code",
   "execution_count": 30,
   "metadata": {
    "collapsed": false
   },
   "outputs": [
    {
     "data": {
      "text/plain": [
       "'      spam=123.4567  '"
      ]
     },
     "execution_count": 30,
     "metadata": {},
     "output_type": "execute_result"
    }
   ],
   "source": [
    "#or we can just omit the 0 and 1\n",
    "'{:>10}={:<10}'.format('spam',123.4567)"
   ]
  },
  {
   "cell_type": "code",
   "execution_count": 34,
   "metadata": {
    "collapsed": false
   },
   "outputs": [
    {
     "data": {
      "text/plain": [
       "'3.456332,3.46,03.456'"
      ]
     },
     "execution_count": 34,
     "metadata": {},
     "output_type": "execute_result"
    }
   ],
   "source": [
    "'{:f},{:.2f},{:06.3f}'.format(3.45633226,3.45633226,3.45633226)"
   ]
  },
  {
   "cell_type": "code",
   "execution_count": 39,
   "metadata": {
    "collapsed": false
   },
   "outputs": [
    {
     "data": {
      "text/plain": [
       "'0.3333'"
      ]
     },
     "execution_count": 39,
     "metadata": {},
     "output_type": "execute_result"
    }
   ],
   "source": [
    "'{0:.{1}f}'.format(1/3.0,4)"
   ]
  },
  {
   "cell_type": "code",
   "execution_count": 41,
   "metadata": {
    "collapsed": false
   },
   "outputs": [
    {
     "data": {
      "text/plain": [
       "'0.3333'"
      ]
     },
     "execution_count": 41,
     "metadata": {},
     "output_type": "execute_result"
    }
   ],
   "source": [
    "'%.*f'%(4,1/3.0)"
   ]
  },
  {
   "cell_type": "code",
   "execution_count": 43,
   "metadata": {
    "collapsed": false
   },
   "outputs": [
    {
     "data": {
      "text/plain": [
       "'1.23'"
      ]
     },
     "execution_count": 43,
     "metadata": {},
     "output_type": "execute_result"
    }
   ],
   "source": [
    "'{:.2f}'.format(1.23455)"
   ]
  },
  {
   "cell_type": "code",
   "execution_count": 44,
   "metadata": {
    "collapsed": false
   },
   "outputs": [
    {
     "data": {
      "text/plain": [
       "'1.23'"
      ]
     },
     "execution_count": 44,
     "metadata": {},
     "output_type": "execute_result"
    }
   ],
   "source": [
    "format(1.2345,'.2f')"
   ]
  },
  {
   "cell_type": "code",
   "execution_count": 45,
   "metadata": {
    "collapsed": false
   },
   "outputs": [
    {
     "data": {
      "text/plain": [
       "'1.23'"
      ]
     },
     "execution_count": 45,
     "metadata": {},
     "output_type": "execute_result"
    }
   ],
   "source": [
    "'%.2f'%1.2345"
   ]
  },
  {
   "cell_type": "markdown",
   "metadata": {},
   "source": [
    "comparision between this two format forms"
   ]
  },
  {
   "cell_type": "code",
   "execution_count": 47,
   "metadata": {
    "collapsed": false
   },
   "outputs": [
    {
     "data": {
      "text/plain": [
       "'spam      =   345.434'"
      ]
     },
     "execution_count": 47,
     "metadata": {},
     "output_type": "execute_result"
    }
   ],
   "source": [
    "'%-10s=%10s'%('spam',345.434)"
   ]
  },
  {
   "cell_type": "code",
   "execution_count": 56,
   "metadata": {
    "collapsed": false
   },
   "outputs": [
    {
     "data": {
      "text/plain": [
       "'      spam=3.353     '"
      ]
     },
     "execution_count": 56,
     "metadata": {},
     "output_type": "execute_result"
    }
   ],
   "source": [
    "'%10s=%-10.3f'%('spam',3.3525)"
   ]
  },
  {
   "cell_type": "code",
   "execution_count": 58,
   "metadata": {
    "collapsed": false
   },
   "outputs": [
    {
     "data": {
      "text/plain": [
       "'      spam=03.353'"
      ]
     },
     "execution_count": 58,
     "metadata": {},
     "output_type": "execute_result"
    }
   ],
   "source": [
    "'%10s=%06.3f'%('spam',3.3525)"
   ]
  },
  {
   "cell_type": "code",
   "execution_count": 59,
   "metadata": {
    "collapsed": false
   },
   "outputs": [
    {
     "data": {
      "text/plain": [
       "'999999999'"
      ]
     },
     "execution_count": 59,
     "metadata": {},
     "output_type": "execute_result"
    }
   ],
   "source": [
    "'{:d}'.format(999999999)"
   ]
  },
  {
   "cell_type": "code",
   "execution_count": 60,
   "metadata": {
    "collapsed": false
   },
   "outputs": [
    {
     "data": {
      "text/plain": [
       "'9,999,999'"
      ]
     },
     "execution_count": 60,
     "metadata": {},
     "output_type": "execute_result"
    }
   ],
   "source": [
    "'{:,}'.format(9999999)"
   ]
  },
  {
   "cell_type": "code",
   "execution_count": 61,
   "metadata": {
    "collapsed": false
   },
   "outputs": [
    {
     "data": {
      "text/plain": [
       "'9,999,999.00'"
      ]
     },
     "execution_count": 61,
     "metadata": {},
     "output_type": "execute_result"
    }
   ],
   "source": [
    "'{:,.2f}'.format(9999999)"
   ]
  },
  {
   "cell_type": "markdown",
   "metadata": {},
   "source": [
    "    and we should import commas and money from the formats\n",
    "    if we want to use the %\n",
    "    but this turned out to be unable to realize"
   ]
  },
  {
   "cell_type": "markdown",
   "metadata": {},
   "source": [
    "    when we want to get the float point result, we should choose formatting expression first"
   ]
  },
  {
   "cell_type": "code",
   "execution_count": 67,
   "metadata": {
    "collapsed": false
   },
   "outputs": [
    {
     "data": {
      "text/plain": [
       "'3.141593,3.14,3.142,00003.14'"
      ]
     },
     "execution_count": 67,
     "metadata": {},
     "output_type": "execute_result"
    }
   ],
   "source": [
    "from math import pi\n",
    "'{0:f},{1:.2f},{2:,.3f},{3:08.2f}'.format(pi,pi,pi,pi)"
   ]
  },
  {
   "cell_type": "code",
   "execution_count": 68,
   "metadata": {
    "collapsed": false
   },
   "outputs": [
    {
     "data": {
      "text/plain": [
       "'3.141593,3.14,3.142,00003.14'"
      ]
     },
     "execution_count": 68,
     "metadata": {},
     "output_type": "execute_result"
    }
   ],
   "source": [
    "'{:f},{:.2f},{:,.3f},{:08.2f}'.format(pi,pi,pi,pi)"
   ]
  },
  {
   "cell_type": "code",
   "execution_count": 69,
   "metadata": {
    "collapsed": false
   },
   "outputs": [
    {
     "data": {
      "text/plain": [
       "'3.141593,3.14,00003.14'"
      ]
     },
     "execution_count": 69,
     "metadata": {},
     "output_type": "execute_result"
    }
   ],
   "source": [
    "'%f,%.2f,%08.2f'%(pi,pi,pi)"
   ]
  },
  {
   "cell_type": "markdown",
   "metadata": {},
   "source": [
    "gnenral type categories"
   ]
  },
  {
   "cell_type": "markdown",
   "metadata": {},
   "source": [
    "    there are three major type (and operation) categories in Python have this generic nature:\n",
    "    # numbers(integer,floating-point,decimal,fraction,others)\n",
    "        support addition, multiplication, etc\n",
    "    # sequences(strings,lists,tuples)\n",
    "        support indexing,slicing,concatenation, etc\n",
    "    # mappings(dictionaries)\n",
    "        support indexing by key,etc"
   ]
  },
  {
   "cell_type": "markdown",
   "metadata": {},
   "source": [
    "mutable types can be changed in place"
   ]
  },
  {
   "cell_type": "markdown",
   "metadata": {},
   "source": [
    "    #immutables(numbers,strings,tuples,froxensets)\n",
    "        none of the object types in the immutable category support in-place changes,\n",
    "        though we can always run expressions to make new objects and assing their results to variables as needed\n",
    "    #mutables(lists,dictionaries,sets,bytrarray)\n",
    "        cna always be changed in place with operations that do not create new objects,\n",
    "        although such objects can be copied, in-place changes support direct modification"
   ]
  },
  {
   "cell_type": "code",
   "execution_count": null,
   "metadata": {
    "collapsed": true
   },
   "outputs": [],
   "source": []
  },
  {
   "cell_type": "code",
   "execution_count": null,
   "metadata": {
    "collapsed": true
   },
   "outputs": [],
   "source": []
  }
 ],
 "metadata": {
  "anaconda-cloud": {
   "attach-environment": true,
   "environment": "Root",
   "url": "https://anaconda.org/gcweee/strings-in-action"
  },
  "kernelspec": {
   "display_name": "Python [conda root]",
   "language": "python",
   "name": "conda-root-py"
  },
  "language_info": {
   "codemirror_mode": {
    "name": "ipython",
    "version": 3
   },
   "file_extension": ".py",
   "mimetype": "text/x-python",
   "name": "python",
   "nbconvert_exporter": "python",
   "pygments_lexer": "ipython3",
   "version": "3.5.2"
  }
 },
 "nbformat": 4,
 "nbformat_minor": 0
}
