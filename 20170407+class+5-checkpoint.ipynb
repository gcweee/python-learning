{
 "cells": [
  {
   "cell_type": "code",
   "execution_count": 2,
   "metadata": {
    "collapsed": false
   },
   "outputs": [
    {
     "data": {
      "text/plain": [
       "collections.OrderedDict"
      ]
     },
     "execution_count": 2,
     "metadata": {},
     "output_type": "execute_result"
    }
   ],
   "source": [
    "#引入新的数据结构OrderedDict\n",
    "import collections\n",
    "collections.OrderedDict"
   ]
  },
  {
   "cell_type": "code",
   "execution_count": 3,
   "metadata": {
    "collapsed": true
   },
   "outputs": [],
   "source": [
    "#各种模块和包，还能自己安装\n",
    "#—m pydoc -p 8080\n",
    "#https://pymotw.com"
   ]
  },
  {
   "cell_type": "code",
   "execution_count": 4,
   "metadata": {
    "collapsed": true
   },
   "outputs": [],
   "source": [
    "#distutils为自带的基本安装工具，创建setup.py,执行setup.py install\n",
    "#setuptools 包依赖机制 自动安装esay_install, 集中服务器PyPI，easy_install[PACKAGE_NAME]\n",
    "#PIP & virtualenv: 安装pip install[package_name];删除pip uninstall[package_name]\n",
    "#pip list(使用其进行检查)\n",
    "#virtualenv: 创建隔离的Python环境的工具，解决：生成不同的虚拟环境，每个执行环境安装不同的包，让一个Python支持多个开发场景\n",
    "#eggs: 用于安装，setuptools可以识别\n",
    "#distribute:与setuptools类似"
   ]
  },
  {
   "cell_type": "code",
   "execution_count": 5,
   "metadata": {
    "collapsed": true
   },
   "outputs": [],
   "source": [
    "#一般情况下，安装包和模块，使用distutils setup.py和pip两种方式已经够用了\n",
    "#conda安装包也可以，与pip性质类似"
   ]
  },
  {
   "cell_type": "code",
   "execution_count": 16,
   "metadata": {
    "collapsed": false
   },
   "outputs": [
    {
     "name": "stdout",
     "output_type": "stream",
     "text": [
      "<Response [200]>\n"
     ]
    }
   ],
   "source": [
    "#模块介绍1：requests,访问web\n",
    "import requests\n",
    "r=requests.get('http://www.hust.edn.cn')\n",
    "print(r)#结果200，是表示可以的意思"
   ]
  },
  {
   "cell_type": "code",
   "execution_count": 5,
   "metadata": {
    "collapsed": true
   },
   "outputs": [],
   "source": [
    "#登陆到v2ex.com\n",
    "import requests\n",
    "from bs4 import BeautifulSoup\n",
    "s=requests.Session()\n",
    "#作为一个访问网站的\n",
    "#beautifulsoup负责解析html文件\n",
    "#网上学习资源网址\n",
    "#http://blog.csdn.net/asmcvc/article/details/50965318\n",
    "#http://www.jb51.net/article/43572.htm"
   ]
  },
  {
   "cell_type": "code",
   "execution_count": 1,
   "metadata": {
    "collapsed": false
   },
   "outputs": [
    {
     "name": "stdout",
     "output_type": "stream",
     "text": [
      "<!DOCTYPE html PUBLIC \"-//W3C//DTD XHTML 1.0 Transitional//EN\" \"http://www.w3.org/TR/xhtml1/DTD/xhtml1-transitional.dtd\">\n",
      "<html xmlns=\"http://www.w3.org/1999/xhtml\">\n",
      " <head>\n",
      "  <title>\n",
      "   巨潮资讯网\n",
      "  </title>\n",
      "  <!-- 公共引用 -->\n",
      "  <!-- 页面头部和尾部样式与JS的公共引用 -->\n",
      "  <meta content=\"IE=edge\" http-equiv=\"X-UA-Compatible\"/>\n",
      "  <link href=\"/cninfo-new/css/base.css\" rel=\"stylesheet\" type=\"text/css\"/>\n",
      "  <link href=\"/cninfo-new/css/flexslider.css\" media=\"screen\" rel=\"stylesheet\" type=\"text/css\"/>\n",
      "  <script language=\"javascript\" src=\"/cninfo-new/js/jquery.js\" type=\"text/javascript\">\n",
      "  </script>\n",
      "  <script language=\"javascript\" src=\"/cninfo-new/js/common/common.js\" type=\"text/javascript\">\n",
      "  </script>\n",
      "  <script language=\"javascript\" src=\"/cninfo-new/js/common/moment.min.js\" type=\"text/javascript\">\n",
      "  </script>\n",
      "  <script defer=\"\" src=\"/cninfo-new/js/jquery.flexslider.js\">\n",
      "  </script>\n",
      "  <script type=\"text/javascript\">\n",
      "   <!-- 页面底部 -->\n",
      " <!-- 页面公共尾部 -->\n",
      "<div class=\"footer\">\n",
      "\t\t\t<li class=\"title\">相关链接</li>\n",
      "<a href=\"http://www.szse.cn/\" target=\"_blank\">深圳证券交易所</a></li>\n",
      "\t\t\t<li><a href=\"http://www.sse.com.cn/\" target=\"_blank\">上海证券交易所</a></li>\n",
      "\t\t\t<li><a href=\"http://www.cninfo.com.cn/sme/index.html\" target=\"_blank\">中小企业板</a></li>\n",
      "\t\t\t<li><a href=\"http://chinext.cninfo.com.cn/newmarket/\" target=\"_blank\">创业板</a></li>\n",
      "\t\t\t<li><a href=\"http://www.cnindex.com.cn/\" target=\"_blank\">巨潮指数</a></li>\n",
      "  </script>\n",
      " </head>\n",
      "</html>\n"
     ]
    }
   ],
   "source": [
    "#以资讯网为例说明\n",
    "from bs4 import BeautifulSoup\n",
    "html=\"\"\"<!DOCTYPE html PUBLIC \"-//W3C//DTD XHTML 1.0 Transitional//EN\" \"http://www.w3.org/TR/xhtml1/DTD/xhtml1-transitional.dtd\">\n",
    "<html xmlns=\"http://www.w3.org/1999/xhtml\">\n",
    "<head>\n",
    "<title>巨潮资讯网</title>\n",
    "<!-- 公共引用 -->\n",
    "<!-- 页面头部和尾部样式与JS的公共引用 -->\n",
    "<META http-equiv=\"X-UA-Compatible\" content=\"IE=edge\" > </META>\n",
    "<link href=\"/cninfo-new/css/base.css\" rel=\"stylesheet\" type=\"text/css\" />\n",
    "<link rel=\"stylesheet\" href=\"/cninfo-new/css/flexslider.css\" type=\"text/css\" media=\"screen\" />\n",
    "<script language=\"javascript\" type=\"text/javascript\" src=\"/cninfo-new/js/jquery.js\"></script>\n",
    "<script language=\"javascript\" type=\"text/javascript\" src=\"/cninfo-new/js/common/common.js\"></script>\n",
    "<script language=\"javascript\" type=\"text/javascript\" src=\"/cninfo-new/js/common/moment.min.js\"></script>\n",
    "<script defer src=\"/cninfo-new/js/jquery.flexslider.js\"></script>\n",
    "<script type=\"text/javascript\">\n",
    "\t<!-- 页面底部 -->\n",
    " <!-- 页面公共尾部 -->\n",
    "<div class=\"footer\">\n",
    "\t\t\t<li class=\"title\">相关链接</li>\n",
    "<a href=\"http://www.szse.cn/\" target=\"_blank\">深圳证券交易所</a></li>\n",
    "\t\t\t<li><a href=\"http://www.sse.com.cn/\" target=\"_blank\">上海证券交易所</a></li>\n",
    "\t\t\t<li><a href=\"http://www.cninfo.com.cn/sme/index.html\" target=\"_blank\">中小企业板</a></li>\n",
    "\t\t\t<li><a href=\"http://chinext.cninfo.com.cn/newmarket/\" target=\"_blank\">创业板</a></li>\n",
    "\t\t\t<li><a href=\"http://www.cnindex.com.cn/\" target=\"_blank\">巨潮指数</a></li>\"\"\"\n",
    "soup=BeautifulSoup(html,'lxml')\n",
    "print(soup.prettify())"
   ]
  },
  {
   "cell_type": "markdown",
   "metadata": {},
   "source": [
    "BeautifulSoup 将网页分解为树形结构的4部分\n",
    "* tag\n",
    "* navigable string\n",
    "* beautiful soup\n",
    "* comment"
   ]
  },
  {
   "cell_type": "markdown",
   "metadata": {},
   "source": [
    "* tag"
   ]
  },
  {
   "cell_type": "code",
   "execution_count": 9,
   "metadata": {
    "collapsed": false
   },
   "outputs": [
    {
     "name": "stdout",
     "output_type": "stream",
     "text": [
      "<title>巨潮资讯网</title>\n"
     ]
    }
   ],
   "source": [
    "print(soup.title)"
   ]
  },
  {
   "cell_type": "code",
   "execution_count": 11,
   "metadata": {
    "collapsed": false
   },
   "outputs": [
    {
     "name": "stdout",
     "output_type": "stream",
     "text": [
      "<head>\n",
      "<title>巨潮资讯网</title>\n",
      "<!-- 公共引用 -->\n",
      "<!-- 页面头部和尾部样式与JS的公共引用 -->\n",
      "<meta content=\"IE=edge\" http-equiv=\"X-UA-Compatible\"/>\n",
      "<link href=\"/cninfo-new/css/base.css\" rel=\"stylesheet\" type=\"text/css\"/>\n",
      "<link href=\"/cninfo-new/css/flexslider.css\" media=\"screen\" rel=\"stylesheet\" type=\"text/css\"/>\n",
      "<script language=\"javascript\" src=\"/cninfo-new/js/jquery.js\" type=\"text/javascript\"></script>\n",
      "<script language=\"javascript\" src=\"/cninfo-new/js/common/common.js\" type=\"text/javascript\"></script>\n",
      "<script language=\"javascript\" src=\"/cninfo-new/js/common/moment.min.js\" type=\"text/javascript\"></script>\n",
      "<script defer=\"\" src=\"/cninfo-new/js/jquery.flexslider.js\"></script>\n",
      "<script type=\"text/javascript\">\n",
      "\t<!-- 页面底部 -->\n",
      " <!-- 页面公共尾部 -->\n",
      "<div class=\"footer\">\n",
      "\t\t\t<li class=\"title\">相关链接</li>\n",
      "\t\t\t<li><a href=\"http://www.szse.cn/\" target=\"_blank\">深圳证券交易所</a></li>\n",
      "\t\t\t<li><a href=\"http://www.sse.com.cn/\" target=\"_blank\">上海证券交易所</a></li>\n",
      "\t\t\t<li><a href=\"http://www.cninfo.com.cn/sme/index.html\" target=\"_blank\">中小企业板</a></li>\n",
      "\t\t\t<li><a href=\"http://chinext.cninfo.com.cn/newmarket/\" target=\"_blank\">创业板</a></li>\n",
      "\t\t\t<li><a href=\"http://www.cnindex.com.cn/\" target=\"_blank\">巨潮指数</a></li></script></head>\n"
     ]
    }
   ],
   "source": [
    "print(soup.head)"
   ]
  },
  {
   "cell_type": "code",
   "execution_count": 14,
   "metadata": {
    "collapsed": false
   },
   "outputs": [
    {
     "name": "stdout",
     "output_type": "stream",
     "text": [
      "<link href=\"/cninfo-new/css/base.css\" rel=\"stylesheet\" type=\"text/css\"/>\n"
     ]
    }
   ],
   "source": [
    "print(soup.link)#link标签下的内容"
   ]
  },
  {
   "cell_type": "code",
   "execution_count": 15,
   "metadata": {
    "collapsed": false
   },
   "outputs": [
    {
     "data": {
      "text/plain": [
       "bs4.element.Tag"
      ]
     },
     "execution_count": 15,
     "metadata": {},
     "output_type": "execute_result"
    }
   ],
   "source": [
    "type(soup.link)"
   ]
  },
  {
   "cell_type": "code",
   "execution_count": 18,
   "metadata": {
    "collapsed": false
   },
   "outputs": [
    {
     "name": "stdout",
     "output_type": "stream",
     "text": [
      "{'href': '/cninfo-new/css/base.css', 'rel': ['stylesheet'], 'type': 'text/css'}\n"
     ]
    }
   ],
   "source": [
    "#若要获得标签属性下的所有值，使用attrs方法\n",
    "print(soup.link.attrs)"
   ]
  },
  {
   "cell_type": "code",
   "execution_count": 21,
   "metadata": {
    "collapsed": false
   },
   "outputs": [
    {
     "name": "stdout",
     "output_type": "stream",
     "text": [
      "/cninfo-new/css/base.css\n",
      "['stylesheet']\n"
     ]
    }
   ],
   "source": [
    "#若要单独得到具体的一个值，使用如下方法\n",
    "print(soup.link['href'])\n",
    "print(soup.link.get('rel'))"
   ]
  },
  {
   "cell_type": "markdown",
   "metadata": {},
   "source": [
    "* navigablestring"
   ]
  },
  {
   "cell_type": "code",
   "execution_count": 25,
   "metadata": {
    "collapsed": false
   },
   "outputs": [
    {
     "name": "stdout",
     "output_type": "stream",
     "text": [
      "None\n"
     ]
    }
   ],
   "source": [
    "#得到标签后要得到标签内部的文字（如果有的话）用.string\n",
    "print(soup.link.string)"
   ]
  },
  {
   "cell_type": "markdown",
   "metadata": {},
   "source": [
    "* 遍历文档树：直接子节点的.contents  .children 属性"
   ]
  },
  {
   "cell_type": "code",
   "execution_count": 29,
   "metadata": {
    "collapsed": true
   },
   "outputs": [
    {
     "name": "stdout",
     "output_type": "stream",
     "text": [
      "['\\n', <title>巨潮资讯网</title>, '\\n', ' 公共引用 ', '\\n', ' 页面头部和尾部样式与JS的公共引用 ', '\\n', <meta content=\"IE=edge\" http-equiv=\"X-UA-Compatible\"/>, '\\n', <link href=\"/cninfo-new/css/base.css\" rel=\"stylesheet\" type=\"text/css\"/>, '\\n', <link href=\"/cninfo-new/css/flexslider.css\" media=\"screen\" rel=\"stylesheet\" type=\"text/css\"/>, '\\n', <script language=\"javascript\" src=\"/cninfo-new/js/jquery.js\" type=\"text/javascript\"></script>, '\\n', <script language=\"javascript\" src=\"/cninfo-new/js/common/common.js\" type=\"text/javascript\"></script>, '\\n', <script language=\"javascript\" src=\"/cninfo-new/js/common/moment.min.js\" type=\"text/javascript\"></script>, '\\n', <script defer=\"\" src=\"/cninfo-new/js/jquery.flexslider.js\"></script>, '\\n', <script type=\"text/javascript\">\n",
      "\t<!-- 页面底部 -->\n",
      " <!-- 页面公共尾部 -->\n",
      "<div class=\"footer\">\n",
      "\t\t\t<li class=\"title\">相关链接</li>\n",
      "\t\t\t<li><a href=\"http://www.szse.cn/\" target=\"_blank\">深圳证券交易所</a></li>\n",
      "\t\t\t<li><a href=\"http://www.sse.com.cn/\" target=\"_blank\">上海证券交易所</a></li>\n",
      "\t\t\t<li><a href=\"http://www.cninfo.com.cn/sme/index.html\" target=\"_blank\">中小企业板</a></li>\n",
      "\t\t\t<li><a href=\"http://chinext.cninfo.com.cn/newmarket/\" target=\"_blank\">创业板</a></li>\n",
      "\t\t\t<li><a href=\"http://www.cnindex.com.cn/\" target=\"_blank\">巨潮指数</a></li></script>]\n"
     ]
    }
   ],
   "source": [
    "#.contents方法可返回列表，我们可用列表索引进行搜索\n",
    "print(soup.head.contents)"
   ]
  },
  {
   "cell_type": "code",
   "execution_count": 31,
   "metadata": {
    "collapsed": false
   },
   "outputs": [
    {
     "name": "stdout",
     "output_type": "stream",
     "text": [
      " 页面头部和尾部样式与JS的公共引用 \n"
     ]
    }
   ],
   "source": [
    "print(soup.head.contents[5])"
   ]
  },
  {
   "cell_type": "code",
   "execution_count": 33,
   "metadata": {
    "collapsed": false
   },
   "outputs": [
    {
     "name": "stdout",
     "output_type": "stream",
     "text": [
      "<list_iterator object at 0x0440CAD0>\n"
     ]
    }
   ],
   "source": [
    "print(soup.head.children) #一个list生成器对象\n",
    "#为获得其中的结果，遍历其"
   ]
  },
  {
   "cell_type": "code",
   "execution_count": 4,
   "metadata": {
    "collapsed": true
   },
   "outputs": [
    {
     "name": "stdout",
     "output_type": "stream",
     "text": [
      "\n",
      "\n",
      "<title>巨潮资讯网</title>\n",
      "\n",
      "\n",
      " 公共引用 \n",
      "\n",
      "\n",
      " 页面头部和尾部样式与JS的公共引用 \n",
      "\n",
      "\n",
      "<meta content=\"IE=edge\" http-equiv=\"X-UA-Compatible\"/>\n",
      "\n",
      "\n",
      "<link href=\"/cninfo-new/css/base.css\" rel=\"stylesheet\" type=\"text/css\"/>\n",
      "\n",
      "\n",
      "<link href=\"/cninfo-new/css/flexslider.css\" media=\"screen\" rel=\"stylesheet\" type=\"text/css\"/>\n",
      "\n",
      "\n",
      "<script language=\"javascript\" src=\"/cninfo-new/js/jquery.js\" type=\"text/javascript\"></script>\n",
      "\n",
      "\n",
      "<script language=\"javascript\" src=\"/cninfo-new/js/common/common.js\" type=\"text/javascript\"></script>\n",
      "\n",
      "\n",
      "<script language=\"javascript\" src=\"/cninfo-new/js/common/moment.min.js\" type=\"text/javascript\"></script>\n",
      "\n",
      "\n",
      "<script defer=\"\" src=\"/cninfo-new/js/jquery.flexslider.js\"></script>\n",
      "\n",
      "\n",
      "<script type=\"text/javascript\">\n",
      "\t<!-- 页面底部 -->\n",
      " <!-- 页面公共尾部 -->\n",
      "<div class=\"footer\">\n",
      "\t\t\t<li class=\"title\">相关链接</li>\n",
      "\t\t\t<li><a href=\"http://www.szse.cn/\" target=\"_blank\">深圳证券交易所</a></li>\n",
      "\t\t\t<li><a href=\"http://www.sse.com.cn/\" target=\"_blank\">上海证券交易所</a></li>\n",
      "\t\t\t<li><a href=\"http://www.cninfo.com.cn/sme/index.html\" target=\"_blank\">中小企业板</a></li>\n",
      "\t\t\t<li><a href=\"http://chinext.cninfo.com.cn/newmarket/\" target=\"_blank\">创业板</a></li>\n",
      "\t\t\t<li><a href=\"http://www.cnindex.com.cn/\" target=\"_blank\">巨潮指数</a></li></script>\n"
     ]
    }
   ],
   "source": [
    "for child in soup.head.children:\n",
    "    print(child)"
   ]
  },
  {
   "cell_type": "markdown",
   "metadata": {},
   "source": [
    "* 所有子孙节点：使用descendants属性"
   ]
  },
  {
   "cell_type": "code",
   "execution_count": 5,
   "metadata": {
    "collapsed": true
   },
   "outputs": [
    {
     "name": "stdout",
     "output_type": "stream",
     "text": [
      "html PUBLIC \"-//W3C//DTD XHTML 1.0 Transitional//EN\" \"http://www.w3.org/TR/xhtml1/DTD/xhtml1-transitional.dtd\"\n",
      "<html xmlns=\"http://www.w3.org/1999/xhtml\">\n",
      "<head>\n",
      "<title>巨潮资讯网</title>\n",
      "<!-- 公共引用 -->\n",
      "<!-- 页面头部和尾部样式与JS的公共引用 -->\n",
      "<meta content=\"IE=edge\" http-equiv=\"X-UA-Compatible\"/>\n",
      "<link href=\"/cninfo-new/css/base.css\" rel=\"stylesheet\" type=\"text/css\"/>\n",
      "<link href=\"/cninfo-new/css/flexslider.css\" media=\"screen\" rel=\"stylesheet\" type=\"text/css\"/>\n",
      "<script language=\"javascript\" src=\"/cninfo-new/js/jquery.js\" type=\"text/javascript\"></script>\n",
      "<script language=\"javascript\" src=\"/cninfo-new/js/common/common.js\" type=\"text/javascript\"></script>\n",
      "<script language=\"javascript\" src=\"/cninfo-new/js/common/moment.min.js\" type=\"text/javascript\"></script>\n",
      "<script defer=\"\" src=\"/cninfo-new/js/jquery.flexslider.js\"></script>\n",
      "<script type=\"text/javascript\">\n",
      "\t<!-- 页面底部 -->\n",
      " <!-- 页面公共尾部 -->\n",
      "<div class=\"footer\">\n",
      "\t\t\t<li class=\"title\">相关链接</li>\n",
      "\t\t\t<li><a href=\"http://www.szse.cn/\" target=\"_blank\">深圳证券交易所</a></li>\n",
      "\t\t\t<li><a href=\"http://www.sse.com.cn/\" target=\"_blank\">上海证券交易所</a></li>\n",
      "\t\t\t<li><a href=\"http://www.cninfo.com.cn/sme/index.html\" target=\"_blank\">中小企业板</a></li>\n",
      "\t\t\t<li><a href=\"http://chinext.cninfo.com.cn/newmarket/\" target=\"_blank\">创业板</a></li>\n",
      "\t\t\t<li><a href=\"http://www.cnindex.com.cn/\" target=\"_blank\">巨潮指数</a></li></script></head></html>\n",
      "\n",
      "\n",
      "<head>\n",
      "<title>巨潮资讯网</title>\n",
      "<!-- 公共引用 -->\n",
      "<!-- 页面头部和尾部样式与JS的公共引用 -->\n",
      "<meta content=\"IE=edge\" http-equiv=\"X-UA-Compatible\"/>\n",
      "<link href=\"/cninfo-new/css/base.css\" rel=\"stylesheet\" type=\"text/css\"/>\n",
      "<link href=\"/cninfo-new/css/flexslider.css\" media=\"screen\" rel=\"stylesheet\" type=\"text/css\"/>\n",
      "<script language=\"javascript\" src=\"/cninfo-new/js/jquery.js\" type=\"text/javascript\"></script>\n",
      "<script language=\"javascript\" src=\"/cninfo-new/js/common/common.js\" type=\"text/javascript\"></script>\n",
      "<script language=\"javascript\" src=\"/cninfo-new/js/common/moment.min.js\" type=\"text/javascript\"></script>\n",
      "<script defer=\"\" src=\"/cninfo-new/js/jquery.flexslider.js\"></script>\n",
      "<script type=\"text/javascript\">\n",
      "\t<!-- 页面底部 -->\n",
      " <!-- 页面公共尾部 -->\n",
      "<div class=\"footer\">\n",
      "\t\t\t<li class=\"title\">相关链接</li>\n",
      "\t\t\t<li><a href=\"http://www.szse.cn/\" target=\"_blank\">深圳证券交易所</a></li>\n",
      "\t\t\t<li><a href=\"http://www.sse.com.cn/\" target=\"_blank\">上海证券交易所</a></li>\n",
      "\t\t\t<li><a href=\"http://www.cninfo.com.cn/sme/index.html\" target=\"_blank\">中小企业板</a></li>\n",
      "\t\t\t<li><a href=\"http://chinext.cninfo.com.cn/newmarket/\" target=\"_blank\">创业板</a></li>\n",
      "\t\t\t<li><a href=\"http://www.cnindex.com.cn/\" target=\"_blank\">巨潮指数</a></li></script></head>\n",
      "\n",
      "\n",
      "<title>巨潮资讯网</title>\n",
      "巨潮资讯网\n",
      "\n",
      "\n",
      " 公共引用 \n",
      "\n",
      "\n",
      " 页面头部和尾部样式与JS的公共引用 \n",
      "\n",
      "\n",
      "<meta content=\"IE=edge\" http-equiv=\"X-UA-Compatible\"/>\n",
      "\n",
      "\n",
      "<link href=\"/cninfo-new/css/base.css\" rel=\"stylesheet\" type=\"text/css\"/>\n",
      "\n",
      "\n",
      "<link href=\"/cninfo-new/css/flexslider.css\" media=\"screen\" rel=\"stylesheet\" type=\"text/css\"/>\n",
      "\n",
      "\n",
      "<script language=\"javascript\" src=\"/cninfo-new/js/jquery.js\" type=\"text/javascript\"></script>\n",
      "\n",
      "\n",
      "<script language=\"javascript\" src=\"/cninfo-new/js/common/common.js\" type=\"text/javascript\"></script>\n",
      "\n",
      "\n",
      "<script language=\"javascript\" src=\"/cninfo-new/js/common/moment.min.js\" type=\"text/javascript\"></script>\n",
      "\n",
      "\n",
      "<script defer=\"\" src=\"/cninfo-new/js/jquery.flexslider.js\"></script>\n",
      "\n",
      "\n",
      "<script type=\"text/javascript\">\n",
      "\t<!-- 页面底部 -->\n",
      " <!-- 页面公共尾部 -->\n",
      "<div class=\"footer\">\n",
      "\t\t\t<li class=\"title\">相关链接</li>\n",
      "\t\t\t<li><a href=\"http://www.szse.cn/\" target=\"_blank\">深圳证券交易所</a></li>\n",
      "\t\t\t<li><a href=\"http://www.sse.com.cn/\" target=\"_blank\">上海证券交易所</a></li>\n",
      "\t\t\t<li><a href=\"http://www.cninfo.com.cn/sme/index.html\" target=\"_blank\">中小企业板</a></li>\n",
      "\t\t\t<li><a href=\"http://chinext.cninfo.com.cn/newmarket/\" target=\"_blank\">创业板</a></li>\n",
      "\t\t\t<li><a href=\"http://www.cnindex.com.cn/\" target=\"_blank\">巨潮指数</a></li></script>\n",
      "\n",
      "\t<!-- 页面底部 -->\n",
      " <!-- 页面公共尾部 -->\n",
      "<div class=\"footer\">\n",
      "\t\t\t<li class=\"title\">相关链接</li>\n",
      "\t\t\t<li><a href=\"http://www.szse.cn/\" target=\"_blank\">深圳证券交易所</a></li>\n",
      "\t\t\t<li><a href=\"http://www.sse.com.cn/\" target=\"_blank\">上海证券交易所</a></li>\n",
      "\t\t\t<li><a href=\"http://www.cninfo.com.cn/sme/index.html\" target=\"_blank\">中小企业板</a></li>\n",
      "\t\t\t<li><a href=\"http://chinext.cninfo.com.cn/newmarket/\" target=\"_blank\">创业板</a></li>\n",
      "\t\t\t<li><a href=\"http://www.cnindex.com.cn/\" target=\"_blank\">巨潮指数</a></li>\n"
     ]
    }
   ],
   "source": [
    "for child in soup.descendants:\n",
    "    print(child)"
   ]
  },
  {
   "cell_type": "markdown",
   "metadata": {},
   "source": [
    "* 节点内容：使用string属性"
   ]
  },
  {
   "cell_type": "code",
   "execution_count": 6,
   "metadata": {
    "collapsed": true
   },
   "outputs": [],
   "source": [
    "#如果tag只有一个 NavigableString 类型子节点,那么这个tag可以使用 .string 得到子节点。\n",
    "#如果一个tag仅有一个子节点,那么这个tag也可以使用 .string 方法,输出结果与当前结果相同。\n",
    "#就是：如果一个标签里面没有标签了，那么 .string 就会返回标签里面的内容。\n",
    "#如果标签里面只有唯一的一个标签了，那么 .string 也会返回最里面的内容。"
   ]
  },
  {
   "cell_type": "markdown",
   "metadata": {},
   "source": [
    "* 多个内容：使用.strings和.stripped_strings属性"
   ]
  },
  {
   "cell_type": "code",
   "execution_count": 8,
   "metadata": {
    "collapsed": true
   },
   "outputs": [
    {
     "name": "stdout",
     "output_type": "stream",
     "text": [
      "\n",
      "\n",
      "\n",
      "\n",
      "巨潮资讯网\n",
      "\n",
      "\n",
      "\n",
      "\n",
      "\n",
      "\n",
      "\n",
      "\n",
      "\n",
      "\n",
      "\n",
      "\n",
      "\n",
      "\n",
      "\n",
      "\n",
      "\n",
      "\n",
      "\n",
      "\n",
      "\n",
      "\t<!-- 页面底部 -->\n",
      " <!-- 页面公共尾部 -->\n",
      "<div class=\"footer\">\n",
      "\t\t\t<li class=\"title\">相关链接</li>\n",
      "\t\t\t<li><a href=\"http://www.szse.cn/\" target=\"_blank\">深圳证券交易所</a></li>\n",
      "\t\t\t<li><a href=\"http://www.sse.com.cn/\" target=\"_blank\">上海证券交易所</a></li>\n",
      "\t\t\t<li><a href=\"http://www.cninfo.com.cn/sme/index.html\" target=\"_blank\">中小企业板</a></li>\n",
      "\t\t\t<li><a href=\"http://chinext.cninfo.com.cn/newmarket/\" target=\"_blank\">创业板</a></li>\n",
      "\t\t\t<li><a href=\"http://www.cnindex.com.cn/\" target=\"_blank\">巨潮指数</a></li>\n"
     ]
    }
   ],
   "source": [
    "for string in soup.strings:\n",
    "    print(string)"
   ]
  },
  {
   "cell_type": "code",
   "execution_count": 10,
   "metadata": {
    "collapsed": true
   },
   "outputs": [
    {
     "name": "stdout",
     "output_type": "stream",
     "text": [
      "巨潮资讯网\n",
      "<!-- 页面底部 -->\n",
      " <!-- 页面公共尾部 -->\n",
      "<div class=\"footer\">\n",
      "\t\t\t<li class=\"title\">相关链接</li>\n",
      "\t\t\t<li><a href=\"http://www.szse.cn/\" target=\"_blank\">深圳证券交易所</a></li>\n",
      "\t\t\t<li><a href=\"http://www.sse.com.cn/\" target=\"_blank\">上海证券交易所</a></li>\n",
      "\t\t\t<li><a href=\"http://www.cninfo.com.cn/sme/index.html\" target=\"_blank\">中小企业板</a></li>\n",
      "\t\t\t<li><a href=\"http://chinext.cninfo.com.cn/newmarket/\" target=\"_blank\">创业板</a></li>\n",
      "\t\t\t<li><a href=\"http://www.cnindex.com.cn/\" target=\"_blank\">巨潮指数</a></li>\n"
     ]
    }
   ],
   "source": [
    "# 使用.stripped_strings可以去除多余空白内容\n",
    "for string in soup.stripped_strings:\n",
    "    print(string)"
   ]
  },
  {
   "cell_type": "markdown",
   "metadata": {},
   "source": [
    "* 父节点：使用.parent属性；所有父节点，使用.parents属性"
   ]
  },
  {
   "cell_type": "code",
   "execution_count": 12,
   "metadata": {
    "collapsed": false,
    "scrolled": true
   },
   "outputs": [
    {
     "name": "stdout",
     "output_type": "stream",
     "text": [
      "title\n",
      "head\n",
      "html\n",
      "[document]\n"
     ]
    }
   ],
   "source": [
    "content=soup.head.title.string\n",
    "for parent in content.parents:\n",
    "    print(parent.name)"
   ]
  },
  {
   "cell_type": "markdown",
   "metadata": {},
   "source": [
    "* 所有兄弟节点：使用.next_siblings和previous_siblings属性"
   ]
  },
  {
   "cell_type": "code",
   "execution_count": 17,
   "metadata": {
    "collapsed": true
   },
   "outputs": [
    {
     "name": "stdout",
     "output_type": "stream",
     "text": [
      "'巨潮资讯网'\n",
      "'\\n'\n",
      "' 公共引用 '\n",
      "'\\n'\n",
      "' 页面头部和尾部样式与JS的公共引用 '\n",
      "'\\n'\n",
      "<meta content=\"IE=edge\" http-equiv=\"X-UA-Compatible\"/>\n",
      "'\\n'\n",
      "<link href=\"/cninfo-new/css/base.css\" rel=\"stylesheet\" type=\"text/css\"/>\n",
      "'\\n'\n",
      "<link href=\"/cninfo-new/css/flexslider.css\" media=\"screen\" rel=\"stylesheet\" type=\"text/css\"/>\n",
      "'\\n'\n",
      "<script language=\"javascript\" src=\"/cninfo-new/js/jquery.js\" type=\"text/javascript\"></script>\n",
      "'\\n'\n",
      "<script language=\"javascript\" src=\"/cninfo-new/js/common/common.js\" type=\"text/javascript\"></script>\n",
      "'\\n'\n",
      "<script language=\"javascript\" src=\"/cninfo-new/js/common/moment.min.js\" type=\"text/javascript\"></script>\n",
      "'\\n'\n",
      "<script defer=\"\" src=\"/cninfo-new/js/jquery.flexslider.js\"></script>\n",
      "'\\n'\n",
      "<script type=\"text/javascript\">\n",
      "\t<!-- 页面底部 -->\n",
      " <!-- 页面公共尾部 -->\n",
      "<div class=\"footer\">\n",
      "\t\t\t<li class=\"title\">相关链接</li>\n",
      "\t\t\t<li><a href=\"http://www.szse.cn/\" target=\"_blank\">深圳证券交易所</a></li>\n",
      "\t\t\t<li><a href=\"http://www.sse.com.cn/\" target=\"_blank\">上海证券交易所</a></li>\n",
      "\t\t\t<li><a href=\"http://www.cninfo.com.cn/sme/index.html\" target=\"_blank\">中小企业板</a></li>\n",
      "\t\t\t<li><a href=\"http://chinext.cninfo.com.cn/newmarket/\" target=\"_blank\">创业板</a></li>\n",
      "\t\t\t<li><a href=\"http://www.cnindex.com.cn/\" target=\"_blank\">巨潮指数</a></li></script>\n",
      "'\\n\\t<!-- 页面底部 -->\\n <!-- 页面公共尾部 -->\\n<div class=\"footer\">\\n\\t\\t\\t<li class=\"title\">相关链接</li>\\n\\t\\t\\t<li><a href=\"http://www.szse.cn/\" target=\"_blank\">深圳证券交易所</a></li>\\n\\t\\t\\t<li><a href=\"http://www.sse.com.cn/\" target=\"_blank\">上海证券交易所</a></li>\\n\\t\\t\\t<li><a href=\"http://www.cninfo.com.cn/sme/index.html\" target=\"_blank\">中小企业板</a></li>\\n\\t\\t\\t<li><a href=\"http://chinext.cninfo.com.cn/newmarket/\" target=\"_blank\">创业板</a></li>\\n\\t\\t\\t<li><a href=\"http://www.cnindex.com.cn/\" target=\"_blank\">巨潮指数</a></li>'\n"
     ]
    }
   ],
   "source": [
    "for element in soup.title.next_elements:\n",
    "    print(repr(element))"
   ]
  },
  {
   "cell_type": "markdown",
   "metadata": {},
   "source": [
    "* 对于所有节点，不分层次：使用.next_element和.previous_element属性（同时有S属性）"
   ]
  },
  {
   "cell_type": "markdown",
   "metadata": {},
   "source": [
    "#### find_all(name,attrs,recursive,text,**kwargs)"
   ]
  },
  {
   "cell_type": "markdown",
   "metadata": {},
   "source": [
    "* name用于查找所有名字为name的Tag,字符串对象会自动忽略掉"
   ]
  },
  {
   "cell_type": "code",
   "execution_count": 13,
   "metadata": {
    "collapsed": false
   },
   "outputs": [
    {
     "name": "stdout",
     "output_type": "stream",
     "text": [
      "link\n",
      "link\n",
      "[<link href=\"/cninfo-new/css/base.css\" rel=\"stylesheet\" type=\"text/css\"/>, <link href=\"/cninfo-new/css/flexslider.css\" media=\"screen\" rel=\"stylesheet\" type=\"text/css\"/>]\n"
     ]
    }
   ],
   "source": [
    "#正则表达式&列表\n",
    "import re\n",
    "for tag in soup.find_all(re.compile('^l')):\n",
    "    print(tag.name)#用来查找所有以B开头的标签\n",
    "print(soup.find_all(['link','div']))#用来输出列表，表中包括所有以l和s开头的标签"
   ]
  },
  {
   "cell_type": "code",
   "execution_count": 14,
   "metadata": {
    "collapsed": false
   },
   "outputs": [
    {
     "name": "stdout",
     "output_type": "stream",
     "text": [
      "html\n",
      "head\n",
      "title\n",
      "meta\n",
      "link\n",
      "link\n",
      "script\n",
      "script\n",
      "script\n",
      "script\n",
      "script\n"
     ]
    }
   ],
   "source": [
    "#传True可以匹配任何值，但不包括字符节点\n",
    "for tag in soup.find_all(True):\n",
    "    print(tag.name)"
   ]
  },
  {
   "cell_type": "code",
   "execution_count": 19,
   "metadata": {
    "collapsed": false
   },
   "outputs": [
    {
     "data": {
      "text/plain": [
       "False"
      ]
     },
     "execution_count": 19,
     "metadata": {},
     "output_type": "execute_result"
    }
   ],
   "source": [
    "#查找时对name进行方法约束\n",
    "def has_herf_but_no_media(tag):\n",
    "    return\n",
    "tag.has_attr('herf')"
   ]
  },
  {
   "cell_type": "code",
   "execution_count": 21,
   "metadata": {
    "collapsed": false
   },
   "outputs": [
    {
     "data": {
      "text/plain": [
       "[]"
      ]
     },
     "execution_count": 21,
     "metadata": {},
     "output_type": "execute_result"
    }
   ],
   "source": [
    "soup.find_all(has_herf_but_no_media)"
   ]
  },
  {
   "cell_type": "markdown",
   "metadata": {},
   "source": [
    "* keyword"
   ]
  },
  {
   "cell_type": "code",
   "execution_count": 23,
   "metadata": {
    "collapsed": false
   },
   "outputs": [
    {
     "data": {
      "text/plain": [
       "[<link href=\"/cninfo-new/css/flexslider.css\" media=\"screen\" rel=\"stylesheet\" type=\"text/css\"/>]"
      ]
     },
     "execution_count": 23,
     "metadata": {},
     "output_type": "execute_result"
    }
   ],
   "source": [
    "soup.find_all(media='screen')"
   ]
  },
  {
   "cell_type": "code",
   "execution_count": 35,
   "metadata": {
    "collapsed": false
   },
   "outputs": [
    {
     "name": "stdout",
     "output_type": "stream",
     "text": [
      "[<link href=\"/cninfo-new/css/base.css\" rel=\"stylesheet\" type=\"text/css\"/>, <link href=\"/cninfo-new/css/flexslider.css\" media=\"screen\" rel=\"stylesheet\" type=\"text/css\"/>]\n",
      "[<link href=\"/cninfo-new/css/flexslider.css\" media=\"screen\" rel=\"stylesheet\" type=\"text/css\"/>]\n",
      "[<link href=\"/cninfo-new/css/flexslider.css\" media=\"screen\" rel=\"stylesheet\" type=\"text/css\"/>]\n"
     ]
    }
   ],
   "source": [
    "#如果关键词和软件的重复，则要在后面加一个下划线\n",
    "print(soup.find_all(type='text/css'))\n",
    "print(soup.find_all(href=re.compile('cninfo'),media='screen'))#多重属性\n",
    "print(soup.find_all('link',media='screen'))"
   ]
  },
  {
   "cell_type": "markdown",
   "metadata": {},
   "source": [
    "* text:主要用于搜索文档中的字符串内容\n",
    "* limit:限制返回结果的数量"
   ]
  },
  {
   "cell_type": "code",
   "execution_count": 55,
   "metadata": {
    "collapsed": false
   },
   "outputs": [
    {
     "name": "stdout",
     "output_type": "stream",
     "text": [
      "[<link href=\"/cninfo-new/css/base.css\" rel=\"stylesheet\" type=\"text/css\"/>, <link href=\"/cninfo-new/css/flexslider.css\" media=\"screen\" rel=\"stylesheet\" type=\"text/css\"/>]\n"
     ]
    },
    {
     "data": {
      "text/plain": [
       "['\\n\\t<!-- 页面底部 -->\\n <!-- 页面公共尾部 -->\\n<div class=\"footer\">\\n\\t\\t\\t<li class=\"title\">相关链接</li>\\n\\t\\t\\t<li><a href=\"http://www.szse.cn/\" target=\"_blank\">深圳证券交易所</a></li>\\n\\t\\t\\t<li><a href=\"http://www.sse.com.cn/\" target=\"_blank\">上海证券交易所</a></li>\\n\\t\\t\\t<li><a href=\"http://www.cninfo.com.cn/sme/index.html\" target=\"_blank\">中小企业板</a></li>\\n\\t\\t\\t<li><a href=\"http://chinext.cninfo.com.cn/newmarket/\" target=\"_blank\">创业板</a></li>\\n\\t\\t\\t<li><a href=\"http://www.cnindex.com.cn/\" target=\"_blank\">巨潮指数</a></li>']"
      ]
     },
     "execution_count": 55,
     "metadata": {},
     "output_type": "execute_result"
    }
   ],
   "source": [
    "print(soup.find_all('link'))\n",
    "soup.find_all(text=re.compile('交易'))"
   ]
  },
  {
   "cell_type": "code",
   "execution_count": 57,
   "metadata": {
    "collapsed": false,
    "scrolled": true
   },
   "outputs": [
    {
     "name": "stdout",
     "output_type": "stream",
     "text": [
      "[<link href=\"/cninfo-new/css/base.css\" rel=\"stylesheet\" type=\"text/css\"/>, <link href=\"/cninfo-new/css/flexslider.css\" media=\"screen\" rel=\"stylesheet\" type=\"text/css\"/>]\n",
      "[<link href=\"/cninfo-new/css/base.css\" rel=\"stylesheet\" type=\"text/css\"/>]\n"
     ]
    }
   ],
   "source": [
    "print(soup.find_all('link',limit=2))\n",
    "print(soup.find_all('link',limit=1))"
   ]
  },
  {
   "cell_type": "code",
   "execution_count": 61,
   "metadata": {
    "collapsed": false
   },
   "outputs": [
    {
     "name": "stdout",
     "output_type": "stream",
     "text": [
      "[<link href=\"/cninfo-new/css/base.css\" rel=\"stylesheet\" type=\"text/css\"/>, <link href=\"/cninfo-new/css/flexslider.css\" media=\"screen\" rel=\"stylesheet\" type=\"text/css\"/>]\n",
      "<link href=\"/cninfo-new/css/base.css\" rel=\"stylesheet\" type=\"text/css\"/>\n"
     ]
    }
   ],
   "source": [
    "print(soup.find_all('link'))\n",
    "print(soup.find('link'))#find与find_all的区别"
   ]
  },
  {
   "cell_type": "markdown",
   "metadata": {},
   "source": [
    "#### CSS选择器：使用.select()属性，返回list"
   ]
  },
  {
   "cell_type": "code",
   "execution_count": 82,
   "metadata": {
    "collapsed": false
   },
   "outputs": [
    {
     "name": "stdout",
     "output_type": "stream",
     "text": [
      "[<link href=\"/cninfo-new/css/base.css\" rel=\"stylesheet\" type=\"text/css\"/>, <link href=\"/cninfo-new/css/flexslider.css\" media=\"screen\" rel=\"stylesheet\" type=\"text/css\"/>]\n",
      "[]\n"
     ]
    }
   ],
   "source": [
    "a=soup.select('link')\n",
    "b=soup.select('a')\n",
    "print(a)\n",
    "print(b)"
   ]
  },
  {
   "cell_type": "code",
   "execution_count": 83,
   "metadata": {
    "collapsed": false
   },
   "outputs": [
    {
     "data": {
      "text/plain": [
       "<link href=\"/cninfo-new/css/base.css\" rel=\"stylesheet\" type=\"text/css\"/>"
      ]
     },
     "execution_count": 83,
     "metadata": {},
     "output_type": "execute_result"
    }
   ],
   "source": [
    "a[0]"
   ]
  },
  {
   "cell_type": "code",
   "execution_count": 84,
   "metadata": {
    "collapsed": false
   },
   "outputs": [
    {
     "data": {
      "text/plain": [
       "''"
      ]
     },
     "execution_count": 84,
     "metadata": {},
     "output_type": "execute_result"
    }
   ],
   "source": [
    "a[0].get_text()#使用此方法得到字符串"
   ]
  },
  {
   "cell_type": "code",
   "execution_count": 85,
   "metadata": {
    "collapsed": false
   },
   "outputs": [
    {
     "name": "stdout",
     "output_type": "stream",
     "text": [
      "巨潮资讯网\n"
     ]
    }
   ],
   "source": [
    "c=soup.select('title')\n",
    "for title in c:\n",
    "    print(title.get_text())\n",
    "#20170412"
   ]
  },
  {
   "cell_type": "code",
   "execution_count": 9,
   "metadata": {
    "collapsed": true
   },
   "outputs": [],
   "source": [
    "#模块介绍2：collections\n",
    "#deque\n",
    "#defaultdict\n",
    "#Counter\n",
    "#named tuple"
   ]
  },
  {
   "cell_type": "markdown",
   "metadata": {},
   "source": [
    "* deque"
   ]
  },
  {
   "cell_type": "code",
   "execution_count": 3,
   "metadata": {
    "collapsed": false
   },
   "outputs": [
    {
     "data": {
      "text/plain": [
       "deque([2, 3, 4, 5, 6, 'ds'])"
      ]
     },
     "execution_count": 3,
     "metadata": {},
     "output_type": "execute_result"
    }
   ],
   "source": [
    "#deque双端队列，适合消费者，生产者模式\n",
    "#deque([iterable[,maxlen]])\n",
    "#maxlen 变为环形队列，加入新元素队列满就会把另一端自动删除,并且可以rotate，将后面的元素放到前面来\n",
    "#最为重要的使用：日志记录（python有自带的日志处理）\n",
    "from collections import deque\n",
    "a=deque([2,3,4,5,6],maxlen=6)\n",
    "a.append('ds')\n",
    "a"
   ]
  },
  {
   "cell_type": "code",
   "execution_count": 23,
   "metadata": {
    "collapsed": false
   },
   "outputs": [
    {
     "data": {
      "text/plain": [
       "deque([5, 6, 'ds', 'mds', 'mds', 'mds'])"
      ]
     },
     "execution_count": 23,
     "metadata": {},
     "output_type": "execute_result"
    }
   ],
   "source": [
    "a.append('mds')\n",
    "a"
   ]
  },
  {
   "cell_type": "code",
   "execution_count": 29,
   "metadata": {
    "collapsed": false
   },
   "outputs": [
    {
     "data": {
      "text/plain": [
       "deque([6, 'ds', 'mds', 'mds', 'mds', 5])"
      ]
     },
     "execution_count": 29,
     "metadata": {},
     "output_type": "execute_result"
    }
   ],
   "source": [
    "a.rotate(-2)\n",
    "a"
   ]
  },
  {
   "cell_type": "code",
   "execution_count": 30,
   "metadata": {
    "collapsed": false
   },
   "outputs": [
    {
     "name": "stdout",
     "output_type": "stream",
     "text": [
      "Help on built-in function rotate:\n",
      "\n",
      "rotate(...) method of collections.deque instance\n",
      "    Rotate the deque n steps to the right (default n=1).  If n is negative, rotates left.\n",
      "\n"
     ]
    }
   ],
   "source": [
    "help(a.rotate)"
   ]
  },
  {
   "cell_type": "markdown",
   "metadata": {},
   "source": [
    "* defaultdict"
   ]
  },
  {
   "cell_type": "code",
   "execution_count": 32,
   "metadata": {
    "collapsed": false
   },
   "outputs": [
    {
     "name": "stdout",
     "output_type": "stream",
     "text": [
      "Help on class enumerate in module builtins:\n",
      "\n",
      "class enumerate(object)\n",
      " |  enumerate(iterable[, start]) -> iterator for index, value of iterable\n",
      " |  \n",
      " |  Return an enumerate object.  iterable must be another object that supports\n",
      " |  iteration.  The enumerate object yields pairs containing a count (from\n",
      " |  start, which defaults to zero) and a value yielded by the iterable argument.\n",
      " |  enumerate is useful for obtaining an indexed list:\n",
      " |      (0, seq[0]), (1, seq[1]), (2, seq[2]), ...\n",
      " |  \n",
      " |  Methods defined here:\n",
      " |  \n",
      " |  __getattribute__(self, name, /)\n",
      " |      Return getattr(self, name).\n",
      " |  \n",
      " |  __iter__(self, /)\n",
      " |      Implement iter(self).\n",
      " |  \n",
      " |  __new__(*args, **kwargs) from builtins.type\n",
      " |      Create and return a new object.  See help(type) for accurate signature.\n",
      " |  \n",
      " |  __next__(self, /)\n",
      " |      Implement next(self).\n",
      " |  \n",
      " |  __reduce__(...)\n",
      " |      Return state information for pickling.\n",
      "\n"
     ]
    }
   ],
   "source": [
    "#defaultdict 为不存在Key的元素创建一个默认值，适合用dict的元素作为容器\n",
    "help(enumerate)"
   ]
  },
  {
   "cell_type": "code",
   "execution_count": 67,
   "metadata": {
    "collapsed": false
   },
   "outputs": [
    {
     "name": "stdout",
     "output_type": "stream",
     "text": [
      "['yeah', 'but', 'no', 'but', 'yeah', 'but', 'no', 'but', 'yeah']\n"
     ]
    },
    {
     "data": {
      "text/plain": [
       "list"
      ]
     },
     "execution_count": 67,
     "metadata": {},
     "output_type": "execute_result"
    }
   ],
   "source": [
    "from collections import defaultdict\n",
    "s = \"yeah but no but yeah but no but yeah\"\n",
    "words = s.split()\n",
    "print (words)\n",
    "type(words)"
   ]
  },
  {
   "cell_type": "code",
   "execution_count": 66,
   "metadata": {
    "collapsed": false
   },
   "outputs": [
    {
     "name": "stdout",
     "output_type": "stream",
     "text": [
      "defaultdict(<class 'list'>, {})\n",
      "<class 'collections.defaultdict'>\n"
     ]
    }
   ],
   "source": [
    "wordlocations=defaultdict(list)\n",
    "print(wordlocations)\n",
    "print(type(wordlocations))"
   ]
  },
  {
   "cell_type": "code",
   "execution_count": 56,
   "metadata": {
    "collapsed": false
   },
   "outputs": [
    {
     "name": "stdout",
     "output_type": "stream",
     "text": [
      "0\n",
      "yeah\n",
      "defaultdict(<class 'list'>, {'yeah': [0]})\n",
      "1\n",
      "but\n",
      "defaultdict(<class 'list'>, {'yeah': [0], 'but': [1]})\n",
      "2\n",
      "no\n",
      "defaultdict(<class 'list'>, {'yeah': [0], 'but': [1], 'no': [2]})\n",
      "3\n",
      "but\n",
      "defaultdict(<class 'list'>, {'yeah': [0], 'but': [1, 3], 'no': [2]})\n",
      "4\n",
      "yeah\n",
      "defaultdict(<class 'list'>, {'yeah': [0, 4], 'but': [1, 3], 'no': [2]})\n",
      "5\n",
      "but\n",
      "defaultdict(<class 'list'>, {'yeah': [0, 4], 'but': [1, 3, 5], 'no': [2]})\n",
      "6\n",
      "no\n",
      "defaultdict(<class 'list'>, {'yeah': [0, 4], 'but': [1, 3, 5], 'no': [2, 6]})\n",
      "7\n",
      "but\n",
      "defaultdict(<class 'list'>, {'yeah': [0, 4], 'but': [1, 3, 5, 7], 'no': [2, 6]})\n",
      "8\n",
      "yeah\n",
      "defaultdict(<class 'list'>, {'yeah': [0, 4, 8], 'but': [1, 3, 5, 7], 'no': [2, 6]})\n"
     ]
    },
    {
     "data": {
      "text/plain": [
       "defaultdict(list, {'but': [1, 3, 5, 7], 'no': [2, 6], 'yeah': [0, 4, 8]})"
      ]
     },
     "execution_count": 56,
     "metadata": {},
     "output_type": "execute_result"
    }
   ],
   "source": [
    "for n,w in enumerate(words):\n",
    "    print(n)\n",
    "    print(w)\n",
    "    wordlocations[w].append(n)\n",
    "    print(wordlocations)\n",
    "wordlocations"
   ]
  },
  {
   "cell_type": "markdown",
   "metadata": {},
   "source": [
    "* cunter"
   ]
  },
  {
   "cell_type": "code",
   "execution_count": 63,
   "metadata": {
    "collapsed": false
   },
   "outputs": [
    {
     "name": "stdout",
     "output_type": "stream",
     "text": [
      "Counter({'blue': 3, 'red': 2, 'green': 1})\n",
      "Counter({' ': 8, 'b': 4, 'u': 4, 't': 4, 'y': 3, 'e': 3, 'a': 3, 'h': 3, 'n': 2, 'o': 2})\n"
     ]
    }
   ],
   "source": [
    "#Cunter\n",
    "from collections import Counter\n",
    "cnt=Counter()\n",
    "for word in ['red', 'blue', 'red', 'green', 'blue', 'blue']:\n",
    "    cnt[word]+=1\n",
    "print(cnt)\n",
    "cnt1=Counter()\n",
    "for word in s:\n",
    "    cnt1[word]+=1\n",
    "print(cnt1)"
   ]
  },
  {
   "cell_type": "markdown",
   "metadata": {
    "collapsed": true
   },
   "source": [
    "* namedtuple:给tuple中的每个元素指定一个名字"
   ]
  },
  {
   "cell_type": "code",
   "execution_count": 69,
   "metadata": {
    "collapsed": false
   },
   "outputs": [
    {
     "data": {
      "text/plain": [
       "__main__.Point"
      ]
     },
     "execution_count": 69,
     "metadata": {},
     "output_type": "execute_result"
    }
   ],
   "source": [
    "from collections import namedtuple\n",
    "Point = namedtuple('Point', ['x', 'y'])\n",
    "Point"
   ]
  },
  {
   "cell_type": "code",
   "execution_count": 70,
   "metadata": {
    "collapsed": false
   },
   "outputs": [
    {
     "name": "stdout",
     "output_type": "stream",
     "text": [
      "Help on function namedtuple in module collections:\n",
      "\n",
      "namedtuple(typename, field_names, *, verbose=False, rename=False, module=None)\n",
      "    Returns a new subclass of tuple with named fields.\n",
      "    \n",
      "    >>> Point = namedtuple('Point', ['x', 'y'])\n",
      "    >>> Point.__doc__                   # docstring for the new class\n",
      "    'Point(x, y)'\n",
      "    >>> p = Point(11, y=22)             # instantiate with positional args or keywords\n",
      "    >>> p[0] + p[1]                     # indexable like a plain tuple\n",
      "    33\n",
      "    >>> x, y = p                        # unpack like a regular tuple\n",
      "    >>> x, y\n",
      "    (11, 22)\n",
      "    >>> p.x + p.y                       # fields also accessible by name\n",
      "    33\n",
      "    >>> d = p._asdict()                 # convert to a dictionary\n",
      "    >>> d['x']\n",
      "    11\n",
      "    >>> Point(**d)                      # convert from a dictionary\n",
      "    Point(x=11, y=22)\n",
      "    >>> p._replace(x=100)               # _replace() is like str.replace() but targets named fields\n",
      "    Point(x=100, y=22)\n",
      "\n"
     ]
    }
   ],
   "source": [
    "help(namedtuple)"
   ]
  },
  {
   "cell_type": "code",
   "execution_count": 74,
   "metadata": {
    "collapsed": false
   },
   "outputs": [
    {
     "data": {
      "text/plain": [
       "'C:\\\\Users\\\\gcwee\\\\Desktop'"
      ]
     },
     "execution_count": 74,
     "metadata": {},
     "output_type": "execute_result"
    }
   ],
   "source": [
    "import os\n",
    "os.getcwd()"
   ]
  },
  {
   "cell_type": "code",
   "execution_count": 79,
   "metadata": {
    "collapsed": false
   },
   "outputs": [
    {
     "data": {
      "text/plain": [
       "<configparser.ConfigParser at 0x239d76c8400>"
      ]
     },
     "execution_count": 79,
     "metadata": {},
     "output_type": "execute_result"
    }
   ],
   "source": [
    "#模块介绍3：数据库sqlite3，可直接import\n",
    "#创建TABLE\n",
    "#处理ini配置文件,ini文件特点为有节的概念\n",
    "from configparser import ConfigParser\n",
    "parser=ConfigParser()\n",
    "parser.read('simple.ini')\n",
    "parser"
   ]
  },
  {
   "cell_type": "code",
   "execution_count": 18,
   "metadata": {
    "collapsed": true
   },
   "outputs": [],
   "source": [
    "#解析命令行参数\n",
    "#sys.argv\n",
    "#getopt：适合比较简单的情况\n",
    "#optparse\n",
    "#argparse: 更多使用"
   ]
  },
  {
   "cell_type": "code",
   "execution_count": 1,
   "metadata": {
    "collapsed": false
   },
   "outputs": [
    {
     "name": "stdout",
     "output_type": "stream",
     "text": [
      "Help on module argparse:\n",
      "\n",
      "NAME\n",
      "    argparse - Command-line parsing library\n",
      "\n",
      "DESCRIPTION\n",
      "    This module is an optparse-inspired command-line parsing library that:\n",
      "    \n",
      "        - handles both optional and positional arguments\n",
      "        - produces highly informative usage messages\n",
      "        - supports parsers that dispatch to sub-parsers\n",
      "    \n",
      "    The following is a simple usage example that sums integers from the\n",
      "    command-line and writes the result to a file::\n",
      "    \n",
      "        parser = argparse.ArgumentParser(\n",
      "            description='sum the integers at the command line')\n",
      "        parser.add_argument(\n",
      "            'integers', metavar='int', nargs='+', type=int,\n",
      "            help='an integer to be summed')\n",
      "        parser.add_argument(\n",
      "            '--log', default=sys.stdout, type=argparse.FileType('w'),\n",
      "            help='the file where the sum should be written')\n",
      "        args = parser.parse_args()\n",
      "        args.log.write('%s' % sum(args.integers))\n",
      "        args.log.close()\n",
      "    \n",
      "    The module contains the following public classes:\n",
      "    \n",
      "        - ArgumentParser -- The main entry point for command-line parsing. As the\n",
      "            example above shows, the add_argument() method is used to populate\n",
      "            the parser with actions for optional and positional arguments. Then\n",
      "            the parse_args() method is invoked to convert the args at the\n",
      "            command-line into an object with attributes.\n",
      "    \n",
      "        - ArgumentError -- The exception raised by ArgumentParser objects when\n",
      "            there are errors with the parser's actions. Errors raised while\n",
      "            parsing the command-line are caught by ArgumentParser and emitted\n",
      "            as command-line messages.\n",
      "    \n",
      "        - FileType -- A factory for defining types of files to be created. As the\n",
      "            example above shows, instances of FileType are typically passed as\n",
      "            the type= argument of add_argument() calls.\n",
      "    \n",
      "        - Action -- The base class for parser actions. Typically actions are\n",
      "            selected by passing strings like 'store_true' or 'append_const' to\n",
      "            the action= argument of add_argument(). However, for greater\n",
      "            customization of ArgumentParser actions, subclasses of Action may\n",
      "            be defined and passed as the action= argument.\n",
      "    \n",
      "        - HelpFormatter, RawDescriptionHelpFormatter, RawTextHelpFormatter,\n",
      "            ArgumentDefaultsHelpFormatter -- Formatter classes which\n",
      "            may be passed as the formatter_class= argument to the\n",
      "            ArgumentParser constructor. HelpFormatter is the default,\n",
      "            RawDescriptionHelpFormatter and RawTextHelpFormatter tell the parser\n",
      "            not to change the formatting for help text, and\n",
      "            ArgumentDefaultsHelpFormatter adds information about argument defaults\n",
      "            to the help.\n",
      "    \n",
      "    All other classes in this module are considered implementation details.\n",
      "    (Also note that HelpFormatter and RawDescriptionHelpFormatter are only\n",
      "    considered public as object names -- the API of the formatter objects is\n",
      "    still considered an implementation detail.)\n",
      "\n",
      "CLASSES\n",
      "    _ActionsContainer(builtins.object)\n",
      "        ArgumentParser(_AttributeHolder, _ActionsContainer)\n",
      "    _AttributeHolder(builtins.object)\n",
      "        Action\n",
      "        ArgumentParser(_AttributeHolder, _ActionsContainer)\n",
      "        Namespace\n",
      "    builtins.Exception(builtins.BaseException)\n",
      "        ArgumentError\n",
      "        ArgumentTypeError\n",
      "    builtins.object\n",
      "        FileType\n",
      "        HelpFormatter\n",
      "            ArgumentDefaultsHelpFormatter\n",
      "            MetavarTypeHelpFormatter\n",
      "            RawDescriptionHelpFormatter\n",
      "                RawTextHelpFormatter\n",
      "    \n",
      "    class Action(_AttributeHolder)\n",
      "     |  Information about how to convert command line strings to Python objects.\n",
      "     |  \n",
      "     |  Action objects are used by an ArgumentParser to represent the information\n",
      "     |  needed to parse a single argument from one or more strings from the\n",
      "     |  command line. The keyword arguments to the Action constructor are also\n",
      "     |  all attributes of Action instances.\n",
      "     |  \n",
      "     |  Keyword Arguments:\n",
      "     |  \n",
      "     |      - option_strings -- A list of command-line option strings which\n",
      "     |          should be associated with this action.\n",
      "     |  \n",
      "     |      - dest -- The name of the attribute to hold the created object(s)\n",
      "     |  \n",
      "     |      - nargs -- The number of command-line arguments that should be\n",
      "     |          consumed. By default, one argument will be consumed and a single\n",
      "     |          value will be produced.  Other values include:\n",
      "     |              - N (an integer) consumes N arguments (and produces a list)\n",
      "     |              - '?' consumes zero or one arguments\n",
      "     |              - '*' consumes zero or more arguments (and produces a list)\n",
      "     |              - '+' consumes one or more arguments (and produces a list)\n",
      "     |          Note that the difference between the default and nargs=1 is that\n",
      "     |          with the default, a single value will be produced, while with\n",
      "     |          nargs=1, a list containing a single value will be produced.\n",
      "     |  \n",
      "     |      - const -- The value to be produced if the option is specified and the\n",
      "     |          option uses an action that takes no values.\n",
      "     |  \n",
      "     |      - default -- The value to be produced if the option is not specified.\n",
      "     |  \n",
      "     |      - type -- A callable that accepts a single string argument, and\n",
      "     |          returns the converted value.  The standard Python types str, int,\n",
      "     |          float, and complex are useful examples of such callables.  If None,\n",
      "     |          str is used.\n",
      "     |  \n",
      "     |      - choices -- A container of values that should be allowed. If not None,\n",
      "     |          after a command-line argument has been converted to the appropriate\n",
      "     |          type, an exception will be raised if it is not a member of this\n",
      "     |          collection.\n",
      "     |  \n",
      "     |      - required -- True if the action must always be specified at the\n",
      "     |          command line. This is only meaningful for optional command-line\n",
      "     |          arguments.\n",
      "     |  \n",
      "     |      - help -- The help string describing the argument.\n",
      "     |  \n",
      "     |      - metavar -- The name to be used for the option's argument with the\n",
      "     |          help string. If None, the 'dest' value will be used as the name.\n",
      "     |  \n",
      "     |  Method resolution order:\n",
      "     |      Action\n",
      "     |      _AttributeHolder\n",
      "     |      builtins.object\n",
      "     |  \n",
      "     |  Methods defined here:\n",
      "     |  \n",
      "     |  __call__(self, parser, namespace, values, option_string=None)\n",
      "     |      Call self as a function.\n",
      "     |  \n",
      "     |  __init__(self, option_strings, dest, nargs=None, const=None, default=None, type=None, choices=None, required=False, help=None, metavar=None)\n",
      "     |      Initialize self.  See help(type(self)) for accurate signature.\n",
      "     |  \n",
      "     |  ----------------------------------------------------------------------\n",
      "     |  Methods inherited from _AttributeHolder:\n",
      "     |  \n",
      "     |  __repr__(self)\n",
      "     |      Return repr(self).\n",
      "     |  \n",
      "     |  ----------------------------------------------------------------------\n",
      "     |  Data descriptors inherited from _AttributeHolder:\n",
      "     |  \n",
      "     |  __dict__\n",
      "     |      dictionary for instance variables (if defined)\n",
      "     |  \n",
      "     |  __weakref__\n",
      "     |      list of weak references to the object (if defined)\n",
      "    \n",
      "    class ArgumentDefaultsHelpFormatter(HelpFormatter)\n",
      "     |  Help message formatter which adds default values to argument help.\n",
      "     |  \n",
      "     |  Only the name of this class is considered a public API. All the methods\n",
      "     |  provided by the class are considered an implementation detail.\n",
      "     |  \n",
      "     |  Method resolution order:\n",
      "     |      ArgumentDefaultsHelpFormatter\n",
      "     |      HelpFormatter\n",
      "     |      builtins.object\n",
      "     |  \n",
      "     |  Methods inherited from HelpFormatter:\n",
      "     |  \n",
      "     |  __init__(self, prog, indent_increment=2, max_help_position=24, width=None)\n",
      "     |      Initialize self.  See help(type(self)) for accurate signature.\n",
      "     |  \n",
      "     |  add_argument(self, action)\n",
      "     |  \n",
      "     |  add_arguments(self, actions)\n",
      "     |  \n",
      "     |  add_text(self, text)\n",
      "     |  \n",
      "     |  add_usage(self, usage, actions, groups, prefix=None)\n",
      "     |  \n",
      "     |  end_section(self)\n",
      "     |  \n",
      "     |  format_help(self)\n",
      "     |      # =======================\n",
      "     |      # Help-formatting methods\n",
      "     |      # =======================\n",
      "     |  \n",
      "     |  start_section(self, heading)\n",
      "     |      # ========================\n",
      "     |      # Message building methods\n",
      "     |      # ========================\n",
      "     |  \n",
      "     |  ----------------------------------------------------------------------\n",
      "     |  Data descriptors inherited from HelpFormatter:\n",
      "     |  \n",
      "     |  __dict__\n",
      "     |      dictionary for instance variables (if defined)\n",
      "     |  \n",
      "     |  __weakref__\n",
      "     |      list of weak references to the object (if defined)\n",
      "    \n",
      "    class ArgumentError(builtins.Exception)\n",
      "     |  An error from creating or using an argument (optional or positional).\n",
      "     |  \n",
      "     |  The string value of this exception is the message, augmented with\n",
      "     |  information about the argument that caused it.\n",
      "     |  \n",
      "     |  Method resolution order:\n",
      "     |      ArgumentError\n",
      "     |      builtins.Exception\n",
      "     |      builtins.BaseException\n",
      "     |      builtins.object\n",
      "     |  \n",
      "     |  Methods defined here:\n",
      "     |  \n",
      "     |  __init__(self, argument, message)\n",
      "     |      Initialize self.  See help(type(self)) for accurate signature.\n",
      "     |  \n",
      "     |  __str__(self)\n",
      "     |      Return str(self).\n",
      "     |  \n",
      "     |  ----------------------------------------------------------------------\n",
      "     |  Data descriptors defined here:\n",
      "     |  \n",
      "     |  __weakref__\n",
      "     |      list of weak references to the object (if defined)\n",
      "     |  \n",
      "     |  ----------------------------------------------------------------------\n",
      "     |  Methods inherited from builtins.Exception:\n",
      "     |  \n",
      "     |  __new__(*args, **kwargs) from builtins.type\n",
      "     |      Create and return a new object.  See help(type) for accurate signature.\n",
      "     |  \n",
      "     |  ----------------------------------------------------------------------\n",
      "     |  Methods inherited from builtins.BaseException:\n",
      "     |  \n",
      "     |  __delattr__(self, name, /)\n",
      "     |      Implement delattr(self, name).\n",
      "     |  \n",
      "     |  __getattribute__(self, name, /)\n",
      "     |      Return getattr(self, name).\n",
      "     |  \n",
      "     |  __reduce__(...)\n",
      "     |      helper for pickle\n",
      "     |  \n",
      "     |  __repr__(self, /)\n",
      "     |      Return repr(self).\n",
      "     |  \n",
      "     |  __setattr__(self, name, value, /)\n",
      "     |      Implement setattr(self, name, value).\n",
      "     |  \n",
      "     |  __setstate__(...)\n",
      "     |  \n",
      "     |  with_traceback(...)\n",
      "     |      Exception.with_traceback(tb) --\n",
      "     |      set self.__traceback__ to tb and return self.\n",
      "     |  \n",
      "     |  ----------------------------------------------------------------------\n",
      "     |  Data descriptors inherited from builtins.BaseException:\n",
      "     |  \n",
      "     |  __cause__\n",
      "     |      exception cause\n",
      "     |  \n",
      "     |  __context__\n",
      "     |      exception context\n",
      "     |  \n",
      "     |  __dict__\n",
      "     |  \n",
      "     |  __suppress_context__\n",
      "     |  \n",
      "     |  __traceback__\n",
      "     |  \n",
      "     |  args\n",
      "    \n",
      "    class ArgumentParser(_AttributeHolder, _ActionsContainer)\n",
      "     |  Object for parsing command line strings into Python objects.\n",
      "     |  \n",
      "     |  Keyword Arguments:\n",
      "     |      - prog -- The name of the program (default: sys.argv[0])\n",
      "     |      - usage -- A usage message (default: auto-generated from arguments)\n",
      "     |      - description -- A description of what the program does\n",
      "     |      - epilog -- Text following the argument descriptions\n",
      "     |      - parents -- Parsers whose arguments should be copied into this one\n",
      "     |      - formatter_class -- HelpFormatter class for printing help messages\n",
      "     |      - prefix_chars -- Characters that prefix optional arguments\n",
      "     |      - fromfile_prefix_chars -- Characters that prefix files containing\n",
      "     |          additional arguments\n",
      "     |      - argument_default -- The default value for all arguments\n",
      "     |      - conflict_handler -- String indicating how to handle conflicts\n",
      "     |      - add_help -- Add a -h/-help option\n",
      "     |      - allow_abbrev -- Allow long options to be abbreviated unambiguously\n",
      "     |  \n",
      "     |  Method resolution order:\n",
      "     |      ArgumentParser\n",
      "     |      _AttributeHolder\n",
      "     |      _ActionsContainer\n",
      "     |      builtins.object\n",
      "     |  \n",
      "     |  Methods defined here:\n",
      "     |  \n",
      "     |  __init__(self, prog=None, usage=None, description=None, epilog=None, parents=[], formatter_class=<class 'argparse.HelpFormatter'>, prefix_chars='-', fromfile_prefix_chars=None, argument_default=None, conflict_handler='error', add_help=True, allow_abbrev=True)\n",
      "     |      Initialize self.  See help(type(self)) for accurate signature.\n",
      "     |  \n",
      "     |  add_subparsers(self, **kwargs)\n",
      "     |      # ==================================\n",
      "     |      # Optional/Positional adding methods\n",
      "     |      # ==================================\n",
      "     |  \n",
      "     |  convert_arg_line_to_args(self, arg_line)\n",
      "     |  \n",
      "     |  error(self, message)\n",
      "     |      error(message: string)\n",
      "     |      \n",
      "     |      Prints a usage message incorporating the message to stderr and\n",
      "     |      exits.\n",
      "     |      \n",
      "     |      If you override this in a subclass, it should not return -- it\n",
      "     |      should either exit or raise an exception.\n",
      "     |  \n",
      "     |  exit(self, status=0, message=None)\n",
      "     |      # ===============\n",
      "     |      # Exiting methods\n",
      "     |      # ===============\n",
      "     |  \n",
      "     |  format_help(self)\n",
      "     |  \n",
      "     |  format_usage(self)\n",
      "     |      # =======================\n",
      "     |      # Help-formatting methods\n",
      "     |      # =======================\n",
      "     |  \n",
      "     |  parse_args(self, args=None, namespace=None)\n",
      "     |      # =====================================\n",
      "     |      # Command line argument parsing methods\n",
      "     |      # =====================================\n",
      "     |  \n",
      "     |  parse_known_args(self, args=None, namespace=None)\n",
      "     |  \n",
      "     |  print_help(self, file=None)\n",
      "     |  \n",
      "     |  print_usage(self, file=None)\n",
      "     |      # =====================\n",
      "     |      # Help-printing methods\n",
      "     |      # =====================\n",
      "     |  \n",
      "     |  ----------------------------------------------------------------------\n",
      "     |  Methods inherited from _AttributeHolder:\n",
      "     |  \n",
      "     |  __repr__(self)\n",
      "     |      Return repr(self).\n",
      "     |  \n",
      "     |  ----------------------------------------------------------------------\n",
      "     |  Data descriptors inherited from _AttributeHolder:\n",
      "     |  \n",
      "     |  __dict__\n",
      "     |      dictionary for instance variables (if defined)\n",
      "     |  \n",
      "     |  __weakref__\n",
      "     |      list of weak references to the object (if defined)\n",
      "     |  \n",
      "     |  ----------------------------------------------------------------------\n",
      "     |  Methods inherited from _ActionsContainer:\n",
      "     |  \n",
      "     |  add_argument(self, *args, **kwargs)\n",
      "     |      add_argument(dest, ..., name=value, ...)\n",
      "     |      add_argument(option_string, option_string, ..., name=value, ...)\n",
      "     |  \n",
      "     |  add_argument_group(self, *args, **kwargs)\n",
      "     |  \n",
      "     |  add_mutually_exclusive_group(self, **kwargs)\n",
      "     |  \n",
      "     |  get_default(self, dest)\n",
      "     |  \n",
      "     |  register(self, registry_name, value, object)\n",
      "     |      # ====================\n",
      "     |      # Registration methods\n",
      "     |      # ====================\n",
      "     |  \n",
      "     |  set_defaults(self, **kwargs)\n",
      "     |      # ==================================\n",
      "     |      # Namespace default accessor methods\n",
      "     |      # ==================================\n",
      "    \n",
      "    class ArgumentTypeError(builtins.Exception)\n",
      "     |  An error from trying to convert a command line string to a type.\n",
      "     |  \n",
      "     |  Method resolution order:\n",
      "     |      ArgumentTypeError\n",
      "     |      builtins.Exception\n",
      "     |      builtins.BaseException\n",
      "     |      builtins.object\n",
      "     |  \n",
      "     |  Data descriptors defined here:\n",
      "     |  \n",
      "     |  __weakref__\n",
      "     |      list of weak references to the object (if defined)\n",
      "     |  \n",
      "     |  ----------------------------------------------------------------------\n",
      "     |  Methods inherited from builtins.Exception:\n",
      "     |  \n",
      "     |  __init__(self, /, *args, **kwargs)\n",
      "     |      Initialize self.  See help(type(self)) for accurate signature.\n",
      "     |  \n",
      "     |  __new__(*args, **kwargs) from builtins.type\n",
      "     |      Create and return a new object.  See help(type) for accurate signature.\n",
      "     |  \n",
      "     |  ----------------------------------------------------------------------\n",
      "     |  Methods inherited from builtins.BaseException:\n",
      "     |  \n",
      "     |  __delattr__(self, name, /)\n",
      "     |      Implement delattr(self, name).\n",
      "     |  \n",
      "     |  __getattribute__(self, name, /)\n",
      "     |      Return getattr(self, name).\n",
      "     |  \n",
      "     |  __reduce__(...)\n",
      "     |      helper for pickle\n",
      "     |  \n",
      "     |  __repr__(self, /)\n",
      "     |      Return repr(self).\n",
      "     |  \n",
      "     |  __setattr__(self, name, value, /)\n",
      "     |      Implement setattr(self, name, value).\n",
      "     |  \n",
      "     |  __setstate__(...)\n",
      "     |  \n",
      "     |  __str__(self, /)\n",
      "     |      Return str(self).\n",
      "     |  \n",
      "     |  with_traceback(...)\n",
      "     |      Exception.with_traceback(tb) --\n",
      "     |      set self.__traceback__ to tb and return self.\n",
      "     |  \n",
      "     |  ----------------------------------------------------------------------\n",
      "     |  Data descriptors inherited from builtins.BaseException:\n",
      "     |  \n",
      "     |  __cause__\n",
      "     |      exception cause\n",
      "     |  \n",
      "     |  __context__\n",
      "     |      exception context\n",
      "     |  \n",
      "     |  __dict__\n",
      "     |  \n",
      "     |  __suppress_context__\n",
      "     |  \n",
      "     |  __traceback__\n",
      "     |  \n",
      "     |  args\n",
      "    \n",
      "    class FileType(builtins.object)\n",
      "     |  Factory for creating file object types\n",
      "     |  \n",
      "     |  Instances of FileType are typically passed as type= arguments to the\n",
      "     |  ArgumentParser add_argument() method.\n",
      "     |  \n",
      "     |  Keyword Arguments:\n",
      "     |      - mode -- A string indicating how the file is to be opened. Accepts the\n",
      "     |          same values as the builtin open() function.\n",
      "     |      - bufsize -- The file's desired buffer size. Accepts the same values as\n",
      "     |          the builtin open() function.\n",
      "     |      - encoding -- The file's encoding. Accepts the same values as the\n",
      "     |          builtin open() function.\n",
      "     |      - errors -- A string indicating how encoding and decoding errors are to\n",
      "     |          be handled. Accepts the same value as the builtin open() function.\n",
      "     |  \n",
      "     |  Methods defined here:\n",
      "     |  \n",
      "     |  __call__(self, string)\n",
      "     |      Call self as a function.\n",
      "     |  \n",
      "     |  __init__(self, mode='r', bufsize=-1, encoding=None, errors=None)\n",
      "     |      Initialize self.  See help(type(self)) for accurate signature.\n",
      "     |  \n",
      "     |  __repr__(self)\n",
      "     |      Return repr(self).\n",
      "     |  \n",
      "     |  ----------------------------------------------------------------------\n",
      "     |  Data descriptors defined here:\n",
      "     |  \n",
      "     |  __dict__\n",
      "     |      dictionary for instance variables (if defined)\n",
      "     |  \n",
      "     |  __weakref__\n",
      "     |      list of weak references to the object (if defined)\n",
      "    \n",
      "    class HelpFormatter(builtins.object)\n",
      "     |  Formatter for generating usage messages and argument help strings.\n",
      "     |  \n",
      "     |  Only the name of this class is considered a public API. All the methods\n",
      "     |  provided by the class are considered an implementation detail.\n",
      "     |  \n",
      "     |  Methods defined here:\n",
      "     |  \n",
      "     |  __init__(self, prog, indent_increment=2, max_help_position=24, width=None)\n",
      "     |      Initialize self.  See help(type(self)) for accurate signature.\n",
      "     |  \n",
      "     |  add_argument(self, action)\n",
      "     |  \n",
      "     |  add_arguments(self, actions)\n",
      "     |  \n",
      "     |  add_text(self, text)\n",
      "     |  \n",
      "     |  add_usage(self, usage, actions, groups, prefix=None)\n",
      "     |  \n",
      "     |  end_section(self)\n",
      "     |  \n",
      "     |  format_help(self)\n",
      "     |      # =======================\n",
      "     |      # Help-formatting methods\n",
      "     |      # =======================\n",
      "     |  \n",
      "     |  start_section(self, heading)\n",
      "     |      # ========================\n",
      "     |      # Message building methods\n",
      "     |      # ========================\n",
      "     |  \n",
      "     |  ----------------------------------------------------------------------\n",
      "     |  Data descriptors defined here:\n",
      "     |  \n",
      "     |  __dict__\n",
      "     |      dictionary for instance variables (if defined)\n",
      "     |  \n",
      "     |  __weakref__\n",
      "     |      list of weak references to the object (if defined)\n",
      "    \n",
      "    class MetavarTypeHelpFormatter(HelpFormatter)\n",
      "     |  Help message formatter which uses the argument 'type' as the default\n",
      "     |  metavar value (instead of the argument 'dest')\n",
      "     |  \n",
      "     |  Only the name of this class is considered a public API. All the methods\n",
      "     |  provided by the class are considered an implementation detail.\n",
      "     |  \n",
      "     |  Method resolution order:\n",
      "     |      MetavarTypeHelpFormatter\n",
      "     |      HelpFormatter\n",
      "     |      builtins.object\n",
      "     |  \n",
      "     |  Methods inherited from HelpFormatter:\n",
      "     |  \n",
      "     |  __init__(self, prog, indent_increment=2, max_help_position=24, width=None)\n",
      "     |      Initialize self.  See help(type(self)) for accurate signature.\n",
      "     |  \n",
      "     |  add_argument(self, action)\n",
      "     |  \n",
      "     |  add_arguments(self, actions)\n",
      "     |  \n",
      "     |  add_text(self, text)\n",
      "     |  \n",
      "     |  add_usage(self, usage, actions, groups, prefix=None)\n",
      "     |  \n",
      "     |  end_section(self)\n",
      "     |  \n",
      "     |  format_help(self)\n",
      "     |      # =======================\n",
      "     |      # Help-formatting methods\n",
      "     |      # =======================\n",
      "     |  \n",
      "     |  start_section(self, heading)\n",
      "     |      # ========================\n",
      "     |      # Message building methods\n",
      "     |      # ========================\n",
      "     |  \n",
      "     |  ----------------------------------------------------------------------\n",
      "     |  Data descriptors inherited from HelpFormatter:\n",
      "     |  \n",
      "     |  __dict__\n",
      "     |      dictionary for instance variables (if defined)\n",
      "     |  \n",
      "     |  __weakref__\n",
      "     |      list of weak references to the object (if defined)\n",
      "    \n",
      "    class Namespace(_AttributeHolder)\n",
      "     |  Simple object for storing attributes.\n",
      "     |  \n",
      "     |  Implements equality by attribute names and values, and provides a simple\n",
      "     |  string representation.\n",
      "     |  \n",
      "     |  Method resolution order:\n",
      "     |      Namespace\n",
      "     |      _AttributeHolder\n",
      "     |      builtins.object\n",
      "     |  \n",
      "     |  Methods defined here:\n",
      "     |  \n",
      "     |  __contains__(self, key)\n",
      "     |  \n",
      "     |  __eq__(self, other)\n",
      "     |      Return self==value.\n",
      "     |  \n",
      "     |  __init__(self, **kwargs)\n",
      "     |      Initialize self.  See help(type(self)) for accurate signature.\n",
      "     |  \n",
      "     |  ----------------------------------------------------------------------\n",
      "     |  Data and other attributes defined here:\n",
      "     |  \n",
      "     |  __hash__ = None\n",
      "     |  \n",
      "     |  ----------------------------------------------------------------------\n",
      "     |  Methods inherited from _AttributeHolder:\n",
      "     |  \n",
      "     |  __repr__(self)\n",
      "     |      Return repr(self).\n",
      "     |  \n",
      "     |  ----------------------------------------------------------------------\n",
      "     |  Data descriptors inherited from _AttributeHolder:\n",
      "     |  \n",
      "     |  __dict__\n",
      "     |      dictionary for instance variables (if defined)\n",
      "     |  \n",
      "     |  __weakref__\n",
      "     |      list of weak references to the object (if defined)\n",
      "    \n",
      "    class RawDescriptionHelpFormatter(HelpFormatter)\n",
      "     |  Help message formatter which retains any formatting in descriptions.\n",
      "     |  \n",
      "     |  Only the name of this class is considered a public API. All the methods\n",
      "     |  provided by the class are considered an implementation detail.\n",
      "     |  \n",
      "     |  Method resolution order:\n",
      "     |      RawDescriptionHelpFormatter\n",
      "     |      HelpFormatter\n",
      "     |      builtins.object\n",
      "     |  \n",
      "     |  Methods inherited from HelpFormatter:\n",
      "     |  \n",
      "     |  __init__(self, prog, indent_increment=2, max_help_position=24, width=None)\n",
      "     |      Initialize self.  See help(type(self)) for accurate signature.\n",
      "     |  \n",
      "     |  add_argument(self, action)\n",
      "     |  \n",
      "     |  add_arguments(self, actions)\n",
      "     |  \n",
      "     |  add_text(self, text)\n",
      "     |  \n",
      "     |  add_usage(self, usage, actions, groups, prefix=None)\n",
      "     |  \n",
      "     |  end_section(self)\n",
      "     |  \n",
      "     |  format_help(self)\n",
      "     |      # =======================\n",
      "     |      # Help-formatting methods\n",
      "     |      # =======================\n",
      "     |  \n",
      "     |  start_section(self, heading)\n",
      "     |      # ========================\n",
      "     |      # Message building methods\n",
      "     |      # ========================\n",
      "     |  \n",
      "     |  ----------------------------------------------------------------------\n",
      "     |  Data descriptors inherited from HelpFormatter:\n",
      "     |  \n",
      "     |  __dict__\n",
      "     |      dictionary for instance variables (if defined)\n",
      "     |  \n",
      "     |  __weakref__\n",
      "     |      list of weak references to the object (if defined)\n",
      "    \n",
      "    class RawTextHelpFormatter(RawDescriptionHelpFormatter)\n",
      "     |  Help message formatter which retains formatting of all help text.\n",
      "     |  \n",
      "     |  Only the name of this class is considered a public API. All the methods\n",
      "     |  provided by the class are considered an implementation detail.\n",
      "     |  \n",
      "     |  Method resolution order:\n",
      "     |      RawTextHelpFormatter\n",
      "     |      RawDescriptionHelpFormatter\n",
      "     |      HelpFormatter\n",
      "     |      builtins.object\n",
      "     |  \n",
      "     |  Methods inherited from HelpFormatter:\n",
      "     |  \n",
      "     |  __init__(self, prog, indent_increment=2, max_help_position=24, width=None)\n",
      "     |      Initialize self.  See help(type(self)) for accurate signature.\n",
      "     |  \n",
      "     |  add_argument(self, action)\n",
      "     |  \n",
      "     |  add_arguments(self, actions)\n",
      "     |  \n",
      "     |  add_text(self, text)\n",
      "     |  \n",
      "     |  add_usage(self, usage, actions, groups, prefix=None)\n",
      "     |  \n",
      "     |  end_section(self)\n",
      "     |  \n",
      "     |  format_help(self)\n",
      "     |      # =======================\n",
      "     |      # Help-formatting methods\n",
      "     |      # =======================\n",
      "     |  \n",
      "     |  start_section(self, heading)\n",
      "     |      # ========================\n",
      "     |      # Message building methods\n",
      "     |      # ========================\n",
      "     |  \n",
      "     |  ----------------------------------------------------------------------\n",
      "     |  Data descriptors inherited from HelpFormatter:\n",
      "     |  \n",
      "     |  __dict__\n",
      "     |      dictionary for instance variables (if defined)\n",
      "     |  \n",
      "     |  __weakref__\n",
      "     |      list of weak references to the object (if defined)\n",
      "\n",
      "DATA\n",
      "    ONE_OR_MORE = '+'\n",
      "    OPTIONAL = '?'\n",
      "    PARSER = 'A...'\n",
      "    REMAINDER = '...'\n",
      "    SUPPRESS = '==SUPPRESS=='\n",
      "    ZERO_OR_MORE = '*'\n",
      "    __all__ = ['ArgumentParser', 'ArgumentError', 'ArgumentTypeError', 'Fi...\n",
      "\n",
      "VERSION\n",
      "    1.1\n",
      "\n",
      "FILE\n",
      "    c:\\programdata\\anaconda3\\lib\\argparse.py\n",
      "\n",
      "\n"
     ]
    }
   ],
   "source": [
    "#import argparse\n",
    "#parser=argparse.Argumentparser\n",
    "#nargs\n",
    "#n:保留数个\n",
    "#?:0或1个\n",
    "#*:all元素\n",
    "#+：至少一个\n",
    "import argparse\n",
    "help(argparse)"
   ]
  },
  {
   "cell_type": "code",
   "execution_count": 3,
   "metadata": {
    "collapsed": false
   },
   "outputs": [
    {
     "data": {
      "text/plain": [
       "ArgumentParser(prog='__main__.py', usage=None, description='sum the integers at the command line', formatter_class=<class 'argparse.HelpFormatter'>, conflict_handler='error', add_help=True)"
      ]
     },
     "execution_count": 3,
     "metadata": {},
     "output_type": "execute_result"
    }
   ],
   "source": [
    "parser = argparse.ArgumentParser(\n",
    "    description='sum the integers at the command line')\n",
    "parser"
   ]
  },
  {
   "cell_type": "code",
   "execution_count": 7,
   "metadata": {
    "collapsed": false
   },
   "outputs": [
    {
     "name": "stdout",
     "output_type": "stream",
     "text": [
      "ArgumentParser(prog='__main__.py', usage=None, description='sum the integers at the command line', formatter_class=<class 'argparse.HelpFormatter'>, conflict_handler='error', add_help=True)\n"
     ]
    }
   ],
   "source": [
    "parser.add_argument('integers', metavar='int', nargs='+', type=int,\n",
    "                    help='an integer to be summed')\n",
    "print(parser)"
   ]
  },
  {
   "cell_type": "code",
   "execution_count": 12,
   "metadata": {
    "collapsed": false
   },
   "outputs": [
    {
     "name": "stdout",
     "output_type": "stream",
     "text": [
      "123\n",
      "ArgumentParser(prog='__main__.py', usage=None, description=None, formatter_class=<class 'argparse.HelpFormatter'>, conflict_handler='error', add_help=True)\n",
      "Namespace(echo=123)\n"
     ]
    }
   ],
   "source": [
    "import argparse\n",
    "parser = argparse.ArgumentParser()\n",
    "parser.add_argument(\"echo\", help=\"echo the string you use here\", type=int)\n",
    "args = parser.parse_args([\"123\"]) \n",
    "print(args.echo)\n",
    "print(parser)\n",
    "print(args)"
   ]
  },
  {
   "cell_type": "code",
   "execution_count": 28,
   "metadata": {
    "collapsed": false,
    "scrolled": true
   },
   "outputs": [
    {
     "name": "stdout",
     "output_type": "stream",
     "text": [
      "[1, 2, 3]\n",
      "Namespace(integers=[1, 2, 3])\n"
     ]
    }
   ],
   "source": [
    "import sys\n",
    "parser = argparse.ArgumentParser(description='sum the integers at the command line')\n",
    "parser.add_argument('integers', metavar='int', nargs='+', type=int, help='an integer to be summed')\n",
    "\n",
    "args = parser.parse_args('123')\n",
    "print(args.integers)\n",
    "print(args)"
   ]
  },
  {
   "cell_type": "code",
   "execution_count": 29,
   "metadata": {
    "collapsed": false
   },
   "outputs": [
    {
     "name": "stdout",
     "output_type": "stream",
     "text": [
      "Namespace(a=True, c=3, d=False, info='val')\n",
      "True val 3 False\n"
     ]
    }
   ],
   "source": [
    "import argparse \n",
    "\n",
    "parser = argparse.ArgumentParser(description='Short sample app')\n",
    "\n",
    "parser.add_argument('-a', action=\"store_true\")\n",
    "parser.add_argument('-b', action=\"store\", dest=\"info\")\n",
    "parser.add_argument('-c', action=\"store\", dest=\"c\", type=int)\n",
    "parser.add_argument('-d', action=\"store\", default=False)\n",
    "\n",
    "res = parser.parse_args(['-a', '-bval', '-c', '3']) # -d is not presented\n",
    "print(res)\n",
    "print(res.a, res.info ,res.c, res.d)"
   ]
  },
  {
   "cell_type": "markdown",
   "metadata": {},
   "source": [
    "* 同时消耗多个参数用 nargs\n",
    "* 'N'   The absolute number of arguments (e.g., 3). \n",
    "* '?'    0 or 1 arguments\n",
    "* '*'    0 or all arguments\n",
    "* '+'    All, and at least one, argument"
   ]
  },
  {
   "cell_type": "code",
   "execution_count": 74,
   "metadata": {
    "collapsed": false
   },
   "outputs": [
    {
     "name": "stdout",
     "output_type": "stream",
     "text": [
      "Namespace(three=['1', '2', '3'])\n"
     ]
    }
   ],
   "source": [
    "import argparse\n",
    "parser=argparse.ArgumentParser()\n",
    "parser.add_argument('--three',nargs='*')\n",
    "print(parser.parse_args(['--three','1','2','3']))"
   ]
  },
  {
   "cell_type": "code",
   "execution_count": 75,
   "metadata": {
    "collapsed": false
   },
   "outputs": [
    {
     "name": "stdout",
     "output_type": "stream",
     "text": [
      "Namespace(all=None, three=['1', '2', '3'])\n"
     ]
    }
   ],
   "source": [
    "parser.add_argument('--all',nargs='?')\n",
    "print(parser.parse_args(['--three','1','2','3','--all']))"
   ]
  },
  {
   "cell_type": "code",
   "execution_count": 76,
   "metadata": {
    "collapsed": false
   },
   "outputs": [
    {
     "data": {
      "text/plain": [
       "_StoreAction(option_strings=['--optional'], dest='optional', nargs='?', const=None, default=None, type=None, choices=None, help=None, metavar=None)"
      ]
     },
     "execution_count": 76,
     "metadata": {},
     "output_type": "execute_result"
    }
   ],
   "source": [
    "parser.add_argument('--optional',nargs='?')"
   ]
  },
  {
   "cell_type": "code",
   "execution_count": 85,
   "metadata": {
    "collapsed": false
   },
   "outputs": [
    {
     "data": {
      "text/plain": [
       "Namespace(one_or_more=None, three=['1', '2', '3'])"
      ]
     },
     "execution_count": 85,
     "metadata": {},
     "output_type": "execute_result"
    }
   ],
   "source": [
    "import argparse\n",
    "parser=argparse.ArgumentParser()\n",
    "parser.add_argument('--three',nargs=3)\n",
    "parser.add_argument('--one_or_more',nargs='+')\n",
    "parser.parse_args(['--three','1','2','3'])"
   ]
  },
  {
   "cell_type": "code",
   "execution_count": null,
   "metadata": {
    "collapsed": true
   },
   "outputs": [],
   "source": [
    "#fiddle"
   ]
  },
  {
   "cell_type": "code",
   "execution_count": 88,
   "metadata": {
    "collapsed": false
   },
   "outputs": [
    {
     "name": "stdout",
     "output_type": "stream",
     "text": [
      "Help on package requests:\n",
      "\n",
      "NAME\n",
      "    requests\n",
      "\n",
      "DESCRIPTION\n",
      "    Requests HTTP library\n",
      "    ~~~~~~~~~~~~~~~~~~~~~\n",
      "    \n",
      "    Requests is an HTTP library, written in Python, for human beings. Basic GET\n",
      "    usage:\n",
      "    \n",
      "       >>> import requests\n",
      "       >>> r = requests.get('https://www.python.org')\n",
      "       >>> r.status_code\n",
      "       200\n",
      "       >>> 'Python is a programming language' in r.content\n",
      "       True\n",
      "    \n",
      "    ... or POST:\n",
      "    \n",
      "       >>> payload = dict(key1='value1', key2='value2')\n",
      "       >>> r = requests.post('http://httpbin.org/post', data=payload)\n",
      "       >>> print(r.text)\n",
      "       {\n",
      "         ...\n",
      "         \"form\": {\n",
      "           \"key2\": \"value2\",\n",
      "           \"key1\": \"value1\"\n",
      "         },\n",
      "         ...\n",
      "       }\n",
      "    \n",
      "    The other HTTP methods are supported - see `requests.api`. Full documentation\n",
      "    is at <http://python-requests.org>.\n",
      "    \n",
      "    :copyright: (c) 2016 by Kenneth Reitz.\n",
      "    :license: Apache 2.0, see LICENSE for more details.\n",
      "\n",
      "PACKAGE CONTENTS\n",
      "    _internal_utils\n",
      "    adapters\n",
      "    api\n",
      "    auth\n",
      "    certs\n",
      "    compat\n",
      "    cookies\n",
      "    exceptions\n",
      "    hooks\n",
      "    models\n",
      "    packages (package)\n",
      "    sessions\n",
      "    status_codes\n",
      "    structures\n",
      "    utils\n",
      "\n",
      "SUBMODULES\n",
      "    pyopenssl\n",
      "\n",
      "DATA\n",
      "    __build__ = 135684\n",
      "    __copyright__ = 'Copyright 2016 Kenneth Reitz'\n",
      "    __license__ = 'Apache 2.0'\n",
      "    __title__ = 'requests'\n",
      "    codes = <lookup 'status_codes'>\n",
      "\n",
      "VERSION\n",
      "    2.12.4\n",
      "\n",
      "AUTHOR\n",
      "    Kenneth Reitz\n",
      "\n",
      "FILE\n",
      "    c:\\programdata\\anaconda3\\lib\\site-packages\\requests\\__init__.py\n",
      "\n",
      "\n"
     ]
    }
   ],
   "source": [
    "#习题：\n",
    "#利用request,登陆一个网站\n",
    "#如何监控一个网站的登陆过程\n",
    "#fiddle\n",
    "help(requests)"
   ]
  },
  {
   "cell_type": "code",
   "execution_count": 117,
   "metadata": {
    "collapsed": true
   },
   "outputs": [
    {
     "name": "stdout",
     "output_type": "stream",
     "text": [
      "90201\n",
      "{'u': '***', 'p': '***', 'once': '90201', 'next': '/'}\n",
      "<Response [400]>\n"
     ]
    },
    {
     "data": {
      "text/plain": [
       "<!DOCTYPE html PUBLIC \"-//W3C//DTD XHTML 1.0 Transitional//EN\" \"http://www.w3.org/TR/xhtml1/DTD/xhtml1-transitional.dtd\">\n",
       "<html lang=\"zh-CN\">\n",
       "<head>\n",
       "<meta content=\"text/html;charset=utf-8\" name=\"Content-Type\"/>\n",
       "<meta content=\"unsafe-url\" name=\"Referrer\"/>\n",
       "<meta content=\"True\" name=\"HandheldFriendly\"/>\n",
       "<meta content=\"#333344\" name=\"theme-color\"/>\n",
       "<meta content=\"d0264f228155c7a1f72c3d91c17ce8fb\" name=\"detectify-verification\"/>\n",
       "<meta content=\"OFc8dmwZo7ttU4UCnDh1rKDtLlY\" name=\"alexaVerifyID\"/>\n",
       "<meta content=\"D00WizvYyr\" name=\"baidu-site-verification\"/>\n",
       "<meta content=\"D9B08FEA08E3DA402BF07ABAB61D77DE\" name=\"msvalidate.01\"/>\n",
       "<meta content=\"f2f4cb229bda06a4\" property=\"wb:webmaster\"/>\n",
       "<meta content=\"LM_cJR94XJIqcYJeOCscGVMWdaRUvmyz6cVOqkFplaU\" name=\"google-site-verification\"/>\n",
       "<title>V2EX › 登录</title>\n",
       "<link href=\"//static.v2ex.com\" rel=\"dns-prefetch\"/>\n",
       "<link href=\"//cdn.v2ex.com\" rel=\"dns-prefetch\"/>\n",
       "<link href=\"//cdn.v2ex.co\" rel=\"dns-prefetch\"/>\n",
       "<link href=\"//i.v2ex.co\" rel=\"dns-prefetch\"/>\n",
       "<link href=\"/css/basic.css?v=3.9.7.5\" media=\"screen\" rel=\"stylesheet\" type=\"text/css\"/>\n",
       "<link href=\"/static/css/style.css?v=416609f46253c81f1226585249e3d16f\" media=\"screen\" rel=\"stylesheet\" type=\"text/css\"/>\n",
       "<link href=\"/css/desktop.css?v=3.9.7.5\" media=\"screen\" rel=\"stylesheet\" type=\"text/css\"/>\n",
       "<link href=\"//v2ex.assets.uxengine.net/js/highlight/styles/tomorrow.css\" rel=\"stylesheet\" type=\"text/css\"/>\n",
       "<script src=\"//v2ex.assets.uxengine.net/js/highlight/highlight.pack.js\" type=\"text/javascript\"></script>\n",
       "<link href=\"/static/img/v2ex_192.png\" rel=\"icon\" sizes=\"192x192\"/>\n",
       "<link href=\"/static/img/icon_rayps_64.png\" rel=\"shortcut icon\" type=\"image/png\"/>\n",
       "<link href=\"/static/css/font-awesome.min.css?v=295235b28b6e649d99539a9d32b95d30\" rel=\"stylesheet\" type=\"text/css\"/>\n",
       "<script src=\"/static/js/jquery.js?v=8fc25e27d42774aeae6edbc0a18b72aa\" type=\"text/javascript\"></script>\n",
       "<script src=\"/static/js/jquery-ui.js?v=ba23883b51f5f372d28755e199785526\" type=\"text/javascript\"></script>\n",
       "<script src=\"//v2ex.assets.uxengine.net/static/js/jquery.autosize.js?v=1.18.9\" type=\"text/javascript\"></script>\n",
       "<link href=\"/static/css/jquery.textcomplete.css?v=5a041d39010ded8724744170cea6ce8d\" rel=\"stylesheet\"/>\n",
       "<script src=\"/static/js/lscache.min.js?v=bf403ab76d287d394375662defac76c3\" type=\"text/javascript\"></script>\n",
       "<script src=\"/static/js/v2ex.js?v=8e2fbd5feb7e8b2947dcf699bef72ff7\" type=\"text/javascript\"></script>\n",
       "<link href=\"/static/js/select2/select2.css?v=2621fe97ae1aabca8661d60000147412\" rel=\"stylesheet\"/>\n",
       "<script src=\"/static/js/select2/select2.min.js?v=3225a95b13ab51f570e2544751ee8320\" type=\"text/javascript\"></script>\n",
       "<link href=\"/static/js/selectboxit/selectboxit.css?v=5dc55d3860ef80ef1875d6800a5fbfa3\" rel=\"stylesheet\"/>\n",
       "<script src=\"/static/js/selectboxit/selectboxit.min.js?v=379ece65af74a99ef6cd7ca21f8beb6e\" type=\"text/javascript\"></script>\n",
       "<meta content=\"\" name=\"description\"/>\n",
       "<link href=\"/static/css/zocial.css\" rel=\"stylesheet\" type=\"text/css\"/>\n",
       "<script>\n",
       "\t$(function(){\n",
       "\t\tprotectTraffic();\n",
       "\t});\n",
       "</script>\n",
       "</head>\n",
       "<body>\n",
       "<div id=\"Top\">\n",
       "<div class=\"content\">\n",
       "<div style=\"padding-top: 6px;\">\n",
       "<table border=\"0\" cellpadding=\"0\" cellspacing=\"0\" width=\"100%\">\n",
       "<tr>\n",
       "<td align=\"left\" width=\"110\"><a href=\"/\" name=\"top\" title=\"way to explore\"><img align=\"default\" alt=\"V2EX\" border=\"0\" height=\"30\" src=\"//v2ex.assets.uxengine.net/site/logo@2x.png?m=1346064962\" width=\"94\"/></a></td>\n",
       "<td align=\"left\" width=\"auto\">\n",
       "<div id=\"Search\"><form action=\"https://www.google.com\" onsubmit=\"return dispatch()\" target=\"_blank\"><div style=\"width: 276px; height: 28px; background-size: 276px 28px; background-image: url('/static/img/qbar_light@2x.png'); background-repeat: no-repeat; display: inline-block;\"><input id=\"q\" maxlength=\"40\" name=\"q\" type=\"text\" value=\"\"/></div></form></div>\n",
       "</td>\n",
       "<td align=\"right\" style=\"padding-top: 2px;\" width=\"570\"><a class=\"top\" href=\"/\">首页</a>   <a class=\"top\" href=\"/signup\">注册</a>   <a class=\"top\" href=\"/signin\">登录</a></td>\n",
       "</tr>\n",
       "</table>\n",
       "</div>\n",
       "</div>\n",
       "</div>\n",
       "<div id=\"Wrapper\">\n",
       "<div class=\"content\">\n",
       "<div id=\"Leftbar\"></div>\n",
       "<div id=\"Rightbar\">\n",
       "<div class=\"sep20\"></div>\n",
       "<div class=\"box\">\n",
       "<div class=\"header\">其他登录方式</div>\n",
       "<div class=\"cell\" style=\"text-align: center;\">\n",
       "<a class=\"google-signin\" href=\"#\" onclick=\"location.href = '/auth/google?once=90201';\"></a>\n",
       "</div>\n",
       "</div>\n",
       "</div>\n",
       "<div id=\"Main\">\n",
       "<div class=\"sep20\"></div>\n",
       "<div class=\"box\">\n",
       "<div class=\"header\"><a href=\"/\">V2EX</a> <span class=\"chevron\"> › </span> 登录  <li class=\"fa fa-lock\"></li></div>\n",
       "<div class=\"message\" onclick=\"$(this).slideUp('fast');\">你要查看的页面需要先登录</div>\n",
       "<div class=\"cell\">\n",
       "<form action=\"/signin\" method=\"post\">\n",
       "<table border=\"0\" cellpadding=\"5\" cellspacing=\"0\" width=\"100%\">\n",
       "<tr>\n",
       "<td align=\"right\" width=\"120\">用户名</td>\n",
       "<td align=\"left\" width=\"auto\"><input autocapitalize=\"off\" autocorrect=\"off\" autofocus=\"autofocus\" class=\"sl\" name=\"a33e9e7538a1177568f7978281a6583795ec9aa458ae7ad775842d5d4c2006d5\" placeholder=\"用户名或电子邮箱地址\" spellcheck=\"false\" type=\"text\" value=\"\"/></td>\n",
       "</tr>\n",
       "<tr>\n",
       "<td align=\"right\" width=\"120\">密码</td>\n",
       "<td align=\"left\" width=\"auto\"><input autocapitalize=\"off\" autocorrect=\"off\" class=\"sl\" name=\"12b7b00ef8293fa2cf78d6dd0c37894d7a538201d2a484f9ecc51e3ffc48452e\" spellcheck=\"false\" type=\"password\" value=\"\"/></td>\n",
       "</tr>\n",
       "<tr>\n",
       "<td align=\"right\" width=\"120\"></td>\n",
       "<td align=\"left\" width=\"auto\"><input name=\"once\" type=\"hidden\" value=\"90201\"/><input class=\"super normal button\" type=\"submit\" value=\"登录\"/></td>\n",
       "</tr>\n",
       "<tr>\n",
       "<td align=\"right\" width=\"120\"></td>\n",
       "<td align=\"left\" width=\"auto\"><a href=\"/forgot\">我忘记密码了</a></td>\n",
       "</tr>\n",
       "</table>\n",
       "<input name=\"next\" type=\"hidden\" value=\"/settings\"/>\n",
       "</form>\n",
       "</div>\n",
       "</div>\n",
       "</div>\n",
       "</div>\n",
       "<div class=\"c\"></div>\n",
       "<div class=\"sep20\"></div>\n",
       "</div>\n",
       "<div id=\"Bottom\">\n",
       "<div class=\"content\">\n",
       "<div class=\"inner\">\n",
       "<div class=\"sep10\"></div>\n",
       "<div class=\"fr\">\n",
       "<a href=\"https://www.digitalocean.com/?refcode=1b51f1a7651d\" target=\"_blank\"><img alt=\"DigitalOcean\" border=\"0\" src=\"//v2ex.assets.uxengine.net/assets/logos/do_blue.png\" width=\"60\"/></a>\n",
       "</div>\n",
       "<strong><a class=\"dark\" href=\"/about\" target=\"_self\">关于</a>   <span class=\"snow\">·</span>   <a class=\"dark\" href=\"/faq\" target=\"_self\">FAQ</a>   <span class=\"snow\">·</span>   <a class=\"dark\" href=\"/p/7v9TEc53\" target=\"_self\">API</a>   <span class=\"snow\">·</span>   <a class=\"dark\" href=\"/mission\" target=\"_self\">我们的愿景</a>   <span class=\"snow\">·</span>   <a class=\"dark\" href=\"/advertise\" target=\"_self\">广告投放</a>   <span class=\"snow\">·</span>   <a class=\"dark\" href=\"/advertise/2016.html\" target=\"_self\">鸣谢</a>   <span class=\"snow\">·</span>   1233 人在线</strong>   <span class=\"fade\">最高记录 2466</span>   <span class=\"snow\">·</span>   <a href=\"/select/language\"><img align=\"absmiddle\" alt=\"\" border=\"0\" src=\"/static/img/lang_zhcn_32.png\" width=\"20\"/></a>\n",
       "<div class=\"sep20\"></div>\n",
       "                    创意工作者们的社区\n",
       "                    <div class=\"sep5\"></div>\n",
       "                    World is powered by solitude\n",
       "                    <div class=\"sep20\"></div>\n",
       "<span class=\"small fade\">VERSION: 3.9.7.5 · 12ms · UTC 16:13 · PVG 00:13 · LAX 09:13 · JFK 12:13<br/>♥ Do have faith in what you're doing.</span>\n",
       "<div class=\"sep20\"></div>\n",
       "<span class=\"f12 gray\"><a href=\"http://www.miibeian.gov.cn/\" rel=\"nofollow\" target=\"_blank\">沪ICP备16043287号-1</a></span>\n",
       "<div class=\"sep10\"></div>\n",
       "</div>\n",
       "</div>\n",
       "</div>\n",
       "<script>\n",
       "\t  (function(i,s,o,g,r,a,m){i['GoogleAnalyticsObject']=r;i[r]=i[r]||function(){\n",
       "\t  (i[r].q=i[r].q||[]).push(arguments)},i[r].l=1*new Date();a=s.createElement(o),\n",
       "\t  m=s.getElementsByTagName(o)[0];a.async=1;a.src=g;m.parentNode.insertBefore(a,m)\n",
       "\t  })(window,document,'script','//www.google-analytics.com/analytics.js','ga');\n",
       "\n",
       "\t  ga('create', 'UA-11940834-2', 'v2ex.com');\n",
       "\t  ga('send', 'pageview');\n",
       "\n",
       "\t</script>\n",
       "<script src=\"/static/js/jquery.textcomplete.min.js?v=43bfb325d9b6b784e680aa9eaef91925\" type=\"text/javascript\"></script>\n",
       "</body>\n",
       "</html>"
      ]
     },
     "execution_count": 117,
     "metadata": {},
     "output_type": "execute_result"
    }
   ],
   "source": [
    "#http://www.cnblogs.com/EvileOn/p/5517235.html\n",
    "#HTTP请求：GET、POST、PUT、DELETE、HEAD、OPTIONS\n",
    "from bs4 import BeautifulSoup as bs\n",
    "s=requests.Session()\n",
    "bs(res.content,'lxml')\n",
    "r=s.get('http://www.v2ex.com/signin')\n",
    "soup=bs(r.content,'lxml')\n",
    "once = soup.find('input', {'name': 'once'})['value']\n",
    "print(once)\n",
    "login_data = {'u': '***', 'p': '***', 'once': once, 'next': '/'}\n",
    "print(login_data)\n",
    "n=s.post('http://www.v2ex.com/signin', login_data, headers=headers)\n",
    "print(n)\n",
    "f = s.get('http://www.v2ex.com/settings')\n",
    "m=bs(f.content,'lxml')\n",
    "m"
   ]
  },
  {
   "cell_type": "code",
   "execution_count": 113,
   "metadata": {
    "collapsed": true
   },
   "outputs": [
    {
     "data": {
      "text/plain": [
       "<!DOCTYPE html PUBLIC \"-//W3C//DTD XHTML 1.0 Transitional//EN\" \"http://www.w3.org/TR/xhtml1/DTD/xhtml1-transitional.dtd\">\n",
       "<html lang=\"zh-CN\">\n",
       "<head>\n",
       "<meta content=\"text/html;charset=utf-8\" name=\"Content-Type\"/>\n",
       "<meta content=\"unsafe-url\" name=\"Referrer\"/>\n",
       "<meta content=\"True\" name=\"HandheldFriendly\"/>\n",
       "<meta content=\"#333344\" name=\"theme-color\"/>\n",
       "<meta content=\"d0264f228155c7a1f72c3d91c17ce8fb\" name=\"detectify-verification\"/>\n",
       "<meta content=\"OFc8dmwZo7ttU4UCnDh1rKDtLlY\" name=\"alexaVerifyID\"/>\n",
       "<meta content=\"D00WizvYyr\" name=\"baidu-site-verification\"/>\n",
       "<meta content=\"D9B08FEA08E3DA402BF07ABAB61D77DE\" name=\"msvalidate.01\"/>\n",
       "<meta content=\"f2f4cb229bda06a4\" property=\"wb:webmaster\"/>\n",
       "<meta content=\"LM_cJR94XJIqcYJeOCscGVMWdaRUvmyz6cVOqkFplaU\" name=\"google-site-verification\"/>\n",
       "<title>V2EX › 登录</title>\n",
       "<link href=\"//static.v2ex.com\" rel=\"dns-prefetch\"/>\n",
       "<link href=\"//cdn.v2ex.com\" rel=\"dns-prefetch\"/>\n",
       "<link href=\"//cdn.v2ex.co\" rel=\"dns-prefetch\"/>\n",
       "<link href=\"//i.v2ex.co\" rel=\"dns-prefetch\"/>\n",
       "<link href=\"/css/basic.css?v=3.9.7.5\" media=\"screen\" rel=\"stylesheet\" type=\"text/css\"/>\n",
       "<link href=\"/static/css/style.css?v=416609f46253c81f1226585249e3d16f\" media=\"screen\" rel=\"stylesheet\" type=\"text/css\"/>\n",
       "<link href=\"/css/desktop.css?v=3.9.7.5\" media=\"screen\" rel=\"stylesheet\" type=\"text/css\"/>\n",
       "<link href=\"//v2ex.assets.uxengine.net/js/highlight/styles/tomorrow.css\" rel=\"stylesheet\" type=\"text/css\"/>\n",
       "<script src=\"//v2ex.assets.uxengine.net/js/highlight/highlight.pack.js\" type=\"text/javascript\"></script>\n",
       "<link href=\"/static/img/v2ex_192.png\" rel=\"icon\" sizes=\"192x192\"/>\n",
       "<link href=\"/static/img/icon_rayps_64.png\" rel=\"shortcut icon\" type=\"image/png\"/>\n",
       "<link href=\"/static/css/font-awesome.min.css?v=295235b28b6e649d99539a9d32b95d30\" rel=\"stylesheet\" type=\"text/css\"/>\n",
       "<script src=\"/static/js/jquery.js?v=8fc25e27d42774aeae6edbc0a18b72aa\" type=\"text/javascript\"></script>\n",
       "<script src=\"/static/js/jquery-ui.js?v=ba23883b51f5f372d28755e199785526\" type=\"text/javascript\"></script>\n",
       "<script src=\"//v2ex.assets.uxengine.net/static/js/jquery.autosize.js?v=1.18.9\" type=\"text/javascript\"></script>\n",
       "<link href=\"/static/css/jquery.textcomplete.css?v=5a041d39010ded8724744170cea6ce8d\" rel=\"stylesheet\"/>\n",
       "<script src=\"/static/js/lscache.min.js?v=bf403ab76d287d394375662defac76c3\" type=\"text/javascript\"></script>\n",
       "<script src=\"/static/js/v2ex.js?v=8e2fbd5feb7e8b2947dcf699bef72ff7\" type=\"text/javascript\"></script>\n",
       "<link href=\"/static/js/select2/select2.css?v=2621fe97ae1aabca8661d60000147412\" rel=\"stylesheet\"/>\n",
       "<script src=\"/static/js/select2/select2.min.js?v=3225a95b13ab51f570e2544751ee8320\" type=\"text/javascript\"></script>\n",
       "<link href=\"/static/js/selectboxit/selectboxit.css?v=5dc55d3860ef80ef1875d6800a5fbfa3\" rel=\"stylesheet\"/>\n",
       "<script src=\"/static/js/selectboxit/selectboxit.min.js?v=379ece65af74a99ef6cd7ca21f8beb6e\" type=\"text/javascript\"></script>\n",
       "<meta content=\"\" name=\"description\"/>\n",
       "<link href=\"/static/css/zocial.css\" rel=\"stylesheet\" type=\"text/css\"/>\n",
       "<script>\n",
       "\t$(function(){\n",
       "\t\tprotectTraffic();\n",
       "\t});\n",
       "</script>\n",
       "</head>\n",
       "<body>\n",
       "<div id=\"Top\">\n",
       "<div class=\"content\">\n",
       "<div style=\"padding-top: 6px;\">\n",
       "<table border=\"0\" cellpadding=\"0\" cellspacing=\"0\" width=\"100%\">\n",
       "<tr>\n",
       "<td align=\"left\" width=\"110\"><a href=\"/\" name=\"top\" title=\"way to explore\"><img align=\"default\" alt=\"V2EX\" border=\"0\" height=\"30\" src=\"//v2ex.assets.uxengine.net/site/logo@2x.png?m=1346064962\" width=\"94\"/></a></td>\n",
       "<td align=\"left\" width=\"auto\">\n",
       "<div id=\"Search\"><form action=\"https://www.google.com\" onsubmit=\"return dispatch()\" target=\"_blank\"><div style=\"width: 276px; height: 28px; background-size: 276px 28px; background-image: url('/static/img/qbar_light@2x.png'); background-repeat: no-repeat; display: inline-block;\"><input id=\"q\" maxlength=\"40\" name=\"q\" type=\"text\" value=\"\"/></div></form></div>\n",
       "</td>\n",
       "<td align=\"right\" style=\"padding-top: 2px;\" width=\"570\"><a class=\"top\" href=\"/\">首页</a>   <a class=\"top\" href=\"/signup\">注册</a>   <a class=\"top\" href=\"/signin\">登录</a></td>\n",
       "</tr>\n",
       "</table>\n",
       "</div>\n",
       "</div>\n",
       "</div>\n",
       "<div id=\"Wrapper\">\n",
       "<div class=\"content\">\n",
       "<div id=\"Leftbar\"></div>\n",
       "<div id=\"Rightbar\">\n",
       "<div class=\"sep20\"></div>\n",
       "<div class=\"box\">\n",
       "<div class=\"header\">其他登录方式</div>\n",
       "<div class=\"cell\" style=\"text-align: center;\">\n",
       "<a class=\"google-signin\" href=\"#\" onclick=\"location.href = '/auth/google?once=32402';\"></a>\n",
       "</div>\n",
       "</div>\n",
       "</div>\n",
       "<div id=\"Main\">\n",
       "<div class=\"sep20\"></div>\n",
       "<div class=\"box\">\n",
       "<div class=\"header\"><a href=\"/\">V2EX</a> <span class=\"chevron\"> › </span> 登录  <li class=\"fa fa-lock\"></li></div>\n",
       "<div class=\"cell\">\n",
       "<form action=\"/signin\" method=\"post\">\n",
       "<table border=\"0\" cellpadding=\"5\" cellspacing=\"0\" width=\"100%\">\n",
       "<tr>\n",
       "<td align=\"right\" width=\"120\">用户名</td>\n",
       "<td align=\"left\" width=\"auto\"><input autocapitalize=\"off\" autocorrect=\"off\" autofocus=\"autofocus\" class=\"sl\" name=\"452e1f37b14dbb74f17d82370f98a37fc9efe483ebe77b4362b65457aa1e5e9c\" placeholder=\"用户名或电子邮箱地址\" spellcheck=\"false\" type=\"text\" value=\"\"/></td>\n",
       "</tr>\n",
       "<tr>\n",
       "<td align=\"right\" width=\"120\">密码</td>\n",
       "<td align=\"left\" width=\"auto\"><input autocapitalize=\"off\" autocorrect=\"off\" class=\"sl\" name=\"ef52ef80247d949697646e9fbc821a67171833845bb2a4461768932db21df356\" spellcheck=\"false\" type=\"password\" value=\"\"/></td>\n",
       "</tr>\n",
       "<tr>\n",
       "<td align=\"right\" width=\"120\"></td>\n",
       "<td align=\"left\" width=\"auto\"><input name=\"once\" type=\"hidden\" value=\"32402\"/><input class=\"super normal button\" type=\"submit\" value=\"登录\"/></td>\n",
       "</tr>\n",
       "<tr>\n",
       "<td align=\"right\" width=\"120\"></td>\n",
       "<td align=\"left\" width=\"auto\"><a href=\"/forgot\">我忘记密码了</a></td>\n",
       "</tr>\n",
       "</table>\n",
       "<input name=\"next\" type=\"hidden\" value=\"/\"/>\n",
       "</form>\n",
       "</div>\n",
       "</div>\n",
       "</div>\n",
       "</div>\n",
       "<div class=\"c\"></div>\n",
       "<div class=\"sep20\"></div>\n",
       "</div>\n",
       "<div id=\"Bottom\">\n",
       "<div class=\"content\">\n",
       "<div class=\"inner\">\n",
       "<div class=\"sep10\"></div>\n",
       "<div class=\"fr\">\n",
       "<a href=\"https://www.digitalocean.com/?refcode=1b51f1a7651d\" target=\"_blank\"><img alt=\"DigitalOcean\" border=\"0\" src=\"//v2ex.assets.uxengine.net/assets/logos/do_blue.png\" width=\"60\"/></a>\n",
       "</div>\n",
       "<strong><a class=\"dark\" href=\"/about\" target=\"_self\">关于</a>   <span class=\"snow\">·</span>   <a class=\"dark\" href=\"/faq\" target=\"_self\">FAQ</a>   <span class=\"snow\">·</span>   <a class=\"dark\" href=\"/p/7v9TEc53\" target=\"_self\">API</a>   <span class=\"snow\">·</span>   <a class=\"dark\" href=\"/mission\" target=\"_self\">我们的愿景</a>   <span class=\"snow\">·</span>   <a class=\"dark\" href=\"/advertise\" target=\"_self\">广告投放</a>   <span class=\"snow\">·</span>   <a class=\"dark\" href=\"/advertise/2016.html\" target=\"_self\">鸣谢</a>   <span class=\"snow\">·</span>   1284 人在线</strong>   <span class=\"fade\">最高记录 2466</span>   <span class=\"snow\">·</span>   <a href=\"/select/language\"><img align=\"absmiddle\" alt=\"\" border=\"0\" src=\"/static/img/lang_zhcn_32.png\" width=\"20\"/></a>\n",
       "<div class=\"sep20\"></div>\n",
       "                    创意工作者们的社区\n",
       "                    <div class=\"sep5\"></div>\n",
       "                    World is powered by solitude\n",
       "                    <div class=\"sep20\"></div>\n",
       "<span class=\"small fade\">VERSION: 3.9.7.5 · 20ms · UTC 16:08 · PVG 00:08 · LAX 09:08 · JFK 12:08<br/>♥ Do have faith in what you're doing.</span>\n",
       "<div class=\"sep20\"></div>\n",
       "<span class=\"f12 gray\"><a href=\"http://www.miibeian.gov.cn/\" rel=\"nofollow\" target=\"_blank\">沪ICP备16043287号-1</a></span>\n",
       "<div class=\"sep10\"></div>\n",
       "</div>\n",
       "</div>\n",
       "</div>\n",
       "<script>\n",
       "\t  (function(i,s,o,g,r,a,m){i['GoogleAnalyticsObject']=r;i[r]=i[r]||function(){\n",
       "\t  (i[r].q=i[r].q||[]).push(arguments)},i[r].l=1*new Date();a=s.createElement(o),\n",
       "\t  m=s.getElementsByTagName(o)[0];a.async=1;a.src=g;m.parentNode.insertBefore(a,m)\n",
       "\t  })(window,document,'script','//www.google-analytics.com/analytics.js','ga');\n",
       "\n",
       "\t  ga('create', 'UA-11940834-2', 'v2ex.com');\n",
       "\t  ga('send', 'pageview');\n",
       "\n",
       "\t</script>\n",
       "<script src=\"/static/js/jquery.textcomplete.min.js?v=43bfb325d9b6b784e680aa9eaef91925\" type=\"text/javascript\"></script>\n",
       "</body>\n",
       "</html>"
      ]
     },
     "execution_count": 113,
     "metadata": {},
     "output_type": "execute_result"
    }
   ],
   "source": [
    "soup"
   ]
  },
  {
   "cell_type": "code",
   "execution_count": 1,
   "metadata": {
    "collapsed": true
   },
   "outputs": [
    {
     "data": {
      "text/plain": [
       "<!DOCTYPE html>\n",
       "<html>\n",
       "<head>\n",
       "<meta charset=\"utf-8\"/>\n",
       "<meta content=\"width=device-width, initial-scale=1.0\" name=\"viewport\"/>\n",
       "<meta content=\"no-cache\" http-equiv=\"Pragma\"/>\n",
       "<meta content=\"no-cache\" http-equiv=\"Cache-Control\"/>\n",
       "<meta content=\"0\" http-equiv=\"expires\"/>\n",
       "<link href=\"css/bootstrap.min.css\" rel=\"stylesheet\" type=\"text/css\"/>\n",
       "<link href=\"css/starStyle.css\" rel=\"stylesheet\" type=\"text/css\"/>\n",
       "<link href=\"css/jquery.fs.stepper.css\" rel=\"stylesheet\" type=\"text/css\"/>\n",
       "<link href=\"css/mycss.css\" rel=\"stylesheet\" type=\"text/css\"/>\n",
       "<link href=\"css/product.css\" rel=\"stylesheet\" type=\"text/css\"/>\n",
       "<link href=\"css/about.css\" rel=\"stylesheet\" type=\"text/css\"/>\n",
       "<link href=\"css/news.css\" rel=\"stylesheet\" type=\"text/css\"/>\n",
       "<link href=\"css/register.css\" rel=\"stylesheet\" type=\"text/css\"/>\n",
       "<link href=\"css/account.css\" rel=\"stylesheet\" type=\"text/css\"/>\n",
       "<title>star模拟交易平台</title>\n",
       "</head>\n",
       "<body class=\"modal-demo\" ng-app=\"starAPP\" style=\"min-width: 1180px;\" ui-view=\"\">\n",
       "<script charset=\"utf-8\" src=\"js/angular.min.js\" type=\"text/javascript\"></script>\n",
       "<script charset=\"utf-8\" src=\"js/angular-animate.min.js\" type=\"text/javascript\"></script>\n",
       "<script charset=\"utf-8\" src=\"js/angular-sanitize.min.js\" type=\"text/javascript\"></script>\n",
       "<script charset=\"utf-8\" src=\"js/ui-bootstrap-tpls-2.3.1.min.js\" type=\"text/javascript\"></script>\n",
       "<script charset=\"utf-8\" src=\"js/angular-ui-router.js\" type=\"text/javascript\"></script>\n",
       "<script charset=\"utf-8\" src=\"js/angucomplete.js\" type=\"text/javascript\"></script>\n",
       "<script charset=\"utf-8\" src=\"js/toaster.js\" type=\"text/javascript\"></script>\n",
       "<script charset=\"utf-8\" src=\"js/page.js\" type=\"text/javascript\"></script>\n",
       "<script charset=\"utf-8\" src=\"js/app.js\" type=\"text/javascript\"></script>\n",
       "<script charset=\"utf-8\" src=\"js/controllers.js\" type=\"text/javascript\"></script>\n",
       "<script charset=\"utf-8\" src=\"js/services.js\" type=\"text/javascript\"></script>\n",
       "<script charset=\"utf-8\" src=\"js/jquery-1.11.0.min.js\" type=\"text/javascript\"></script>\n",
       "<!--<script src=\"js/jquery-2.1.4.min.js\" type=\"text/javascript\" charset=\"utf-8\"></script>\t\t-->\n",
       "<script charset=\"utf-8\" src=\"js/jquery.SuperSlide.2.1.1.js\" type=\"text/javascript\"></script>\n",
       "<script charset=\"utf-8\" src=\"js/jquery.fs.stepper.js\" type=\"text/javascript\"></script>\n",
       "<script charset=\"utf-8\" src=\"js/highcharts.js\" type=\"text/javascript\"></script>\n",
       "<script charset=\"utf-8\" src=\"js/broken-axis.js\" type=\"text/javascript\"></script>\n",
       "<script charset=\"utf-8\" src=\"js/city.js\" type=\"text/javascript\"></script>\n",
       "<script charset=\"utf-8\" src=\"js/mychart.js\" type=\"text/javascript\"></script>\n",
       "<script charset=\"utf-8\" src=\"js/base64.js\" type=\"text/javascript\"></script>\n",
       "<script charset=\"utf-8\" src=\"js/tableExport.js\" type=\"text/javascript\"></script>\n",
       "<script charset=\"utf-8\" src=\"js/ajaxSetup.js\" type=\"text/javascript\"></script>\n",
       "<!--<script type=\"text/javascript\" src=\"app/js/canvas-to-blob.js\"  ></script>-->\n",
       "<!--<script type=\"text/javascript\" href=\"app/bootstrap-3.3.7-dist/js/bootstrap.min.js\"> </script>\n",
       "        <script type=\"text/javascript\" src=\"app/js/fileinput.js\"  ></script>\n",
       "\t\t<script type=\"text/javascript\" src=\"app/js/fileinput_locale_zh.js\"  ></script>-->\n",
       "<!--<script src=\"js/angular-locale_zh-cn.js\" type=\"text/javascript\" charset=\"utf-8\"></script>-->\n",
       "</body>\n",
       "</html>"
      ]
     },
     "execution_count": 1,
     "metadata": {},
     "output_type": "execute_result"
    }
   ],
   "source": [
    "#coding=utf-8\n",
    "#http://www.cnblogs.com/EvileOn/p/5517235.html\n",
    "import requests\n",
    "from bs4 import BeautifulSoup as bs\n",
    "\n",
    "s = requests.Session()\n",
    "r = s.get('http://star.sse.com.cn/#/STAR/login')\n",
    "soup = bs(r.content,'lxml')\n",
    "soup"
   ]
  },
  {
   "cell_type": "code",
   "execution_count": 4,
   "metadata": {
    "collapsed": false
   },
   "outputs": [
    {
     "data": {
      "text/plain": [
       "<html><body><p>{\"message\":\"Hello there, wayfaring stranger. If youâre reading this then you probably didnât see our blog post a couple of years back announcing that this API would go away: http://git.io/17AROg Fear not, you should be able to get what you need from the shiny new Events API instead.\",\"documentation_url\":\"https://developer.github.com/v3/activity/events/#list-public-events\"}</p></body></html>"
      ]
     },
     "execution_count": 4,
     "metadata": {},
     "output_type": "execute_result"
    }
   ],
   "source": [
    "from bs4 import BeautifulSoup as bs\n",
    "res = requests.get(\"https://github.com/timeline.json\")\n",
    "soup=bs(res.content,'lxml')\n",
    "soup"
   ]
  },
  {
   "cell_type": "code",
   "execution_count": 5,
   "metadata": {
    "collapsed": true
   },
   "outputs": [
    {
     "data": {
      "text/plain": [
       "<html><body><p>{\n",
       "  \"args\": {}, \n",
       "  \"data\": \"\", \n",
       "  \"files\": {}, \n",
       "  \"form\": {}, \n",
       "  \"headers\": {\n",
       "    \"Accept\": \"*/*\", \n",
       "    \"Accept-Encoding\": \"gzip, deflate\", \n",
       "    \"Connection\": \"close\", \n",
       "    \"Content-Length\": \"0\", \n",
       "    \"Host\": \"httpbin.org\", \n",
       "    \"User-Agent\": \"python-requests/2.12.4\"\n",
       "  }, \n",
       "  \"json\": null, \n",
       "  \"origin\": \"202.114.9.72\", \n",
       "  \"url\": \"http://httpbin.org/post\"\n",
       "}\n",
       "</p></body></html>"
      ]
     },
     "execution_count": 5,
     "metadata": {},
     "output_type": "execute_result"
    }
   ],
   "source": [
    "res = requests.post(\"http://httpbin.org/post\")\n",
    "soup=bs(res.content,'lxml')\n",
    "soup"
   ]
  },
  {
   "cell_type": "code",
   "execution_count": 17,
   "metadata": {
    "collapsed": true
   },
   "outputs": [
    {
     "data": {
      "text/plain": [
       "'{\\n  \"args\": {}, \\n  \"data\": \"\", \\n  \"files\": {}, \\n  \"form\": {\\n    \"key\": \"value1\", \\n    \"key2\": \"value2\"\\n  }, \\n  \"headers\": {\\n    \"Accept\": \"*/*\", \\n    \"Accept-Encoding\": \"gzip, deflate\", \\n    \"Connection\": \"close\", \\n    \"Content-Length\": \"22\", \\n    \"Content-Type\": \"application/x-www-form-urlencoded\", \\n    \"Host\": \"httpbin.org\", \\n    \"User-Agent\": \"python-requests/2.12.4\"\\n  }, \\n  \"json\": null, \\n  \"origin\": \"202.114.9.72\", \\n  \"url\": \"http://httpbin.org/post\"\\n}\\n'"
      ]
     },
     "execution_count": 17,
     "metadata": {},
     "output_type": "execute_result"
    }
   ],
   "source": [
    "#post请求参数如下\n",
    "payload={'key':'value1','key2':'value2'}\n",
    "url='http://httpbin.org/post'\n",
    "res=requests.post(url,data=payload)\n",
    "res.text"
   ]
  },
  {
   "cell_type": "code",
   "execution_count": 18,
   "metadata": {
    "collapsed": true
   },
   "outputs": [
    {
     "name": "stdout",
     "output_type": "stream",
     "text": [
      "{\n",
      "  \"args\": {}, \n",
      "  \"data\": \"\", \n",
      "  \"files\": {}, \n",
      "  \"form\": {\n",
      "    \"key\": \"value1\", \n",
      "    \"key2\": \"value2\"\n",
      "  }, \n",
      "  \"headers\": {\n",
      "    \"Accept\": \"*/*\", \n",
      "    \"Accept-Encoding\": \"gzip, deflate\", \n",
      "    \"Connection\": \"close\", \n",
      "    \"Content-Length\": \"22\", \n",
      "    \"Content-Type\": \"application/x-www-form-urlencoded\", \n",
      "    \"Host\": \"httpbin.org\", \n",
      "    \"User-Agent\": \"python-requests/2.12.4\"\n",
      "  }, \n",
      "  \"json\": null, \n",
      "  \"origin\": \"202.114.9.72\", \n",
      "  \"url\": \"http://httpbin.org/post\"\n",
      "}\n",
      "\n"
     ]
    }
   ],
   "source": [
    "print(res.text)"
   ]
  },
  {
   "cell_type": "code",
   "execution_count": 6,
   "metadata": {
    "collapsed": true
   },
   "outputs": [
    {
     "data": {
      "text/plain": [
       "<html><body><p>{\n",
       "  \"args\": {}, \n",
       "  \"data\": \"\", \n",
       "  \"files\": {}, \n",
       "  \"form\": {}, \n",
       "  \"headers\": {\n",
       "    \"Accept\": \"*/*\", \n",
       "    \"Accept-Encoding\": \"gzip, deflate\", \n",
       "    \"Connection\": \"close\", \n",
       "    \"Content-Length\": \"0\", \n",
       "    \"Host\": \"httpbin.org\", \n",
       "    \"User-Agent\": \"python-requests/2.12.4\"\n",
       "  }, \n",
       "  \"json\": null, \n",
       "  \"origin\": \"202.114.9.72\", \n",
       "  \"url\": \"http://httpbin.org/put\"\n",
       "}\n",
       "</p></body></html>"
      ]
     },
     "execution_count": 6,
     "metadata": {},
     "output_type": "execute_result"
    }
   ],
   "source": [
    "res = requests.put(\"http://httpbin.org/put\")\n",
    "soup=bs(res.content,'lxml')\n",
    "soup"
   ]
  },
  {
   "cell_type": "code",
   "execution_count": 10,
   "metadata": {
    "collapsed": false
   },
   "outputs": [
    {
     "data": {
      "text/plain": []
     },
     "execution_count": 10,
     "metadata": {},
     "output_type": "execute_result"
    }
   ],
   "source": [
    "res = requests.head(\"http://httpbin.org/get\") \n",
    "soup=bs(res.content,'lxml')\n",
    "soup"
   ]
  },
  {
   "cell_type": "code",
   "execution_count": 12,
   "metadata": {
    "collapsed": false
   },
   "outputs": [
    {
     "data": {
      "text/plain": []
     },
     "execution_count": 12,
     "metadata": {},
     "output_type": "execute_result"
    }
   ],
   "source": [
    "res = requests.options(\"http://httpbin.org/get\")\n",
    "soup=bs(res.content,'lxml')\n",
    "soup"
   ]
  },
  {
   "cell_type": "markdown",
   "metadata": {},
   "source": [
    "* 使用res.encoding来查询编码，或者定制自己需要的编码"
   ]
  },
  {
   "cell_type": "code",
   "execution_count": 13,
   "metadata": {
    "collapsed": false
   },
   "outputs": [
    {
     "data": {
      "text/plain": [
       "'utf-8'"
      ]
     },
     "execution_count": 13,
     "metadata": {},
     "output_type": "execute_result"
    }
   ],
   "source": [
    "res.encoding"
   ]
  },
  {
   "cell_type": "code",
   "execution_count": null,
   "metadata": {
    "collapsed": true
   },
   "outputs": [],
   "source": [
    "res.encoding='gbk2312'"
   ]
  },
  {
   "cell_type": "code",
   "execution_count": 19,
   "metadata": {
    "collapsed": true
   },
   "outputs": [
    {
     "name": "stdout",
     "output_type": "stream",
     "text": [
      "Help on class Session in module requests.sessions:\n",
      "\n",
      "class Session(SessionRedirectMixin)\n",
      " |  A Requests session.\n",
      " |  \n",
      " |  Provides cookie persistence, connection-pooling, and configuration.\n",
      " |  \n",
      " |  Basic Usage::\n",
      " |  \n",
      " |    >>> import requests\n",
      " |    >>> s = requests.Session()\n",
      " |    >>> s.get('http://httpbin.org/get')\n",
      " |    <Response [200]>\n",
      " |  \n",
      " |  Or as a context manager::\n",
      " |  \n",
      " |    >>> with requests.Session() as s:\n",
      " |    >>>     s.get('http://httpbin.org/get')\n",
      " |    <Response [200]>\n",
      " |  \n",
      " |  Method resolution order:\n",
      " |      Session\n",
      " |      SessionRedirectMixin\n",
      " |      builtins.object\n",
      " |  \n",
      " |  Methods defined here:\n",
      " |  \n",
      " |  __enter__(self)\n",
      " |  \n",
      " |  __exit__(self, *args)\n",
      " |  \n",
      " |  __getstate__(self)\n",
      " |  \n",
      " |  __init__(self)\n",
      " |      Initialize self.  See help(type(self)) for accurate signature.\n",
      " |  \n",
      " |  __setstate__(self, state)\n",
      " |  \n",
      " |  close(self)\n",
      " |      Closes all adapters and as such the session\n",
      " |  \n",
      " |  delete(self, url, **kwargs)\n",
      " |      Sends a DELETE request. Returns :class:`Response` object.\n",
      " |      \n",
      " |      :param url: URL for the new :class:`Request` object.\n",
      " |      :param \\*\\*kwargs: Optional arguments that ``request`` takes.\n",
      " |      :rtype: requests.Response\n",
      " |  \n",
      " |  get(self, url, **kwargs)\n",
      " |      Sends a GET request. Returns :class:`Response` object.\n",
      " |      \n",
      " |      :param url: URL for the new :class:`Request` object.\n",
      " |      :param \\*\\*kwargs: Optional arguments that ``request`` takes.\n",
      " |      :rtype: requests.Response\n",
      " |  \n",
      " |  get_adapter(self, url)\n",
      " |      Returns the appropriate connection adapter for the given URL.\n",
      " |      \n",
      " |      :rtype: requests.adapters.BaseAdapter\n",
      " |  \n",
      " |  head(self, url, **kwargs)\n",
      " |      Sends a HEAD request. Returns :class:`Response` object.\n",
      " |      \n",
      " |      :param url: URL for the new :class:`Request` object.\n",
      " |      :param \\*\\*kwargs: Optional arguments that ``request`` takes.\n",
      " |      :rtype: requests.Response\n",
      " |  \n",
      " |  merge_environment_settings(self, url, proxies, stream, verify, cert)\n",
      " |      Check the environment and merge it with some settings.\n",
      " |      \n",
      " |      :rtype: dict\n",
      " |  \n",
      " |  mount(self, prefix, adapter)\n",
      " |      Registers a connection adapter to a prefix.\n",
      " |      \n",
      " |      Adapters are sorted in descending order by key length.\n",
      " |  \n",
      " |  options(self, url, **kwargs)\n",
      " |      Sends a OPTIONS request. Returns :class:`Response` object.\n",
      " |      \n",
      " |      :param url: URL for the new :class:`Request` object.\n",
      " |      :param \\*\\*kwargs: Optional arguments that ``request`` takes.\n",
      " |      :rtype: requests.Response\n",
      " |  \n",
      " |  patch(self, url, data=None, **kwargs)\n",
      " |      Sends a PATCH request. Returns :class:`Response` object.\n",
      " |      \n",
      " |      :param url: URL for the new :class:`Request` object.\n",
      " |      :param data: (optional) Dictionary, bytes, or file-like object to send in the body of the :class:`Request`.\n",
      " |      :param \\*\\*kwargs: Optional arguments that ``request`` takes.\n",
      " |      :rtype: requests.Response\n",
      " |  \n",
      " |  post(self, url, data=None, json=None, **kwargs)\n",
      " |      Sends a POST request. Returns :class:`Response` object.\n",
      " |      \n",
      " |      :param url: URL for the new :class:`Request` object.\n",
      " |      :param data: (optional) Dictionary, bytes, or file-like object to send in the body of the :class:`Request`.\n",
      " |      :param json: (optional) json to send in the body of the :class:`Request`.\n",
      " |      :param \\*\\*kwargs: Optional arguments that ``request`` takes.\n",
      " |      :rtype: requests.Response\n",
      " |  \n",
      " |  prepare_request(self, request)\n",
      " |      Constructs a :class:`PreparedRequest <PreparedRequest>` for\n",
      " |      transmission and returns it. The :class:`PreparedRequest` has settings\n",
      " |      merged from the :class:`Request <Request>` instance and those of the\n",
      " |      :class:`Session`.\n",
      " |      \n",
      " |      :param request: :class:`Request` instance to prepare with this\n",
      " |          session's settings.\n",
      " |      :rtype: requests.PreparedRequest\n",
      " |  \n",
      " |  put(self, url, data=None, **kwargs)\n",
      " |      Sends a PUT request. Returns :class:`Response` object.\n",
      " |      \n",
      " |      :param url: URL for the new :class:`Request` object.\n",
      " |      :param data: (optional) Dictionary, bytes, or file-like object to send in the body of the :class:`Request`.\n",
      " |      :param \\*\\*kwargs: Optional arguments that ``request`` takes.\n",
      " |      :rtype: requests.Response\n",
      " |  \n",
      " |  request(self, method, url, params=None, data=None, headers=None, cookies=None, files=None, auth=None, timeout=None, allow_redirects=True, proxies=None, hooks=None, stream=None, verify=None, cert=None, json=None)\n",
      " |      Constructs a :class:`Request <Request>`, prepares it and sends it.\n",
      " |      Returns :class:`Response <Response>` object.\n",
      " |      \n",
      " |      :param method: method for the new :class:`Request` object.\n",
      " |      :param url: URL for the new :class:`Request` object.\n",
      " |      :param params: (optional) Dictionary or bytes to be sent in the query\n",
      " |          string for the :class:`Request`.\n",
      " |      :param data: (optional) Dictionary, bytes, or file-like object to send\n",
      " |          in the body of the :class:`Request`.\n",
      " |      :param json: (optional) json to send in the body of the\n",
      " |          :class:`Request`.\n",
      " |      :param headers: (optional) Dictionary of HTTP Headers to send with the\n",
      " |          :class:`Request`.\n",
      " |      :param cookies: (optional) Dict or CookieJar object to send with the\n",
      " |          :class:`Request`.\n",
      " |      :param files: (optional) Dictionary of ``'filename': file-like-objects``\n",
      " |          for multipart encoding upload.\n",
      " |      :param auth: (optional) Auth tuple or callable to enable\n",
      " |          Basic/Digest/Custom HTTP Auth.\n",
      " |      :param timeout: (optional) How long to wait for the server to send\n",
      " |          data before giving up, as a float, or a :ref:`(connect timeout,\n",
      " |          read timeout) <timeouts>` tuple.\n",
      " |      :type timeout: float or tuple\n",
      " |      :param allow_redirects: (optional) Set to True by default.\n",
      " |      :type allow_redirects: bool\n",
      " |      :param proxies: (optional) Dictionary mapping protocol or protocol and\n",
      " |          hostname to the URL of the proxy.\n",
      " |      :param stream: (optional) whether to immediately download the response\n",
      " |          content. Defaults to ``False``.\n",
      " |      :param verify: (optional) whether the SSL cert will be verified.\n",
      " |          A CA_BUNDLE path can also be provided. Defaults to ``True``.\n",
      " |      :param cert: (optional) if String, path to ssl client cert file (.pem).\n",
      " |          If Tuple, ('cert', 'key') pair.\n",
      " |      :rtype: requests.Response\n",
      " |  \n",
      " |  send(self, request, **kwargs)\n",
      " |      Send a given PreparedRequest.\n",
      " |      \n",
      " |      :rtype: requests.Response\n",
      " |  \n",
      " |  ----------------------------------------------------------------------\n",
      " |  Data and other attributes defined here:\n",
      " |  \n",
      " |  __attrs__ = ['headers', 'cookies', 'auth', 'proxies', 'hooks', 'params...\n",
      " |  \n",
      " |  ----------------------------------------------------------------------\n",
      " |  Methods inherited from SessionRedirectMixin:\n",
      " |  \n",
      " |  rebuild_auth(self, prepared_request, response)\n",
      " |      When being redirected we may want to strip authentication from the\n",
      " |      request to avoid leaking credentials. This method intelligently removes\n",
      " |      and reapplies authentication where possible to avoid credential loss.\n",
      " |  \n",
      " |  rebuild_method(self, prepared_request, response)\n",
      " |      When being redirected we may want to change the method of the request\n",
      " |      based on certain specs or browser behavior.\n",
      " |  \n",
      " |  rebuild_proxies(self, prepared_request, proxies)\n",
      " |      This method re-evaluates the proxy configuration by considering the\n",
      " |      environment variables. If we are redirected to a URL covered by\n",
      " |      NO_PROXY, we strip the proxy configuration. Otherwise, we set missing\n",
      " |      proxy keys for this URL (in case they were stripped by a previous\n",
      " |      redirect).\n",
      " |      \n",
      " |      This method also replaces the Proxy-Authorization header where\n",
      " |      necessary.\n",
      " |      \n",
      " |      :rtype: dict\n",
      " |  \n",
      " |  resolve_redirects(self, resp, req, stream=False, timeout=None, verify=True, cert=None, proxies=None, **adapter_kwargs)\n",
      " |      Receives a Response. Returns a generator of Responses.\n",
      " |  \n",
      " |  ----------------------------------------------------------------------\n",
      " |  Data descriptors inherited from SessionRedirectMixin:\n",
      " |  \n",
      " |  __dict__\n",
      " |      dictionary for instance variables (if defined)\n",
      " |  \n",
      " |  __weakref__\n",
      " |      list of weak references to the object (if defined)\n",
      "\n"
     ]
    }
   ],
   "source": [
    "help(requests.Session)"
   ]
  },
  {
   "cell_type": "code",
   "execution_count": 37,
   "metadata": {
    "collapsed": true
   },
   "outputs": [
    {
     "name": "stdout",
     "output_type": "stream",
     "text": [
      "<input id=\"q\" maxlength=\"40\" name=\"q\" type=\"text\" value=\"\"/>\n",
      "{'u': '***', 'p': '***', 'once': '50970', 'next': '/'}\n",
      "b'<!DOCTYPE html PUBLIC \"-//W3C//DTD XHTML 1.0 Transitional//EN\" \"http://www.w3.org/TR/xhtml1/DTD/xhtml1-transitional.dtd\">\\n<html lang=\"zh-CN\">\\n<head>\\n\\t<meta name=\"Content-Type\" content=\"text/html;charset=utf-8\" />\\n    <meta name=\"Referrer\" content=\"unsafe-url\" />\\n\\t<meta content=\"True\" name=\"HandheldFriendly\" />\\n    <meta name=\"theme-color\" content=\"#333344\" />\\n\\t\\n    <meta name=\"detectify-verification\" content=\"d0264f228155c7a1f72c3d91c17ce8fb\" />\\r\\n<meta name=\"alexaVerifyID\" content=\"OFc8dmwZo7ttU4UCnDh1rKDtLlY\" />\\r\\n<meta name=\"baidu-site-verification\" content=\"D00WizvYyr\" />\\r\\n<meta name=\"msvalidate.01\" content=\"D9B08FEA08E3DA402BF07ABAB61D77DE\" />\\r\\n<meta property=\"wb:webmaster\" content=\"f2f4cb229bda06a4\" />\\r\\n<meta name=\"google-site-verification\" content=\"LM_cJR94XJIqcYJeOCscGVMWdaRUvmyz6cVOqkFplaU\" />\\n    \\n    <title>V2EX \\xe2\\x80\\xba \\xe7\\x99\\xbb\\xe5\\xbd\\x95</title>\\n    <link rel=\"dns-prefetch\" href=\"//static.v2ex.com\" />\\n    <link rel=\"dns-prefetch\" href=\"//cdn.v2ex.com\" />\\n    <link rel=\"dns-prefetch\" href=\"//cdn.v2ex.co\" />\\n    <link rel=\"dns-prefetch\" href=\"//i.v2ex.co\" />\\n    \\n\\t   <link rel=\"stylesheet\" type=\"text/css\" media=\"screen\" href=\"/css/basic.css?v=3.9.7.5\" />\\n    \\n    <link rel=\"stylesheet\" type=\"text/css\" media=\"screen\" href=\"/static/css/style.css?v=416609f46253c81f1226585249e3d16f\" />\\n    <link rel=\"stylesheet\" type=\"text/css\" media=\"screen\" href=\"/css/desktop.css?v=3.9.7.5\" />\\n    <link rel=\"stylesheet\" href=\"//v2ex.assets.uxengine.net/js/highlight/styles/tomorrow.css\" type=\"text/css\" />\\n    <script type=\"text/javascript\" src=\"//v2ex.assets.uxengine.net/js/highlight/highlight.pack.js\"></script>\\n    <link rel=\"icon\" sizes=\"192x192\" href=\"/static/img/v2ex_192.png\" />\\n    <link rel=\"shortcut icon\" href=\"/static/img/icon_rayps_64.png\" type=\"image/png\" />\\n    <link rel=\"stylesheet\" type=\"text/css\" href=\"/static/css/font-awesome.min.css?v=295235b28b6e649d99539a9d32b95d30\" />\\n\\t<script src=\"/static/js/jquery.js?v=8fc25e27d42774aeae6edbc0a18b72aa\" type=\"text/javascript\"></script>\\n\\t<script src=\"/static/js/jquery-ui.js?v=ba23883b51f5f372d28755e199785526\" type=\"text/javascript\"></script>\\n\\t<script src=\"//v2ex.assets.uxengine.net/static/js/jquery.autosize.js?v=1.18.9\" type=\"text/javascript\"></script>\\n    <link href=\"/static/css/jquery.textcomplete.css?v=5a041d39010ded8724744170cea6ce8d\" rel=\"stylesheet\" />\\n    <script src=\"/static/js/lscache.min.js?v=bf403ab76d287d394375662defac76c3\" type=\"text/javascript\"></script>\\n    <script src=\"/static/js/v2ex.js?v=8e2fbd5feb7e8b2947dcf699bef72ff7\" type=\"text/javascript\"></script>\\n    <link href=\"/static/js/select2/select2.css?v=2621fe97ae1aabca8661d60000147412\" rel=\"stylesheet\" />\\n    <script src=\"/static/js/select2/select2.min.js?v=3225a95b13ab51f570e2544751ee8320\" type=\"text/javascript\"></script>\\n    <link href=\"/static/js/selectboxit/selectboxit.css?v=5dc55d3860ef80ef1875d6800a5fbfa3\" rel=\"stylesheet\" >\\n    <script src=\"/static/js/selectboxit/selectboxit.min.js?v=379ece65af74a99ef6cd7ca21f8beb6e\" type=\"text/javascript\"></script>\\n    <meta name=\"description\" content=\"\" />\\n    \\n    \\n    \\n<link rel=\"stylesheet\" href=\"/static/css/zocial.css\" type=\"text/css\" />\\n<script>\\n\\t$(function(){\\n\\t\\tprotectTraffic();\\n\\t});\\n</script>\\n\\n</head>\\n<body>\\n    <div id=\"Top\">\\n        <div class=\"content\">\\n            <div style=\"padding-top: 6px;\">\\n            <table cellpadding=\"0\" cellspacing=\"0\" border=\"0\" width=\"100%\">\\n                <tr>\\n                    <td width=\"110\" align=\"left\"><a href=\"/\" name=\"top\" title=\"way to explore\"><img src=\"//v2ex.assets.uxengine.net/site/logo@2x.png?m=1346064962\" border=\"0\" align=\"default\" alt=\"V2EX\" width=\"94\" height=\"30\" /></a></td>\\n                    <td width=\"auto\" align=\"left\">\\n                        <div id=\"Search\"><form action=\"https://www.google.com\" onsubmit=\"return dispatch()\" target=\"_blank\"><div style=\"width: 276px; height: 28px; background-size: 276px 28px; background-image: url(\\'/static/img/qbar_light@2x.png\\'); background-repeat: no-repeat; display: inline-block;\"><input type=\"text\" maxlength=\"40\" name=\"q\" id=\"q\" value=\"\" /></div></form></div>\\n                    </td>\\n                    <td width=\"570\" align=\"right\" style=\"padding-top: 2px;\"><a href=\"/\" class=\"top\">\\xe9\\xa6\\x96\\xe9\\xa1\\xb5</a>&nbsp;&nbsp;&nbsp;<a href=\"/signup\" class=\"top\">\\xe6\\xb3\\xa8\\xe5\\x86\\x8c</a>&nbsp;&nbsp;&nbsp;<a href=\"/signin\" class=\"top\">\\xe7\\x99\\xbb\\xe5\\xbd\\x95</a></td>\\n                </tr>\\n            </table>\\n            </div>\\n        </div>\\n    </div>\\n    <div id=\"Wrapper\">\\n        <div class=\"content\">\\n            \\n            <div id=\"Leftbar\"></div>\\n            <div id=\"Rightbar\">\\n                <div class=\"sep20\"></div>\\n                \\n<div class=\"box\">\\n<div class=\"header\">\\xe5\\x85\\xb6\\xe4\\xbb\\x96\\xe7\\x99\\xbb\\xe5\\xbd\\x95\\xe6\\x96\\xb9\\xe5\\xbc\\x8f</div>\\n<div class=\"cell\" style=\"text-align: center;\">\\n<a onclick=\"location.href = \\'/auth/google?once=18910\\';\" href=\"#\" class=\"google-signin\"></a>\\n</div>\\n</div>\\n\\n            </div>\\n            <div id=\"Main\">\\n                <div class=\"sep20\"></div>\\n                \\n<div class=\"box\">\\n    <div class=\"header\"><a href=\"/\">V2EX</a> <span class=\"chevron\">&nbsp;\\xe2\\x80\\xba&nbsp;</span> \\xe7\\x99\\xbb\\xe5\\xbd\\x95 &nbsp;<li class=\"fa fa-lock\"></li></div>\\n    \\n    <div class=\"message\" onclick=\"$(this).slideUp(\\'fast\\');\">\\xe4\\xbd\\xa0\\xe8\\xa6\\x81\\xe6\\x9f\\xa5\\xe7\\x9c\\x8b\\xe7\\x9a\\x84\\xe9\\xa1\\xb5\\xe9\\x9d\\xa2\\xe9\\x9c\\x80\\xe8\\xa6\\x81\\xe5\\x85\\x88\\xe7\\x99\\xbb\\xe5\\xbd\\x95</div>\\n    <div class=\"cell\">\\n        <form method=\"post\" action=\"/signin\">\\n        <table cellpadding=\"5\" cellspacing=\"0\" border=\"0\" width=\"100%\">\\n            <tr>\\n                <td width=\"120\" align=\"right\">\\xe7\\x94\\xa8\\xe6\\x88\\xb7\\xe5\\x90\\x8d</td>\\n                <td width=\"auto\" align=\"left\"><input type=\"text\" class=\"sl\" name=\"7ebcc7c769842fcac8dada9f306b3cbf80fc168efb5fb3b9cf2b09489679cfc0\" value=\"\" autofocus=\"autofocus\" autocorrect=\"off\" spellcheck=\"false\" autocapitalize=\"off\" placeholder=\"\\xe7\\x94\\xa8\\xe6\\x88\\xb7\\xe5\\x90\\x8d\\xe6\\x88\\x96\\xe7\\x94\\xb5\\xe5\\xad\\x90\\xe9\\x82\\xae\\xe7\\xae\\xb1\\xe5\\x9c\\xb0\\xe5\\x9d\\x80\" /></td>\\n            </tr>\\n            <tr>\\n                <td width=\"120\" align=\"right\">\\xe5\\xaf\\x86\\xe7\\xa0\\x81</td>\\n                <td width=\"auto\" align=\"left\"><input type=\"password\" class=\"sl\" name=\"5a619d4590ea4824dddcf82c01cf4d0757d4a41ec1abc34f9d892a0484b244a9\" value=\"\" autocorrect=\"off\" spellcheck=\"false\" autocapitalize=\"off\" /></td>\\n            </tr>\\n            <tr>\\n                <td width=\"120\" align=\"right\"></td>\\n                <td width=\"auto\" align=\"left\"><input type=\"hidden\" value=\"18910\" name=\"once\" /><input type=\"submit\" class=\"super normal button\" value=\"\\xe7\\x99\\xbb\\xe5\\xbd\\x95\" /></td>\\n            </tr>\\n            <tr>\\n                <td width=\"120\" align=\"right\"></td>\\n                <td width=\"auto\" align=\"left\"><a href=\"/forgot\">\\xe6\\x88\\x91\\xe5\\xbf\\x98\\xe8\\xae\\xb0\\xe5\\xaf\\x86\\xe7\\xa0\\x81\\xe4\\xba\\x86</a></td>\\n            </tr>\\n        </table>\\n        \\n        <input type=\"hidden\" value=\"/settings\" name=\"next\" />\\n        \\n        </form>\\n    </div>\\n    \\n</div>\\n\\n            </div>\\n            \\n            \\n        </div>\\n        <div class=\"c\"></div>\\n        <div class=\"sep20\"></div>\\n    </div>\\n    <div id=\"Bottom\">\\n        <div class=\"content\">\\n            <div class=\"inner\">\\n                <div class=\"sep10\"></div>\\n                    <div class=\"fr\">\\n                        <a href=\"https://www.digitalocean.com/?refcode=1b51f1a7651d\" target=\"_blank\"><img src=\"//v2ex.assets.uxengine.net/assets/logos/do_blue.png\" width=\"60\" border=\"0\" alt=\"DigitalOcean\" /></a>\\n                    </div>\\n                    <strong><a href=\"/about\" class=\"dark\" target=\"_self\">\\xe5\\x85\\xb3\\xe4\\xba\\x8e</a> &nbsp; <span class=\"snow\">\\xc2\\xb7</span> &nbsp; <a href=\"/faq\" class=\"dark\" target=\"_self\">FAQ</a> &nbsp; <span class=\"snow\">\\xc2\\xb7</span> &nbsp; <a href=\"/p/7v9TEc53\" class=\"dark\" target=\"_self\">API</a> &nbsp; <span class=\"snow\">\\xc2\\xb7</span> &nbsp; <a href=\"/mission\" class=\"dark\" target=\"_self\">\\xe6\\x88\\x91\\xe4\\xbb\\xac\\xe7\\x9a\\x84\\xe6\\x84\\xbf\\xe6\\x99\\xaf</a> &nbsp; <span class=\"snow\">\\xc2\\xb7</span> &nbsp; <a href=\"/advertise\" class=\"dark\" target=\"_self\">\\xe5\\xb9\\xbf\\xe5\\x91\\x8a\\xe6\\x8a\\x95\\xe6\\x94\\xbe</a> &nbsp; <span class=\"snow\">\\xc2\\xb7</span> &nbsp; <a href=\"/advertise/2016.html\" class=\"dark\" target=\"_self\">\\xe9\\xb8\\xa3\\xe8\\xb0\\xa2</a> &nbsp; <span class=\"snow\">\\xc2\\xb7</span> &nbsp; 1961 \\xe4\\xba\\xba\\xe5\\x9c\\xa8\\xe7\\xba\\xbf</strong> &nbsp; <span class=\"fade\">\\xe6\\x9c\\x80\\xe9\\xab\\x98\\xe8\\xae\\xb0\\xe5\\xbd\\x95 2466</span> &nbsp; <span class=\"snow\">\\xc2\\xb7</span> &nbsp; <a href=\"/select/language\"><img src=\"/static/img/lang_zhcn_32.png\" align=\"absmiddle\" border=\"0\" width=\"20\" alt=\"\" /></a>\\n                    <div class=\"sep20\"></div>\\n                    \\xe5\\x88\\x9b\\xe6\\x84\\x8f\\xe5\\xb7\\xa5\\xe4\\xbd\\x9c\\xe8\\x80\\x85\\xe4\\xbb\\xac\\xe7\\x9a\\x84\\xe7\\xa4\\xbe\\xe5\\x8c\\xba\\n                    <div class=\"sep5\"></div>\\n                    World is powered by solitude\\n                    <div class=\"sep20\"></div>\\n                    <span class=\"small fade\">VERSION: 3.9.7.5 \\xc2\\xb7 10ms \\xc2\\xb7 UTC 04:10 \\xc2\\xb7 PVG 12:10 \\xc2\\xb7 LAX 21:10 \\xc2\\xb7 JFK 00:10<br />\\xe2\\x99\\xa5 Do have faith in what you\\'re doing.</span>\\n                    <div class=\"sep20\"></div>\\n                    <span class=\"f12 gray\"><a href=\"http://www.miibeian.gov.cn/\" target=\"_blank\" rel=\"nofollow\">\\xe6\\xb2\\xaaICP\\xe5\\xa4\\x8716043287\\xe5\\x8f\\xb7-1</a></span>\\n                <div class=\"sep10\"></div>\\n            </div>\\n        </div>\\n    </div>\\n    \\n\\n    \\n\\n    \\n\\n    \\n\\t<script>\\n\\t  (function(i,s,o,g,r,a,m){i[\\'GoogleAnalyticsObject\\']=r;i[r]=i[r]||function(){\\n\\t  (i[r].q=i[r].q||[]).push(arguments)},i[r].l=1*new Date();a=s.createElement(o),\\n\\t  m=s.getElementsByTagName(o)[0];a.async=1;a.src=g;m.parentNode.insertBefore(a,m)\\n\\t  })(window,document,\\'script\\',\\'//www.google-analytics.com/analytics.js\\',\\'ga\\');\\n\\n\\t  ga(\\'create\\', \\'UA-11940834-2\\', \\'v2ex.com\\');\\n\\t  ga(\\'send\\', \\'pageview\\');\\n\\n\\t</script>\\n    \\n\\n    <script src=\"/static/js/jquery.textcomplete.min.js?v=43bfb325d9b6b784e680aa9eaef91925\" type=\"text/javascript\"></script>\\n    \\n</body>\\n</html>'\n"
     ]
    }
   ],
   "source": [
    "import requests\n",
    "from bs4 import BeautifulSoup as bs\n",
    "\n",
    "s = requests.Session()\n",
    "headers = {\n",
    "    'User-Agent': 'Mozilla/5.0 (Windows NT 6.3; WOW64) AppleWebKit/537.36 (KHTML, like Gecko) Chrome/39.0.2171.95 Safari/537.36',\n",
    "    'Origin': 'http://www.v2ex.com',\n",
    "    'Referer': 'http://www.v2ex.com/signin',\n",
    "    'Host': 'www.v2ex.com',\n",
    "}\n",
    "r = s.get('http://www.v2ex.com/signin', headers=headers)\n",
    "soup = bs(r.content,'lxml')\n",
    "once = soup.find('input', {'name': 'once'})['value']\n",
    "once1=soup.find('input')\n",
    "print(once1)\n",
    "login_data = {'u': '***', 'p': '***', 'once': once, 'next': '/'}\n",
    "print(login_data)\n",
    "s.post('http://www.v2ex.com/signin', login_data, headers=headers)\n",
    "\n",
    "f = s.get('http://www.v2ex.com/settings', headers=headers)\n",
    "print (f.content)"
   ]
  },
  {
   "cell_type": "code",
   "execution_count": 39,
   "metadata": {
    "collapsed": true
   },
   "outputs": [
    {
     "name": "stdout",
     "output_type": "stream",
     "text": [
      "b'<!DOCTYPE html PUBLIC \"-//W3C//DTD XHTML 1.0 Transitional//EN\" \"http://www.w3.org/TR/xhtml1/DTD/xhtml1-transitional.dtd\">\\r\\n<html xmlns=\"http://www.w3.org/1999/xhtml\">\\r\\n<head>\\r\\n<meta http-equiv=\"Content-Type\" content=\"text/html; charset=gbk\" />\\r\\n<title>\\xbe\\xad\\xbc\\xc3\\xd1\\xa7\\xbc\\xd2</title>\\r\\n\\r\\n<meta name=\"keywords\" content=\"\\xbe\\xad\\xbc\\xc3\\xd1\\xa7\\xbc\\xd2,\\xbe\\xad\\xbc\\xc3,\\xbe\\xad\\xbc\\xc3\\xd1\\xa7\" />\\r\\n<meta name=\"description\" content=\"\\xbe\\xad\\xbc\\xc3\\xd1\\xa7\\xbc\\xd2\\xc2\\xdb\\xcc\\xb3\\xca\\xc7\\xd6\\xd0\\xb9\\xfa\\xd7\\xee\\xb4\\xf3\\xb5\\xc4\\xbe\\xad\\xbc\\xc3\\xd1\\xa7\\xd1\\xa7\\xca\\xf5\\xc2\\xdb\\xcc\\xb3\\xa1\\xa3 \" />\\r\\n<meta name=\"generator\" content=\"Discuz! X3.1\" />\\r\\n<meta name=\"author\" content=\"Discuz! Team and Comsenz UI Team\" />\\r\\n<meta name=\"copyright\" content=\"2001-2013 Comsenz Inc.\" />\\r\\n<meta name=\"MSSmartTagsPreventParsing\" content=\"True\" />\\r\\n<meta http-equiv=\"MSThemeCompatible\" content=\"Yes\" />\\r\\n<meta name=\"Baiduspider\" content=\"index,noarchive\">\\r\\n<meta name=\"360Spider\" content=\"index,noarchive\">\\r\\n<meta name=\"haosouSpider\" content=\"index,noarchive\">\\r\\n<meta name=\"Sosospider\" content=\"index,noarchive\">\\r\\n<meta name=\"YisouSpider\" content=\"index,noarchive\">\\r\\n<meta name=\"Sogou+web+spider\" content=\"index,noarchive\">\\r\\n<meta name=\"EasouSpider\" content=\"index,noarchive\">\\r\\n<meta name=\"msnbot\" content=\"index,noarchive\">\\r\\n<meta name=\"robot\" content=\"index,noarchive\">\\r\\n<base href=\"http://bbs.jjxj.org/\" /><link rel=\"stylesheet\" type=\"text/css\" href=\"data/cache/style_1_common.css?gEm\" /><link rel=\"stylesheet\" type=\"text/css\" href=\"data/cache/style_1_forum_index.css?gEm\" /><link rel=\"stylesheet\" id=\"css_extstyle\" type=\"text/css\" href=\"./template/default/style/t5/style.css\" /><script type=\"text/javascript\">var STYLEID = \\'1\\', STATICURL = \\'static/\\', IMGDIR = \\'static/image/common\\', VERHASH = \\'gEm\\', charset = \\'gbk\\', discuz_uid = \\'0\\', cookiepre = \\'BVT2_48ae_\\', cookiedomain = \\'.jjxj.org\\', cookiepath = \\'/\\', showusercard = \\'1\\', attackevasive = \\'0\\', disallowfloat = \\'login|newthread\\', creditnotice = \\'1|\\xd1\\xa7\\xca\\xf5\\xcb\\xae\\xc6\\xbd|,2|\\xbd\\xf0\\xb1\\xd2|,3|\\xd2\\xf8\\xb1\\xd2|,4|\\xcf\\xc2\\xd4\\xd8\\xc1\\xf7\\xc1\\xbf|,5|\\xb9\\xb1\\xcf\\xd7\\xd6\\xb5|,6|\\xbd\\xf1\\xc8\\xd5\\xca\\xa3\\xd3\\xe0\\xcf\\xc2\\xd4\\xd8\\xc1\\xbf|,7|\\xc8\\xc8\\xd0\\xc4\\xd6\\xb8\\xca\\xfd|,8|\\xb5\\xe3\\xbb\\xf7\\xb9\\xb1\\xcf\\xd7|\\', defaultstyle = \\'./template/default/style/t5\\', REPORTURL = \\'aHR0cDovL2Jicy5qanhqLm9yZy8=\\', SITEURL = \\'http://bbs.jjxj.org/\\', JSPATH = \\'data/cache/\\', DYNAMICURL = \\'\\';</script>\\r\\n<script src=\"data/cache/common.js?gEm\" type=\"text/javascript\"></script>\\r\\n<meta name=\"Baiduspider\" content=\"index,noarchive\">\\r\\n<meta name=\"360Spider\" content=\"index,noarchive\">\\r\\n<meta name=\"haosouSpider\" content=\"index,noarchive\">\\r\\n<meta name=\"Sosospider\" content=\"index,noarchive\">\\r\\n<meta name=\"YisouSpider\" content=\"index,noarchive\">\\r\\n<meta name=\"Sogou+web+spider\" content=\"index,noarchive\">\\r\\n<meta name=\"EasouSpider\" content=\"index,noarchive\">\\r\\n<meta name=\"msnbot\" content=\"index,noarchive\">\\r\\n<meta name=\"robot\" content=\"index,noarchive\">\\r\\n<meta name=\"application-name\" content=\"\\xbe\\xad\\xbc\\xc3\\xd1\\xa7\\xbc\\xd2\" />\\r\\n<meta name=\"msapplication-tooltip\" content=\"\\xbe\\xad\\xbc\\xc3\\xd1\\xa7\\xbc\\xd2\" />\\r\\n<meta name=\"msapplication-task\" content=\"name=\\xc3\\xc5\\xbb\\xa7;action-uri=http://www.jjxj.org;icon-uri=http://bbs.jjxj.org/static/image/common/portal.ico\" /><meta name=\"msapplication-task\" content=\"name=\\xca\\xd7\\xd2\\xb3;action-uri=http://bbs.jjxj.org/forum.php;icon-uri=http://bbs.jjxj.org/static/image/common/bbs.ico\" />\\r\\n<meta name=\"msapplication-task\" content=\"name=\\xbc\\xd2\\xd4\\xb0;action-uri=http://bbs.jjxj.org/home.php;icon-uri=http://bbs.jjxj.org/static/image/common/home.ico\" /><script src=\"data/cache/forum.js?gEm\" type=\"text/javascript\"></script>\\r\\n</head>\\r\\n\\r\\n<body id=\"nv_forum\" class=\"pg_index\" onkeydown=\"if(event.keyCode==27) return false;\">\\r\\n<div id=\"append_parent\"></div><div id=\"ajaxwaitid\"></div>\\r\\n<div id=\"toptb\" class=\"cl\">\\r\\n<div class=\"wp\">\\r\\n<div class=\"z\"></div>\\r\\n<div class=\"y\">\\r\\n<a id=\"switchblind\" href=\"javascript:;\" onclick=\"toggleBlind(this)\" title=\"\\xbf\\xaa\\xc6\\xf4\\xb8\\xa8\\xd6\\xfa\\xb7\\xc3\\xce\\xca\" class=\"switchblind\">\\xbf\\xaa\\xc6\\xf4\\xb8\\xa8\\xd6\\xfa\\xb7\\xc3\\xce\\xca</a>\\r\\n<a href=\"javascript:;\" id=\"switchwidth\" onclick=\"widthauto(this)\" title=\"\\xc7\\xd0\\xbb\\xbb\\xb5\\xbd\\xbf\\xed\\xb0\\xe6\" class=\"switchwidth\">\\xc7\\xd0\\xbb\\xbb\\xb5\\xbd\\xbf\\xed\\xb0\\xe6</a>\\r\\n</div>\\r\\n</div>\\r\\n</div>\\r\\n\\r\\n<div id=\"qmenu_menu\" class=\"p_pop blk\" style=\"display: none;\">\\r\\n<div class=\"ptm pbw hm\">\\r\\n\\xc7\\xeb <a href=\"javascript:;\" class=\"xi2\" onclick=\"lsSubmit()\"><strong>\\xb5\\xc7\\xc2\\xbc</strong></a> \\xba\\xf3\\xca\\xb9\\xd3\\xc3\\xbf\\xec\\xbd\\xdd\\xb5\\xbc\\xba\\xbd<br />\\xc3\\xbb\\xd3\\xd0\\xd5\\xca\\xba\\xc5\\xa3\\xbf<a href=\"member.php?mod=register\" class=\"xi2 xw1\">\\xbf\\xec\\xcb\\xd9\\xd7\\xa2\\xb2\\xe1</a>\\r\\n</div>\\r\\n<div id=\"fjump_menu\" class=\"btda\"></div></div><div id=\"hd\">\\r\\n<div class=\"wp\">\\r\\n<div class=\"hdc cl\"><h2><a href=\"http://bbs.jjxj.org/\" title=\"\\xbe\\xad\\xbc\\xc3\\xd1\\xa7\\xbc\\xd2\"><img src=\"static/image/common/logo.png\" alt=\"\\xbe\\xad\\xbc\\xc3\\xd1\\xa7\\xbc\\xd2\" border=\"0\" /></a></h2><script src=\"data/cache/logging.js?gEm\" type=\"text/javascript\"></script>\\r\\n<form method=\"post\" autocomplete=\"off\" id=\"lsform\" action=\"member.php?mod=logging&amp;action=login&amp;loginsubmit=yes&amp;infloat=yes&amp;lssubmit=yes\" onsubmit=\"pwmd5(\\'ls_password\\');return lsSubmit();\">\\r\\n<div class=\"fastlg cl\">\\r\\n<span id=\"return_ls\" style=\"display:none\"></span>\\r\\n<div class=\"y pns\">\\r\\n<table cellspacing=\"0\" cellpadding=\"0\">\\r\\n<tr>\\r\\n<td><label for=\"ls_username\">\\xd5\\xca\\xba\\xc5</label></td>\\r\\n<td><input type=\"text\" name=\"username\" id=\"ls_username\" class=\"px vm xg1\"  value=\"UID/\\xd3\\xc3\\xbb\\xa7\\xc3\\xfb/Email\" onfocus=\"if(this.value == \\'UID/\\xd3\\xc3\\xbb\\xa7\\xc3\\xfb/Email\\'){this.value = \\'\\';this.className = \\'px vm\\';}\" onblur=\"if(this.value == \\'\\'){this.value = \\'UID/\\xd3\\xc3\\xbb\\xa7\\xc3\\xfb/Email\\';this.className = \\'px vm xg1\\';}\" tabindex=\"901\" /></td>\\r\\n<td class=\"fastlg_l\"><label for=\"ls_cookietime\"><input type=\"checkbox\" name=\"cookietime\" id=\"ls_cookietime\" class=\"pc\" value=\"2592000\" tabindex=\"903\" />\\xd7\\xd4\\xb6\\xaf\\xb5\\xc7\\xc2\\xbc</label></td>\\r\\n<td>&nbsp;<a href=\"javascript:;\" onclick=\"showWindow(\\'login\\', \\'member.php?mod=logging&action=login&viewlostpw=1\\')\">\\xd5\\xd2\\xbb\\xd8\\xc3\\xdc\\xc2\\xeb</a></td>\\r\\n</tr>\\r\\n<tr>\\r\\n<td><label for=\"ls_password\">\\xc3\\xdc\\xc2\\xeb</label></td>\\r\\n<td><input type=\"password\" name=\"password\" id=\"ls_password\" class=\"px vm\" autocomplete=\"off\" tabindex=\"902\" /></td>\\r\\n<td class=\"fastlg_l\"><button type=\"submit\" class=\"pn vm\" tabindex=\"904\" style=\"width: 75px;\"><em>\\xb5\\xc7\\xc2\\xbc</em></button></td>\\r\\n<td>&nbsp;<a href=\"member.php?mod=register\" class=\"xi2 xw1\">\\xbf\\xec\\xcb\\xd9\\xd7\\xa2\\xb2\\xe1</a></td>\\r\\n</tr>\\r\\n</table>\\r\\n<input type=\"hidden\" name=\"quickforward\" value=\"yes\" />\\r\\n<input type=\"hidden\" name=\"handlekey\" value=\"ls\" />\\r\\n</div>\\r\\n\\r\\n<div class=\"fastlg_fm y\" style=\"margin-right: 10px; padding-right: 10px\">\\r\\n<p><a href=\"http://bbs.jjxj.org/connect.php?mod=login&op=init&referer=index.php&statfrom=login_simple\"><img src=\"static/image/common/qq_login.gif\" class=\"vm\" alt=\"QQ\\xb5\\xc7\\xc2\\xbc\" /></a></p>\\r\\n<p class=\"hm xg1\" style=\"padding-top: 2px;\">\\xd6\\xbb\\xd0\\xe8\\xd2\\xbb\\xb2\\xbd\\xa3\\xac\\xbf\\xec\\xcb\\xd9\\xbf\\xaa\\xca\\xbc</p>\\r\\n</div>\\r\\n</div>\\r\\n</form>\\r\\n\\r\\n<script src=\"data/cache/md5.js?gEm\" type=\"text/javascript\" reload=\"1\"></script>\\r\\n</div>\\r\\n\\r\\n<div id=\"nv\">\\r\\n<a href=\"javascript:;\" id=\"qmenu\" onmouseover=\"delayShow(this, function () {showMenu({\\'ctrlid\\':\\'qmenu\\',\\'pos\\':\\'34!\\',\\'ctrlclass\\':\\'a\\',\\'duration\\':2});showForummenu();})\">\\xbf\\xec\\xbd\\xdd\\xb5\\xbc\\xba\\xbd</a>\\r\\n<ul><li class=\"a\" id=\"mn_Nf9a8\" ><a href=\"http://bbs.jjxj.org/\" hidefocus=\"true\"  >\\xca\\xd7\\xd2\\xb3</a></li><li id=\"mn_Nfec9\" onmouseover=\"showMenu({\\'ctrlid\\':this.id,\\'ctrlclass\\':\\'hover\\',\\'duration\\':2})\"><a href=\"#\" hidefocus=\"true\"   style=\"font-weight: bold;\">\\xbb\\xee\\xb6\\xaf\\xd6\\xd0\\xd0\\xc4</a></li></ul>\\r\\n</div>\\r\\n<ul class=\"p_pop h_pop\" id=\"plugin_menu\" style=\"display: none\">  <li><a href=\"plugin.php?id=bank_ane:bank\" id=\"mn_plink_bank\">\\xc9\\xe7\\xc7\\xf8\\xd2\\xf8\\xd0\\xd0</a></li>\\r\\n </ul>\\r\\n<div class=\"p_pop h_pop\" id=\"mn_userapp_menu\" style=\"display: none\"></div><ul class=\"p_pop h_pop\" id=\"mn_Nfec9_menu\" style=\"display: none\"><li><a href=\"http://bbs.jjxj.org/plugin.php?id=bank_ane:bank\" hidefocus=\"true\" target=\"_blank\" >\\xd2\\xf8\\xd0\\xd0</a></li></ul><div id=\"mu\" class=\"cl\">\\r\\n</div><div class=\"a_mu\"><script type=\"text/javascript\">\\r\\n/*\\xd2\\xb3\\xcd\\xb7\\xb6\\xfe\\xbc\\xb6\\xb5\\xbc\\xba\\xbd\\xc0\\xb8\\xb9\\xe3\\xb8\\xe6*/\\r\\nvar cpro_id = \"u783678\";\\r\\n</script>\\r\\n<script src=\"http://cpro.baidustatic.com/cpro/ui/c.js\" type=\"text/javascript\"></script></div><div id=\"scbar\" class=\"cl\">\\r\\n<form id=\"scbar_form\" method=\"post\" autocomplete=\"off\" onsubmit=\"searchFocus($(\\'scbar_txt\\'))\" action=\"search.php?searchsubmit=yes\" target=\"_blank\">\\r\\n<input type=\"hidden\" name=\"mod\" id=\"scbar_mod\" value=\"search\" />\\r\\n<input type=\"hidden\" name=\"formhash\" value=\"cc759bfc\" />\\r\\n<input type=\"hidden\" name=\"srchtype\" value=\"title\" />\\r\\n<input type=\"hidden\" name=\"srhfid\" value=\"\" />\\r\\n<input type=\"hidden\" name=\"srhlocality\" value=\"forum::index\" />\\r\\n<table cellspacing=\"0\" cellpadding=\"0\">\\r\\n<tr>\\r\\n<td class=\"scbar_icon_td\"></td>\\r\\n<td class=\"scbar_txt_td\"><input type=\"text\" name=\"srchtxt\" id=\"scbar_txt\" value=\"\\xc7\\xeb\\xca\\xe4\\xc8\\xeb\\xcb\\xd1\\xcb\\xf7\\xc4\\xda\\xc8\\xdd\" autocomplete=\"off\" x-webkit-speech speech /></td>\\r\\n<td class=\"scbar_type_td\"><a href=\"javascript:;\" id=\"scbar_type\" class=\"xg1\" onclick=\"showMenu(this.id)\" hidefocus=\"true\">\\xcb\\xd1\\xcb\\xf7</a></td>\\r\\n<td class=\"scbar_btn_td\"><button type=\"submit\" name=\"searchsubmit\" id=\"scbar_btn\" sc=\"1\" class=\"pn pnc\" value=\"true\"><strong class=\"xi2\">\\xcb\\xd1\\xcb\\xf7</strong></button></td>\\r\\n<td class=\"scbar_hot_td\">\\r\\n<div id=\"scbar_hot\">\\r\\n<strong class=\"xw1\">\\xc8\\xc8\\xcb\\xd1: </strong>\\r\\n\\r\\n<a href=\"search.php?mod=forum&amp;srchtxt=%BA%EA%B9%DB&amp;formhash=cc759bfc&amp;searchsubmit=true&amp;source=hotsearch\" target=\"_blank\" class=\"xi2\" sc=\"1\">\\xba\\xea\\xb9\\xdb</a>\\r\\n\\r\\n\\r\\n\\r\\n<a href=\"search.php?mod=forum&amp;srchtxt=%CE%A2%B9%DB&amp;formhash=cc759bfc&amp;searchsubmit=true&amp;source=hotsearch\" target=\"_blank\" class=\"xi2\" sc=\"1\">\\xce\\xa2\\xb9\\xdb</a>\\r\\n\\r\\n\\r\\n\\r\\n<a href=\"search.php?mod=forum&amp;srchtxt=%BC%C6%C1%BF&amp;formhash=cc759bfc&amp;searchsubmit=true&amp;source=hotsearch\" target=\"_blank\" class=\"xi2\" sc=\"1\">\\xbc\\xc6\\xc1\\xbf</a>\\r\\n\\r\\n\\r\\n\\r\\n<a href=\"search.php?mod=forum&amp;srchtxt=%BD%F0%C8%DA&amp;formhash=cc759bfc&amp;searchsubmit=true&amp;source=hotsearch\" target=\"_blank\" class=\"xi2\" sc=\"1\">\\xbd\\xf0\\xc8\\xda</a>\\r\\n\\r\\n\\r\\n\\r\\n<a href=\"search.php?mod=forum&amp;srchtxt=%CD%B3%BC%C6&amp;formhash=cc759bfc&amp;searchsubmit=true&amp;source=hotsearch\" target=\"_blank\" class=\"xi2\" sc=\"1\">\\xcd\\xb3\\xbc\\xc6</a>\\r\\n\\r\\n</div>\\r\\n</td>\\r\\n</tr>\\r\\n</table>\\r\\n</form>\\r\\n</div>\\r\\n<ul id=\"scbar_type_menu\" class=\"p_pop\" style=\"display: none;\"><li><a href=\"javascript:;\" rel=\"user\">\\xd3\\xc3\\xbb\\xa7</a></li></ul>\\r\\n<script type=\"text/javascript\">\\r\\ninitSearchmenu(\\'scbar\\', \\'\\');\\r\\n</script>\\r\\n</div>\\r\\n</div>\\r\\n\\r\\n<style>.read{ background: url(\\'static/image/common/scf.gif\\') no-repeat 0 50%; }</style>\\r\\n<div id=\"wp\" class=\"wp\">\\r\\n<div id=\"pt\" class=\"bm cl\">\\r\\n\\r\\n<div class=\"z\">\\r\\n<a href=\"./\" class=\"nvhm\" title=\"\\xca\\xd7\\xd2\\xb3\">\\xbe\\xad\\xbc\\xc3\\xd1\\xa7\\xbc\\xd2</a><em>&raquo;</em><a href=\"http://bbs.jjxj.org/forum.php\">\\xca\\xd7\\xd2\\xb3</a></div>\\r\\n<div class=\"z\"></div>\\r\\n</div>\\r\\n\\r\\n\\r\\n\\r\\n<style id=\"diy_style\" type=\"text/css\"></style>\\r\\n\\r\\n<div class=\"wp\">\\r\\n<!--[diy=diy1]--><div id=\"diy1\" class=\"area\"></div><!--[/diy]-->\\r\\n</div>\\r\\n\\r\\n<div id=\"ct\" class=\"wp cl\">\\r\\n<div id=\"chart\" class=\"bm bw0 cl\">\\r\\n\\r\\n<div class=\"y\">\\r\\n<a href=\"http://bbs.jjxj.org/forum.php?mod=guide&amp;view=new\" title=\"\\xd7\\xee\\xd0\\xc2\\xbb\\xd8\\xb8\\xb4\" class=\"xi2\">\\xd7\\xee\\xd0\\xc2\\xbb\\xd8\\xb8\\xb4</a></div>\\r\\n</div>\\r\\n<!--[diy=diy_chart]--><div id=\"diy_chart\" class=\"area\"></div><!--[/diy]-->\\r\\n<div class=\"mn\">\\r\\n\\r\\n\\r\\n\\r\\n\\r\\n\\r\\n<div class=\"fl bm\">\\r\\n<div class=\"bm bmw  flg cl\">\\r\\n<div class=\"bm_h cl\">\\r\\n<span class=\"o\">\\r\\n<img id=\"category_72_img\" src=\"static/image/common/collapsed_no.gif\" title=\"\\xca\\xd5\\xc6\\xf0/\\xd5\\xb9\\xbf\\xaa\" alt=\"\\xca\\xd5\\xc6\\xf0/\\xd5\\xb9\\xbf\\xaa\" onclick=\"toggle_collapse(\\'category_72\\');\" />\\r\\n</span>\\r\\n<span class=\"y\">\\xb7\\xd6\\xc7\\xf8\\xb0\\xe6\\xd6\\xf7: <a href=\"http://bbs.jjxj.org/space-username-kingkongsy.html\" class=\"notabs\" c=\"1\">kingkongsy</a></span><h2><a href=\"http://bbs.jjxj.org/forum.php?gid=72\" style=\"\">\\xbf\\xc6\\xd1\\xd0\\xd3\\xeb\\xc7\\xf3\\xd6\\xfa</a></h2>\\r\\n</div>\\r\\n<div id=\"category_72\" class=\"bm_c\" style=\"\">\\r\\n<table cellspacing=\"0\" cellpadding=\"0\" class=\"fl_tb\">\\r\\n<tr><td class=\"fl_g\" width=\"49.9%\">\\r\\n<div class=\"fl_icn_g\" style=\"width: 50px;\">\\r\\n<a href=\"http://bbs.jjxj.org/forum-243-1.html\"><img src=\"data/attachment/common/cb/common_243_icon.gif\" align=\"left\" alt=\"\" /></a></div>\\r\\n<dl style=\"margin-left: 50px;\">\\r\\n<dt><a href=\"http://bbs.jjxj.org/forum-243-1.html\">\\xbe\\xad\\xb9\\xdc\\xce\\xca\\xce\\xca</a></dt>\\r\\n<dd><em>\\xd6\\xf7\\xcc\\xe2: 2095</em>, <em>\\xcc\\xfb\\xca\\xfd: <span title=\"20752\">2\\xcd\\xf2</span></em></dd><dd>\\r\\n<a href=\"http://bbs.jjxj.org/forum.php?mod=redirect&amp;tid=1239688&amp;goto=lastpost#lastpost\" class=\"xi2\">\\xbe\\xc3\\xce\\xb4\\xb5\\xc7\\xc2\\xbc\\xa3\\xac\\xcf\\xeb\\xd6\\xaa\\xb5\\xc0\\xcd\\xb3\\xbc\\xc6\\xc4\\xea\\xbc\\xf8\\xd5\\xe2\\xb8\\xf6\\xb0\\xe5 ...</a> <cite>2017-1-4 21:24 <a href=\"http://bbs.jjxj.org/space-username-mslcg.html\">mslcg</a></cite>\\r\\n</dd>\\r\\n</dl>\\r\\n</td>\\r\\n<td class=\"fl_g\" width=\"49.9%\">\\r\\n<div class=\"fl_icn_g\">\\r\\n<a href=\"http://bbs.jjxj.org/forum-362-1.html\"><img src=\"static/image/common/forum.gif\" alt=\"\\xc2\\xdb\\xce\\xc4\\xcd\\xb6\\xb8\\xe5\\xb7\\xa2\\xb1\\xed\" /></a>\\r\\n</div>\\r\\n<dl>\\r\\n<dt><a href=\"http://bbs.jjxj.org/forum-362-1.html\">\\xc2\\xdb\\xce\\xc4\\xcd\\xb6\\xb8\\xe5\\xb7\\xa2\\xb1\\xed</a></dt>\\r\\n<dd><em>\\xd6\\xf7\\xcc\\xe2: 344</em>, <em>\\xcc\\xfb\\xca\\xfd: 4615</em></dd><dd>\\r\\n<a href=\"http://bbs.jjxj.org/forum.php?mod=redirect&amp;tid=1239681&amp;goto=lastpost#lastpost\" class=\"xi2\">\\xa1\\xb6\\xd6\\xd0\\xb9\\xfa\\xc5\\xa9\\xb4\\xe5\\xb9\\xdb\\xb2\\xec\\xa1\\xb7\\xc0\\xa9\\xb0\\xe6\\xbc\\xb0\\xd5\\xf7\\xce\\xc4\\xc6\\xf4\\xca\\xc2</a> <cite>2017-4-7 07:33 <a href=\"http://bbs.jjxj.org/space-username-wuhannanchang.html\">wuhannanchang</a></cite>\\r\\n</dd>\\r\\n</dl>\\r\\n</td>\\r\\n</tr>\\r\\n</table>\\r\\n</div>\\r\\n</div><div class=\"bm bmw  flg cl\">\\r\\n<div class=\"bm_h cl\">\\r\\n<span class=\"o\">\\r\\n<img id=\"category_171_img\" src=\"static/image/common/collapsed_no.gif\" title=\"\\xca\\xd5\\xc6\\xf0/\\xd5\\xb9\\xbf\\xaa\" alt=\"\\xca\\xd5\\xc6\\xf0/\\xd5\\xb9\\xbf\\xaa\" onclick=\"toggle_collapse(\\'category_171\\');\" />\\r\\n</span>\\r\\n<span class=\"y\">\\xb7\\xd6\\xc7\\xf8\\xb0\\xe6\\xd6\\xf7: <a href=\"http://bbs.jjxj.org/space-username-nicholastang.html\" class=\"notabs\" c=\"1\">nicholastang</a></span><h2><a href=\"http://bbs.jjxj.org/forum.php?gid=171\" style=\"\">\\xbe\\xad\\xbc\\xc3\\xd1\\xa7\\xd2\\xbb\\xc7\\xf8</a></h2>\\r\\n</div>\\r\\n<div id=\"category_171\" class=\"bm_c\" style=\"\">\\r\\n<table cellspacing=\"0\" cellpadding=\"0\" class=\"fl_tb\">\\r\\n<tr><td class=\"fl_g\" width=\"49.9%\">\\r\\n<div class=\"fl_icn_g\" style=\"width: 50px;\">\\r\\n<a href=\"http://bbs.jjxj.org/forum-363-1.html\"><img src=\"data/attachment/common/00/common_363_icon.gif\" align=\"left\" alt=\"\" /></a></div>\\r\\n<dl style=\"margin-left: 50px;\">\\r\\n<dt><a href=\"http://bbs.jjxj.org/forum-363-1.html\" style=\"color: #FF0000;\">\\xbe\\xad\\xbc\\xc3\\xd1\\xa7\\xb2\\xe8\\xd7\\xf9</a></dt>\\r\\n<dd><em>\\xd6\\xf7\\xcc\\xe2: 3943</em>, <em>\\xcc\\xfb\\xca\\xfd: <span title=\"50011\">5\\xcd\\xf2</span></em></dd><dd>\\r\\n<a href=\"http://bbs.jjxj.org/forum.php?mod=redirect&amp;tid=1240065&amp;goto=lastpost#lastpost\" class=\"xi2\">\\xc3\\xe7\\xca\\xb5\\xa3\\xba\\xb3\\xc9\\xc3\\xfb\\xb3\\xc9\\xbc\\xd2\\xd5\\xe6\\xca\\xc7\\xc4\\xd1\\xc9\\xcf\\xbc\\xd3\\xc4\\xd1</a> <cite>2017-4-13 19:39 <a href=\"http://bbs.jjxj.org/space-username-bujuyige.html\">bujuyige</a></cite>\\r\\n</dd>\\r\\n</dl>\\r\\n</td>\\r\\n<td class=\"fl_g\" width=\"49.9%\">\\r\\n<div class=\"fl_icn_g\" style=\"width: 50px;\">\\r\\n<a href=\"http://bbs.jjxj.org/forum-63-1.html\"><img src=\"data/attachment/common/03/common_63_icon.jpg\" align=\"left\" alt=\"\" /></a></div>\\r\\n<dl style=\"margin-left: 50px;\">\\r\\n<dt><a href=\"http://bbs.jjxj.org/forum-63-1.html\"><font color=red>\\xb2\\xc6\\xbe\\xad\\xd7\\xca\\xd1\\xb6</font></a></dt>\\r\\n<dd><em>\\xd6\\xf7\\xcc\\xe2: <span title=\"20515\">2\\xcd\\xf2</span></em>, <em>\\xcc\\xfb\\xca\\xfd: <span title=\"122987\">12\\xcd\\xf2</span></em></dd><dd>\\r\\n<a href=\"http://bbs.jjxj.org/forum.php?mod=redirect&amp;tid=1239691&amp;goto=lastpost#lastpost\" class=\"xi2\">\\xb9\\xfa\\xbc\\xd2\\xd4\\xf5\\xd1\\xf9\\xb9\\xdc\\xc0\\xed\\xba\\xea\\xb9\\xdb\\xbe\\xad\\xbc\\xc3\\xa3\\xbf</a> <cite>2016-12-18 19:15 <a href=\"http://bbs.jjxj.org/space-username-%CB%EF%CE%F2%B3%B9.html\">\\xcb\\xef\\xce\\xf2\\xb3\\xb9</a></cite>\\r\\n</dd>\\r\\n</dl>\\r\\n</td>\\r\\n</tr>\\r\\n</table>\\r\\n</div>\\r\\n</div><div class=\"bm bmw  flg cl\">\\r\\n<div class=\"bm_h cl\">\\r\\n<span class=\"o\">\\r\\n<img id=\"category_231_img\" src=\"static/image/common/collapsed_no.gif\" title=\"\\xca\\xd5\\xc6\\xf0/\\xd5\\xb9\\xbf\\xaa\" alt=\"\\xca\\xd5\\xc6\\xf0/\\xd5\\xb9\\xbf\\xaa\" onclick=\"toggle_collapse(\\'category_231\\');\" />\\r\\n</span>\\r\\n<span class=\"y\">\\xb7\\xd6\\xc7\\xf8\\xb0\\xe6\\xd6\\xf7: <a href=\"http://bbs.jjxj.org/space-username-duoluoqishi8.html\" class=\"notabs\" c=\"1\">duoluoqishi8</a></span><h2><a href=\"http://bbs.jjxj.org/forum.php?gid=231\" style=\"\">\\xbe\\xad\\xbc\\xc3\\xd1\\xa7\\xb6\\xfe\\xc7\\xf8</a></h2>\\r\\n</div>\\r\\n<div id=\"category_231\" class=\"bm_c\" style=\"\">\\r\\n<table cellspacing=\"0\" cellpadding=\"0\" class=\"fl_tb\">\\r\\n<tr><td class=\"fl_g\" width=\"49.9%\">\\r\\n<div class=\"fl_icn_g\" style=\"width: 50px;\">\\r\\n<a href=\"http://bbs.jjxj.org/forum-206-1.html\"><img src=\"data/attachment/common/7e/common_206_icon.jpg\" align=\"left\" alt=\"\" /></a></div>\\r\\n<dl style=\"margin-left: 50px;\">\\r\\n<dt><a href=\"http://bbs.jjxj.org/forum-206-1.html\">\\xbe\\xad\\xbc\\xc3\\xd1\\xa7\\xc2\\xdb\\xce\\xc4</a></dt>\\r\\n<dd><em>\\xd6\\xf7\\xcc\\xe2: <span title=\"45309\">4\\xcd\\xf2</span></em>, <em>\\xcc\\xfb\\xca\\xfd: <span title=\"54226\">5\\xcd\\xf2</span></em></dd><dd>\\r\\n<a href=\"http://bbs.jjxj.org/forum.php?mod=redirect&amp;tid=1155927&amp;goto=lastpost#lastpost\" class=\"xi2\">\\xb9\\xd8\\xd3\\xda\\xbd\\xa8\\xc9\\xe8\\xd6\\xc7\\xbb\\xdb\\xb3\\xc7\\xca\\xd0\\xb5\\xc4\\xd5\\xbd\\xc2\\xd4\\xcb\\xbc\\xbf\\xbc</a> <cite>2016-12-5 08:25 <a href=\"http://bbs.jjxj.org/space-username-xguldy.html\">xguldy</a></cite>\\r\\n</dd>\\r\\n</dl>\\r\\n</td>\\r\\n<td width=\"49.9%\">&nbsp;</td></tr></tr>\\r\\n</table>\\r\\n</div>\\r\\n</div><div class=\"bm bmw  flg cl\">\\r\\n<div class=\"bm_h cl\">\\r\\n<span class=\"o\">\\r\\n<img id=\"category_257_img\" src=\"static/image/common/collapsed_no.gif\" title=\"\\xca\\xd5\\xc6\\xf0/\\xd5\\xb9\\xbf\\xaa\" alt=\"\\xca\\xd5\\xc6\\xf0/\\xd5\\xb9\\xbf\\xaa\" onclick=\"toggle_collapse(\\'category_257\\');\" />\\r\\n</span>\\r\\n<span class=\"y\">\\xb7\\xd6\\xc7\\xf8\\xb0\\xe6\\xd6\\xf7: <a href=\"http://bbs.jjxj.org/space-username-beijin2088.html\" class=\"notabs\" c=\"1\">beijin2088</a></span><h2><a href=\"http://bbs.jjxj.org/forum.php?gid=257\" style=\"\">\\xb9\\xdc\\xc0\\xed\\xd1\\xa7\\xc7\\xf8</a></h2>\\r\\n</div>\\r\\n<div id=\"category_257\" class=\"bm_c\" style=\"\">\\r\\n<table cellspacing=\"0\" cellpadding=\"0\" class=\"fl_tb\">\\r\\n<tr><td class=\"fl_g\" width=\"49.9%\">\\r\\n<div class=\"fl_icn_g\" style=\"width: 49px;\">\\r\\n<a href=\"http://bbs.jjxj.org/forum-270-1.html\"><img src=\"data/attachment/common/39/common_270_icon.jpg\" align=\"left\" alt=\"\" /></a></div>\\r\\n<dl style=\"margin-left: 49px;\">\\r\\n<dt><a href=\"http://bbs.jjxj.org/forum-270-1.html\">\\xce\\xef\\xc1\\xf7\\xba\\xcd\\xb9\\xa9\\xd3\\xa6\\xc1\\xb4\\xb9\\xdc\\xc0\\xed</a></dt>\\r\\n<dd><em>\\xd6\\xf7\\xcc\\xe2: 69</em>, <em>\\xcc\\xfb\\xca\\xfd: 306</em></dd><dd>\\r\\n<a href=\"http://bbs.jjxj.org/forum.php?mod=redirect&amp;tid=1174985&amp;goto=lastpost#lastpost\" class=\"xi2\">\\xce\\xef\\xc1\\xf7\\xba\\xcd\\xb9\\xa9\\xd3\\xa6\\xc1\\xb4\\xb9\\xdc\\xc0\\xed\\xca\\xc7\\xc3\\xdc\\xb2\\xbb\\xbf\\xc9\\xb7\\xd6\\xb5\\xc4</a> <cite>2016-4-17 10:59 <a href=\"http://bbs.jjxj.org/space-username-QQ_648CB3.html\">QQ_648CB3</a></cite>\\r\\n</dd>\\r\\n</dl>\\r\\n</td>\\r\\n<td width=\"49.9%\">&nbsp;</td></tr></tr>\\r\\n</table>\\r\\n</div>\\r\\n</div><div class=\"bm bmw  cl\">\\r\\n<div class=\"bm_h cl\">\\r\\n<span class=\"o\">\\r\\n<img id=\"category_367_img\" src=\"static/image/common/collapsed_no.gif\" title=\"\\xca\\xd5\\xc6\\xf0/\\xd5\\xb9\\xbf\\xaa\" alt=\"\\xca\\xd5\\xc6\\xf0/\\xd5\\xb9\\xbf\\xaa\" onclick=\"toggle_collapse(\\'category_367\\');\" />\\r\\n</span>\\r\\n<h2><a href=\"http://bbs.jjxj.org/forum.php?gid=367\" style=\"\">\\xbf\\xbc\\xd1\\xd0\\xbf\\xbc\\xb2\\xa9\\xc7\\xf8</a></h2>\\r\\n</div>\\r\\n<div id=\"category_367\" class=\"bm_c\" style=\"\">\\r\\n<table cellspacing=\"0\" cellpadding=\"0\" class=\"fl_tb\">\\r\\n<tr><td class=\"fl_icn\" >\\r\\n<a href=\"http://bbs.jjxj.org/forum-229-1.html\"><img src=\"static/image/common/forum.gif\" alt=\"\\xbf\\xbc\\xd1\\xd0\\xca\\xd4\\xcc\\xe2\\xc7\\xf8\" /></a>\\r\\n</td>\\r\\n<td>\\r\\n<h2><a href=\"http://bbs.jjxj.org/forum-229-1.html\">\\xbf\\xbc\\xd1\\xd0\\xca\\xd4\\xcc\\xe2\\xc7\\xf8</a></h2>\\r\\n<p>\\xb0\\xe6\\xd6\\xf7: <span class=\"xi2\"><a href=\"http://bbs.jjxj.org/space-username-shengzhanqishi.html\" class=\"notabs\" c=\"1\">shengzhanqishi</a></span></p></td>\\r\\n<td class=\"fl_i\">\\r\\n<span class=\"xi2\">1319</span><span class=\"xg1\"> / 4546</span></td>\\r\\n<td class=\"fl_by\">\\r\\n<div>\\r\\n<a href=\"http://bbs.jjxj.org/forum.php?mod=redirect&amp;tid=50266&amp;goto=lastpost#lastpost\" class=\"xi2\">\\xce\\xf7\\xb7\\xbd\\xbe\\xad\\xbc\\xc3\\xd1\\xa7\\xca\\xd4\\xcc\\xe2\\xdc\\xf6\\xdd\\xcd</a> <cite>2016-5-11 16:48 <a href=\"http://bbs.jjxj.org/space-username-512932273.html\">512932273</a></cite>\\r\\n</div>\\r\\n</td>\\r\\n</tr>\\r\\n<tr class=\"fl_row\">\\r\\n<td class=\"fl_icn\" >\\r\\n<a href=\"http://bbs.jjxj.org/forum-222-1.html\"><img src=\"static/image/common/forum.gif\" alt=\"\\xbf\\xbc\\xb2\\xa9\\xca\\xd4\\xcc\\xe2\\xc7\\xf8\" /></a>\\r\\n</td>\\r\\n<td>\\r\\n<h2><a href=\"http://bbs.jjxj.org/forum-222-1.html\">\\xbf\\xbc\\xb2\\xa9\\xca\\xd4\\xcc\\xe2\\xc7\\xf8</a></h2>\\r\\n<p>\\xb0\\xe6\\xd6\\xf7: <span class=\"xi2\"><a href=\"http://bbs.jjxj.org/space-username-shengzhanqishi.html\" class=\"notabs\" c=\"1\">shengzhanqishi</a></span></p></td>\\r\\n<td class=\"fl_i\">\\r\\n<span class=\"xi2\">437</span><span class=\"xg1\"> / 2577</span></td>\\r\\n<td class=\"fl_by\">\\r\\n<div>\\r\\n<a href=\"http://bbs.jjxj.org/forum.php?mod=redirect&amp;tid=1226241&amp;goto=lastpost#lastpost\" class=\"xi2\">\\xce\\xd2\\xd2\\xb2\\xb7\\xa2\\xcb\\xcd\\xd2\\xbb\\xb8\\xf6\\xcc\\xfb\\xd7\\xd3\\xa3\\xac\\xd6\\xd0\\xb9\\xfa\\xc9\\xe7\\xbf\\xc6\\xd4\\xba\\xbf\\xbc ...</a> <cite>2017-3-14 16:50 <a href=\"http://bbs.jjxj.org/space-username-wmx0521.html\">wmx0521</a></cite>\\r\\n</div>\\r\\n</td>\\r\\n</tr>\\r\\n<tr class=\"fl_row\">\\r\\n<td class=\"fl_icn\"  style=\"width: 50px;\">\\r\\n<a href=\"http://bbs.jjxj.org/forum-170-1.html\"><img src=\"data/attachment/common/14/common_170_icon.jpg\" align=\"left\" alt=\"\" /></a></td>\\r\\n<td>\\r\\n<h2><a href=\"http://bbs.jjxj.org/forum-170-1.html\">\\xbf\\xbc\\xd1\\xd0\\xbf\\xbc\\xb2\\xa9\\xc7\\xf8</a></h2>\\r\\n<p class=\"xg2\">\\xbf\\xbc\\xd1\\xd0\\xbf\\xbc\\xb2\\xa9\\xca\\xd4\\xcc\\xe2\\xb9\\xb2\\xcf\\xed\\xa1\\xa2\\xd1\\xa7\\xcf\\xb0\\xb1\\xb8\\xbf\\xbc\\xbd\\xbb\\xc1\\xf7<font color=\"red\"><strong>\\xc3\\xe2\\xc1\\xf7\\xc1\\xbf</strong></font></p><p>\\xb0\\xe6\\xd6\\xf7: <span class=\"xi2\"><a href=\"http://bbs.jjxj.org/space-username-shengzhanqishi.html\" class=\"notabs\" c=\"1\"><strong>shengzhanqishi</strong></a></span></p></td>\\r\\n<td class=\"fl_i\">\\r\\n<span class=\"xi2\">2023</span><span class=\"xg1\"> / <span title=\"10976\">1\\xcd\\xf2</span></span></td>\\r\\n<td class=\"fl_by\">\\r\\n<div>\\r\\n<a href=\"http://bbs.jjxj.org/forum.php?mod=redirect&amp;tid=1173974&amp;goto=lastpost#lastpost\" class=\"xi2\">\\xc2\\xfc\\xc0\\xa5\\xba\\xea\\xb9\\xdb\\xbe\\xad\\xbc\\xc3\\xd1\\xa7\\xbe\\xab\\xbb\\xaa\\xbd\\xb2\\xd2\\xe5</a> <cite>2016-7-7 10:34 <a href=\"http://bbs.jjxj.org/space-username-aijun_dang.html\">aijun_dang</a></cite>\\r\\n</div>\\r\\n</td>\\r\\n</tr>\\r\\n<tr class=\"fl_row\">\\r\\n</tr>\\r\\n</table>\\r\\n</div>\\r\\n</div><div class=\"bm bmw  flg cl\">\\r\\n<div class=\"bm_h cl\">\\r\\n<span class=\"o\">\\r\\n<img id=\"category_1_img\" src=\"static/image/common/collapsed_no.gif\" title=\"\\xca\\xd5\\xc6\\xf0/\\xd5\\xb9\\xbf\\xaa\" alt=\"\\xca\\xd5\\xc6\\xf0/\\xd5\\xb9\\xbf\\xaa\" onclick=\"toggle_collapse(\\'category_1\\');\" />\\r\\n</span>\\r\\n<span class=\"y\">\\xb7\\xd6\\xc7\\xf8\\xb0\\xe6\\xd6\\xf7: <a href=\"http://bbs.jjxj.org/space-username-ppm8087001.html\" class=\"notabs\" c=\"1\">ppm8087001</a></span><h2><a href=\"http://bbs.jjxj.org/forum.php?gid=1\" style=\"\">\\xcd\\xb3\\xba\\xcf\\xbd\\xbb\\xc1\\xf7\\xc7\\xf8</a></h2>\\r\\n</div>\\r\\n<div id=\"category_1\" class=\"bm_c\" style=\"\">\\r\\n<table cellspacing=\"0\" cellpadding=\"0\" class=\"fl_tb\">\\r\\n<tr><td class=\"fl_g\" width=\"49.9%\">\\r\\n<div class=\"fl_icn_g\" style=\"width: 50px;\">\\r\\n<a href=\"http://bbs.jjxj.org/forum-201-1.html\"><img src=\"data/attachment/common/75/common_201_icon.jpg\" align=\"left\" alt=\"\" /></a></div>\\r\\n<dl style=\"margin-left: 50px;\">\\r\\n<dt><a href=\"http://bbs.jjxj.org/forum-201-1.html\">\\xd3\\xa2\\xd3\\xef\\xd1\\xa7\\xcf\\xb0\\xbd\\xbb\\xc1\\xf7\\xc7\\xf8</a></dt>\\r\\n<dd><em>\\xd6\\xf7\\xcc\\xe2: 242</em>, <em>\\xcc\\xfb\\xca\\xfd: 2856</em></dd><dd>\\r\\n<a href=\"http://bbs.jjxj.org/forum.php?mod=redirect&amp;tid=1186033&amp;goto=lastpost#lastpost\" class=\"xi2\">\\xc3\\xbf\\xcc\\xec\\xd2\\xbb\\xbe\\xe4</a> <cite>2015-8-30 11:12 <a href=\"http://bbs.jjxj.org/space-username-greenzh.html\">greenzh</a></cite>\\r\\n</dd>\\r\\n</dl>\\r\\n</td>\\r\\n<td class=\"fl_g\" width=\"49.9%\">\\r\\n<div class=\"fl_icn_g\" style=\"width: 50px;\">\\r\\n<a href=\"http://bbs.jjxj.org/forum-39-1.html\"><img src=\"data/attachment/common/d6/common_39_icon.gif\" align=\"left\" alt=\"\" /></a></div>\\r\\n<dl style=\"margin-left: 50px;\">\\r\\n<dt><a href=\"http://bbs.jjxj.org/forum-39-1.html\">\\xb2\\xc6\\xbe\\xad\\xd5\\xd0\\xc6\\xb8\\xd0\\xc5\\xcf\\xa2\\xc7\\xf8</a></dt>\\r\\n<dd><em>\\xd6\\xf7\\xcc\\xe2: 2460</em>, <em>\\xcc\\xfb\\xca\\xfd: 9845</em></dd><dd>\\r\\n<a href=\"http://bbs.jjxj.org/forum.php?mod=redirect&amp;tid=1239679&amp;goto=lastpost#lastpost\" class=\"xi2\">\\xce\\xf7\\xc4\\xcf\\xb4\\xf3\\xd1\\xa7\\xbe\\xad\\xbc\\xc3\\xb9\\xdc\\xc0\\xed\\xd1\\xa7\\xd4\\xba\\xb3\\xcf\\xc6\\xb8\\xcc\\xec\\xcf\\xc2\\xd3\\xa2 ...</a> <cite>2017-1-18 19:36 <a href=\"http://bbs.jjxj.org/space-username-xguldy.html\">xguldy</a></cite>\\r\\n</dd>\\r\\n</dl>\\r\\n</td>\\r\\n</tr>\\r\\n<tr class=\"fl_row\">\\r\\n<td class=\"fl_g\" width=\"49.9%\">\\r\\n<div class=\"fl_icn_g\" style=\"width: 50px;\">\\r\\n<a href=\"http://bbs.jjxj.org/forum-176-1.html\"><img src=\"data/attachment/common/38/common_176_icon.jpg\" align=\"left\" alt=\"\" /></a></div>\\r\\n<dl style=\"margin-left: 50px;\">\\r\\n<dt><a href=\"http://bbs.jjxj.org/forum-176-1.html\">\\xc8\\xcb\\xce\\xc4\\xc9\\xe7\\xbf\\xc6\\xc7\\xf8</a></dt>\\r\\n<dd><em>\\xd6\\xf7\\xcc\\xe2: 2553</em>, <em>\\xcc\\xfb\\xca\\xfd: <span title=\"13349\">1\\xcd\\xf2</span></em></dd><dd>\\r\\n<a href=\"http://bbs.jjxj.org/forum.php?mod=redirect&amp;tid=24980&amp;goto=lastpost#lastpost\" class=\"xi2\">\\xc1\\xf5\\xbe\\xfc\\xc4\\xfe\\xa3\\xba\\xb9\\xdb\\xc4\\xee\\xb5\\xc4\\xc1\\xa6\\xc1\\xbf</a> <cite>2017-1-31 15:57 <a href=\"http://bbs.jjxj.org/space-username-sca.html\">sca</a></cite>\\r\\n</dd>\\r\\n</dl>\\r\\n</td>\\r\\n<td width=\"49.9%\">&nbsp;</td></tr></tr>\\r\\n</table>\\r\\n</div>\\r\\n</div>\\r\\n</div>\\r\\n\\r\\n<div class=\"wp mtn\">\\r\\n<!--[diy=diy3]--><div id=\"diy3\" class=\"area\"><div id=\"frameL13M8z\" class=\"frame move-span cl frame-1\"><div id=\"frameL13M8z_left\" class=\"column frame-1-c\"><div id=\"frameL13M8z_left_temp\" class=\"move-span temp\"></div><div id=\"portal_block_81\" class=\"block move-span\"><div class=\"blocktitle title\"><span class=\"titletext\" style=\"float:;margin-left:px;font-size:;color: !important;\">\\xd3\\xd1\\xc7\\xe9\\xc1\\xb4\\xbd\\xd3</span></div><div id=\"portal_block_81_content\" class=\"dxb_bc\"><div class=\"portal_block_summary\"><div class=\"bn lk\"><ul class=\"x cl\"><li><a target=\"_blank\" href=\"http://www.zgfdmw.com/\">\\xb7\\xc0\\xb5\\xc1\\xc3\\xc5</a></li><li><a target=\"_blank\" href=\"http://www.gudacn.com\">\\xcf\\xf0\\xbd\\xba\\xb0\\xe5</a></li><li><a target=\"_blank\" href=\"http://www.zkyxu.com\">\\xce\\xe4\\xba\\xba\\xb4\\xf3\\xd1\\xa7\\xb1\\xbe\\xb2\\xbf\\xd7\\xd4\\xbf\\xbc</a></li><li><a target=\"_blank\" href=\"http://www.ta.bio/\">\\xbd\\xf0\\xc8\\xda\\xbb\\xa5\\xd6\\xfa\\xc6\\xbd\\xcc\\xa8</a></li><li><a target=\"_blank\" href=\"http://www.fanbeizhuan.com/\">\\xc5\\xe4\\xd7\\xca</a></li><li><a target=\"_blank\" href=\"http://www.zqrsj.cn\">\\xd0\\xc2\\xb2\\xa9nb88\\xb9\\xd9\\xcd\\xf8</a></li><li><a target=\"_blank\" href=\"http://www.gudacn.com\">\\xcf\\xf0\\xbd\\xba\\xb0\\xe5</a></li><li><a target=\"_blank\" href=\"http://www.songshixian.com\">\\xcd\\xfe\\xc1\\xae\\xcf\\xa3\\xb6\\xfb\\xd6\\xd0\\xce\\xc4\\xcd\\xf8</a></li><li><a target=\"_blank\" href=\"http://www.yilongmachine.com\">1946bv1946</a></li><li><a target=\"_blank\" href=\"http://www.qtfy.cc/bogou/\">\\xb2\\xa9\\xb9\\xb7</a></li></ul></div></div></div></div></div></div></div><!--[/diy]-->\\r\\n</div>\\r\\n\\r\\n\\r\\n</div>\\r\\n\\r\\n</div>\\r\\n<script>fixed_top_nv();</script>\\t</div>\\r\\n<div class=\"focus\" id=\"sitefocus\">\\r\\n<div class=\"bm\">\\r\\n<div class=\"bm_h cl\">\\r\\n<a href=\"javascript:;\" onclick=\"setcookie(\\'nofocus_forum\\', 1, 4*3600);$(\\'sitefocus\\').style.display=\\'none\\'\" class=\"y\" title=\"\\xb9\\xd8\\xb1\\xd5\">\\xb9\\xd8\\xb1\\xd5</a>\\r\\n<h2>\\r\\n\\xb9\\xe3\\xb8\\xe6<span id=\"focus_ctrl\" class=\"fctrl\"><img src=\"static/image/common/pic_nv_prev.gif\" alt=\"\\xc9\\xcf\\xd2\\xbb\\xcc\\xf5\" title=\"\\xc9\\xcf\\xd2\\xbb\\xcc\\xf5\" id=\"focusprev\" class=\"cur1\" onclick=\"showfocus(\\'prev\\');\" /> <em><span id=\"focuscur\"></span>/1</em> <img src=\"static/image/common/pic_nv_next.gif\" alt=\"\\xcf\\xc2\\xd2\\xbb\\xcc\\xf5\" title=\"\\xcf\\xc2\\xd2\\xbb\\xcc\\xf5\" id=\"focusnext\" class=\"cur1\" onclick=\"showfocus(\\'next\\')\" /></span>\\r\\n</h2>\\r\\n</div>\\r\\n<div class=\"bm_c\" id=\"focus_con\">\\r\\n</div>\\r\\n</div>\\r\\n</div><div class=\"bm_c\" style=\"display: none\" id=\"focus_0\">\\r\\n<dl class=\"xld cl bbda\">\\r\\n<dt><a href=\"http://bbs.jjxj.org/thread-1239060-1-1.html\" class=\"xi2\" target=\"_blank\">\\xd6\\xd8\\xd2\\xaa\\xcd\\xa8\\xd6\\xaa</a></dt>\\r\\n<dd>\\xb5\\xe3\\xbb\\xf7\\xb2\\xe9\\xbf\\xb4\\xa3\\xac\\xb4\\xed\\xb9\\xfd\\xbb\\xfa\\xbb\\xe1\\xc4\\xaa\\xb9\\xd6</dd>\\r\\n</dl>\\r\\n<p class=\"ptn cl\"><a href=\"http://bbs.jjxj.org/thread-1239060-1-1.html\" class=\"xi2 y\" target=\"_blank\">\\xb2\\xe9\\xbf\\xb4 &raquo;</a></p>\\r\\n</div><script type=\"text/javascript\">\\r\\nvar focusnum = 1;\\r\\nif(focusnum < 2) {\\r\\n$(\\'focus_ctrl\\').style.display = \\'none\\';\\r\\n}\\r\\nif(!$(\\'focuscur\\').innerHTML) {\\r\\nvar randomnum = parseInt(Math.round(Math.random() * focusnum));\\r\\n$(\\'focuscur\\').innerHTML = Math.max(1, randomnum);\\r\\n}\\r\\nshowfocus();\\r\\nvar focusautoshow = window.setInterval(\\'showfocus(\\\\\\'next\\\\\\', 1);\\', 5000);\\r\\n</script>\\r\\n<div class=\"wp a_f\"><script type=\"text/javascript\">/*\\xd2\\xb3\\xbd\\xc5\\xb5\\xd7\\xb2\\xbf\\xb9\\xe3\\xb8\\xe6*/ var cpro_id = \\'u785171\\';</script><script src=\"http://cpro.baidu.com/cpro/ui/c.js\" type=\"text/javascript\"></script></br>\\xc3\\xe2\\xd4\\xf0\\xc9\\xea\\xc3\\xf7:\\xb1\\xbe\\xd5\\xbe\\xce\\xaa\\xb7\\xc7\\xd3\\xaf\\xc0\\xfb\\xd0\\xd4\\xd6\\xca\\xb5\\xc4\\xb8\\xf6\\xc8\\xcb\\xd1\\xa7\\xca\\xf5\\xcd\\xf8\\xd5\\xbe,\\xcd\\xf8\\xd5\\xbe\\xd7\\xca\\xd4\\xb4\\xbd\\xf6\\xb9\\xa9\\xbd\\xcc\\xd1\\xa7\\xa1\\xa2\\xd1\\xd0\\xbe\\xbf\\xca\\xb9\\xd3\\xc3,\\xb2\\xbb\\xb5\\xc3\\xd3\\xc3\\xd3\\xda\\xc9\\xcc\\xd2\\xb5\\xd3\\xc3\\xcd\\xbe\\xa3\\xac\\xc7\\xeb\\xcf\\xc2\\xd4\\xd8\\xba\\xf324\\xd0\\xa1\\xca\\xb1\\xc4\\xda\\xd7\\xd4\\xd0\\xd0\\xc9\\xbe\\xb3\\xfd,\\xcb\\xbd\\xd7\\xd4\\xb4\\xab\\xb2\\xa5\\xba\\xf3\\xb9\\xfb\\xd7\\xd4\\xb8\\xba\\xa1\\xa3</br>\\r\\n\\xb1\\xbe\\xd5\\xbe\\xcb\\xf9\\xd3\\xd0\\xd7\\xca\\xd4\\xb4\\xc0\\xb4\\xd7\\xd4\\xbb\\xa5\\xc1\\xaa\\xcd\\xf8\\xd3\\xc9\\xcd\\xf8\\xd3\\xd1\\xcc\\xe1\\xb9\\xa9\\xa3\\xac\\xce\\xd2\\xc3\\xc7\\xb2\\xbb\\xb6\\xd4\\xd7\\xca\\xd4\\xb4\\xb5\\xc4\\xd5\\xfd\\xc8\\xb7\\xd0\\xd4\\xa1\\xa2\\xd3\\xd0\\xd0\\xa7\\xd0\\xd4\\xa1\\xa2\\xb0\\xb2\\xc8\\xab\\xd0\\xd4\\xb8\\xba\\xd4\\xf0,\\xb2\\xbb\\xb6\\xd4\\xbb\\xe1\\xd4\\xb1\\xb5\\xc4\\xd1\\xd4\\xc2\\xdb\\xb8\\xba\\xd4\\xf0,\\xd2\\xb2\\xb2\\xbb\\xb6\\xd4\\xd7\\xca\\xd4\\xb4\\xb5\\xc4\\xb0\\xe6\\xc8\\xa8\\xb8\\xba\\xd4\\xf0\\xa1\\xa2\\xc9\\xcf\\xb4\\xab\\xc7\\xb0\\xc7\\xeb\\xc8\\xb7\\xc8\\xcf\\xb8\\xc3\\xd7\\xca\\xd4\\xb4</br>\\r\\n\\xca\\xc7\\xb7\\xf1\\xca\\xc7\\xc3\\xbb\\xd3\\xd0\\xb0\\xe6\\xc8\\xa8\\xb5\\xc4\\xbb\\xf2\\xd5\\xdf\\xc4\\xfa\\xd7\\xd4\\xbc\\xba\\xd3\\xb5\\xd3\\xd0\\xb0\\xe6\\xc8\\xa8\\xa1\\xa3\\xc8\\xe7\\xd3\\xd0\\xbb\\xe1\\xd4\\xb1\\xc7\\xd6\\xb7\\xb8\\xc4\\xfa\\xb5\\xc4\\xc8\\xa8\\xc0\\xfb\\xa3\\xac\\xc7\\xeb\\xc4\\xfa\\xc1\\xaa\\xcf\\xb5admin\\xb2\\xa2\\xcc\\xe1\\xb9\\xa9\\xcf\\xe0\\xb9\\xd8\\xc8\\xa8\\xc0\\xfb\\xd6\\xa4\\xbe\\xdd\\xa3\\xac\\xc8\\xb7\\xc8\\xcf\\xca\\xf4\\xca\\xb5\\xba\\xf3\\xce\\xd2\\xc3\\xc7\\xbb\\xe1\\xbc\\xb0\\xca\\xb1\\xc9\\xbe\\xb3\\xfd\\xa1\\xa3</br>\\r\\n\\xcd\\xb6\\xcb\\xdf\\xa1\\xa2\\xb9\\xe3\\xb8\\xe6\\xa1\\xa2\\xba\\xcf\\xd7\\xf7\\xc7\\xeb\\xc1\\xaa\\xcf\\xb5:jjxjorg#qq.com #\\xbb\\xbb\\xb3\\xc9@\\r\\n</div>\\r\\n\\r\\n<script type=\"text/javascript\">\\r\\n_attachEvent(window, \\'load\\', getForbiddenFormula, document);\\r\\nfunction getForbiddenFormula() {\\r\\nvar toGetForbiddenFormulaFIds = function () {\\r\\najaxget(\\'plugin.php?id=cloudsearch&formhash=cc759bfc\\');\\r\\n};\\r\\nvar a = document.body.getElementsByTagName(\\'a\\');\\r\\nfor(var i = 0;i < a.length;i++){\\r\\nif(a[i].getAttribute(\\'sc\\')) {\\r\\na[i].setAttribute(\\'mid\\', hash(a[i].href));\\r\\na[i].onmousedown = function() {toGetForbiddenFormulaFIds();};\\r\\n}\\r\\n}\\r\\nvar btn = document.body.getElementsByTagName(\\'button\\');\\r\\nfor(var i = 0;i < btn.length;i++){\\r\\nif(btn[i].getAttribute(\\'sc\\')) {\\r\\nbtn[i].setAttribute(\\'mid\\', hash(btn[i].id));\\r\\nbtn[i].onmousedown = function() {toGetForbiddenFormulaFIds();};\\r\\n}\\r\\n}\\r\\n}\\r\\n</script>\\r\\n\\r\\n\\r\\n\\r\\n<div id=\"ft\" class=\"wp cl\">\\r\\n<div id=\"flk\" class=\"y\">\\r\\n<p>\\r\\n<a href=\"http://bbs.jjxj.org/forum.php?mod=misc&action=showdarkroom\" >\\xd0\\xa1\\xba\\xda\\xce\\xdd</a><span class=\"pipe\">|</span><a href=\"http://bbs.jjxj.org/forum.php?mobile=yes\" >\\xca\\xd6\\xbb\\xfa\\xb0\\xe6</a><span class=\"pipe\">|</span><a href=\"http://www.cablexa.com\" >aoc</a><span class=\"pipe\">|</span><a href=\"http://www.dingjikuai.com\" >\\xb3\\xa4\\xb5\\xba\\xd3\\xe6\\xbc\\xd2\\xc0\\xd6</a><span class=\"pipe\">|</span><a href=\"http://www.cnjj.com/\" >\\xc4\\xcf\\xbf\\xb5\\xbc\\xd2\\xbe\\xdf\\xcd\\xf8</a><span class=\"pipe\">|</span><a href=\"http://cnjj.com/\" >\\xbc\\xd2\\xbe\\xdf\\xc5\\xfa\\xb7\\xa2</a><span class=\"pipe\">|</span><strong><a href=\"http://bbs.jjxj.org/\" target=\"_blank\">\\xbe\\xad\\xbc\\xc3\\xd1\\xa7\\xbc\\xd2</a></strong>\\r\\n\\xb8\\xd3ICP\\xb1\\xb811002034\\xba\\xc5<script language=\"javascript\" type=\"text/javascript\" src=\"//js.users.51.la/19147336.js\"></script>\\r\\n<noscript><a href=\"http://www.51.la/?19147336\" target=\"_blank\"><img alt=\"&#x6211;&#x8981;&#x5566;&#x514D;&#x8D39;&#x7EDF;&#x8BA1;\" src=\"//img.users.51.la/19147336.asp\" style=\"border:none\" /></a></noscript></p>\\r\\n<p class=\"xs0\">\\r\\nGMT+8, 2017-4-14 12:22<span id=\"debuginfo\">\\r\\n, Processed in 0.056818 second(s), 17 queries\\r\\n.\\r\\n</span>\\r\\n</p>\\r\\n</div></div>\\r\\n<script src=\"home.php?mod=misc&ac=sendmail&rand=1492143730\" type=\"text/javascript\"></script>\\r\\n<div id=\"scrolltop\">\\r\\n<span hidefocus=\"true\"><a title=\"\\xb7\\xb5\\xbb\\xd8\\xb6\\xa5\\xb2\\xbf\" onclick=\"window.scrollTo(\\'0\\',\\'0\\')\" class=\"scrolltopa\" ><b>\\xb7\\xb5\\xbb\\xd8\\xb6\\xa5\\xb2\\xbf</b></a></span>\\r\\n</div>\\r\\n<script type=\"text/javascript\">_attachEvent(window, \\'scroll\\', function () { showTopLink(); });checkBlind();</script>\\r\\n\\t\\t\\t<div id=\"discuz_tips\" style=\"display:none;\"></div>\\r\\n\\t\\t\\t<script type=\"text/javascript\">\\r\\n\\t\\t\\t\\tvar tipsinfo = \\'1559932|X3.1|0.6||0||0|7|1492143730|734299aaab98905bea27d789f622bc64|2\\';\\r\\n\\t\\t\\t</script>\\r\\n\\t\\t\\t<script src=\"http://discuz.gtimg.cn/cloud/scripts/discuz_tips.js?v=1\" type=\"text/javascript\" charset=\"UTF-8\"></script><script type=\"text/javascript\">\\r\\n\\t\\t\\tif($(\\'debuginfo\\')) {\\r\\n\\t\\t\\t\\t$(\\'debuginfo\\').innerHTML = \\'. This page is cached  at 12:22:10  .\\';\\r\\n\\t\\t\\t}\\r\\n\\t\\t\\t</script>'\n"
     ]
    }
   ],
   "source": [
    "s=requests.Session()\n",
    "r=s.get('http://bbs.jjxj.org/')\n",
    "soup=bs(r.content,'lxml')\n",
    "once=soup.find('input')\n",
    "once\n",
    "print(r.content)"
   ]
  },
  {
   "cell_type": "code",
   "execution_count": 38,
   "metadata": {
    "collapsed": true
   },
   "outputs": [
    {
     "name": "stdout",
     "output_type": "stream",
     "text": [
      "b'<!DOCTYPE html PUBLIC \"-//W3C//DTD XHTML 1.0 Transitional//EN\" \"http://www.w3.org/TR/xhtml1/DTD/xhtml1-transitional.dtd\">\\r\\n<html xmlns=\"http://www.w3.org/1999/xhtml\">\\r\\n<head>\\r\\n<meta http-equiv=\"Content-Type\" content=\"text/html; charset=gbk\" />\\r\\n<title>\\xbe\\xad\\xbc\\xc3\\xd1\\xa7\\xbc\\xd2</title>\\r\\n\\r\\n<meta name=\"keywords\" content=\"\\xbe\\xad\\xbc\\xc3\\xd1\\xa7\\xbc\\xd2,\\xbe\\xad\\xbc\\xc3,\\xbe\\xad\\xbc\\xc3\\xd1\\xa7\" />\\r\\n<meta name=\"description\" content=\"\\xbe\\xad\\xbc\\xc3\\xd1\\xa7\\xbc\\xd2\\xc2\\xdb\\xcc\\xb3\\xca\\xc7\\xd6\\xd0\\xb9\\xfa\\xd7\\xee\\xb4\\xf3\\xb5\\xc4\\xbe\\xad\\xbc\\xc3\\xd1\\xa7\\xd1\\xa7\\xca\\xf5\\xc2\\xdb\\xcc\\xb3\\xa1\\xa3 \" />\\r\\n<meta name=\"generator\" content=\"Discuz! X3.1\" />\\r\\n<meta name=\"author\" content=\"Discuz! Team and Comsenz UI Team\" />\\r\\n<meta name=\"copyright\" content=\"2001-2013 Comsenz Inc.\" />\\r\\n<meta name=\"MSSmartTagsPreventParsing\" content=\"True\" />\\r\\n<meta http-equiv=\"MSThemeCompatible\" content=\"Yes\" />\\r\\n<meta name=\"Baiduspider\" content=\"index,noarchive\">\\r\\n<meta name=\"360Spider\" content=\"index,noarchive\">\\r\\n<meta name=\"haosouSpider\" content=\"index,noarchive\">\\r\\n<meta name=\"Sosospider\" content=\"index,noarchive\">\\r\\n<meta name=\"YisouSpider\" content=\"index,noarchive\">\\r\\n<meta name=\"Sogou+web+spider\" content=\"index,noarchive\">\\r\\n<meta name=\"EasouSpider\" content=\"index,noarchive\">\\r\\n<meta name=\"msnbot\" content=\"index,noarchive\">\\r\\n<meta name=\"robot\" content=\"index,noarchive\">\\r\\n<base href=\"http://bbs.jjxj.org/\" /><link rel=\"stylesheet\" type=\"text/css\" href=\"data/cache/style_1_common.css?gEm\" /><link rel=\"stylesheet\" type=\"text/css\" href=\"data/cache/style_1_forum_index.css?gEm\" /><link rel=\"stylesheet\" id=\"css_extstyle\" type=\"text/css\" href=\"./template/default/style/t5/style.css\" /><script type=\"text/javascript\">var STYLEID = \\'1\\', STATICURL = \\'static/\\', IMGDIR = \\'static/image/common\\', VERHASH = \\'gEm\\', charset = \\'gbk\\', discuz_uid = \\'0\\', cookiepre = \\'BVT2_48ae_\\', cookiedomain = \\'.jjxj.org\\', cookiepath = \\'/\\', showusercard = \\'1\\', attackevasive = \\'0\\', disallowfloat = \\'login|newthread\\', creditnotice = \\'1|\\xd1\\xa7\\xca\\xf5\\xcb\\xae\\xc6\\xbd|,2|\\xbd\\xf0\\xb1\\xd2|,3|\\xd2\\xf8\\xb1\\xd2|,4|\\xcf\\xc2\\xd4\\xd8\\xc1\\xf7\\xc1\\xbf|,5|\\xb9\\xb1\\xcf\\xd7\\xd6\\xb5|,6|\\xbd\\xf1\\xc8\\xd5\\xca\\xa3\\xd3\\xe0\\xcf\\xc2\\xd4\\xd8\\xc1\\xbf|,7|\\xc8\\xc8\\xd0\\xc4\\xd6\\xb8\\xca\\xfd|,8|\\xb5\\xe3\\xbb\\xf7\\xb9\\xb1\\xcf\\xd7|\\', defaultstyle = \\'./template/default/style/t5\\', REPORTURL = \\'aHR0cDovL2Jicy5qanhqLm9yZy8=\\', SITEURL = \\'http://bbs.jjxj.org/\\', JSPATH = \\'data/cache/\\', DYNAMICURL = \\'\\';</script>\\r\\n<script src=\"data/cache/common.js?gEm\" type=\"text/javascript\"></script>\\r\\n<meta name=\"Baiduspider\" content=\"index,noarchive\">\\r\\n<meta name=\"360Spider\" content=\"index,noarchive\">\\r\\n<meta name=\"haosouSpider\" content=\"index,noarchive\">\\r\\n<meta name=\"Sosospider\" content=\"index,noarchive\">\\r\\n<meta name=\"YisouSpider\" content=\"index,noarchive\">\\r\\n<meta name=\"Sogou+web+spider\" content=\"index,noarchive\">\\r\\n<meta name=\"EasouSpider\" content=\"index,noarchive\">\\r\\n<meta name=\"msnbot\" content=\"index,noarchive\">\\r\\n<meta name=\"robot\" content=\"index,noarchive\">\\r\\n<meta name=\"application-name\" content=\"\\xbe\\xad\\xbc\\xc3\\xd1\\xa7\\xbc\\xd2\" />\\r\\n<meta name=\"msapplication-tooltip\" content=\"\\xbe\\xad\\xbc\\xc3\\xd1\\xa7\\xbc\\xd2\" />\\r\\n<meta name=\"msapplication-task\" content=\"name=\\xc3\\xc5\\xbb\\xa7;action-uri=http://www.jjxj.org;icon-uri=http://bbs.jjxj.org/static/image/common/portal.ico\" /><meta name=\"msapplication-task\" content=\"name=\\xca\\xd7\\xd2\\xb3;action-uri=http://bbs.jjxj.org/forum.php;icon-uri=http://bbs.jjxj.org/static/image/common/bbs.ico\" />\\r\\n<meta name=\"msapplication-task\" content=\"name=\\xbc\\xd2\\xd4\\xb0;action-uri=http://bbs.jjxj.org/home.php;icon-uri=http://bbs.jjxj.org/static/image/common/home.ico\" /><script src=\"data/cache/forum.js?gEm\" type=\"text/javascript\"></script>\\r\\n</head>\\r\\n\\r\\n<body id=\"nv_forum\" class=\"pg_index\" onkeydown=\"if(event.keyCode==27) return false;\">\\r\\n<div id=\"append_parent\"></div><div id=\"ajaxwaitid\"></div>\\r\\n<div id=\"toptb\" class=\"cl\">\\r\\n<div class=\"wp\">\\r\\n<div class=\"z\"></div>\\r\\n<div class=\"y\">\\r\\n<a id=\"switchblind\" href=\"javascript:;\" onclick=\"toggleBlind(this)\" title=\"\\xbf\\xaa\\xc6\\xf4\\xb8\\xa8\\xd6\\xfa\\xb7\\xc3\\xce\\xca\" class=\"switchblind\">\\xbf\\xaa\\xc6\\xf4\\xb8\\xa8\\xd6\\xfa\\xb7\\xc3\\xce\\xca</a>\\r\\n<a href=\"javascript:;\" id=\"switchwidth\" onclick=\"widthauto(this)\" title=\"\\xc7\\xd0\\xbb\\xbb\\xb5\\xbd\\xbf\\xed\\xb0\\xe6\" class=\"switchwidth\">\\xc7\\xd0\\xbb\\xbb\\xb5\\xbd\\xbf\\xed\\xb0\\xe6</a>\\r\\n</div>\\r\\n</div>\\r\\n</div>\\r\\n\\r\\n<div id=\"qmenu_menu\" class=\"p_pop blk\" style=\"display: none;\">\\r\\n<div class=\"ptm pbw hm\">\\r\\n\\xc7\\xeb <a href=\"javascript:;\" class=\"xi2\" onclick=\"lsSubmit()\"><strong>\\xb5\\xc7\\xc2\\xbc</strong></a> \\xba\\xf3\\xca\\xb9\\xd3\\xc3\\xbf\\xec\\xbd\\xdd\\xb5\\xbc\\xba\\xbd<br />\\xc3\\xbb\\xd3\\xd0\\xd5\\xca\\xba\\xc5\\xa3\\xbf<a href=\"member.php?mod=register\" class=\"xi2 xw1\">\\xbf\\xec\\xcb\\xd9\\xd7\\xa2\\xb2\\xe1</a>\\r\\n</div>\\r\\n<div id=\"fjump_menu\" class=\"btda\"></div></div><div id=\"hd\">\\r\\n<div class=\"wp\">\\r\\n<div class=\"hdc cl\"><h2><a href=\"http://bbs.jjxj.org/\" title=\"\\xbe\\xad\\xbc\\xc3\\xd1\\xa7\\xbc\\xd2\"><img src=\"static/image/common/logo.png\" alt=\"\\xbe\\xad\\xbc\\xc3\\xd1\\xa7\\xbc\\xd2\" border=\"0\" /></a></h2><script src=\"data/cache/logging.js?gEm\" type=\"text/javascript\"></script>\\r\\n<form method=\"post\" autocomplete=\"off\" id=\"lsform\" action=\"member.php?mod=logging&amp;action=login&amp;loginsubmit=yes&amp;infloat=yes&amp;lssubmit=yes\" onsubmit=\"pwmd5(\\'ls_password\\');return lsSubmit();\">\\r\\n<div class=\"fastlg cl\">\\r\\n<span id=\"return_ls\" style=\"display:none\"></span>\\r\\n<div class=\"y pns\">\\r\\n<table cellspacing=\"0\" cellpadding=\"0\">\\r\\n<tr>\\r\\n<td><label for=\"ls_username\">\\xd5\\xca\\xba\\xc5</label></td>\\r\\n<td><input type=\"text\" name=\"username\" id=\"ls_username\" class=\"px vm xg1\"  value=\"UID/\\xd3\\xc3\\xbb\\xa7\\xc3\\xfb/Email\" onfocus=\"if(this.value == \\'UID/\\xd3\\xc3\\xbb\\xa7\\xc3\\xfb/Email\\'){this.value = \\'\\';this.className = \\'px vm\\';}\" onblur=\"if(this.value == \\'\\'){this.value = \\'UID/\\xd3\\xc3\\xbb\\xa7\\xc3\\xfb/Email\\';this.className = \\'px vm xg1\\';}\" tabindex=\"901\" /></td>\\r\\n<td class=\"fastlg_l\"><label for=\"ls_cookietime\"><input type=\"checkbox\" name=\"cookietime\" id=\"ls_cookietime\" class=\"pc\" value=\"2592000\" tabindex=\"903\" />\\xd7\\xd4\\xb6\\xaf\\xb5\\xc7\\xc2\\xbc</label></td>\\r\\n<td>&nbsp;<a href=\"javascript:;\" onclick=\"showWindow(\\'login\\', \\'member.php?mod=logging&action=login&viewlostpw=1\\')\">\\xd5\\xd2\\xbb\\xd8\\xc3\\xdc\\xc2\\xeb</a></td>\\r\\n</tr>\\r\\n<tr>\\r\\n<td><label for=\"ls_password\">\\xc3\\xdc\\xc2\\xeb</label></td>\\r\\n<td><input type=\"password\" name=\"password\" id=\"ls_password\" class=\"px vm\" autocomplete=\"off\" tabindex=\"902\" /></td>\\r\\n<td class=\"fastlg_l\"><button type=\"submit\" class=\"pn vm\" tabindex=\"904\" style=\"width: 75px;\"><em>\\xb5\\xc7\\xc2\\xbc</em></button></td>\\r\\n<td>&nbsp;<a href=\"member.php?mod=register\" class=\"xi2 xw1\">\\xbf\\xec\\xcb\\xd9\\xd7\\xa2\\xb2\\xe1</a></td>\\r\\n</tr>\\r\\n</table>\\r\\n<input type=\"hidden\" name=\"quickforward\" value=\"yes\" />\\r\\n<input type=\"hidden\" name=\"handlekey\" value=\"ls\" />\\r\\n</div>\\r\\n\\r\\n<div class=\"fastlg_fm y\" style=\"margin-right: 10px; padding-right: 10px\">\\r\\n<p><a href=\"http://bbs.jjxj.org/connect.php?mod=login&op=init&referer=index.php&statfrom=login_simple\"><img src=\"static/image/common/qq_login.gif\" class=\"vm\" alt=\"QQ\\xb5\\xc7\\xc2\\xbc\" /></a></p>\\r\\n<p class=\"hm xg1\" style=\"padding-top: 2px;\">\\xd6\\xbb\\xd0\\xe8\\xd2\\xbb\\xb2\\xbd\\xa3\\xac\\xbf\\xec\\xcb\\xd9\\xbf\\xaa\\xca\\xbc</p>\\r\\n</div>\\r\\n</div>\\r\\n</form>\\r\\n\\r\\n<script src=\"data/cache/md5.js?gEm\" type=\"text/javascript\" reload=\"1\"></script>\\r\\n</div>\\r\\n\\r\\n<div id=\"nv\">\\r\\n<a href=\"javascript:;\" id=\"qmenu\" onmouseover=\"delayShow(this, function () {showMenu({\\'ctrlid\\':\\'qmenu\\',\\'pos\\':\\'34!\\',\\'ctrlclass\\':\\'a\\',\\'duration\\':2});showForummenu();})\">\\xbf\\xec\\xbd\\xdd\\xb5\\xbc\\xba\\xbd</a>\\r\\n<ul><li class=\"a\" id=\"mn_Nf9a8\" ><a href=\"http://bbs.jjxj.org/\" hidefocus=\"true\"  >\\xca\\xd7\\xd2\\xb3</a></li><li id=\"mn_Nfec9\" onmouseover=\"showMenu({\\'ctrlid\\':this.id,\\'ctrlclass\\':\\'hover\\',\\'duration\\':2})\"><a href=\"#\" hidefocus=\"true\"   style=\"font-weight: bold;\">\\xbb\\xee\\xb6\\xaf\\xd6\\xd0\\xd0\\xc4</a></li></ul>\\r\\n</div>\\r\\n<ul class=\"p_pop h_pop\" id=\"plugin_menu\" style=\"display: none\">  <li><a href=\"plugin.php?id=bank_ane:bank\" id=\"mn_plink_bank\">\\xc9\\xe7\\xc7\\xf8\\xd2\\xf8\\xd0\\xd0</a></li>\\r\\n </ul>\\r\\n<div class=\"p_pop h_pop\" id=\"mn_userapp_menu\" style=\"display: none\"></div><ul class=\"p_pop h_pop\" id=\"mn_Nfec9_menu\" style=\"display: none\"><li><a href=\"http://bbs.jjxj.org/plugin.php?id=bank_ane:bank\" hidefocus=\"true\" target=\"_blank\" >\\xd2\\xf8\\xd0\\xd0</a></li></ul><div id=\"mu\" class=\"cl\">\\r\\n</div><div class=\"a_mu\"><script type=\"text/javascript\">\\r\\n/*\\xd2\\xb3\\xcd\\xb7\\xb6\\xfe\\xbc\\xb6\\xb5\\xbc\\xba\\xbd\\xc0\\xb8\\xb9\\xe3\\xb8\\xe6*/\\r\\nvar cpro_id = \"u783678\";\\r\\n</script>\\r\\n<script src=\"http://cpro.baidustatic.com/cpro/ui/c.js\" type=\"text/javascript\"></script></div><div id=\"scbar\" class=\"cl\">\\r\\n<form id=\"scbar_form\" method=\"post\" autocomplete=\"off\" onsubmit=\"searchFocus($(\\'scbar_txt\\'))\" action=\"search.php?searchsubmit=yes\" target=\"_blank\">\\r\\n<input type=\"hidden\" name=\"mod\" id=\"scbar_mod\" value=\"search\" />\\r\\n<input type=\"hidden\" name=\"formhash\" value=\"47084646\" />\\r\\n<input type=\"hidden\" name=\"srchtype\" value=\"title\" />\\r\\n<input type=\"hidden\" name=\"srhfid\" value=\"\" />\\r\\n<input type=\"hidden\" name=\"srhlocality\" value=\"forum::index\" />\\r\\n<table cellspacing=\"0\" cellpadding=\"0\">\\r\\n<tr>\\r\\n<td class=\"scbar_icon_td\"></td>\\r\\n<td class=\"scbar_txt_td\"><input type=\"text\" name=\"srchtxt\" id=\"scbar_txt\" value=\"\\xc7\\xeb\\xca\\xe4\\xc8\\xeb\\xcb\\xd1\\xcb\\xf7\\xc4\\xda\\xc8\\xdd\" autocomplete=\"off\" x-webkit-speech speech /></td>\\r\\n<td class=\"scbar_type_td\"><a href=\"javascript:;\" id=\"scbar_type\" class=\"xg1\" onclick=\"showMenu(this.id)\" hidefocus=\"true\">\\xcb\\xd1\\xcb\\xf7</a></td>\\r\\n<td class=\"scbar_btn_td\"><button type=\"submit\" name=\"searchsubmit\" id=\"scbar_btn\" sc=\"1\" class=\"pn pnc\" value=\"true\"><strong class=\"xi2\">\\xcb\\xd1\\xcb\\xf7</strong></button></td>\\r\\n<td class=\"scbar_hot_td\">\\r\\n<div id=\"scbar_hot\">\\r\\n<strong class=\"xw1\">\\xc8\\xc8\\xcb\\xd1: </strong>\\r\\n\\r\\n<a href=\"search.php?mod=forum&amp;srchtxt=%BA%EA%B9%DB&amp;formhash=47084646&amp;searchsubmit=true&amp;source=hotsearch\" target=\"_blank\" class=\"xi2\" sc=\"1\">\\xba\\xea\\xb9\\xdb</a>\\r\\n\\r\\n\\r\\n\\r\\n<a href=\"search.php?mod=forum&amp;srchtxt=%CE%A2%B9%DB&amp;formhash=47084646&amp;searchsubmit=true&amp;source=hotsearch\" target=\"_blank\" class=\"xi2\" sc=\"1\">\\xce\\xa2\\xb9\\xdb</a>\\r\\n\\r\\n\\r\\n\\r\\n<a href=\"search.php?mod=forum&amp;srchtxt=%BC%C6%C1%BF&amp;formhash=47084646&amp;searchsubmit=true&amp;source=hotsearch\" target=\"_blank\" class=\"xi2\" sc=\"1\">\\xbc\\xc6\\xc1\\xbf</a>\\r\\n\\r\\n\\r\\n\\r\\n<a href=\"search.php?mod=forum&amp;srchtxt=%BD%F0%C8%DA&amp;formhash=47084646&amp;searchsubmit=true&amp;source=hotsearch\" target=\"_blank\" class=\"xi2\" sc=\"1\">\\xbd\\xf0\\xc8\\xda</a>\\r\\n\\r\\n\\r\\n\\r\\n<a href=\"search.php?mod=forum&amp;srchtxt=%CD%B3%BC%C6&amp;formhash=47084646&amp;searchsubmit=true&amp;source=hotsearch\" target=\"_blank\" class=\"xi2\" sc=\"1\">\\xcd\\xb3\\xbc\\xc6</a>\\r\\n\\r\\n</div>\\r\\n</td>\\r\\n</tr>\\r\\n</table>\\r\\n</form>\\r\\n</div>\\r\\n<ul id=\"scbar_type_menu\" class=\"p_pop\" style=\"display: none;\"><li><a href=\"javascript:;\" rel=\"user\">\\xd3\\xc3\\xbb\\xa7</a></li></ul>\\r\\n<script type=\"text/javascript\">\\r\\ninitSearchmenu(\\'scbar\\', \\'\\');\\r\\n</script>\\r\\n</div>\\r\\n</div>\\r\\n\\r\\n<style>.read{ background: url(\\'static/image/common/scf.gif\\') no-repeat 0 50%; }</style>\\r\\n<div id=\"wp\" class=\"wp\">\\r\\n<div id=\"pt\" class=\"bm cl\">\\r\\n\\r\\n<div class=\"z\">\\r\\n<a href=\"./\" class=\"nvhm\" title=\"\\xca\\xd7\\xd2\\xb3\">\\xbe\\xad\\xbc\\xc3\\xd1\\xa7\\xbc\\xd2</a><em>&raquo;</em><a href=\"http://bbs.jjxj.org/forum.php\">\\xca\\xd7\\xd2\\xb3</a></div>\\r\\n<div class=\"z\"></div>\\r\\n</div>\\r\\n\\r\\n\\r\\n\\r\\n<style id=\"diy_style\" type=\"text/css\"></style>\\r\\n\\r\\n<div class=\"wp\">\\r\\n<!--[diy=diy1]--><div id=\"diy1\" class=\"area\"></div><!--[/diy]-->\\r\\n</div>\\r\\n\\r\\n<div id=\"ct\" class=\"wp cl\">\\r\\n<div id=\"chart\" class=\"bm bw0 cl\">\\r\\n\\r\\n<div class=\"y\">\\r\\n<a href=\"http://bbs.jjxj.org/forum.php?mod=guide&amp;view=new\" title=\"\\xd7\\xee\\xd0\\xc2\\xbb\\xd8\\xb8\\xb4\" class=\"xi2\">\\xd7\\xee\\xd0\\xc2\\xbb\\xd8\\xb8\\xb4</a></div>\\r\\n</div>\\r\\n<!--[diy=diy_chart]--><div id=\"diy_chart\" class=\"area\"></div><!--[/diy]-->\\r\\n<div class=\"mn\">\\r\\n\\r\\n\\r\\n\\r\\n\\r\\n\\r\\n<div class=\"fl bm\">\\r\\n<div class=\"bm bmw  flg cl\">\\r\\n<div class=\"bm_h cl\">\\r\\n<span class=\"o\">\\r\\n<img id=\"category_72_img\" src=\"static/image/common/collapsed_no.gif\" title=\"\\xca\\xd5\\xc6\\xf0/\\xd5\\xb9\\xbf\\xaa\" alt=\"\\xca\\xd5\\xc6\\xf0/\\xd5\\xb9\\xbf\\xaa\" onclick=\"toggle_collapse(\\'category_72\\');\" />\\r\\n</span>\\r\\n<span class=\"y\">\\xb7\\xd6\\xc7\\xf8\\xb0\\xe6\\xd6\\xf7: <a href=\"http://bbs.jjxj.org/space-username-kingkongsy.html\" class=\"notabs\" c=\"1\">kingkongsy</a></span><h2><a href=\"http://bbs.jjxj.org/forum.php?gid=72\" style=\"\">\\xbf\\xc6\\xd1\\xd0\\xd3\\xeb\\xc7\\xf3\\xd6\\xfa</a></h2>\\r\\n</div>\\r\\n<div id=\"category_72\" class=\"bm_c\" style=\"\">\\r\\n<table cellspacing=\"0\" cellpadding=\"0\" class=\"fl_tb\">\\r\\n<tr><td class=\"fl_g\" width=\"49.9%\">\\r\\n<div class=\"fl_icn_g\" style=\"width: 50px;\">\\r\\n<a href=\"http://bbs.jjxj.org/forum-243-1.html\"><img src=\"data/attachment/common/cb/common_243_icon.gif\" align=\"left\" alt=\"\" /></a></div>\\r\\n<dl style=\"margin-left: 50px;\">\\r\\n<dt><a href=\"http://bbs.jjxj.org/forum-243-1.html\">\\xbe\\xad\\xb9\\xdc\\xce\\xca\\xce\\xca</a></dt>\\r\\n<dd><em>\\xd6\\xf7\\xcc\\xe2: 2095</em>, <em>\\xcc\\xfb\\xca\\xfd: <span title=\"20752\">2\\xcd\\xf2</span></em></dd><dd>\\r\\n<a href=\"http://bbs.jjxj.org/forum.php?mod=redirect&amp;tid=1239688&amp;goto=lastpost#lastpost\" class=\"xi2\">\\xbe\\xc3\\xce\\xb4\\xb5\\xc7\\xc2\\xbc\\xa3\\xac\\xcf\\xeb\\xd6\\xaa\\xb5\\xc0\\xcd\\xb3\\xbc\\xc6\\xc4\\xea\\xbc\\xf8\\xd5\\xe2\\xb8\\xf6\\xb0\\xe5 ...</a> <cite>2017-1-4 21:24 <a href=\"http://bbs.jjxj.org/space-username-mslcg.html\">mslcg</a></cite>\\r\\n</dd>\\r\\n</dl>\\r\\n</td>\\r\\n<td class=\"fl_g\" width=\"49.9%\">\\r\\n<div class=\"fl_icn_g\">\\r\\n<a href=\"http://bbs.jjxj.org/forum-362-1.html\"><img src=\"static/image/common/forum.gif\" alt=\"\\xc2\\xdb\\xce\\xc4\\xcd\\xb6\\xb8\\xe5\\xb7\\xa2\\xb1\\xed\" /></a>\\r\\n</div>\\r\\n<dl>\\r\\n<dt><a href=\"http://bbs.jjxj.org/forum-362-1.html\">\\xc2\\xdb\\xce\\xc4\\xcd\\xb6\\xb8\\xe5\\xb7\\xa2\\xb1\\xed</a></dt>\\r\\n<dd><em>\\xd6\\xf7\\xcc\\xe2: 344</em>, <em>\\xcc\\xfb\\xca\\xfd: 4615</em></dd><dd>\\r\\n<a href=\"http://bbs.jjxj.org/forum.php?mod=redirect&amp;tid=1239681&amp;goto=lastpost#lastpost\" class=\"xi2\">\\xa1\\xb6\\xd6\\xd0\\xb9\\xfa\\xc5\\xa9\\xb4\\xe5\\xb9\\xdb\\xb2\\xec\\xa1\\xb7\\xc0\\xa9\\xb0\\xe6\\xbc\\xb0\\xd5\\xf7\\xce\\xc4\\xc6\\xf4\\xca\\xc2</a> <cite>2017-4-7 07:33 <a href=\"http://bbs.jjxj.org/space-username-wuhannanchang.html\">wuhannanchang</a></cite>\\r\\n</dd>\\r\\n</dl>\\r\\n</td>\\r\\n</tr>\\r\\n</table>\\r\\n</div>\\r\\n</div><div class=\"bm bmw  flg cl\">\\r\\n<div class=\"bm_h cl\">\\r\\n<span class=\"o\">\\r\\n<img id=\"category_171_img\" src=\"static/image/common/collapsed_no.gif\" title=\"\\xca\\xd5\\xc6\\xf0/\\xd5\\xb9\\xbf\\xaa\" alt=\"\\xca\\xd5\\xc6\\xf0/\\xd5\\xb9\\xbf\\xaa\" onclick=\"toggle_collapse(\\'category_171\\');\" />\\r\\n</span>\\r\\n<span class=\"y\">\\xb7\\xd6\\xc7\\xf8\\xb0\\xe6\\xd6\\xf7: <a href=\"http://bbs.jjxj.org/space-username-nicholastang.html\" class=\"notabs\" c=\"1\">nicholastang</a></span><h2><a href=\"http://bbs.jjxj.org/forum.php?gid=171\" style=\"\">\\xbe\\xad\\xbc\\xc3\\xd1\\xa7\\xd2\\xbb\\xc7\\xf8</a></h2>\\r\\n</div>\\r\\n<div id=\"category_171\" class=\"bm_c\" style=\"\">\\r\\n<table cellspacing=\"0\" cellpadding=\"0\" class=\"fl_tb\">\\r\\n<tr><td class=\"fl_g\" width=\"49.9%\">\\r\\n<div class=\"fl_icn_g\" style=\"width: 50px;\">\\r\\n<a href=\"http://bbs.jjxj.org/forum-363-1.html\"><img src=\"data/attachment/common/00/common_363_icon.gif\" align=\"left\" alt=\"\" /></a></div>\\r\\n<dl style=\"margin-left: 50px;\">\\r\\n<dt><a href=\"http://bbs.jjxj.org/forum-363-1.html\" style=\"color: #FF0000;\">\\xbe\\xad\\xbc\\xc3\\xd1\\xa7\\xb2\\xe8\\xd7\\xf9</a></dt>\\r\\n<dd><em>\\xd6\\xf7\\xcc\\xe2: 3943</em>, <em>\\xcc\\xfb\\xca\\xfd: <span title=\"50011\">5\\xcd\\xf2</span></em></dd><dd>\\r\\n<a href=\"http://bbs.jjxj.org/forum.php?mod=redirect&amp;tid=1240065&amp;goto=lastpost#lastpost\" class=\"xi2\">\\xc3\\xe7\\xca\\xb5\\xa3\\xba\\xb3\\xc9\\xc3\\xfb\\xb3\\xc9\\xbc\\xd2\\xd5\\xe6\\xca\\xc7\\xc4\\xd1\\xc9\\xcf\\xbc\\xd3\\xc4\\xd1</a> <cite>2017-4-13 19:39 <a href=\"http://bbs.jjxj.org/space-username-bujuyige.html\">bujuyige</a></cite>\\r\\n</dd>\\r\\n</dl>\\r\\n</td>\\r\\n<td class=\"fl_g\" width=\"49.9%\">\\r\\n<div class=\"fl_icn_g\" style=\"width: 50px;\">\\r\\n<a href=\"http://bbs.jjxj.org/forum-63-1.html\"><img src=\"data/attachment/common/03/common_63_icon.jpg\" align=\"left\" alt=\"\" /></a></div>\\r\\n<dl style=\"margin-left: 50px;\">\\r\\n<dt><a href=\"http://bbs.jjxj.org/forum-63-1.html\"><font color=red>\\xb2\\xc6\\xbe\\xad\\xd7\\xca\\xd1\\xb6</font></a></dt>\\r\\n<dd><em>\\xd6\\xf7\\xcc\\xe2: <span title=\"20515\">2\\xcd\\xf2</span></em>, <em>\\xcc\\xfb\\xca\\xfd: <span title=\"122987\">12\\xcd\\xf2</span></em></dd><dd>\\r\\n<a href=\"http://bbs.jjxj.org/forum.php?mod=redirect&amp;tid=1239691&amp;goto=lastpost#lastpost\" class=\"xi2\">\\xb9\\xfa\\xbc\\xd2\\xd4\\xf5\\xd1\\xf9\\xb9\\xdc\\xc0\\xed\\xba\\xea\\xb9\\xdb\\xbe\\xad\\xbc\\xc3\\xa3\\xbf</a> <cite>2016-12-18 19:15 <a href=\"http://bbs.jjxj.org/space-username-%CB%EF%CE%F2%B3%B9.html\">\\xcb\\xef\\xce\\xf2\\xb3\\xb9</a></cite>\\r\\n</dd>\\r\\n</dl>\\r\\n</td>\\r\\n</tr>\\r\\n</table>\\r\\n</div>\\r\\n</div><div class=\"bm bmw  flg cl\">\\r\\n<div class=\"bm_h cl\">\\r\\n<span class=\"o\">\\r\\n<img id=\"category_231_img\" src=\"static/image/common/collapsed_no.gif\" title=\"\\xca\\xd5\\xc6\\xf0/\\xd5\\xb9\\xbf\\xaa\" alt=\"\\xca\\xd5\\xc6\\xf0/\\xd5\\xb9\\xbf\\xaa\" onclick=\"toggle_collapse(\\'category_231\\');\" />\\r\\n</span>\\r\\n<span class=\"y\">\\xb7\\xd6\\xc7\\xf8\\xb0\\xe6\\xd6\\xf7: <a href=\"http://bbs.jjxj.org/space-username-duoluoqishi8.html\" class=\"notabs\" c=\"1\">duoluoqishi8</a></span><h2><a href=\"http://bbs.jjxj.org/forum.php?gid=231\" style=\"\">\\xbe\\xad\\xbc\\xc3\\xd1\\xa7\\xb6\\xfe\\xc7\\xf8</a></h2>\\r\\n</div>\\r\\n<div id=\"category_231\" class=\"bm_c\" style=\"\">\\r\\n<table cellspacing=\"0\" cellpadding=\"0\" class=\"fl_tb\">\\r\\n<tr><td class=\"fl_g\" width=\"49.9%\">\\r\\n<div class=\"fl_icn_g\" style=\"width: 50px;\">\\r\\n<a href=\"http://bbs.jjxj.org/forum-206-1.html\"><img src=\"data/attachment/common/7e/common_206_icon.jpg\" align=\"left\" alt=\"\" /></a></div>\\r\\n<dl style=\"margin-left: 50px;\">\\r\\n<dt><a href=\"http://bbs.jjxj.org/forum-206-1.html\">\\xbe\\xad\\xbc\\xc3\\xd1\\xa7\\xc2\\xdb\\xce\\xc4</a></dt>\\r\\n<dd><em>\\xd6\\xf7\\xcc\\xe2: <span title=\"45309\">4\\xcd\\xf2</span></em>, <em>\\xcc\\xfb\\xca\\xfd: <span title=\"54226\">5\\xcd\\xf2</span></em></dd><dd>\\r\\n<a href=\"http://bbs.jjxj.org/forum.php?mod=redirect&amp;tid=1155927&amp;goto=lastpost#lastpost\" class=\"xi2\">\\xb9\\xd8\\xd3\\xda\\xbd\\xa8\\xc9\\xe8\\xd6\\xc7\\xbb\\xdb\\xb3\\xc7\\xca\\xd0\\xb5\\xc4\\xd5\\xbd\\xc2\\xd4\\xcb\\xbc\\xbf\\xbc</a> <cite>2016-12-5 08:25 <a href=\"http://bbs.jjxj.org/space-username-xguldy.html\">xguldy</a></cite>\\r\\n</dd>\\r\\n</dl>\\r\\n</td>\\r\\n<td width=\"49.9%\">&nbsp;</td></tr></tr>\\r\\n</table>\\r\\n</div>\\r\\n</div><div class=\"bm bmw  flg cl\">\\r\\n<div class=\"bm_h cl\">\\r\\n<span class=\"o\">\\r\\n<img id=\"category_257_img\" src=\"static/image/common/collapsed_no.gif\" title=\"\\xca\\xd5\\xc6\\xf0/\\xd5\\xb9\\xbf\\xaa\" alt=\"\\xca\\xd5\\xc6\\xf0/\\xd5\\xb9\\xbf\\xaa\" onclick=\"toggle_collapse(\\'category_257\\');\" />\\r\\n</span>\\r\\n<span class=\"y\">\\xb7\\xd6\\xc7\\xf8\\xb0\\xe6\\xd6\\xf7: <a href=\"http://bbs.jjxj.org/space-username-beijin2088.html\" class=\"notabs\" c=\"1\">beijin2088</a></span><h2><a href=\"http://bbs.jjxj.org/forum.php?gid=257\" style=\"\">\\xb9\\xdc\\xc0\\xed\\xd1\\xa7\\xc7\\xf8</a></h2>\\r\\n</div>\\r\\n<div id=\"category_257\" class=\"bm_c\" style=\"\">\\r\\n<table cellspacing=\"0\" cellpadding=\"0\" class=\"fl_tb\">\\r\\n<tr><td class=\"fl_g\" width=\"49.9%\">\\r\\n<div class=\"fl_icn_g\" style=\"width: 49px;\">\\r\\n<a href=\"http://bbs.jjxj.org/forum-270-1.html\"><img src=\"data/attachment/common/39/common_270_icon.jpg\" align=\"left\" alt=\"\" /></a></div>\\r\\n<dl style=\"margin-left: 49px;\">\\r\\n<dt><a href=\"http://bbs.jjxj.org/forum-270-1.html\">\\xce\\xef\\xc1\\xf7\\xba\\xcd\\xb9\\xa9\\xd3\\xa6\\xc1\\xb4\\xb9\\xdc\\xc0\\xed</a></dt>\\r\\n<dd><em>\\xd6\\xf7\\xcc\\xe2: 69</em>, <em>\\xcc\\xfb\\xca\\xfd: 306</em></dd><dd>\\r\\n<a href=\"http://bbs.jjxj.org/forum.php?mod=redirect&amp;tid=1174985&amp;goto=lastpost#lastpost\" class=\"xi2\">\\xce\\xef\\xc1\\xf7\\xba\\xcd\\xb9\\xa9\\xd3\\xa6\\xc1\\xb4\\xb9\\xdc\\xc0\\xed\\xca\\xc7\\xc3\\xdc\\xb2\\xbb\\xbf\\xc9\\xb7\\xd6\\xb5\\xc4</a> <cite>2016-4-17 10:59 <a href=\"http://bbs.jjxj.org/space-username-QQ_648CB3.html\">QQ_648CB3</a></cite>\\r\\n</dd>\\r\\n</dl>\\r\\n</td>\\r\\n<td width=\"49.9%\">&nbsp;</td></tr></tr>\\r\\n</table>\\r\\n</div>\\r\\n</div><div class=\"bm bmw  cl\">\\r\\n<div class=\"bm_h cl\">\\r\\n<span class=\"o\">\\r\\n<img id=\"category_367_img\" src=\"static/image/common/collapsed_no.gif\" title=\"\\xca\\xd5\\xc6\\xf0/\\xd5\\xb9\\xbf\\xaa\" alt=\"\\xca\\xd5\\xc6\\xf0/\\xd5\\xb9\\xbf\\xaa\" onclick=\"toggle_collapse(\\'category_367\\');\" />\\r\\n</span>\\r\\n<h2><a href=\"http://bbs.jjxj.org/forum.php?gid=367\" style=\"\">\\xbf\\xbc\\xd1\\xd0\\xbf\\xbc\\xb2\\xa9\\xc7\\xf8</a></h2>\\r\\n</div>\\r\\n<div id=\"category_367\" class=\"bm_c\" style=\"\">\\r\\n<table cellspacing=\"0\" cellpadding=\"0\" class=\"fl_tb\">\\r\\n<tr><td class=\"fl_icn\" >\\r\\n<a href=\"http://bbs.jjxj.org/forum-229-1.html\"><img src=\"static/image/common/forum.gif\" alt=\"\\xbf\\xbc\\xd1\\xd0\\xca\\xd4\\xcc\\xe2\\xc7\\xf8\" /></a>\\r\\n</td>\\r\\n<td>\\r\\n<h2><a href=\"http://bbs.jjxj.org/forum-229-1.html\">\\xbf\\xbc\\xd1\\xd0\\xca\\xd4\\xcc\\xe2\\xc7\\xf8</a></h2>\\r\\n<p>\\xb0\\xe6\\xd6\\xf7: <span class=\"xi2\"><a href=\"http://bbs.jjxj.org/space-username-shengzhanqishi.html\" class=\"notabs\" c=\"1\">shengzhanqishi</a></span></p></td>\\r\\n<td class=\"fl_i\">\\r\\n<span class=\"xi2\">1319</span><span class=\"xg1\"> / 4546</span></td>\\r\\n<td class=\"fl_by\">\\r\\n<div>\\r\\n<a href=\"http://bbs.jjxj.org/forum.php?mod=redirect&amp;tid=50266&amp;goto=lastpost#lastpost\" class=\"xi2\">\\xce\\xf7\\xb7\\xbd\\xbe\\xad\\xbc\\xc3\\xd1\\xa7\\xca\\xd4\\xcc\\xe2\\xdc\\xf6\\xdd\\xcd</a> <cite>2016-5-11 16:48 <a href=\"http://bbs.jjxj.org/space-username-512932273.html\">512932273</a></cite>\\r\\n</div>\\r\\n</td>\\r\\n</tr>\\r\\n<tr class=\"fl_row\">\\r\\n<td class=\"fl_icn\" >\\r\\n<a href=\"http://bbs.jjxj.org/forum-222-1.html\"><img src=\"static/image/common/forum.gif\" alt=\"\\xbf\\xbc\\xb2\\xa9\\xca\\xd4\\xcc\\xe2\\xc7\\xf8\" /></a>\\r\\n</td>\\r\\n<td>\\r\\n<h2><a href=\"http://bbs.jjxj.org/forum-222-1.html\">\\xbf\\xbc\\xb2\\xa9\\xca\\xd4\\xcc\\xe2\\xc7\\xf8</a></h2>\\r\\n<p>\\xb0\\xe6\\xd6\\xf7: <span class=\"xi2\"><a href=\"http://bbs.jjxj.org/space-username-shengzhanqishi.html\" class=\"notabs\" c=\"1\">shengzhanqishi</a></span></p></td>\\r\\n<td class=\"fl_i\">\\r\\n<span class=\"xi2\">437</span><span class=\"xg1\"> / 2577</span></td>\\r\\n<td class=\"fl_by\">\\r\\n<div>\\r\\n<a href=\"http://bbs.jjxj.org/forum.php?mod=redirect&amp;tid=1226241&amp;goto=lastpost#lastpost\" class=\"xi2\">\\xce\\xd2\\xd2\\xb2\\xb7\\xa2\\xcb\\xcd\\xd2\\xbb\\xb8\\xf6\\xcc\\xfb\\xd7\\xd3\\xa3\\xac\\xd6\\xd0\\xb9\\xfa\\xc9\\xe7\\xbf\\xc6\\xd4\\xba\\xbf\\xbc ...</a> <cite>2017-3-14 16:50 <a href=\"http://bbs.jjxj.org/space-username-wmx0521.html\">wmx0521</a></cite>\\r\\n</div>\\r\\n</td>\\r\\n</tr>\\r\\n<tr class=\"fl_row\">\\r\\n<td class=\"fl_icn\"  style=\"width: 50px;\">\\r\\n<a href=\"http://bbs.jjxj.org/forum-170-1.html\"><img src=\"data/attachment/common/14/common_170_icon.jpg\" align=\"left\" alt=\"\" /></a></td>\\r\\n<td>\\r\\n<h2><a href=\"http://bbs.jjxj.org/forum-170-1.html\">\\xbf\\xbc\\xd1\\xd0\\xbf\\xbc\\xb2\\xa9\\xc7\\xf8</a></h2>\\r\\n<p class=\"xg2\">\\xbf\\xbc\\xd1\\xd0\\xbf\\xbc\\xb2\\xa9\\xca\\xd4\\xcc\\xe2\\xb9\\xb2\\xcf\\xed\\xa1\\xa2\\xd1\\xa7\\xcf\\xb0\\xb1\\xb8\\xbf\\xbc\\xbd\\xbb\\xc1\\xf7<font color=\"red\"><strong>\\xc3\\xe2\\xc1\\xf7\\xc1\\xbf</strong></font></p><p>\\xb0\\xe6\\xd6\\xf7: <span class=\"xi2\"><a href=\"http://bbs.jjxj.org/space-username-shengzhanqishi.html\" class=\"notabs\" c=\"1\"><strong>shengzhanqishi</strong></a></span></p></td>\\r\\n<td class=\"fl_i\">\\r\\n<span class=\"xi2\">2023</span><span class=\"xg1\"> / <span title=\"10976\">1\\xcd\\xf2</span></span></td>\\r\\n<td class=\"fl_by\">\\r\\n<div>\\r\\n<a href=\"http://bbs.jjxj.org/forum.php?mod=redirect&amp;tid=1173974&amp;goto=lastpost#lastpost\" class=\"xi2\">\\xc2\\xfc\\xc0\\xa5\\xba\\xea\\xb9\\xdb\\xbe\\xad\\xbc\\xc3\\xd1\\xa7\\xbe\\xab\\xbb\\xaa\\xbd\\xb2\\xd2\\xe5</a> <cite>2016-7-7 10:34 <a href=\"http://bbs.jjxj.org/space-username-aijun_dang.html\">aijun_dang</a></cite>\\r\\n</div>\\r\\n</td>\\r\\n</tr>\\r\\n<tr class=\"fl_row\">\\r\\n</tr>\\r\\n</table>\\r\\n</div>\\r\\n</div><div class=\"bm bmw  flg cl\">\\r\\n<div class=\"bm_h cl\">\\r\\n<span class=\"o\">\\r\\n<img id=\"category_1_img\" src=\"static/image/common/collapsed_no.gif\" title=\"\\xca\\xd5\\xc6\\xf0/\\xd5\\xb9\\xbf\\xaa\" alt=\"\\xca\\xd5\\xc6\\xf0/\\xd5\\xb9\\xbf\\xaa\" onclick=\"toggle_collapse(\\'category_1\\');\" />\\r\\n</span>\\r\\n<span class=\"y\">\\xb7\\xd6\\xc7\\xf8\\xb0\\xe6\\xd6\\xf7: <a href=\"http://bbs.jjxj.org/space-username-ppm8087001.html\" class=\"notabs\" c=\"1\">ppm8087001</a></span><h2><a href=\"http://bbs.jjxj.org/forum.php?gid=1\" style=\"\">\\xcd\\xb3\\xba\\xcf\\xbd\\xbb\\xc1\\xf7\\xc7\\xf8</a></h2>\\r\\n</div>\\r\\n<div id=\"category_1\" class=\"bm_c\" style=\"\">\\r\\n<table cellspacing=\"0\" cellpadding=\"0\" class=\"fl_tb\">\\r\\n<tr><td class=\"fl_g\" width=\"49.9%\">\\r\\n<div class=\"fl_icn_g\" style=\"width: 50px;\">\\r\\n<a href=\"http://bbs.jjxj.org/forum-201-1.html\"><img src=\"data/attachment/common/75/common_201_icon.jpg\" align=\"left\" alt=\"\" /></a></div>\\r\\n<dl style=\"margin-left: 50px;\">\\r\\n<dt><a href=\"http://bbs.jjxj.org/forum-201-1.html\">\\xd3\\xa2\\xd3\\xef\\xd1\\xa7\\xcf\\xb0\\xbd\\xbb\\xc1\\xf7\\xc7\\xf8</a></dt>\\r\\n<dd><em>\\xd6\\xf7\\xcc\\xe2: 242</em>, <em>\\xcc\\xfb\\xca\\xfd: 2856</em></dd><dd>\\r\\n<a href=\"http://bbs.jjxj.org/forum.php?mod=redirect&amp;tid=1186033&amp;goto=lastpost#lastpost\" class=\"xi2\">\\xc3\\xbf\\xcc\\xec\\xd2\\xbb\\xbe\\xe4</a> <cite>2015-8-30 11:12 <a href=\"http://bbs.jjxj.org/space-username-greenzh.html\">greenzh</a></cite>\\r\\n</dd>\\r\\n</dl>\\r\\n</td>\\r\\n<td class=\"fl_g\" width=\"49.9%\">\\r\\n<div class=\"fl_icn_g\" style=\"width: 50px;\">\\r\\n<a href=\"http://bbs.jjxj.org/forum-39-1.html\"><img src=\"data/attachment/common/d6/common_39_icon.gif\" align=\"left\" alt=\"\" /></a></div>\\r\\n<dl style=\"margin-left: 50px;\">\\r\\n<dt><a href=\"http://bbs.jjxj.org/forum-39-1.html\">\\xb2\\xc6\\xbe\\xad\\xd5\\xd0\\xc6\\xb8\\xd0\\xc5\\xcf\\xa2\\xc7\\xf8</a></dt>\\r\\n<dd><em>\\xd6\\xf7\\xcc\\xe2: 2460</em>, <em>\\xcc\\xfb\\xca\\xfd: 9845</em></dd><dd>\\r\\n<a href=\"http://bbs.jjxj.org/forum.php?mod=redirect&amp;tid=1239679&amp;goto=lastpost#lastpost\" class=\"xi2\">\\xce\\xf7\\xc4\\xcf\\xb4\\xf3\\xd1\\xa7\\xbe\\xad\\xbc\\xc3\\xb9\\xdc\\xc0\\xed\\xd1\\xa7\\xd4\\xba\\xb3\\xcf\\xc6\\xb8\\xcc\\xec\\xcf\\xc2\\xd3\\xa2 ...</a> <cite>2017-1-18 19:36 <a href=\"http://bbs.jjxj.org/space-username-xguldy.html\">xguldy</a></cite>\\r\\n</dd>\\r\\n</dl>\\r\\n</td>\\r\\n</tr>\\r\\n<tr class=\"fl_row\">\\r\\n<td class=\"fl_g\" width=\"49.9%\">\\r\\n<div class=\"fl_icn_g\" style=\"width: 50px;\">\\r\\n<a href=\"http://bbs.jjxj.org/forum-176-1.html\"><img src=\"data/attachment/common/38/common_176_icon.jpg\" align=\"left\" alt=\"\" /></a></div>\\r\\n<dl style=\"margin-left: 50px;\">\\r\\n<dt><a href=\"http://bbs.jjxj.org/forum-176-1.html\">\\xc8\\xcb\\xce\\xc4\\xc9\\xe7\\xbf\\xc6\\xc7\\xf8</a></dt>\\r\\n<dd><em>\\xd6\\xf7\\xcc\\xe2: 2553</em>, <em>\\xcc\\xfb\\xca\\xfd: <span title=\"13349\">1\\xcd\\xf2</span></em></dd><dd>\\r\\n<a href=\"http://bbs.jjxj.org/forum.php?mod=redirect&amp;tid=24980&amp;goto=lastpost#lastpost\" class=\"xi2\">\\xc1\\xf5\\xbe\\xfc\\xc4\\xfe\\xa3\\xba\\xb9\\xdb\\xc4\\xee\\xb5\\xc4\\xc1\\xa6\\xc1\\xbf</a> <cite>2017-1-31 15:57 <a href=\"http://bbs.jjxj.org/space-username-sca.html\">sca</a></cite>\\r\\n</dd>\\r\\n</dl>\\r\\n</td>\\r\\n<td width=\"49.9%\">&nbsp;</td></tr></tr>\\r\\n</table>\\r\\n</div>\\r\\n</div>\\r\\n</div>\\r\\n\\r\\n<div class=\"wp mtn\">\\r\\n<!--[diy=diy3]--><div id=\"diy3\" class=\"area\"><div id=\"frameL13M8z\" class=\"frame move-span cl frame-1\"><div id=\"frameL13M8z_left\" class=\"column frame-1-c\"><div id=\"frameL13M8z_left_temp\" class=\"move-span temp\"></div><div id=\"portal_block_81\" class=\"block move-span\"><div class=\"blocktitle title\"><span class=\"titletext\" style=\"float:;margin-left:px;font-size:;color: !important;\">\\xd3\\xd1\\xc7\\xe9\\xc1\\xb4\\xbd\\xd3</span></div><div id=\"portal_block_81_content\" class=\"dxb_bc\"><div class=\"portal_block_summary\"><div class=\"bn lk\"><ul class=\"x cl\"><li><a target=\"_blank\" href=\"http://www.zgfdmw.com/\">\\xb7\\xc0\\xb5\\xc1\\xc3\\xc5</a></li><li><a target=\"_blank\" href=\"http://www.gudacn.com\">\\xcf\\xf0\\xbd\\xba\\xb0\\xe5</a></li><li><a target=\"_blank\" href=\"http://www.zkyxu.com\">\\xce\\xe4\\xba\\xba\\xb4\\xf3\\xd1\\xa7\\xb1\\xbe\\xb2\\xbf\\xd7\\xd4\\xbf\\xbc</a></li><li><a target=\"_blank\" href=\"http://www.ta.bio/\">\\xbd\\xf0\\xc8\\xda\\xbb\\xa5\\xd6\\xfa\\xc6\\xbd\\xcc\\xa8</a></li><li><a target=\"_blank\" href=\"http://www.fanbeizhuan.com/\">\\xc5\\xe4\\xd7\\xca</a></li><li><a target=\"_blank\" href=\"http://www.zqrsj.cn\">\\xd0\\xc2\\xb2\\xa9nb88\\xb9\\xd9\\xcd\\xf8</a></li><li><a target=\"_blank\" href=\"http://www.gudacn.com\">\\xcf\\xf0\\xbd\\xba\\xb0\\xe5</a></li><li><a target=\"_blank\" href=\"http://www.songshixian.com\">\\xcd\\xfe\\xc1\\xae\\xcf\\xa3\\xb6\\xfb\\xd6\\xd0\\xce\\xc4\\xcd\\xf8</a></li><li><a target=\"_blank\" href=\"http://www.yilongmachine.com\">1946bv1946</a></li><li><a target=\"_blank\" href=\"http://www.qtfy.cc/bogou/\">\\xb2\\xa9\\xb9\\xb7</a></li></ul></div></div></div></div></div></div></div><!--[/diy]-->\\r\\n</div>\\r\\n\\r\\n\\r\\n</div>\\r\\n\\r\\n</div>\\r\\n<script>fixed_top_nv();</script>\\t</div>\\r\\n<div class=\"focus\" id=\"sitefocus\">\\r\\n<div class=\"bm\">\\r\\n<div class=\"bm_h cl\">\\r\\n<a href=\"javascript:;\" onclick=\"setcookie(\\'nofocus_forum\\', 1, 4*3600);$(\\'sitefocus\\').style.display=\\'none\\'\" class=\"y\" title=\"\\xb9\\xd8\\xb1\\xd5\">\\xb9\\xd8\\xb1\\xd5</a>\\r\\n<h2>\\r\\n\\xb9\\xe3\\xb8\\xe6<span id=\"focus_ctrl\" class=\"fctrl\"><img src=\"static/image/common/pic_nv_prev.gif\" alt=\"\\xc9\\xcf\\xd2\\xbb\\xcc\\xf5\" title=\"\\xc9\\xcf\\xd2\\xbb\\xcc\\xf5\" id=\"focusprev\" class=\"cur1\" onclick=\"showfocus(\\'prev\\');\" /> <em><span id=\"focuscur\"></span>/1</em> <img src=\"static/image/common/pic_nv_next.gif\" alt=\"\\xcf\\xc2\\xd2\\xbb\\xcc\\xf5\" title=\"\\xcf\\xc2\\xd2\\xbb\\xcc\\xf5\" id=\"focusnext\" class=\"cur1\" onclick=\"showfocus(\\'next\\')\" /></span>\\r\\n</h2>\\r\\n</div>\\r\\n<div class=\"bm_c\" id=\"focus_con\">\\r\\n</div>\\r\\n</div>\\r\\n</div><div class=\"bm_c\" style=\"display: none\" id=\"focus_0\">\\r\\n<dl class=\"xld cl bbda\">\\r\\n<dt><a href=\"http://bbs.jjxj.org/thread-1239060-1-1.html\" class=\"xi2\" target=\"_blank\">\\xd6\\xd8\\xd2\\xaa\\xcd\\xa8\\xd6\\xaa</a></dt>\\r\\n<dd>\\xb5\\xe3\\xbb\\xf7\\xb2\\xe9\\xbf\\xb4\\xa3\\xac\\xb4\\xed\\xb9\\xfd\\xbb\\xfa\\xbb\\xe1\\xc4\\xaa\\xb9\\xd6</dd>\\r\\n</dl>\\r\\n<p class=\"ptn cl\"><a href=\"http://bbs.jjxj.org/thread-1239060-1-1.html\" class=\"xi2 y\" target=\"_blank\">\\xb2\\xe9\\xbf\\xb4 &raquo;</a></p>\\r\\n</div><script type=\"text/javascript\">\\r\\nvar focusnum = 1;\\r\\nif(focusnum < 2) {\\r\\n$(\\'focus_ctrl\\').style.display = \\'none\\';\\r\\n}\\r\\nif(!$(\\'focuscur\\').innerHTML) {\\r\\nvar randomnum = parseInt(Math.round(Math.random() * focusnum));\\r\\n$(\\'focuscur\\').innerHTML = Math.max(1, randomnum);\\r\\n}\\r\\nshowfocus();\\r\\nvar focusautoshow = window.setInterval(\\'showfocus(\\\\\\'next\\\\\\', 1);\\', 5000);\\r\\n</script>\\r\\n<div class=\"wp a_f\"><script type=\"text/javascript\">/*\\xd2\\xb3\\xbd\\xc5\\xb5\\xd7\\xb2\\xbf\\xb9\\xe3\\xb8\\xe6*/ var cpro_id = \\'u785171\\';</script><script src=\"http://cpro.baidu.com/cpro/ui/c.js\" type=\"text/javascript\"></script></br>\\xc3\\xe2\\xd4\\xf0\\xc9\\xea\\xc3\\xf7:\\xb1\\xbe\\xd5\\xbe\\xce\\xaa\\xb7\\xc7\\xd3\\xaf\\xc0\\xfb\\xd0\\xd4\\xd6\\xca\\xb5\\xc4\\xb8\\xf6\\xc8\\xcb\\xd1\\xa7\\xca\\xf5\\xcd\\xf8\\xd5\\xbe,\\xcd\\xf8\\xd5\\xbe\\xd7\\xca\\xd4\\xb4\\xbd\\xf6\\xb9\\xa9\\xbd\\xcc\\xd1\\xa7\\xa1\\xa2\\xd1\\xd0\\xbe\\xbf\\xca\\xb9\\xd3\\xc3,\\xb2\\xbb\\xb5\\xc3\\xd3\\xc3\\xd3\\xda\\xc9\\xcc\\xd2\\xb5\\xd3\\xc3\\xcd\\xbe\\xa3\\xac\\xc7\\xeb\\xcf\\xc2\\xd4\\xd8\\xba\\xf324\\xd0\\xa1\\xca\\xb1\\xc4\\xda\\xd7\\xd4\\xd0\\xd0\\xc9\\xbe\\xb3\\xfd,\\xcb\\xbd\\xd7\\xd4\\xb4\\xab\\xb2\\xa5\\xba\\xf3\\xb9\\xfb\\xd7\\xd4\\xb8\\xba\\xa1\\xa3</br>\\r\\n\\xb1\\xbe\\xd5\\xbe\\xcb\\xf9\\xd3\\xd0\\xd7\\xca\\xd4\\xb4\\xc0\\xb4\\xd7\\xd4\\xbb\\xa5\\xc1\\xaa\\xcd\\xf8\\xd3\\xc9\\xcd\\xf8\\xd3\\xd1\\xcc\\xe1\\xb9\\xa9\\xa3\\xac\\xce\\xd2\\xc3\\xc7\\xb2\\xbb\\xb6\\xd4\\xd7\\xca\\xd4\\xb4\\xb5\\xc4\\xd5\\xfd\\xc8\\xb7\\xd0\\xd4\\xa1\\xa2\\xd3\\xd0\\xd0\\xa7\\xd0\\xd4\\xa1\\xa2\\xb0\\xb2\\xc8\\xab\\xd0\\xd4\\xb8\\xba\\xd4\\xf0,\\xb2\\xbb\\xb6\\xd4\\xbb\\xe1\\xd4\\xb1\\xb5\\xc4\\xd1\\xd4\\xc2\\xdb\\xb8\\xba\\xd4\\xf0,\\xd2\\xb2\\xb2\\xbb\\xb6\\xd4\\xd7\\xca\\xd4\\xb4\\xb5\\xc4\\xb0\\xe6\\xc8\\xa8\\xb8\\xba\\xd4\\xf0\\xa1\\xa2\\xc9\\xcf\\xb4\\xab\\xc7\\xb0\\xc7\\xeb\\xc8\\xb7\\xc8\\xcf\\xb8\\xc3\\xd7\\xca\\xd4\\xb4</br>\\r\\n\\xca\\xc7\\xb7\\xf1\\xca\\xc7\\xc3\\xbb\\xd3\\xd0\\xb0\\xe6\\xc8\\xa8\\xb5\\xc4\\xbb\\xf2\\xd5\\xdf\\xc4\\xfa\\xd7\\xd4\\xbc\\xba\\xd3\\xb5\\xd3\\xd0\\xb0\\xe6\\xc8\\xa8\\xa1\\xa3\\xc8\\xe7\\xd3\\xd0\\xbb\\xe1\\xd4\\xb1\\xc7\\xd6\\xb7\\xb8\\xc4\\xfa\\xb5\\xc4\\xc8\\xa8\\xc0\\xfb\\xa3\\xac\\xc7\\xeb\\xc4\\xfa\\xc1\\xaa\\xcf\\xb5admin\\xb2\\xa2\\xcc\\xe1\\xb9\\xa9\\xcf\\xe0\\xb9\\xd8\\xc8\\xa8\\xc0\\xfb\\xd6\\xa4\\xbe\\xdd\\xa3\\xac\\xc8\\xb7\\xc8\\xcf\\xca\\xf4\\xca\\xb5\\xba\\xf3\\xce\\xd2\\xc3\\xc7\\xbb\\xe1\\xbc\\xb0\\xca\\xb1\\xc9\\xbe\\xb3\\xfd\\xa1\\xa3</br>\\r\\n\\xcd\\xb6\\xcb\\xdf\\xa1\\xa2\\xb9\\xe3\\xb8\\xe6\\xa1\\xa2\\xba\\xcf\\xd7\\xf7\\xc7\\xeb\\xc1\\xaa\\xcf\\xb5:jjxjorg#qq.com #\\xbb\\xbb\\xb3\\xc9@\\r\\n</div>\\r\\n\\r\\n<script type=\"text/javascript\">\\r\\n_attachEvent(window, \\'load\\', getForbiddenFormula, document);\\r\\nfunction getForbiddenFormula() {\\r\\nvar toGetForbiddenFormulaFIds = function () {\\r\\najaxget(\\'plugin.php?id=cloudsearch&formhash=47084646\\');\\r\\n};\\r\\nvar a = document.body.getElementsByTagName(\\'a\\');\\r\\nfor(var i = 0;i < a.length;i++){\\r\\nif(a[i].getAttribute(\\'sc\\')) {\\r\\na[i].setAttribute(\\'mid\\', hash(a[i].href));\\r\\na[i].onmousedown = function() {toGetForbiddenFormulaFIds();};\\r\\n}\\r\\n}\\r\\nvar btn = document.body.getElementsByTagName(\\'button\\');\\r\\nfor(var i = 0;i < btn.length;i++){\\r\\nif(btn[i].getAttribute(\\'sc\\')) {\\r\\nbtn[i].setAttribute(\\'mid\\', hash(btn[i].id));\\r\\nbtn[i].onmousedown = function() {toGetForbiddenFormulaFIds();};\\r\\n}\\r\\n}\\r\\n}\\r\\n</script>\\r\\n\\r\\n\\r\\n\\r\\n<div id=\"ft\" class=\"wp cl\">\\r\\n<div id=\"flk\" class=\"y\">\\r\\n<p>\\r\\n<a href=\"http://bbs.jjxj.org/forum.php?mod=misc&action=showdarkroom\" >\\xd0\\xa1\\xba\\xda\\xce\\xdd</a><span class=\"pipe\">|</span><a href=\"http://bbs.jjxj.org/forum.php?mobile=yes\" >\\xca\\xd6\\xbb\\xfa\\xb0\\xe6</a><span class=\"pipe\">|</span><a href=\"http://www.cablexa.com\" >aoc</a><span class=\"pipe\">|</span><a href=\"http://www.dingjikuai.com\" >\\xb3\\xa4\\xb5\\xba\\xd3\\xe6\\xbc\\xd2\\xc0\\xd6</a><span class=\"pipe\">|</span><a href=\"http://www.cnjj.com/\" >\\xc4\\xcf\\xbf\\xb5\\xbc\\xd2\\xbe\\xdf\\xcd\\xf8</a><span class=\"pipe\">|</span><a href=\"http://cnjj.com/\" >\\xbc\\xd2\\xbe\\xdf\\xc5\\xfa\\xb7\\xa2</a><span class=\"pipe\">|</span><strong><a href=\"http://bbs.jjxj.org/\" target=\"_blank\">\\xbe\\xad\\xbc\\xc3\\xd1\\xa7\\xbc\\xd2</a></strong>\\r\\n\\xb8\\xd3ICP\\xb1\\xb811002034\\xba\\xc5<script language=\"javascript\" type=\"text/javascript\" src=\"//js.users.51.la/19147336.js\"></script>\\r\\n<noscript><a href=\"http://www.51.la/?19147336\" target=\"_blank\"><img alt=\"&#x6211;&#x8981;&#x5566;&#x514D;&#x8D39;&#x7EDF;&#x8BA1;\" src=\"//img.users.51.la/19147336.asp\" style=\"border:none\" /></a></noscript></p>\\r\\n<p class=\"xs0\">\\r\\nGMT+8, 2017-4-14 12:06<span id=\"debuginfo\">\\r\\n, Processed in 0.058140 second(s), 18 queries\\r\\n.\\r\\n</span>\\r\\n</p>\\r\\n</div></div>\\r\\n<script src=\"home.php?mod=misc&ac=sendmail&rand=1492142761\" type=\"text/javascript\"></script>\\r\\n<div id=\"scrolltop\">\\r\\n<span hidefocus=\"true\"><a title=\"\\xb7\\xb5\\xbb\\xd8\\xb6\\xa5\\xb2\\xbf\" onclick=\"window.scrollTo(\\'0\\',\\'0\\')\" class=\"scrolltopa\" ><b>\\xb7\\xb5\\xbb\\xd8\\xb6\\xa5\\xb2\\xbf</b></a></span>\\r\\n</div>\\r\\n<script type=\"text/javascript\">_attachEvent(window, \\'scroll\\', function () { showTopLink(); });checkBlind();</script>\\r\\n\\t\\t\\t<div id=\"discuz_tips\" style=\"display:none;\"></div>\\r\\n\\t\\t\\t<script type=\"text/javascript\">\\r\\n\\t\\t\\t\\tvar tipsinfo = \\'1559932|X3.1|0.6||0||0|7|1492142761|25f1e3a80a904598c2f320f085fdf6a5|2\\';\\r\\n\\t\\t\\t</script>\\r\\n\\t\\t\\t<script src=\"http://discuz.gtimg.cn/cloud/scripts/discuz_tips.js?v=1\" type=\"text/javascript\" charset=\"UTF-8\"></script><script type=\"text/javascript\">\\r\\n\\t\\t\\tif($(\\'debuginfo\\')) {\\r\\n\\t\\t\\t\\t$(\\'debuginfo\\').innerHTML = \\'. This page is cached  at 12:06:01  .\\';\\r\\n\\t\\t\\t}\\r\\n\\t\\t\\t</script>'\n"
     ]
    }
   ],
   "source": [
    "s.post('http://bbs.jjxj.org/',login_data)\n",
    "f=s.get('http://bbs.jjxj.org/')\n",
    "print(f.content)"
   ]
  }
 ],
 "metadata": {
  "kernelspec": {
   "display_name": "Python 3",
   "language": "python",
   "name": "python3"
  },
  "language_info": {
   "codemirror_mode": {
    "name": "ipython",
    "version": 3
   },
   "file_extension": ".py",
   "mimetype": "text/x-python",
   "name": "python",
   "nbconvert_exporter": "python",
   "pygments_lexer": "ipython3",
   "version": "3.6.0"
  }
 },
 "nbformat": 4,
 "nbformat_minor": 2
}
