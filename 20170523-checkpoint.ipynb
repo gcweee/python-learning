{
 "cells": [
  {
   "cell_type": "code",
   "execution_count": null,
   "metadata": {
    "collapsed": true
   },
   "outputs": [],
   "source": [
    "import pandas as pd\n",
    "import numpy as np\n",
    "\n",
    "data=pd.read_excel(r'C:\\Users\\gcwee\\Desktop\\eg.xlsx',sheetname='Sheet1')\n",
    "data1=pd.read_excel(r'C:\\Users\\gcwee\\Desktop\\eg.xlsx',sheetname='Sheet2')\n",
    "\n",
    "data=data[-252:-2]\n",
    "data1=data1[-252:-2]\n",
    "\n",
    "o=data.open\n",
    "h=data.high\n",
    "l=data.low\n",
    "c=data.close\n",
    "v=data.value\n",
    "\n",
    "o1=data1.open1\n",
    "h1=data1.high1\n",
    "l1=data1.low1\n",
    "c1=data1.close1\n",
    "v1=data1.value1\n",
    "\n",
    "returns0=np.diff(c)/c[:-1]\n",
    "returns1=np.diff(c1)/c1[:-1]\n",
    "\n",
    "covrances=np.cov(returns0,returns1)\n",
    "covrances\n"
   ]
  },
  {
   "cell_type": "code",
   "execution_count": null,
   "metadata": {
    "collapsed": false
   },
   "outputs": [],
   "source": [
    "import pandas as pd\n",
    "import numpy as np\n",
    "from matplotlib.pyplot import plot\n",
    "from matplotlib.pyplot import show\n",
    "\n",
    "data=pd.read_excel(r'C:\\Users\\gcwee\\Desktop\\eg.xlsx',sheetname='Sheet1')\n",
    "data1=pd.read_excel(r'C:\\Users\\gcwee\\Desktop\\eg.xlsx',sheetname='Sheet2')\n",
    "\n",
    "data=data[-252:-2]\n",
    "data1=data1[-252:-2]\n",
    "\n",
    "o=data.open\n",
    "h=data.high\n",
    "l=data.low\n",
    "c=data.close\n",
    "v=data.value\n",
    "\n",
    "o1=data1.open1\n",
    "h1=data1.high1\n",
    "l1=data1.low1\n",
    "c1=data1.close1\n",
    "v1=data1.value1\n",
    "\n",
    "returns0=np.diff(c)/c[:-1]\n",
    "returns1=np.diff(c1)/c1[:-1]\n",
    "\n",
    "c=np.array(c)\n",
    "c1=np.array(c1)\n",
    "\n",
    "difference=c-c1\n",
    "difference\n",
    "\n",
    "avg=np.mean(difference)\n",
    "dev=np.std(difference)\n",
    "print('out of sync',np.abs(difference[-1]-avg)>2*dev)\n",
    "\n",
    "t=np.arange(len(np.array(returns0)))\n",
    "plot(t,returns0)\n",
    "plot(t,returns1)\n",
    "show()"
   ]
  }
 ],
 "metadata": {
  "kernelspec": {
   "display_name": "Python 3",
   "language": "python",
   "name": "python3"
  },
  "language_info": {
   "codemirror_mode": {
    "name": "ipython",
    "version": 3
   },
   "file_extension": ".py",
   "mimetype": "text/x-python",
   "name": "python",
   "nbconvert_exporter": "python",
   "pygments_lexer": "ipython3",
   "version": "3.6.0"
  }
 },
 "nbformat": 4,
 "nbformat_minor": 2
}
