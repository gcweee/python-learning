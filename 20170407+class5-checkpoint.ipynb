{
 "cells": [
  {
   "cell_type": "code",
   "execution_count": 2,
   "metadata": {
    "collapsed": false
   },
   "outputs": [
    {
     "data": {
      "text/plain": [
       "collections.OrderedDict"
      ]
     },
     "execution_count": 2,
     "metadata": {},
     "output_type": "execute_result"
    }
   ],
   "source": [
    "#引入新的数据结构OrderedDict\n",
    "import collections\n",
    "collections.OrderedDict"
   ]
  },
  {
   "cell_type": "code",
   "execution_count": 3,
   "metadata": {
    "collapsed": true
   },
   "outputs": [],
   "source": [
    "#各种模块和包，还能自己安装\n",
    "#—m pydoc -p 8080\n",
    "#https://pymotw.com"
   ]
  },
  {
   "cell_type": "code",
   "execution_count": 4,
   "metadata": {
    "collapsed": true
   },
   "outputs": [],
   "source": [
    "#distutils为自带的基本安装工具，创建setup.py,执行setup.py install\n",
    "#setuptools 包依赖机制 自动安装esay_install, 集中服务器PyPI，easy_install[PACKAGE_NAME]\n",
    "#PIP & virtualenv: 安装pip install[package_name];删除pip uninstall[package_name]\n",
    "#pip list(使用其进行检查)\n",
    "#virtualenv: 创建隔离的Python环境的工具，解决：生成不同的虚拟环境，每个执行环境安装不同的包，让一个Python支持多个开发场景\n",
    "#eggs: 用于安装，setuptools可以识别\n",
    "#distribute:与setuptools类似"
   ]
  },
  {
   "cell_type": "code",
   "execution_count": 5,
   "metadata": {
    "collapsed": true
   },
   "outputs": [],
   "source": [
    "#一般情况下，安装包和模块，使用distutils setup.py和pip两种方式已经够用了\n",
    "#conda安装包也可以，与pip性质类似"
   ]
  },
  {
   "cell_type": "code",
   "execution_count": 16,
   "metadata": {
    "collapsed": false
   },
   "outputs": [
    {
     "name": "stdout",
     "output_type": "stream",
     "text": [
      "<Response [200]>\n"
     ]
    }
   ],
   "source": [
    "#模块介绍1：requests,访问web\n",
    "import requests\n",
    "r=requests.get('http://www.hust.edn.cn')\n",
    "print(r)#结果200，是表示可以的意思"
   ]
  },
  {
   "cell_type": "code",
   "execution_count": 5,
   "metadata": {
    "collapsed": true
   },
   "outputs": [],
   "source": [
    "#登陆到v2ex.com\n",
    "import requests\n",
    "from bs4 import BeautifulSoup\n",
    "s=requests.Session()\n",
    "#作为一个访问网站的\n",
    "#beautifulsoup负责解析html文件\n",
    "#网上学习资源网址\n",
    "#http://blog.csdn.net/asmcvc/article/details/50965318\n",
    "#http://www.jb51.net/article/43572.htm"
   ]
  },
  {
   "cell_type": "code",
   "execution_count": 1,
   "metadata": {
    "collapsed": false
   },
   "outputs": [
    {
     "name": "stdout",
     "output_type": "stream",
     "text": [
      "<!DOCTYPE html PUBLIC \"-//W3C//DTD XHTML 1.0 Transitional//EN\" \"http://www.w3.org/TR/xhtml1/DTD/xhtml1-transitional.dtd\">\n",
      "<html xmlns=\"http://www.w3.org/1999/xhtml\">\n",
      " <head>\n",
      "  <title>\n",
      "   巨潮资讯网\n",
      "  </title>\n",
      "  <!-- 公共引用 -->\n",
      "  <!-- 页面头部和尾部样式与JS的公共引用 -->\n",
      "  <meta content=\"IE=edge\" http-equiv=\"X-UA-Compatible\"/>\n",
      "  <link href=\"/cninfo-new/css/base.css\" rel=\"stylesheet\" type=\"text/css\"/>\n",
      "  <link href=\"/cninfo-new/css/flexslider.css\" media=\"screen\" rel=\"stylesheet\" type=\"text/css\"/>\n",
      "  <script language=\"javascript\" src=\"/cninfo-new/js/jquery.js\" type=\"text/javascript\">\n",
      "  </script>\n",
      "  <script language=\"javascript\" src=\"/cninfo-new/js/common/common.js\" type=\"text/javascript\">\n",
      "  </script>\n",
      "  <script language=\"javascript\" src=\"/cninfo-new/js/common/moment.min.js\" type=\"text/javascript\">\n",
      "  </script>\n",
      "  <script defer=\"\" src=\"/cninfo-new/js/jquery.flexslider.js\">\n",
      "  </script>\n",
      "  <script type=\"text/javascript\">\n",
      "   <!-- 页面底部 -->\n",
      " <!-- 页面公共尾部 -->\n",
      "<div class=\"footer\">\n",
      "\t\t\t<li class=\"title\">相关链接</li>\n",
      "<a href=\"http://www.szse.cn/\" target=\"_blank\">深圳证券交易所</a></li>\n",
      "\t\t\t<li><a href=\"http://www.sse.com.cn/\" target=\"_blank\">上海证券交易所</a></li>\n",
      "\t\t\t<li><a href=\"http://www.cninfo.com.cn/sme/index.html\" target=\"_blank\">中小企业板</a></li>\n",
      "\t\t\t<li><a href=\"http://chinext.cninfo.com.cn/newmarket/\" target=\"_blank\">创业板</a></li>\n",
      "\t\t\t<li><a href=\"http://www.cnindex.com.cn/\" target=\"_blank\">巨潮指数</a></li>\n",
      "  </script>\n",
      " </head>\n",
      "</html>\n"
     ]
    }
   ],
   "source": [
    "#以资讯网为例说明\n",
    "from bs4 import BeautifulSoup\n",
    "html=\"\"\"<!DOCTYPE html PUBLIC \"-//W3C//DTD XHTML 1.0 Transitional//EN\" \"http://www.w3.org/TR/xhtml1/DTD/xhtml1-transitional.dtd\">\n",
    "<html xmlns=\"http://www.w3.org/1999/xhtml\">\n",
    "<head>\n",
    "<title>巨潮资讯网</title>\n",
    "<!-- 公共引用 -->\n",
    "<!-- 页面头部和尾部样式与JS的公共引用 -->\n",
    "<META http-equiv=\"X-UA-Compatible\" content=\"IE=edge\" > </META>\n",
    "<link href=\"/cninfo-new/css/base.css\" rel=\"stylesheet\" type=\"text/css\" />\n",
    "<link rel=\"stylesheet\" href=\"/cninfo-new/css/flexslider.css\" type=\"text/css\" media=\"screen\" />\n",
    "<script language=\"javascript\" type=\"text/javascript\" src=\"/cninfo-new/js/jquery.js\"></script>\n",
    "<script language=\"javascript\" type=\"text/javascript\" src=\"/cninfo-new/js/common/common.js\"></script>\n",
    "<script language=\"javascript\" type=\"text/javascript\" src=\"/cninfo-new/js/common/moment.min.js\"></script>\n",
    "<script defer src=\"/cninfo-new/js/jquery.flexslider.js\"></script>\n",
    "<script type=\"text/javascript\">\n",
    "\t<!-- 页面底部 -->\n",
    " <!-- 页面公共尾部 -->\n",
    "<div class=\"footer\">\n",
    "\t\t\t<li class=\"title\">相关链接</li>\n",
    "<a href=\"http://www.szse.cn/\" target=\"_blank\">深圳证券交易所</a></li>\n",
    "\t\t\t<li><a href=\"http://www.sse.com.cn/\" target=\"_blank\">上海证券交易所</a></li>\n",
    "\t\t\t<li><a href=\"http://www.cninfo.com.cn/sme/index.html\" target=\"_blank\">中小企业板</a></li>\n",
    "\t\t\t<li><a href=\"http://chinext.cninfo.com.cn/newmarket/\" target=\"_blank\">创业板</a></li>\n",
    "\t\t\t<li><a href=\"http://www.cnindex.com.cn/\" target=\"_blank\">巨潮指数</a></li>\"\"\"\n",
    "soup=BeautifulSoup(html,'lxml')\n",
    "print(soup.prettify())"
   ]
  },
  {
   "cell_type": "markdown",
   "metadata": {},
   "source": [
    "BeautifulSoup 将网页分解为树形结构的4部分\n",
    "* tag\n",
    "* navigable string\n",
    "* beautiful soup\n",
    "* comment"
   ]
  },
  {
   "cell_type": "markdown",
   "metadata": {},
   "source": [
    "* tag"
   ]
  },
  {
   "cell_type": "code",
   "execution_count": 9,
   "metadata": {
    "collapsed": false
   },
   "outputs": [
    {
     "name": "stdout",
     "output_type": "stream",
     "text": [
      "<title>巨潮资讯网</title>\n"
     ]
    }
   ],
   "source": [
    "print(soup.title)"
   ]
  },
  {
   "cell_type": "code",
   "execution_count": 11,
   "metadata": {
    "collapsed": false
   },
   "outputs": [
    {
     "name": "stdout",
     "output_type": "stream",
     "text": [
      "<head>\n",
      "<title>巨潮资讯网</title>\n",
      "<!-- 公共引用 -->\n",
      "<!-- 页面头部和尾部样式与JS的公共引用 -->\n",
      "<meta content=\"IE=edge\" http-equiv=\"X-UA-Compatible\"/>\n",
      "<link href=\"/cninfo-new/css/base.css\" rel=\"stylesheet\" type=\"text/css\"/>\n",
      "<link href=\"/cninfo-new/css/flexslider.css\" media=\"screen\" rel=\"stylesheet\" type=\"text/css\"/>\n",
      "<script language=\"javascript\" src=\"/cninfo-new/js/jquery.js\" type=\"text/javascript\"></script>\n",
      "<script language=\"javascript\" src=\"/cninfo-new/js/common/common.js\" type=\"text/javascript\"></script>\n",
      "<script language=\"javascript\" src=\"/cninfo-new/js/common/moment.min.js\" type=\"text/javascript\"></script>\n",
      "<script defer=\"\" src=\"/cninfo-new/js/jquery.flexslider.js\"></script>\n",
      "<script type=\"text/javascript\">\n",
      "\t<!-- 页面底部 -->\n",
      " <!-- 页面公共尾部 -->\n",
      "<div class=\"footer\">\n",
      "\t\t\t<li class=\"title\">相关链接</li>\n",
      "\t\t\t<li><a href=\"http://www.szse.cn/\" target=\"_blank\">深圳证券交易所</a></li>\n",
      "\t\t\t<li><a href=\"http://www.sse.com.cn/\" target=\"_blank\">上海证券交易所</a></li>\n",
      "\t\t\t<li><a href=\"http://www.cninfo.com.cn/sme/index.html\" target=\"_blank\">中小企业板</a></li>\n",
      "\t\t\t<li><a href=\"http://chinext.cninfo.com.cn/newmarket/\" target=\"_blank\">创业板</a></li>\n",
      "\t\t\t<li><a href=\"http://www.cnindex.com.cn/\" target=\"_blank\">巨潮指数</a></li></script></head>\n"
     ]
    }
   ],
   "source": [
    "print(soup.head)"
   ]
  },
  {
   "cell_type": "code",
   "execution_count": 14,
   "metadata": {
    "collapsed": false
   },
   "outputs": [
    {
     "name": "stdout",
     "output_type": "stream",
     "text": [
      "<link href=\"/cninfo-new/css/base.css\" rel=\"stylesheet\" type=\"text/css\"/>\n"
     ]
    }
   ],
   "source": [
    "print(soup.link)#link标签下的内容"
   ]
  },
  {
   "cell_type": "code",
   "execution_count": 15,
   "metadata": {
    "collapsed": false
   },
   "outputs": [
    {
     "data": {
      "text/plain": [
       "bs4.element.Tag"
      ]
     },
     "execution_count": 15,
     "metadata": {},
     "output_type": "execute_result"
    }
   ],
   "source": [
    "type(soup.link)"
   ]
  },
  {
   "cell_type": "code",
   "execution_count": 18,
   "metadata": {
    "collapsed": false
   },
   "outputs": [
    {
     "name": "stdout",
     "output_type": "stream",
     "text": [
      "{'href': '/cninfo-new/css/base.css', 'rel': ['stylesheet'], 'type': 'text/css'}\n"
     ]
    }
   ],
   "source": [
    "#若要获得标签属性下的所有值，使用attrs方法\n",
    "print(soup.link.attrs)"
   ]
  },
  {
   "cell_type": "code",
   "execution_count": 21,
   "metadata": {
    "collapsed": false
   },
   "outputs": [
    {
     "name": "stdout",
     "output_type": "stream",
     "text": [
      "/cninfo-new/css/base.css\n",
      "['stylesheet']\n"
     ]
    }
   ],
   "source": [
    "#若要单独得到具体的一个值，使用如下方法\n",
    "print(soup.link['href'])\n",
    "print(soup.link.get('rel'))"
   ]
  },
  {
   "cell_type": "markdown",
   "metadata": {},
   "source": [
    "* navigablestring"
   ]
  },
  {
   "cell_type": "code",
   "execution_count": 25,
   "metadata": {
    "collapsed": false
   },
   "outputs": [
    {
     "name": "stdout",
     "output_type": "stream",
     "text": [
      "None\n"
     ]
    }
   ],
   "source": [
    "#得到标签后要得到标签内部的文字（如果有的话）用.string\n",
    "print(soup.link.string)"
   ]
  },
  {
   "cell_type": "markdown",
   "metadata": {},
   "source": [
    "* 遍历文档树：直接子节点的.contents  .children 属性"
   ]
  },
  {
   "cell_type": "code",
   "execution_count": 29,
   "metadata": {
    "collapsed": true
   },
   "outputs": [
    {
     "name": "stdout",
     "output_type": "stream",
     "text": [
      "['\\n', <title>巨潮资讯网</title>, '\\n', ' 公共引用 ', '\\n', ' 页面头部和尾部样式与JS的公共引用 ', '\\n', <meta content=\"IE=edge\" http-equiv=\"X-UA-Compatible\"/>, '\\n', <link href=\"/cninfo-new/css/base.css\" rel=\"stylesheet\" type=\"text/css\"/>, '\\n', <link href=\"/cninfo-new/css/flexslider.css\" media=\"screen\" rel=\"stylesheet\" type=\"text/css\"/>, '\\n', <script language=\"javascript\" src=\"/cninfo-new/js/jquery.js\" type=\"text/javascript\"></script>, '\\n', <script language=\"javascript\" src=\"/cninfo-new/js/common/common.js\" type=\"text/javascript\"></script>, '\\n', <script language=\"javascript\" src=\"/cninfo-new/js/common/moment.min.js\" type=\"text/javascript\"></script>, '\\n', <script defer=\"\" src=\"/cninfo-new/js/jquery.flexslider.js\"></script>, '\\n', <script type=\"text/javascript\">\n",
      "\t<!-- 页面底部 -->\n",
      " <!-- 页面公共尾部 -->\n",
      "<div class=\"footer\">\n",
      "\t\t\t<li class=\"title\">相关链接</li>\n",
      "\t\t\t<li><a href=\"http://www.szse.cn/\" target=\"_blank\">深圳证券交易所</a></li>\n",
      "\t\t\t<li><a href=\"http://www.sse.com.cn/\" target=\"_blank\">上海证券交易所</a></li>\n",
      "\t\t\t<li><a href=\"http://www.cninfo.com.cn/sme/index.html\" target=\"_blank\">中小企业板</a></li>\n",
      "\t\t\t<li><a href=\"http://chinext.cninfo.com.cn/newmarket/\" target=\"_blank\">创业板</a></li>\n",
      "\t\t\t<li><a href=\"http://www.cnindex.com.cn/\" target=\"_blank\">巨潮指数</a></li></script>]\n"
     ]
    }
   ],
   "source": [
    "#.contents方法可返回列表，我们可用列表索引进行搜索\n",
    "print(soup.head.contents)"
   ]
  },
  {
   "cell_type": "code",
   "execution_count": 31,
   "metadata": {
    "collapsed": false
   },
   "outputs": [
    {
     "name": "stdout",
     "output_type": "stream",
     "text": [
      " 页面头部和尾部样式与JS的公共引用 \n"
     ]
    }
   ],
   "source": [
    "print(soup.head.contents[5])"
   ]
  },
  {
   "cell_type": "code",
   "execution_count": 33,
   "metadata": {
    "collapsed": false
   },
   "outputs": [
    {
     "name": "stdout",
     "output_type": "stream",
     "text": [
      "<list_iterator object at 0x0440CAD0>\n"
     ]
    }
   ],
   "source": [
    "print(soup.head.children) #一个list生成器对象\n",
    "#为获得其中的结果，遍历其"
   ]
  },
  {
   "cell_type": "code",
   "execution_count": 4,
   "metadata": {
    "collapsed": true
   },
   "outputs": [
    {
     "name": "stdout",
     "output_type": "stream",
     "text": [
      "\n",
      "\n",
      "<title>巨潮资讯网</title>\n",
      "\n",
      "\n",
      " 公共引用 \n",
      "\n",
      "\n",
      " 页面头部和尾部样式与JS的公共引用 \n",
      "\n",
      "\n",
      "<meta content=\"IE=edge\" http-equiv=\"X-UA-Compatible\"/>\n",
      "\n",
      "\n",
      "<link href=\"/cninfo-new/css/base.css\" rel=\"stylesheet\" type=\"text/css\"/>\n",
      "\n",
      "\n",
      "<link href=\"/cninfo-new/css/flexslider.css\" media=\"screen\" rel=\"stylesheet\" type=\"text/css\"/>\n",
      "\n",
      "\n",
      "<script language=\"javascript\" src=\"/cninfo-new/js/jquery.js\" type=\"text/javascript\"></script>\n",
      "\n",
      "\n",
      "<script language=\"javascript\" src=\"/cninfo-new/js/common/common.js\" type=\"text/javascript\"></script>\n",
      "\n",
      "\n",
      "<script language=\"javascript\" src=\"/cninfo-new/js/common/moment.min.js\" type=\"text/javascript\"></script>\n",
      "\n",
      "\n",
      "<script defer=\"\" src=\"/cninfo-new/js/jquery.flexslider.js\"></script>\n",
      "\n",
      "\n",
      "<script type=\"text/javascript\">\n",
      "\t<!-- 页面底部 -->\n",
      " <!-- 页面公共尾部 -->\n",
      "<div class=\"footer\">\n",
      "\t\t\t<li class=\"title\">相关链接</li>\n",
      "\t\t\t<li><a href=\"http://www.szse.cn/\" target=\"_blank\">深圳证券交易所</a></li>\n",
      "\t\t\t<li><a href=\"http://www.sse.com.cn/\" target=\"_blank\">上海证券交易所</a></li>\n",
      "\t\t\t<li><a href=\"http://www.cninfo.com.cn/sme/index.html\" target=\"_blank\">中小企业板</a></li>\n",
      "\t\t\t<li><a href=\"http://chinext.cninfo.com.cn/newmarket/\" target=\"_blank\">创业板</a></li>\n",
      "\t\t\t<li><a href=\"http://www.cnindex.com.cn/\" target=\"_blank\">巨潮指数</a></li></script>\n"
     ]
    }
   ],
   "source": [
    "for child in soup.head.children:\n",
    "    print(child)"
   ]
  },
  {
   "cell_type": "markdown",
   "metadata": {},
   "source": [
    "* 所有子孙节点：使用descendants属性"
   ]
  },
  {
   "cell_type": "code",
   "execution_count": 5,
   "metadata": {
    "collapsed": true
   },
   "outputs": [
    {
     "name": "stdout",
     "output_type": "stream",
     "text": [
      "html PUBLIC \"-//W3C//DTD XHTML 1.0 Transitional//EN\" \"http://www.w3.org/TR/xhtml1/DTD/xhtml1-transitional.dtd\"\n",
      "<html xmlns=\"http://www.w3.org/1999/xhtml\">\n",
      "<head>\n",
      "<title>巨潮资讯网</title>\n",
      "<!-- 公共引用 -->\n",
      "<!-- 页面头部和尾部样式与JS的公共引用 -->\n",
      "<meta content=\"IE=edge\" http-equiv=\"X-UA-Compatible\"/>\n",
      "<link href=\"/cninfo-new/css/base.css\" rel=\"stylesheet\" type=\"text/css\"/>\n",
      "<link href=\"/cninfo-new/css/flexslider.css\" media=\"screen\" rel=\"stylesheet\" type=\"text/css\"/>\n",
      "<script language=\"javascript\" src=\"/cninfo-new/js/jquery.js\" type=\"text/javascript\"></script>\n",
      "<script language=\"javascript\" src=\"/cninfo-new/js/common/common.js\" type=\"text/javascript\"></script>\n",
      "<script language=\"javascript\" src=\"/cninfo-new/js/common/moment.min.js\" type=\"text/javascript\"></script>\n",
      "<script defer=\"\" src=\"/cninfo-new/js/jquery.flexslider.js\"></script>\n",
      "<script type=\"text/javascript\">\n",
      "\t<!-- 页面底部 -->\n",
      " <!-- 页面公共尾部 -->\n",
      "<div class=\"footer\">\n",
      "\t\t\t<li class=\"title\">相关链接</li>\n",
      "\t\t\t<li><a href=\"http://www.szse.cn/\" target=\"_blank\">深圳证券交易所</a></li>\n",
      "\t\t\t<li><a href=\"http://www.sse.com.cn/\" target=\"_blank\">上海证券交易所</a></li>\n",
      "\t\t\t<li><a href=\"http://www.cninfo.com.cn/sme/index.html\" target=\"_blank\">中小企业板</a></li>\n",
      "\t\t\t<li><a href=\"http://chinext.cninfo.com.cn/newmarket/\" target=\"_blank\">创业板</a></li>\n",
      "\t\t\t<li><a href=\"http://www.cnindex.com.cn/\" target=\"_blank\">巨潮指数</a></li></script></head></html>\n",
      "\n",
      "\n",
      "<head>\n",
      "<title>巨潮资讯网</title>\n",
      "<!-- 公共引用 -->\n",
      "<!-- 页面头部和尾部样式与JS的公共引用 -->\n",
      "<meta content=\"IE=edge\" http-equiv=\"X-UA-Compatible\"/>\n",
      "<link href=\"/cninfo-new/css/base.css\" rel=\"stylesheet\" type=\"text/css\"/>\n",
      "<link href=\"/cninfo-new/css/flexslider.css\" media=\"screen\" rel=\"stylesheet\" type=\"text/css\"/>\n",
      "<script language=\"javascript\" src=\"/cninfo-new/js/jquery.js\" type=\"text/javascript\"></script>\n",
      "<script language=\"javascript\" src=\"/cninfo-new/js/common/common.js\" type=\"text/javascript\"></script>\n",
      "<script language=\"javascript\" src=\"/cninfo-new/js/common/moment.min.js\" type=\"text/javascript\"></script>\n",
      "<script defer=\"\" src=\"/cninfo-new/js/jquery.flexslider.js\"></script>\n",
      "<script type=\"text/javascript\">\n",
      "\t<!-- 页面底部 -->\n",
      " <!-- 页面公共尾部 -->\n",
      "<div class=\"footer\">\n",
      "\t\t\t<li class=\"title\">相关链接</li>\n",
      "\t\t\t<li><a href=\"http://www.szse.cn/\" target=\"_blank\">深圳证券交易所</a></li>\n",
      "\t\t\t<li><a href=\"http://www.sse.com.cn/\" target=\"_blank\">上海证券交易所</a></li>\n",
      "\t\t\t<li><a href=\"http://www.cninfo.com.cn/sme/index.html\" target=\"_blank\">中小企业板</a></li>\n",
      "\t\t\t<li><a href=\"http://chinext.cninfo.com.cn/newmarket/\" target=\"_blank\">创业板</a></li>\n",
      "\t\t\t<li><a href=\"http://www.cnindex.com.cn/\" target=\"_blank\">巨潮指数</a></li></script></head>\n",
      "\n",
      "\n",
      "<title>巨潮资讯网</title>\n",
      "巨潮资讯网\n",
      "\n",
      "\n",
      " 公共引用 \n",
      "\n",
      "\n",
      " 页面头部和尾部样式与JS的公共引用 \n",
      "\n",
      "\n",
      "<meta content=\"IE=edge\" http-equiv=\"X-UA-Compatible\"/>\n",
      "\n",
      "\n",
      "<link href=\"/cninfo-new/css/base.css\" rel=\"stylesheet\" type=\"text/css\"/>\n",
      "\n",
      "\n",
      "<link href=\"/cninfo-new/css/flexslider.css\" media=\"screen\" rel=\"stylesheet\" type=\"text/css\"/>\n",
      "\n",
      "\n",
      "<script language=\"javascript\" src=\"/cninfo-new/js/jquery.js\" type=\"text/javascript\"></script>\n",
      "\n",
      "\n",
      "<script language=\"javascript\" src=\"/cninfo-new/js/common/common.js\" type=\"text/javascript\"></script>\n",
      "\n",
      "\n",
      "<script language=\"javascript\" src=\"/cninfo-new/js/common/moment.min.js\" type=\"text/javascript\"></script>\n",
      "\n",
      "\n",
      "<script defer=\"\" src=\"/cninfo-new/js/jquery.flexslider.js\"></script>\n",
      "\n",
      "\n",
      "<script type=\"text/javascript\">\n",
      "\t<!-- 页面底部 -->\n",
      " <!-- 页面公共尾部 -->\n",
      "<div class=\"footer\">\n",
      "\t\t\t<li class=\"title\">相关链接</li>\n",
      "\t\t\t<li><a href=\"http://www.szse.cn/\" target=\"_blank\">深圳证券交易所</a></li>\n",
      "\t\t\t<li><a href=\"http://www.sse.com.cn/\" target=\"_blank\">上海证券交易所</a></li>\n",
      "\t\t\t<li><a href=\"http://www.cninfo.com.cn/sme/index.html\" target=\"_blank\">中小企业板</a></li>\n",
      "\t\t\t<li><a href=\"http://chinext.cninfo.com.cn/newmarket/\" target=\"_blank\">创业板</a></li>\n",
      "\t\t\t<li><a href=\"http://www.cnindex.com.cn/\" target=\"_blank\">巨潮指数</a></li></script>\n",
      "\n",
      "\t<!-- 页面底部 -->\n",
      " <!-- 页面公共尾部 -->\n",
      "<div class=\"footer\">\n",
      "\t\t\t<li class=\"title\">相关链接</li>\n",
      "\t\t\t<li><a href=\"http://www.szse.cn/\" target=\"_blank\">深圳证券交易所</a></li>\n",
      "\t\t\t<li><a href=\"http://www.sse.com.cn/\" target=\"_blank\">上海证券交易所</a></li>\n",
      "\t\t\t<li><a href=\"http://www.cninfo.com.cn/sme/index.html\" target=\"_blank\">中小企业板</a></li>\n",
      "\t\t\t<li><a href=\"http://chinext.cninfo.com.cn/newmarket/\" target=\"_blank\">创业板</a></li>\n",
      "\t\t\t<li><a href=\"http://www.cnindex.com.cn/\" target=\"_blank\">巨潮指数</a></li>\n"
     ]
    }
   ],
   "source": [
    "for child in soup.descendants:\n",
    "    print(child)"
   ]
  },
  {
   "cell_type": "markdown",
   "metadata": {},
   "source": [
    "* 节点内容：使用string属性"
   ]
  },
  {
   "cell_type": "code",
   "execution_count": 6,
   "metadata": {
    "collapsed": true
   },
   "outputs": [],
   "source": [
    "#如果tag只有一个 NavigableString 类型子节点,那么这个tag可以使用 .string 得到子节点。\n",
    "#如果一个tag仅有一个子节点,那么这个tag也可以使用 .string 方法,输出结果与当前结果相同。\n",
    "#就是：如果一个标签里面没有标签了，那么 .string 就会返回标签里面的内容。\n",
    "#如果标签里面只有唯一的一个标签了，那么 .string 也会返回最里面的内容。"
   ]
  },
  {
   "cell_type": "markdown",
   "metadata": {},
   "source": [
    "* 多个内容：使用.strings和.stripped_strings属性"
   ]
  },
  {
   "cell_type": "code",
   "execution_count": 8,
   "metadata": {
    "collapsed": true
   },
   "outputs": [
    {
     "name": "stdout",
     "output_type": "stream",
     "text": [
      "\n",
      "\n",
      "\n",
      "\n",
      "巨潮资讯网\n",
      "\n",
      "\n",
      "\n",
      "\n",
      "\n",
      "\n",
      "\n",
      "\n",
      "\n",
      "\n",
      "\n",
      "\n",
      "\n",
      "\n",
      "\n",
      "\n",
      "\n",
      "\n",
      "\n",
      "\n",
      "\n",
      "\t<!-- 页面底部 -->\n",
      " <!-- 页面公共尾部 -->\n",
      "<div class=\"footer\">\n",
      "\t\t\t<li class=\"title\">相关链接</li>\n",
      "\t\t\t<li><a href=\"http://www.szse.cn/\" target=\"_blank\">深圳证券交易所</a></li>\n",
      "\t\t\t<li><a href=\"http://www.sse.com.cn/\" target=\"_blank\">上海证券交易所</a></li>\n",
      "\t\t\t<li><a href=\"http://www.cninfo.com.cn/sme/index.html\" target=\"_blank\">中小企业板</a></li>\n",
      "\t\t\t<li><a href=\"http://chinext.cninfo.com.cn/newmarket/\" target=\"_blank\">创业板</a></li>\n",
      "\t\t\t<li><a href=\"http://www.cnindex.com.cn/\" target=\"_blank\">巨潮指数</a></li>\n"
     ]
    }
   ],
   "source": [
    "for string in soup.strings:\n",
    "    print(string)"
   ]
  },
  {
   "cell_type": "code",
   "execution_count": 10,
   "metadata": {
    "collapsed": true
   },
   "outputs": [
    {
     "name": "stdout",
     "output_type": "stream",
     "text": [
      "巨潮资讯网\n",
      "<!-- 页面底部 -->\n",
      " <!-- 页面公共尾部 -->\n",
      "<div class=\"footer\">\n",
      "\t\t\t<li class=\"title\">相关链接</li>\n",
      "\t\t\t<li><a href=\"http://www.szse.cn/\" target=\"_blank\">深圳证券交易所</a></li>\n",
      "\t\t\t<li><a href=\"http://www.sse.com.cn/\" target=\"_blank\">上海证券交易所</a></li>\n",
      "\t\t\t<li><a href=\"http://www.cninfo.com.cn/sme/index.html\" target=\"_blank\">中小企业板</a></li>\n",
      "\t\t\t<li><a href=\"http://chinext.cninfo.com.cn/newmarket/\" target=\"_blank\">创业板</a></li>\n",
      "\t\t\t<li><a href=\"http://www.cnindex.com.cn/\" target=\"_blank\">巨潮指数</a></li>\n"
     ]
    }
   ],
   "source": [
    "# 使用.stripped_strings可以去除多余空白内容\n",
    "for string in soup.stripped_strings:\n",
    "    print(string)"
   ]
  },
  {
   "cell_type": "markdown",
   "metadata": {},
   "source": [
    "* 父节点：使用.parent属性；所有父节点，使用.parents属性"
   ]
  },
  {
   "cell_type": "code",
   "execution_count": 12,
   "metadata": {
    "collapsed": false,
    "scrolled": true
   },
   "outputs": [
    {
     "name": "stdout",
     "output_type": "stream",
     "text": [
      "title\n",
      "head\n",
      "html\n",
      "[document]\n"
     ]
    }
   ],
   "source": [
    "content=soup.head.title.string\n",
    "for parent in content.parents:\n",
    "    print(parent.name)"
   ]
  },
  {
   "cell_type": "markdown",
   "metadata": {},
   "source": [
    "* 所有兄弟节点：使用.next_siblings和previous_siblings属性"
   ]
  },
  {
   "cell_type": "code",
   "execution_count": 17,
   "metadata": {
    "collapsed": true
   },
   "outputs": [
    {
     "name": "stdout",
     "output_type": "stream",
     "text": [
      "'巨潮资讯网'\n",
      "'\\n'\n",
      "' 公共引用 '\n",
      "'\\n'\n",
      "' 页面头部和尾部样式与JS的公共引用 '\n",
      "'\\n'\n",
      "<meta content=\"IE=edge\" http-equiv=\"X-UA-Compatible\"/>\n",
      "'\\n'\n",
      "<link href=\"/cninfo-new/css/base.css\" rel=\"stylesheet\" type=\"text/css\"/>\n",
      "'\\n'\n",
      "<link href=\"/cninfo-new/css/flexslider.css\" media=\"screen\" rel=\"stylesheet\" type=\"text/css\"/>\n",
      "'\\n'\n",
      "<script language=\"javascript\" src=\"/cninfo-new/js/jquery.js\" type=\"text/javascript\"></script>\n",
      "'\\n'\n",
      "<script language=\"javascript\" src=\"/cninfo-new/js/common/common.js\" type=\"text/javascript\"></script>\n",
      "'\\n'\n",
      "<script language=\"javascript\" src=\"/cninfo-new/js/common/moment.min.js\" type=\"text/javascript\"></script>\n",
      "'\\n'\n",
      "<script defer=\"\" src=\"/cninfo-new/js/jquery.flexslider.js\"></script>\n",
      "'\\n'\n",
      "<script type=\"text/javascript\">\n",
      "\t<!-- 页面底部 -->\n",
      " <!-- 页面公共尾部 -->\n",
      "<div class=\"footer\">\n",
      "\t\t\t<li class=\"title\">相关链接</li>\n",
      "\t\t\t<li><a href=\"http://www.szse.cn/\" target=\"_blank\">深圳证券交易所</a></li>\n",
      "\t\t\t<li><a href=\"http://www.sse.com.cn/\" target=\"_blank\">上海证券交易所</a></li>\n",
      "\t\t\t<li><a href=\"http://www.cninfo.com.cn/sme/index.html\" target=\"_blank\">中小企业板</a></li>\n",
      "\t\t\t<li><a href=\"http://chinext.cninfo.com.cn/newmarket/\" target=\"_blank\">创业板</a></li>\n",
      "\t\t\t<li><a href=\"http://www.cnindex.com.cn/\" target=\"_blank\">巨潮指数</a></li></script>\n",
      "'\\n\\t<!-- 页面底部 -->\\n <!-- 页面公共尾部 -->\\n<div class=\"footer\">\\n\\t\\t\\t<li class=\"title\">相关链接</li>\\n\\t\\t\\t<li><a href=\"http://www.szse.cn/\" target=\"_blank\">深圳证券交易所</a></li>\\n\\t\\t\\t<li><a href=\"http://www.sse.com.cn/\" target=\"_blank\">上海证券交易所</a></li>\\n\\t\\t\\t<li><a href=\"http://www.cninfo.com.cn/sme/index.html\" target=\"_blank\">中小企业板</a></li>\\n\\t\\t\\t<li><a href=\"http://chinext.cninfo.com.cn/newmarket/\" target=\"_blank\">创业板</a></li>\\n\\t\\t\\t<li><a href=\"http://www.cnindex.com.cn/\" target=\"_blank\">巨潮指数</a></li>'\n"
     ]
    }
   ],
   "source": [
    "for element in soup.title.next_elements:\n",
    "    print(repr(element))"
   ]
  },
  {
   "cell_type": "markdown",
   "metadata": {},
   "source": [
    "* 对于所有节点，不分层次：使用.next_element和.previous_element属性（同时有S属性）"
   ]
  },
  {
   "cell_type": "markdown",
   "metadata": {},
   "source": [
    "#### find_all(name,attrs,recursive,text,**kwargs)"
   ]
  },
  {
   "cell_type": "markdown",
   "metadata": {},
   "source": [
    "* name用于查找所有名字为name的Tag,字符串对象会自动忽略掉"
   ]
  },
  {
   "cell_type": "code",
   "execution_count": 13,
   "metadata": {
    "collapsed": false
   },
   "outputs": [
    {
     "name": "stdout",
     "output_type": "stream",
     "text": [
      "link\n",
      "link\n",
      "[<link href=\"/cninfo-new/css/base.css\" rel=\"stylesheet\" type=\"text/css\"/>, <link href=\"/cninfo-new/css/flexslider.css\" media=\"screen\" rel=\"stylesheet\" type=\"text/css\"/>]\n"
     ]
    }
   ],
   "source": [
    "#正则表达式&列表\n",
    "import re\n",
    "for tag in soup.find_all(re.compile('^l')):\n",
    "    print(tag.name)#用来查找所有以B开头的标签\n",
    "print(soup.find_all(['link','div']))#用来输出列表，表中包括所有以l和s开头的标签"
   ]
  },
  {
   "cell_type": "code",
   "execution_count": 14,
   "metadata": {
    "collapsed": false
   },
   "outputs": [
    {
     "name": "stdout",
     "output_type": "stream",
     "text": [
      "html\n",
      "head\n",
      "title\n",
      "meta\n",
      "link\n",
      "link\n",
      "script\n",
      "script\n",
      "script\n",
      "script\n",
      "script\n"
     ]
    }
   ],
   "source": [
    "#传True可以匹配任何值，但不包括字符节点\n",
    "for tag in soup.find_all(True):\n",
    "    print(tag.name)"
   ]
  },
  {
   "cell_type": "code",
   "execution_count": 19,
   "metadata": {
    "collapsed": false
   },
   "outputs": [
    {
     "data": {
      "text/plain": [
       "False"
      ]
     },
     "execution_count": 19,
     "metadata": {},
     "output_type": "execute_result"
    }
   ],
   "source": [
    "#查找时对name进行方法约束\n",
    "def has_herf_but_no_media(tag):\n",
    "    return\n",
    "tag.has_attr('herf')"
   ]
  },
  {
   "cell_type": "code",
   "execution_count": 21,
   "metadata": {
    "collapsed": false
   },
   "outputs": [
    {
     "data": {
      "text/plain": [
       "[]"
      ]
     },
     "execution_count": 21,
     "metadata": {},
     "output_type": "execute_result"
    }
   ],
   "source": [
    "soup.find_all(has_herf_but_no_media)"
   ]
  },
  {
   "cell_type": "markdown",
   "metadata": {},
   "source": [
    "* keyword"
   ]
  },
  {
   "cell_type": "code",
   "execution_count": 23,
   "metadata": {
    "collapsed": false
   },
   "outputs": [
    {
     "data": {
      "text/plain": [
       "[<link href=\"/cninfo-new/css/flexslider.css\" media=\"screen\" rel=\"stylesheet\" type=\"text/css\"/>]"
      ]
     },
     "execution_count": 23,
     "metadata": {},
     "output_type": "execute_result"
    }
   ],
   "source": [
    "soup.find_all(media='screen')"
   ]
  },
  {
   "cell_type": "code",
   "execution_count": 35,
   "metadata": {
    "collapsed": false
   },
   "outputs": [
    {
     "name": "stdout",
     "output_type": "stream",
     "text": [
      "[<link href=\"/cninfo-new/css/base.css\" rel=\"stylesheet\" type=\"text/css\"/>, <link href=\"/cninfo-new/css/flexslider.css\" media=\"screen\" rel=\"stylesheet\" type=\"text/css\"/>]\n",
      "[<link href=\"/cninfo-new/css/flexslider.css\" media=\"screen\" rel=\"stylesheet\" type=\"text/css\"/>]\n",
      "[<link href=\"/cninfo-new/css/flexslider.css\" media=\"screen\" rel=\"stylesheet\" type=\"text/css\"/>]\n"
     ]
    }
   ],
   "source": [
    "#如果关键词和软件的重复，则要在后面加一个下划线\n",
    "print(soup.find_all(type='text/css'))\n",
    "print(soup.find_all(href=re.compile('cninfo'),media='screen'))#多重属性\n",
    "print(soup.find_all('link',media='screen'))"
   ]
  },
  {
   "cell_type": "markdown",
   "metadata": {},
   "source": [
    "* text:主要用于搜索文档中的字符串内容\n",
    "* limit:限制返回结果的数量"
   ]
  },
  {
   "cell_type": "code",
   "execution_count": 55,
   "metadata": {
    "collapsed": false
   },
   "outputs": [
    {
     "name": "stdout",
     "output_type": "stream",
     "text": [
      "[<link href=\"/cninfo-new/css/base.css\" rel=\"stylesheet\" type=\"text/css\"/>, <link href=\"/cninfo-new/css/flexslider.css\" media=\"screen\" rel=\"stylesheet\" type=\"text/css\"/>]\n"
     ]
    },
    {
     "data": {
      "text/plain": [
       "['\\n\\t<!-- 页面底部 -->\\n <!-- 页面公共尾部 -->\\n<div class=\"footer\">\\n\\t\\t\\t<li class=\"title\">相关链接</li>\\n\\t\\t\\t<li><a href=\"http://www.szse.cn/\" target=\"_blank\">深圳证券交易所</a></li>\\n\\t\\t\\t<li><a href=\"http://www.sse.com.cn/\" target=\"_blank\">上海证券交易所</a></li>\\n\\t\\t\\t<li><a href=\"http://www.cninfo.com.cn/sme/index.html\" target=\"_blank\">中小企业板</a></li>\\n\\t\\t\\t<li><a href=\"http://chinext.cninfo.com.cn/newmarket/\" target=\"_blank\">创业板</a></li>\\n\\t\\t\\t<li><a href=\"http://www.cnindex.com.cn/\" target=\"_blank\">巨潮指数</a></li>']"
      ]
     },
     "execution_count": 55,
     "metadata": {},
     "output_type": "execute_result"
    }
   ],
   "source": [
    "print(soup.find_all('link'))\n",
    "soup.find_all(text=re.compile('交易'))"
   ]
  },
  {
   "cell_type": "code",
   "execution_count": 57,
   "metadata": {
    "collapsed": false,
    "scrolled": true
   },
   "outputs": [
    {
     "name": "stdout",
     "output_type": "stream",
     "text": [
      "[<link href=\"/cninfo-new/css/base.css\" rel=\"stylesheet\" type=\"text/css\"/>, <link href=\"/cninfo-new/css/flexslider.css\" media=\"screen\" rel=\"stylesheet\" type=\"text/css\"/>]\n",
      "[<link href=\"/cninfo-new/css/base.css\" rel=\"stylesheet\" type=\"text/css\"/>]\n"
     ]
    }
   ],
   "source": [
    "print(soup.find_all('link',limit=2))\n",
    "print(soup.find_all('link',limit=1))"
   ]
  },
  {
   "cell_type": "code",
   "execution_count": 61,
   "metadata": {
    "collapsed": false
   },
   "outputs": [
    {
     "name": "stdout",
     "output_type": "stream",
     "text": [
      "[<link href=\"/cninfo-new/css/base.css\" rel=\"stylesheet\" type=\"text/css\"/>, <link href=\"/cninfo-new/css/flexslider.css\" media=\"screen\" rel=\"stylesheet\" type=\"text/css\"/>]\n",
      "<link href=\"/cninfo-new/css/base.css\" rel=\"stylesheet\" type=\"text/css\"/>\n"
     ]
    }
   ],
   "source": [
    "print(soup.find_all('link'))\n",
    "print(soup.find('link'))#find与find_all的区别"
   ]
  },
  {
   "cell_type": "markdown",
   "metadata": {},
   "source": [
    "#### CSS选择器：使用.select()属性，返回list"
   ]
  },
  {
   "cell_type": "code",
   "execution_count": 82,
   "metadata": {
    "collapsed": false
   },
   "outputs": [
    {
     "name": "stdout",
     "output_type": "stream",
     "text": [
      "[<link href=\"/cninfo-new/css/base.css\" rel=\"stylesheet\" type=\"text/css\"/>, <link href=\"/cninfo-new/css/flexslider.css\" media=\"screen\" rel=\"stylesheet\" type=\"text/css\"/>]\n",
      "[]\n"
     ]
    }
   ],
   "source": [
    "a=soup.select('link')\n",
    "b=soup.select('a')\n",
    "print(a)\n",
    "print(b)"
   ]
  },
  {
   "cell_type": "code",
   "execution_count": 83,
   "metadata": {
    "collapsed": false
   },
   "outputs": [
    {
     "data": {
      "text/plain": [
       "<link href=\"/cninfo-new/css/base.css\" rel=\"stylesheet\" type=\"text/css\"/>"
      ]
     },
     "execution_count": 83,
     "metadata": {},
     "output_type": "execute_result"
    }
   ],
   "source": [
    "a[0]"
   ]
  },
  {
   "cell_type": "code",
   "execution_count": 84,
   "metadata": {
    "collapsed": false
   },
   "outputs": [
    {
     "data": {
      "text/plain": [
       "''"
      ]
     },
     "execution_count": 84,
     "metadata": {},
     "output_type": "execute_result"
    }
   ],
   "source": [
    "a[0].get_text()#使用此方法得到字符串"
   ]
  },
  {
   "cell_type": "code",
   "execution_count": 85,
   "metadata": {
    "collapsed": false
   },
   "outputs": [
    {
     "name": "stdout",
     "output_type": "stream",
     "text": [
      "巨潮资讯网\n"
     ]
    }
   ],
   "source": [
    "c=soup.select('title')\n",
    "for title in c:\n",
    "    print(title.get_text())\n",
    "#20170412"
   ]
  },
  {
   "cell_type": "code",
   "execution_count": 9,
   "metadata": {
    "collapsed": true
   },
   "outputs": [],
   "source": [
    "#模块介绍2：collections\n",
    "#deque\n",
    "#defaultdict\n",
    "#Counter\n",
    "#named tuple"
   ]
  },
  {
   "cell_type": "markdown",
   "metadata": {},
   "source": [
    "* deque"
   ]
  },
  {
   "cell_type": "code",
   "execution_count": 3,
   "metadata": {
    "collapsed": false
   },
   "outputs": [
    {
     "data": {
      "text/plain": [
       "deque([2, 3, 4, 5, 6, 'ds'])"
      ]
     },
     "execution_count": 3,
     "metadata": {},
     "output_type": "execute_result"
    }
   ],
   "source": [
    "#deque双端队列，适合消费者，生产者模式\n",
    "#deque([iterable[,maxlen]])\n",
    "#maxlen 变为环形队列，加入新元素队列满就会把另一端自动删除,并且可以rotate，将后面的元素放到前面来\n",
    "#最为重要的使用：日志记录（python有自带的日志处理）\n",
    "from collections import deque\n",
    "a=deque([2,3,4,5,6],maxlen=6)\n",
    "a.append('ds')\n",
    "a"
   ]
  },
  {
   "cell_type": "code",
   "execution_count": 23,
   "metadata": {
    "collapsed": false
   },
   "outputs": [
    {
     "data": {
      "text/plain": [
       "deque([5, 6, 'ds', 'mds', 'mds', 'mds'])"
      ]
     },
     "execution_count": 23,
     "metadata": {},
     "output_type": "execute_result"
    }
   ],
   "source": [
    "a.append('mds')\n",
    "a"
   ]
  },
  {
   "cell_type": "code",
   "execution_count": 29,
   "metadata": {
    "collapsed": false
   },
   "outputs": [
    {
     "data": {
      "text/plain": [
       "deque([6, 'ds', 'mds', 'mds', 'mds', 5])"
      ]
     },
     "execution_count": 29,
     "metadata": {},
     "output_type": "execute_result"
    }
   ],
   "source": [
    "a.rotate(-2)\n",
    "a"
   ]
  },
  {
   "cell_type": "code",
   "execution_count": 30,
   "metadata": {
    "collapsed": false
   },
   "outputs": [
    {
     "name": "stdout",
     "output_type": "stream",
     "text": [
      "Help on built-in function rotate:\n",
      "\n",
      "rotate(...) method of collections.deque instance\n",
      "    Rotate the deque n steps to the right (default n=1).  If n is negative, rotates left.\n",
      "\n"
     ]
    }
   ],
   "source": [
    "help(a.rotate)"
   ]
  },
  {
   "cell_type": "markdown",
   "metadata": {},
   "source": [
    "* defaultdict"
   ]
  },
  {
   "cell_type": "code",
   "execution_count": 32,
   "metadata": {
    "collapsed": false
   },
   "outputs": [
    {
     "name": "stdout",
     "output_type": "stream",
     "text": [
      "Help on class enumerate in module builtins:\n",
      "\n",
      "class enumerate(object)\n",
      " |  enumerate(iterable[, start]) -> iterator for index, value of iterable\n",
      " |  \n",
      " |  Return an enumerate object.  iterable must be another object that supports\n",
      " |  iteration.  The enumerate object yields pairs containing a count (from\n",
      " |  start, which defaults to zero) and a value yielded by the iterable argument.\n",
      " |  enumerate is useful for obtaining an indexed list:\n",
      " |      (0, seq[0]), (1, seq[1]), (2, seq[2]), ...\n",
      " |  \n",
      " |  Methods defined here:\n",
      " |  \n",
      " |  __getattribute__(self, name, /)\n",
      " |      Return getattr(self, name).\n",
      " |  \n",
      " |  __iter__(self, /)\n",
      " |      Implement iter(self).\n",
      " |  \n",
      " |  __new__(*args, **kwargs) from builtins.type\n",
      " |      Create and return a new object.  See help(type) for accurate signature.\n",
      " |  \n",
      " |  __next__(self, /)\n",
      " |      Implement next(self).\n",
      " |  \n",
      " |  __reduce__(...)\n",
      " |      Return state information for pickling.\n",
      "\n"
     ]
    }
   ],
   "source": [
    "#defaultdict 为不存在Key的元素创建一个默认值，适合用dict的元素作为容器\n",
    "help(enumerate)"
   ]
  },
  {
   "cell_type": "code",
   "execution_count": 67,
   "metadata": {
    "collapsed": false
   },
   "outputs": [
    {
     "name": "stdout",
     "output_type": "stream",
     "text": [
      "['yeah', 'but', 'no', 'but', 'yeah', 'but', 'no', 'but', 'yeah']\n"
     ]
    },
    {
     "data": {
      "text/plain": [
       "list"
      ]
     },
     "execution_count": 67,
     "metadata": {},
     "output_type": "execute_result"
    }
   ],
   "source": [
    "from collections import defaultdict\n",
    "s = \"yeah but no but yeah but no but yeah\"\n",
    "words = s.split()\n",
    "print (words)\n",
    "type(words)"
   ]
  },
  {
   "cell_type": "code",
   "execution_count": 66,
   "metadata": {
    "collapsed": false
   },
   "outputs": [
    {
     "name": "stdout",
     "output_type": "stream",
     "text": [
      "defaultdict(<class 'list'>, {})\n",
      "<class 'collections.defaultdict'>\n"
     ]
    }
   ],
   "source": [
    "wordlocations=defaultdict(list)\n",
    "print(wordlocations)\n",
    "print(type(wordlocations))"
   ]
  },
  {
   "cell_type": "code",
   "execution_count": 56,
   "metadata": {
    "collapsed": false
   },
   "outputs": [
    {
     "name": "stdout",
     "output_type": "stream",
     "text": [
      "0\n",
      "yeah\n",
      "defaultdict(<class 'list'>, {'yeah': [0]})\n",
      "1\n",
      "but\n",
      "defaultdict(<class 'list'>, {'yeah': [0], 'but': [1]})\n",
      "2\n",
      "no\n",
      "defaultdict(<class 'list'>, {'yeah': [0], 'but': [1], 'no': [2]})\n",
      "3\n",
      "but\n",
      "defaultdict(<class 'list'>, {'yeah': [0], 'but': [1, 3], 'no': [2]})\n",
      "4\n",
      "yeah\n",
      "defaultdict(<class 'list'>, {'yeah': [0, 4], 'but': [1, 3], 'no': [2]})\n",
      "5\n",
      "but\n",
      "defaultdict(<class 'list'>, {'yeah': [0, 4], 'but': [1, 3, 5], 'no': [2]})\n",
      "6\n",
      "no\n",
      "defaultdict(<class 'list'>, {'yeah': [0, 4], 'but': [1, 3, 5], 'no': [2, 6]})\n",
      "7\n",
      "but\n",
      "defaultdict(<class 'list'>, {'yeah': [0, 4], 'but': [1, 3, 5, 7], 'no': [2, 6]})\n",
      "8\n",
      "yeah\n",
      "defaultdict(<class 'list'>, {'yeah': [0, 4, 8], 'but': [1, 3, 5, 7], 'no': [2, 6]})\n"
     ]
    },
    {
     "data": {
      "text/plain": [
       "defaultdict(list, {'but': [1, 3, 5, 7], 'no': [2, 6], 'yeah': [0, 4, 8]})"
      ]
     },
     "execution_count": 56,
     "metadata": {},
     "output_type": "execute_result"
    }
   ],
   "source": [
    "for n,w in enumerate(words):\n",
    "    print(n)\n",
    "    print(w)\n",
    "    wordlocations[w].append(n)\n",
    "    print(wordlocations)\n",
    "wordlocations"
   ]
  },
  {
   "cell_type": "markdown",
   "metadata": {},
   "source": [
    "* cunter"
   ]
  },
  {
   "cell_type": "code",
   "execution_count": 63,
   "metadata": {
    "collapsed": false
   },
   "outputs": [
    {
     "name": "stdout",
     "output_type": "stream",
     "text": [
      "Counter({'blue': 3, 'red': 2, 'green': 1})\n",
      "Counter({' ': 8, 'b': 4, 'u': 4, 't': 4, 'y': 3, 'e': 3, 'a': 3, 'h': 3, 'n': 2, 'o': 2})\n"
     ]
    }
   ],
   "source": [
    "#Cunter\n",
    "from collections import Counter\n",
    "cnt=Counter()\n",
    "for word in ['red', 'blue', 'red', 'green', 'blue', 'blue']:\n",
    "    cnt[word]+=1\n",
    "print(cnt)\n",
    "cnt1=Counter()\n",
    "for word in s:\n",
    "    cnt1[word]+=1\n",
    "print(cnt1)"
   ]
  },
  {
   "cell_type": "markdown",
   "metadata": {
    "collapsed": true
   },
   "source": [
    "* namedtuple:给tuple中的每个元素指定一个名字"
   ]
  },
  {
   "cell_type": "code",
   "execution_count": 69,
   "metadata": {
    "collapsed": false
   },
   "outputs": [
    {
     "data": {
      "text/plain": [
       "__main__.Point"
      ]
     },
     "execution_count": 69,
     "metadata": {},
     "output_type": "execute_result"
    }
   ],
   "source": [
    "from collections import namedtuple\n",
    "Point = namedtuple('Point', ['x', 'y'])\n",
    "Point"
   ]
  },
  {
   "cell_type": "code",
   "execution_count": 70,
   "metadata": {
    "collapsed": false
   },
   "outputs": [
    {
     "name": "stdout",
     "output_type": "stream",
     "text": [
      "Help on function namedtuple in module collections:\n",
      "\n",
      "namedtuple(typename, field_names, *, verbose=False, rename=False, module=None)\n",
      "    Returns a new subclass of tuple with named fields.\n",
      "    \n",
      "    >>> Point = namedtuple('Point', ['x', 'y'])\n",
      "    >>> Point.__doc__                   # docstring for the new class\n",
      "    'Point(x, y)'\n",
      "    >>> p = Point(11, y=22)             # instantiate with positional args or keywords\n",
      "    >>> p[0] + p[1]                     # indexable like a plain tuple\n",
      "    33\n",
      "    >>> x, y = p                        # unpack like a regular tuple\n",
      "    >>> x, y\n",
      "    (11, 22)\n",
      "    >>> p.x + p.y                       # fields also accessible by name\n",
      "    33\n",
      "    >>> d = p._asdict()                 # convert to a dictionary\n",
      "    >>> d['x']\n",
      "    11\n",
      "    >>> Point(**d)                      # convert from a dictionary\n",
      "    Point(x=11, y=22)\n",
      "    >>> p._replace(x=100)               # _replace() is like str.replace() but targets named fields\n",
      "    Point(x=100, y=22)\n",
      "\n"
     ]
    }
   ],
   "source": [
    "help(namedtuple)"
   ]
  },
  {
   "cell_type": "code",
   "execution_count": 74,
   "metadata": {
    "collapsed": false
   },
   "outputs": [
    {
     "data": {
      "text/plain": [
       "'C:\\\\Users\\\\gcwee\\\\Desktop'"
      ]
     },
     "execution_count": 74,
     "metadata": {},
     "output_type": "execute_result"
    }
   ],
   "source": [
    "import os\n",
    "os.getcwd()"
   ]
  },
  {
   "cell_type": "code",
   "execution_count": 79,
   "metadata": {
    "collapsed": false
   },
   "outputs": [
    {
     "data": {
      "text/plain": [
       "<configparser.ConfigParser at 0x239d76c8400>"
      ]
     },
     "execution_count": 79,
     "metadata": {},
     "output_type": "execute_result"
    }
   ],
   "source": [
    "#模块介绍3：数据库sqlite3，可直接import\n",
    "#创建TABLE\n",
    "#处理ini配置文件,ini文件特点为有节的概念\n",
    "from configparser import ConfigParser\n",
    "parser=ConfigParser()\n",
    "parser.read('simple.ini')\n",
    "parser"
   ]
  },
  {
   "cell_type": "code",
   "execution_count": 18,
   "metadata": {
    "collapsed": true
   },
   "outputs": [],
   "source": [
    "#解析命令行参数\n",
    "#sys.argv\n",
    "#getopt：适合比较简单的情况\n",
    "#optparse\n",
    "#argparse: 更多使用"
   ]
  },
  {
   "cell_type": "code",
   "execution_count": 20,
   "metadata": {
    "collapsed": false
   },
   "outputs": [],
   "source": [
    "#import argparse\n",
    "#parser=argparse.Argumentparser\n",
    "#nargs\n",
    "#n:保留数个\n",
    "#?:0或1个\n",
    "#*:all元素\n",
    "#+：至少一个"
   ]
  },
  {
   "cell_type": "code",
   "execution_count": null,
   "metadata": {
    "collapsed": true
   },
   "outputs": [],
   "source": [
    "#fiddle"
   ]
  },
  {
   "cell_type": "code",
   "execution_count": 21,
   "metadata": {
    "collapsed": true
   },
   "outputs": [],
   "source": [
    "#习题：\n",
    "#利用request,登陆一个网站\n",
    "#如何监控一个网站的登陆过程\n",
    "#fiddle"
   ]
  },
  {
   "cell_type": "code",
   "execution_count": 81,
   "metadata": {
    "collapsed": false
   },
   "outputs": [
    {
     "data": {
      "text/plain": [
       "<!DOCTYPE HTML PUBLIC \"-//W3C//DTD HTML 4.01//EN\" \"http://www.w3.org/TR/html4/strict.dtd\">\n",
       "<html><head><title>Bad Request</title>\n",
       "<meta content=\"text/html; charset=utf-8\" http-equiv=\"Content-Type\"/></head>\n",
       "<body><h2>Bad Request - Invalid Hostname</h2>\n",
       "<hr/><p>HTTP Error 400. The request hostname is invalid.</p>\n",
       "</body></html>"
      ]
     },
     "execution_count": 81,
     "metadata": {},
     "output_type": "execute_result"
    }
   ],
   "source": [
    "#coding=utf-8\n",
    "import requests\n",
    "from bs4 import BeautifulSoup as bs\n",
    "\n",
    "s = requests.Session()\n",
    "headers = {\n",
    "    'User-Agent': 'Mozilla/5.0 (Windows NT 6.3; WOW64) AppleWebKit/537.36 (KHTML, like Gecko) Chrome/39.0.2171.95 Safari/537.36',\n",
    "    'Origin': 'http://bbs.jjxj.org/',\n",
    "    'Referer': 'http://bbs.jjxj.org/member.php?mod=logging&action=login',\n",
    "    'Host': 'http://bbs.jjxj.org/',\n",
    "}\n",
    "r = s.get('http://bbs.jjxj.org/member.php?mod=logging&action=login', headers=headers)\n",
    "soup = bs(r.content,'lxml')\n",
    "soup"
   ]
  }
 ],
 "metadata": {
  "kernelspec": {
   "display_name": "Python 3",
   "language": "python",
   "name": "python3"
  },
  "language_info": {
   "codemirror_mode": {
    "name": "ipython",
    "version": 3
   },
   "file_extension": ".py",
   "mimetype": "text/x-python",
   "name": "python",
   "nbconvert_exporter": "python",
   "pygments_lexer": "ipython3",
   "version": "3.6.0"
  }
 },
 "nbformat": 4,
 "nbformat_minor": 2
}
