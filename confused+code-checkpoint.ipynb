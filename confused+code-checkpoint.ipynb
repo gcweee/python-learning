{
 "cells": [
  {
   "cell_type": "code",
   "execution_count": null,
   "metadata": {
    "collapsed": true,
    "deletable": true,
    "editable": true
   },
   "outputs": [],
   "source": [
    "file=open('wage1_description.txt','r')\n",
    "col_names=[]\n",
    "for line in file:\n",
    "    t=line.split() \n",
    "    if len(t)>0 and t[0]=='Obs:':\n",
    "        break  #when it comes to the string \"Obs:\" it will break and run codes from the begining of for loop\n",
    "    col_names +=t\n",
    "col_names=col_names[1:]\n",
    "col_names"
   ]
  },
  {
   "cell_type": "markdown",
   "metadata": {
    "deletable": true,
    "editable": true
   },
   "source": [
    "为什么文档最开始的WAGE1.DES并没有被记入line的行列里面？\n",
    "\n",
    "因为col_names的第一个元素为WAGE.EDS，但是最终的col_names只取[1:]，排除了取其的可能性"
   ]
  },
  {
   "cell_type": "code",
   "execution_count": 1,
   "metadata": {
    "collapsed": false,
    "deletable": true,
    "editable": true
   },
   "outputs": [
    {
     "data": {
      "text/plain": [
       "4"
      ]
     },
     "execution_count": 1,
     "metadata": {},
     "output_type": "execute_result"
    }
   ],
   "source": [
    "# where & find function\n",
    "S='xxxxSPAMxxxxSPAMxxxxSPAM'\n",
    "where=S.find('SPAM')\n",
    "where"
   ]
  },
  {
   "cell_type": "markdown",
   "metadata": {
    "deletable": true,
    "editable": true
   },
   "source": [
    "如何找到第二个SPAM? 下面的例子中如何找到第二个最小值呢？"
   ]
  },
  {
   "cell_type": "code",
   "execution_count": null,
   "metadata": {
    "collapsed": true,
    "deletable": true,
    "editable": true
   },
   "outputs": [],
   "source": [
    "import numpy as np\n",
    "A=np.array([1,2,3,4,1])\n",
    "A.argmin()"
   ]
  },
  {
   "cell_type": "code",
   "execution_count": 6,
   "metadata": {
    "collapsed": false,
    "deletable": true,
    "editable": true
   },
   "outputs": [
    {
     "data": {
      "text/plain": [
       "array([ 1,  3,  6, 10, 11], dtype=int32)"
      ]
     },
     "execution_count": 6,
     "metadata": {},
     "output_type": "execute_result"
    }
   ],
   "source": [
    "A.cumsum()"
   ]
  },
  {
   "cell_type": "code",
   "execution_count": 7,
   "metadata": {
    "collapsed": false,
    "deletable": true,
    "editable": true
   },
   "outputs": [
    {
     "data": {
      "text/plain": [
       "array([ 1,  2,  6, 24, 24], dtype=int32)"
      ]
     },
     "execution_count": 7,
     "metadata": {},
     "output_type": "execute_result"
    }
   ],
   "source": [
    "A.cumprod()"
   ]
  },
  {
   "cell_type": "markdown",
   "metadata": {
    "deletable": true,
    "editable": true
   },
   "source": [
    "上面两个函数是什么意思？"
   ]
  },
  {
   "cell_type": "code",
   "execution_count": null,
   "metadata": {
    "collapsed": true,
    "deletable": true,
    "editable": true
   },
   "outputs": [],
   "source": [
    "import numpy as np\n",
    "z = np.linspace(1, 2, 5)\n",
    "z\n",
    "z[0,:]\n",
    "z[:,1] # ?????? what's this mean??????"
   ]
  },
  {
   "cell_type": "code",
   "execution_count": 2,
   "metadata": {
    "collapsed": false,
    "deletable": true,
    "editable": true
   },
   "outputs": [
    {
     "data": {
      "text/plain": [
       "array([ 2. ,  3. ,  3.5])"
      ]
     },
     "execution_count": 2,
     "metadata": {},
     "output_type": "execute_result"
    }
   ],
   "source": [
    "import numpy as np\n",
    "z = np.linspace(2, 4, 5)\n",
    "indices=np.array((0,2,3))\n",
    "z[indices]"
   ]
  },
  {
   "cell_type": "code",
   "execution_count": null,
   "metadata": {
    "collapsed": true,
    "deletable": true,
    "editable": true
   },
   "outputs": [],
   "source": [
    "d = np.array([0, 1, 1, 0, 0], dtype=bool)\n",
    "z[d]"
   ]
  },
  {
   "cell_type": "markdown",
   "metadata": {
    "deletable": true,
    "editable": true
   },
   "source": [
    "为什么0值所在的数字处无法显示出来？"
   ]
  },
  {
   "cell_type": "code",
   "execution_count": 13,
   "metadata": {
    "collapsed": false,
    "deletable": true,
    "editable": true
   },
   "outputs": [
    {
     "data": {
      "text/plain": [
       "array([[ 1.       ,  0.5      ,  0.8660254]])"
      ]
     },
     "execution_count": 13,
     "metadata": {},
     "output_type": "execute_result"
    }
   ],
   "source": [
    "import math\n",
    "from fractions import Fraction\n",
    "x=math.pi\n",
    "z = np.array([x/2, x/6, x/3])\n",
    "sinz=np.sin(z)  \n",
    "frac_sinz=np.array([sinz])\n",
    "frac_sinz"
   ]
  },
  {
   "cell_type": "markdown",
   "metadata": {
    "collapsed": true,
    "deletable": true,
    "editable": true
   },
   "source": [
    "??????how can I get the result with fraction form??????"
   ]
  },
  {
   "cell_type": "code",
   "execution_count": null,
   "metadata": {
    "collapsed": true,
    "deletable": true,
    "editable": true
   },
   "outputs": [],
   "source": [
    "import sys\n",
    "print(sys.platform)"
   ]
  },
  {
   "cell_type": "code",
   "execution_count": null,
   "metadata": {
    "collapsed": true,
    "deletable": true,
    "editable": true
   },
   "outputs": [],
   "source": [
    "print(28*190)"
   ]
  },
  {
   "cell_type": "code",
   "execution_count": null,
   "metadata": {
    "collapsed": true,
    "deletable": true,
    "editable": true
   },
   "outputs": [],
   "source": [
    "x='spam!'\n",
    "print(x*8)"
   ]
  },
  {
   "cell_type": "code",
   "execution_count": 15,
   "metadata": {
    "collapsed": false,
    "deletable": true,
    "editable": true
   },
   "outputs": [
    {
     "name": "stdout",
     "output_type": "stream",
     "text": [
      "<_io.TextIOWrapper name='sarcpt1.py' mode='w' encoding='cp936'>\n"
     ]
    }
   ],
   "source": [
    "import sys\n",
    "file=open('sarcpt1.py','w')\n",
    "file.write('sys.platform\\n')\n",
    "y=28*19\n",
    "file.write('y\\n')\n",
    "x='spam!'\n",
    "file.write('x*8\\n')\n",
    "file.close()\n",
    "print (file)"
   ]
  },
  {
   "cell_type": "code",
   "execution_count": null,
   "metadata": {
    "collapsed": false,
    "deletable": true,
    "editable": true
   },
   "outputs": [],
   "source": [
    "load sarcpt1.py"
   ]
  },
  {
   "cell_type": "code",
   "execution_count": null,
   "metadata": {
    "collapsed": true,
    "deletable": true,
    "editable": true
   },
   "outputs": [],
   "source": [
    "match=re.match('[/:](.*)[/:](.*)[/:](.*)','/usr/home:lumberjack')\n",
    "match.groups()#E???"
   ]
  },
  {
   "cell_type": "markdown",
   "metadata": {
    "deletable": true,
    "editable": true
   },
   "source": [
    "re.match 具体指什么？\n",
    "what is the symbal \":\" 如果将其改为/，仍然可以显示出相同结果\n",
    "[/:]\n",
    "如果 match.groups(2)，结果有什么不同？\n",
    "使用re.split方法得到结果不同，如下："
   ]
  },
  {
   "cell_type": "code",
   "execution_count": null,
   "metadata": {
    "collapsed": true,
    "deletable": true,
    "editable": true
   },
   "outputs": [],
   "source": [
    "match=re.split('[/:]','/usr/home:lumberjack')\n",
    "match.groups()"
   ]
  },
  {
   "cell_type": "code",
   "execution_count": null,
   "metadata": {
    "collapsed": true,
    "deletable": true,
    "editable": true
   },
   "outputs": [],
   "source": []
  },
  {
   "cell_type": "markdown",
   "metadata": {
    "deletable": true,
    "editable": true
   },
   "source": [
    "Consider the group of men"
   ]
  },
  {
   "cell_type": "code",
   "execution_count": null,
   "metadata": {
    "collapsed": true,
    "deletable": true,
    "editable": true
   },
   "outputs": [],
   "source": [
    "B='1101'\n",
    "I=0\n",
    "while B!='':\n",
    "    I=I*2+(ord(B[0])-ord('0'))\n",
    "    B=B[1:]\n",
    "I"
   ]
  },
  {
   "cell_type": "code",
   "execution_count": null,
   "metadata": {
    "collapsed": true,
    "deletable": true,
    "editable": true
   },
   "outputs": [],
   "source": [
    "table={'1975':'Holy Grail',\n",
    "       '1979':'Life of Brian',\n",
    "       '1983':'The Meaning of Life'}\n",
    "year='1983'\n",
    "movie=table[year]\n",
    "movie"
   ]
  },
  {
   "cell_type": "code",
   "execution_count": null,
   "metadata": {
    "collapsed": true,
    "deletable": true,
    "editable": true
   },
   "outputs": [],
   "source": [
    "for year in table: #just like :for year in table.keys():\n",
    "    print (year +'\\t'+table[year])"
   ]
  },
  {
   "cell_type": "markdown",
   "metadata": {
    "deletable": true,
    "editable": true
   },
   "source": [
    "如何确定year就是关键词呢？"
   ]
  },
  {
   "cell_type": "code",
   "execution_count": 3,
   "metadata": {
    "collapsed": false,
    "deletable": true,
    "editable": true
   },
   "outputs": [
    {
     "data": {
      "text/plain": [
       "0.4082935042806639"
      ]
     },
     "execution_count": 3,
     "metadata": {},
     "output_type": "execute_result"
    }
   ],
   "source": [
    "import numpy as np\n",
    "import matplotlib.pyplot as plt\n",
    "from scipy.optimize import bisect\n",
    "f=lambda x: np.sin(4*(x-.25))+x+x**20-1\n",
    "bisect(f,0,1)\n",
    "#what is this mean?\n",
    "#返回值是什么？为什么是零值？\n",
    "#newton返回的又是什么值？如果用0.7观察newton(f,0.7)???"
   ]
  },
  {
   "cell_type": "code",
   "execution_count": null,
   "metadata": {
    "collapsed": true,
    "deletable": true,
    "editable": true
   },
   "outputs": [],
   "source": [
    "from scipy.optimize import brentq\n",
    "brentq(f,0,1) #"
   ]
  },
  {
   "cell_type": "markdown",
   "metadata": {
    "deletable": true,
    "editable": true
   },
   "source": [
    "关于线性回归"
   ]
  },
  {
   "cell_type": "code",
   "execution_count": null,
   "metadata": {
    "collapsed": true,
    "deletable": true,
    "editable": true
   },
   "outputs": [],
   "source": [
    "import pandas as pd\n",
    "import numpy as np\n",
    "\n",
    "df=pd.read_table(r'C:\\Users\\gcwee\\Documents\\SCHOOL\\HUST\\课程\\python\\data_text\\wage.txt',sep='\\s+')\n",
    "\n",
    "#Suppose we wish to add as regressors to the regression model a set of indicator variables（指示变量）\n",
    "#for family size（famsze）and this set of indicator interacted with income.\n",
    "\n",
    "import statsmodels.formula.api as smf\n",
    "f2='wage~educ+female+married+tenure*C(smsa)' #此处何意？\n",
    "res2=smf.ols(formula=f2,data=df).fit(cov_type='HC1')\n",
    "res2.summary().tables[1]"
   ]
  },
  {
   "cell_type": "code",
   "execution_count": 4,
   "metadata": {
    "collapsed": false,
    "deletable": true,
    "editable": true
   },
   "outputs": [],
   "source": [
    "#核密度估计\n",
    "#plot.kde\n",
    "#d=data[data.posexp==1].totexp\n",
    "#plt.figure()\n",
    "#d.plot.kde(xlim=(0,40000))  ??\n",
    "#d.plot.ked(xlim=(0,np.log(40000)))"
   ]
  },
  {
   "cell_type": "code",
   "execution_count": null,
   "metadata": {
    "collapsed": true,
    "deletable": true,
    "editable": true
   },
   "outputs": [],
   "source": [
    "#关于OLSInfluence\n",
    "#讨论在参数估计及模型预测时的异常观测值\n",
    "##|dfits|>2*sqrt(k/n)\n",
    "from statsmodels.stats.outliers_influence import OLSInfluence\n",
    "r=OLSInfluence(res)\n",
    "dfits,threshold=r.dffits\n",
    "r.dffits\n",
    "print(threshold)\n",
    "\n",
    "dfits=pd.Series(dfits,name='dfits')\n",
    "print(dfits.describe())\n",
    "\n",
    "print(sum(abs(dfits)>threshold)/len(dfits))\n",
    "\n",
    "d=pd.concat([d.dfits],axis=1) #此处应该是[d.dfits]而不应该是[d,dfits]\n",
    "d[abs(d.dfits)>2*threshold]"
   ]
  },
  {
   "cell_type": "markdown",
   "metadata": {
    "collapsed": true,
    "deletable": true,
    "editable": true
   },
   "source": [
    "关于def"
   ]
  },
  {
   "cell_type": "code",
   "execution_count": null,
   "metadata": {
    "collapsed": true,
    "deletable": true,
    "editable": true
   },
   "outputs": [],
   "source": [
    "#涉及异常处理时，将处理筛选逻辑的代码放至单独的函数中，然后使用内建的函数filter()\n",
    "values=['1','2','-3','-','4','N/A','5']\n",
    "\n",
    "def is_int(val): #如何理解代码意思？\n",
    "    try:\n",
    "        x=int(val)\n",
    "        return True\n",
    "    except ValueError:\n",
    "        return False\n",
    "    \n",
    "ivals=list(filter(is_int,values))\n",
    "print(ivals)"
   ]
  },
  {
   "cell_type": "code",
   "execution_count": null,
   "metadata": {
    "collapsed": true,
    "deletable": true,
    "editable": true
   },
   "outputs": [],
   "source": [
    "from collections import namedtuple\n",
    "Stock=namedtuple('Stock',['name','share','price'])\n",
    "def compute_cost(records):\n",
    "    total=.0\n",
    "    for rec in records:\n",
    "        s=Stock(*rec)\n",
    "        total+=s.shares*s.price\n",
    "    return total\n",
    "#现在给定一个s,便有与其对应的total出现"
   ]
  }
 ],
 "metadata": {
  "anaconda-cloud": {},
  "kernelspec": {
   "display_name": "Python 3",
   "language": "python",
   "name": "python3"
  },
  "language_info": {
   "codemirror_mode": {
    "name": "ipython",
    "version": 3
   },
   "file_extension": ".py",
   "mimetype": "text/x-python",
   "name": "python",
   "nbconvert_exporter": "python",
   "pygments_lexer": "ipython3",
   "version": "3.6.0"
  }
 },
 "nbformat": 4,
 "nbformat_minor": 0
}
