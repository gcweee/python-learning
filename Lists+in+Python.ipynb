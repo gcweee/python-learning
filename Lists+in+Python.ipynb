{
 "cells": [
  {
   "cell_type": "markdown",
   "metadata": {
    "nbpresent": {
     "id": "337ed74a-920d-4f47-8b28-b91d5f6530f5"
    }
   },
   "source": [
    "map a function across asequence"
   ]
  },
  {
   "cell_type": "code",
   "execution_count": 1,
   "metadata": {
    "collapsed": false,
    "nbpresent": {
     "id": "a3854c78-9e9b-40a8-8448-e007ab807669"
    }
   },
   "outputs": [
    {
     "data": {
      "text/plain": [
       "[1, 2, 0, 1, 2]"
      ]
     },
     "execution_count": 1,
     "metadata": {},
     "output_type": "execute_result"
    }
   ],
   "source": [
    "list(map(abs,[-1,-2,0,1,2]))"
   ]
  },
  {
   "cell_type": "markdown",
   "metadata": {
    "nbpresent": {
     "id": "025e4ed0-3372-4f9e-9e2b-9f1d23aa15fe"
    }
   },
   "source": [
    "slice assignment"
   ]
  },
  {
   "cell_type": "code",
   "execution_count": 2,
   "metadata": {
    "collapsed": false,
    "nbpresent": {
     "id": "02565eb2-7b27-4857-b2fd-7d2e54c239f2"
    }
   },
   "outputs": [
    {
     "data": {
      "text/plain": [
       "[1, 4, 5, 3]"
      ]
     },
     "execution_count": 2,
     "metadata": {},
     "output_type": "execute_result"
    }
   ],
   "source": [
    "L=[1,2,3]\n",
    "L[1:2]=[4,5] #the replacement/insertion\n",
    "L"
   ]
  },
  {
   "cell_type": "code",
   "execution_count": 4,
   "metadata": {
    "collapsed": false,
    "nbpresent": {
     "id": "918d3719-b69d-49db-a24e-c973e45b1f83"
    }
   },
   "outputs": [
    {
     "data": {
      "text/plain": [
       "[1, 6, 7, 6, 7, 4, 5, 3]"
      ]
     },
     "execution_count": 4,
     "metadata": {},
     "output_type": "execute_result"
    }
   ],
   "source": [
    "# now the L become [1,4,5,3]\n",
    "L[1:1]=[6,7]\n",
    "L #this is the insertion(but replace nothing)"
   ]
  },
  {
   "cell_type": "code",
   "execution_count": 5,
   "metadata": {
    "collapsed": false,
    "nbpresent": {
     "id": "74ebb58e-4ede-4862-b581-d3fc384d98ba"
    }
   },
   "outputs": [
    {
     "data": {
      "text/plain": [
       "[1, 7, 6, 7, 4, 5, 3]"
      ]
     },
     "execution_count": 5,
     "metadata": {},
     "output_type": "execute_result"
    }
   ],
   "source": [
    "L[1:2]=[]\n",
    "L #deletion( but insert nothing)"
   ]
  },
  {
   "cell_type": "code",
   "execution_count": 7,
   "metadata": {
    "collapsed": false,
    "nbpresent": {
     "id": "25d2bbba-7603-4fa2-ab2b-de3a23b0ab5f"
    }
   },
   "outputs": [
    {
     "data": {
      "text/plain": [
       "['aBe', 'ABD', 'abc']"
      ]
     },
     "execution_count": 7,
     "metadata": {},
     "output_type": "execute_result"
    }
   ],
   "source": [
    "L=['abc','ABD','aBe']\n",
    "sorted(L,key=str.lower,reverse=True)"
   ]
  },
  {
   "cell_type": "code",
   "execution_count": 8,
   "metadata": {
    "collapsed": false,
    "nbpresent": {
     "id": "a94f39d8-56f6-4cb6-8872-a19ff5f9c1dc"
    }
   },
   "outputs": [
    {
     "data": {
      "text/plain": [
       "['abe', 'abd', 'abc']"
      ]
     },
     "execution_count": 8,
     "metadata": {},
     "output_type": "execute_result"
    }
   ],
   "source": [
    "sorted([x.lower()for x in L],reverse=True)"
   ]
  },
  {
   "cell_type": "markdown",
   "metadata": {
    "nbpresent": {
     "id": "7c63ec82-baf6-4aa5-b830-03623ed53d0e"
    }
   },
   "source": [
    "extend, pop, reverse and append function"
   ]
  },
  {
   "cell_type": "code",
   "execution_count": 17,
   "metadata": {
    "collapsed": false,
    "nbpresent": {
     "id": "e7119a5a-2ed5-4a5f-b530-a7b2e12ef4fa"
    }
   },
   "outputs": [
    {
     "data": {
      "text/plain": [
       "1"
      ]
     },
     "execution_count": 17,
     "metadata": {},
     "output_type": "execute_result"
    }
   ],
   "source": [
    "L=['spam','eggs','ham']\n",
    "L.index('eggs')#index of an object( search/ find )"
   ]
  },
  {
   "cell_type": "code",
   "execution_count": 18,
   "metadata": {
    "collapsed": false,
    "nbpresent": {
     "id": "e497dd91-39cf-4e08-bc6f-9b09cdf4767e"
    }
   },
   "outputs": [
    {
     "data": {
      "text/plain": [
       "['spam', 'toast', 'eggs', 'ham']"
      ]
     },
     "execution_count": 18,
     "metadata": {},
     "output_type": "execute_result"
    }
   ],
   "source": [
    "L.insert(1,'toast')\n",
    "L #insert at position"
   ]
  },
  {
   "cell_type": "code",
   "execution_count": 19,
   "metadata": {
    "collapsed": false,
    "nbpresent": {
     "id": "36535e01-0f65-4bc1-b905-803b109e9a3a"
    }
   },
   "outputs": [
    {
     "data": {
      "text/plain": [
       "['spam', 'toast', 'ham']"
      ]
     },
     "execution_count": 19,
     "metadata": {},
     "output_type": "execute_result"
    }
   ],
   "source": [
    "L.remove('eggs')\n",
    "L #delete by value "
   ]
  },
  {
   "cell_type": "code",
   "execution_count": 20,
   "metadata": {
    "collapsed": false,
    "nbpresent": {
     "id": "84825394-a24b-4a24-b23a-9eca581c8597"
    }
   },
   "outputs": [
    {
     "data": {
      "text/plain": [
       "'toast'"
      ]
     },
     "execution_count": 20,
     "metadata": {},
     "output_type": "execute_result"
    }
   ],
   "source": [
    "L.pop(1) #delete by position"
   ]
  },
  {
   "cell_type": "code",
   "execution_count": 21,
   "metadata": {
    "collapsed": false,
    "nbpresent": {
     "id": "a1cae07e-4c49-4795-bf31-8a948acb9c0b"
    }
   },
   "outputs": [
    {
     "data": {
      "text/plain": [
       "['spam', 'ham']"
      ]
     },
     "execution_count": 21,
     "metadata": {},
     "output_type": "execute_result"
    }
   ],
   "source": [
    "L"
   ]
  },
  {
   "cell_type": "code",
   "execution_count": 22,
   "metadata": {
    "collapsed": false,
    "nbpresent": {
     "id": "3aee6400-3394-476f-997a-5fa6a389bb7e"
    }
   },
   "outputs": [
    {
     "data": {
      "text/plain": [
       "['spam', 'ham', 'spam']"
      ]
     },
     "execution_count": 22,
     "metadata": {},
     "output_type": "execute_result"
    }
   ],
   "source": [
    "L.append('spam')\n",
    "L"
   ]
  },
  {
   "cell_type": "code",
   "execution_count": 23,
   "metadata": {
    "collapsed": false,
    "nbpresent": {
     "id": "2f83d171-ed36-4151-b13d-20dd8fad9cf3"
    }
   },
   "outputs": [
    {
     "data": {
      "text/plain": [
       "2"
      ]
     },
     "execution_count": 23,
     "metadata": {},
     "output_type": "execute_result"
    }
   ],
   "source": [
    "L.count('spam') #the count and index don't change the list itself, but ruturn information about its content"
   ]
  },
  {
   "cell_type": "markdown",
   "metadata": {
    "nbpresent": {
     "id": "ddc50ee6-7e09-4057-8337-7d21768ab3bc"
    }
   },
   "source": [
    "dictionary"
   ]
  },
  {
   "cell_type": "code",
   "execution_count": 24,
   "metadata": {
    "collapsed": false,
    "nbpresent": {
     "id": "a92ea911-a381-48c5-bcab-6b41373dd623"
    }
   },
   "outputs": [
    {
     "data": {
      "text/plain": [
       "{'age': '40', 'name': 'Bob'}"
      ]
     },
     "execution_count": 24,
     "metadata": {},
     "output_type": "execute_result"
    }
   ],
   "source": [
    "D=dict([('name','Bob'),('age','40')])\n",
    "D"
   ]
  },
  {
   "cell_type": "code",
   "execution_count": null,
   "metadata": {
    "collapsed": false,
    "nbpresent": {
     "id": "e35e33cc-3942-40d7-98bf-90a9227706f1"
    }
   },
   "outputs": [],
   "source": [
    "D=dict(zip(keyslist,valueslist))\n",
    "D"
   ]
  },
  {
   "cell_type": "code",
   "execution_count": 52,
   "metadata": {
    "collapsed": false,
    "nbpresent": {
     "id": "c730c59a-4ef4-4569-8a66-487fa5e04e41"
    },
    "scrolled": false
   },
   "outputs": [
    {
     "data": {
      "text/plain": [
       "{'a': 1, 'b': 2, 'c': 3}"
      ]
     },
     "execution_count": 52,
     "metadata": {},
     "output_type": "execute_result"
    }
   ],
   "source": [
    "dict(zip(['a','b','c'],[1,2,3]))"
   ]
  },
  {
   "cell_type": "code",
   "execution_count": 53,
   "metadata": {
    "collapsed": false,
    "nbpresent": {
     "id": "2b06f37e-6f39-4382-a4d6-7facf796658f"
    }
   },
   "outputs": [
    {
     "data": {
      "text/plain": [
       "{'a': 1, 'b': 2, 'c': 3}"
      ]
     },
     "execution_count": 53,
     "metadata": {},
     "output_type": "execute_result"
    }
   ],
   "source": [
    "{k:v for (k,v)in zip (['a','b','c'],[1,2,3])}"
   ]
  },
  {
   "cell_type": "code",
   "execution_count": 54,
   "metadata": {
    "collapsed": false,
    "nbpresent": {
     "id": "8c064384-0ee7-45e0-9645-957c8aea3f83"
    }
   },
   "outputs": [
    {
     "data": {
      "text/plain": [
       "{'eggs': 'EGGS!', 'ham': 'HAM!', 'spam': 'SPAM!'}"
      ]
     },
     "execution_count": 54,
     "metadata": {},
     "output_type": "execute_result"
    }
   ],
   "source": [
    "{c.lower():c+'!' for c in['SPAM','EGGS','HAM']}"
   ]
  },
  {
   "cell_type": "code",
   "execution_count": 55,
   "metadata": {
    "collapsed": false,
    "nbpresent": {
     "id": "bc5c3add-dd9b-45c6-b8a2-b318a2ef2d9c"
    }
   },
   "outputs": [
    {
     "data": {
      "text/plain": [
       "{'a': 12, 'b': 12, 'c': 12}"
      ]
     },
     "execution_count": 55,
     "metadata": {},
     "output_type": "execute_result"
    }
   ],
   "source": [
    "dict.fromkeys(['a','b','c'],12)"
   ]
  },
  {
   "cell_type": "code",
   "execution_count": 56,
   "metadata": {
    "collapsed": false,
    "nbpresent": {
     "id": "65f5ec7a-c239-4b45-8846-250a1a869df4"
    }
   },
   "outputs": [
    {
     "data": {
      "text/plain": [
       "{0: 0, 1: 0, 2: 0}"
      ]
     },
     "execution_count": 56,
     "metadata": {},
     "output_type": "execute_result"
    }
   ],
   "source": [
    "{k:0 for k in range(3)}"
   ]
  },
  {
   "cell_type": "code",
   "execution_count": 57,
   "metadata": {
    "collapsed": false,
    "nbpresent": {
     "id": "76813fab-4594-47a1-ba91-95650a5093ff"
    }
   },
   "outputs": [
    {
     "data": {
      "text/plain": [
       "{'a': 9, 'b': 3, 'c': 5}"
      ]
     },
     "execution_count": 57,
     "metadata": {},
     "output_type": "execute_result"
    }
   ],
   "source": [
    "dict(a=9,b=3,c=5)"
   ]
  },
  {
   "cell_type": "code",
   "execution_count": null,
   "metadata": {
    "collapsed": true,
    "nbpresent": {
     "id": "9b8fa69e-e8b9-4098-9711-cedce6be1f5d"
    }
   },
   "outputs": [],
   "source": [
    "D.get(key,default?) #fetch by key, if absent default( or None)\n",
    "D.pop(key,default?)\n",
    "D.setdefault(key,default?)\n",
    "D.popitem()#remove any(key, valut) pair "
   ]
  },
  {
   "cell_type": "code",
   "execution_count": null,
   "metadata": {
    "collapsed": true,
    "nbpresent": {
     "id": "45af74d4-de5e-4dfa-a859-83cf84f746fd"
    }
   },
   "outputs": [],
   "source": [
    "del D[key]"
   ]
  },
  {
   "cell_type": "code",
   "execution_count": null,
   "metadata": {
    "collapsed": true,
    "nbpresent": {
     "id": "5b394dc5-f537-4d39-93af-09f46a053c7b"
    }
   },
   "outputs": [],
   "source": [
    "list(D.keys())"
   ]
  },
  {
   "cell_type": "code",
   "execution_count": null,
   "metadata": {
    "collapsed": true,
    "nbpresent": {
     "id": "26682e40-330a-4445-98da-08be88055905"
    }
   },
   "outputs": [],
   "source": [
    "D[key]=42 #change entry (value can be list or other things)"
   ]
  },
  {
   "cell_type": "code",
   "execution_count": 27,
   "metadata": {
    "collapsed": false,
    "nbpresent": {
     "id": "1df6d4ab-2715-490d-8d83-0252c323d35f"
    }
   },
   "outputs": [
    {
     "data": {
      "text/plain": [
       "{0: 0, 1: 2, 2: 4, 3: 6, 4: 8, 5: 10, 6: 12, 7: 14, 8: 16, 9: 18}"
      ]
     },
     "execution_count": 27,
     "metadata": {},
     "output_type": "execute_result"
    }
   ],
   "source": [
    "D={x:x*2 for x in range(10)}\n",
    "D"
   ]
  },
  {
   "cell_type": "code",
   "execution_count": 28,
   "metadata": {
    "collapsed": false,
    "nbpresent": {
     "id": "269ca2ac-1167-4556-b095-e5b99757303b"
    }
   },
   "outputs": [
    {
     "data": {
      "text/plain": [
       "[2, 3, 1]"
      ]
     },
     "execution_count": 28,
     "metadata": {},
     "output_type": "execute_result"
    }
   ],
   "source": [
    "D={'spam':2,'ham':1,'eggs':3}\n",
    "list(D.values()) #return dictionary's vaules"
   ]
  },
  {
   "cell_type": "code",
   "execution_count": 29,
   "metadata": {
    "collapsed": false,
    "nbpresent": {
     "id": "4d3e899c-a285-4309-84e5-8ef7a8df25c8"
    }
   },
   "outputs": [
    {
     "data": {
      "text/plain": [
       "[('spam', 2), ('eggs', 3), ('ham', 1)]"
      ]
     },
     "execution_count": 29,
     "metadata": {},
     "output_type": "execute_result"
    }
   ],
   "source": [
    "list(D.items()) #return the (key,value)pair tuples"
   ]
  },
  {
   "cell_type": "code",
   "execution_count": 30,
   "metadata": {
    "collapsed": false,
    "nbpresent": {
     "id": "321320d4-08d0-413f-93a8-ff87d0f6b332"
    }
   },
   "outputs": [
    {
     "data": {
      "text/plain": [
       "2"
      ]
     },
     "execution_count": 30,
     "metadata": {},
     "output_type": "execute_result"
    }
   ],
   "source": [
    "D.get('spam')"
   ]
  },
  {
   "cell_type": "code",
   "execution_count": 31,
   "metadata": {
    "collapsed": true,
    "nbpresent": {
     "id": "318c61e0-4d71-4e8e-bb48-4eb805e67598"
    }
   },
   "outputs": [],
   "source": [
    "D.get('toast') #cannot find the 'toast' key"
   ]
  },
  {
   "cell_type": "code",
   "execution_count": 32,
   "metadata": {
    "collapsed": false,
    "nbpresent": {
     "id": "d2e3e4f0-c712-4f68-ae22-398c4c6b02bb"
    }
   },
   "outputs": [
    {
     "name": "stdout",
     "output_type": "stream",
     "text": [
      "None\n"
     ]
    }
   ],
   "source": [
    "#we have to use the print so it will return None\n",
    "print(D.get('toast'))"
   ]
  },
  {
   "cell_type": "code",
   "execution_count": 33,
   "metadata": {
    "collapsed": false,
    "nbpresent": {
     "id": "b10aa4ae-00ff-429e-b487-0726fc548d3c"
    }
   },
   "outputs": [
    {
     "data": {
      "text/plain": [
       "88"
      ]
     },
     "execution_count": 33,
     "metadata": {},
     "output_type": "execute_result"
    }
   ],
   "source": [
    "D.get('toast',88)"
   ]
  },
  {
   "cell_type": "code",
   "execution_count": 34,
   "metadata": {
    "collapsed": false,
    "nbpresent": {
     "id": "f71db48c-a593-4bdf-ba21-053c4e80c4b2"
    }
   },
   "outputs": [
    {
     "data": {
      "text/plain": [
       "{'eggs': 3, 'ham': 1, 'spam': 2}"
      ]
     },
     "execution_count": 34,
     "metadata": {},
     "output_type": "execute_result"
    }
   ],
   "source": [
    "D"
   ]
  },
  {
   "cell_type": "code",
   "execution_count": 35,
   "metadata": {
    "collapsed": false,
    "nbpresent": {
     "id": "7c3da36a-3dc8-4e75-a8d2-1b9653c4be42"
    }
   },
   "outputs": [
    {
     "data": {
      "text/plain": [
       "{'eggs': 3, 'ham': 1, 'muffin': 5, 'spam': 2, 'toast': 4}"
      ]
     },
     "execution_count": 35,
     "metadata": {},
     "output_type": "execute_result"
    }
   ],
   "source": [
    "D2={'toast':4,'muffin':5} #lots of delicious scrambled order here\n",
    "D.update(D2)\n",
    "D #the same use of Pop()"
   ]
  },
  {
   "cell_type": "markdown",
   "metadata": {
    "nbpresent": {
     "id": "0705638f-5463-4ae7-b438-aa187ad05e29"
    }
   },
   "source": [
    "examples"
   ]
  },
  {
   "cell_type": "code",
   "execution_count": 36,
   "metadata": {
    "collapsed": false,
    "nbpresent": {
     "id": "f8f1e72a-6e62-41ac-b6db-f5460cf90a00"
    }
   },
   "outputs": [
    {
     "data": {
      "text/plain": [
       "'The Meaning of Life'"
      ]
     },
     "execution_count": 36,
     "metadata": {},
     "output_type": "execute_result"
    }
   ],
   "source": [
    "table={'1975':'Holy Grail',\n",
    "       '1979':'Life of Brian',\n",
    "       '1983':'The Meaning of Life'}\n",
    "year='1983'\n",
    "movie=table[year]\n",
    "movie"
   ]
  },
  {
   "cell_type": "code",
   "execution_count": 38,
   "metadata": {
    "collapsed": false,
    "nbpresent": {
     "id": "f40447e0-4c81-4bd7-9f6a-4dc5d8c77d94"
    }
   },
   "outputs": [
    {
     "name": "stdout",
     "output_type": "stream",
     "text": [
      "1983\tThe Meaning of Life\n",
      "1975\tHoly Grail\n",
      "1979\tLife of Brian\n"
     ]
    }
   ],
   "source": [
    "for year in table: #just like :for year in table.keys():\n",
    "    print (year +'\\t'+table[year])"
   ]
  },
  {
   "cell_type": "markdown",
   "metadata": {
    "nbpresent": {
     "id": "e23b2a54-4c75-4793-96c2-7fecfae4d7c2"
    }
   },
   "source": [
    "    mapping values to keys"
   ]
  },
  {
   "cell_type": "code",
   "execution_count": 40,
   "metadata": {
    "collapsed": false,
    "nbpresent": {
     "id": "bb090323-528e-45a9-8b62-ebc41da966fb"
    }
   },
   "outputs": [
    {
     "data": {
      "text/plain": [
       "'1976'"
      ]
     },
     "execution_count": 40,
     "metadata": {},
     "output_type": "execute_result"
    }
   ],
   "source": [
    "table1={'Holy Grail':'1976',\n",
    "       'Life of Brian':'1978',\n",
    "       'The meaning of life':'1983'}\n",
    "table1['Holy Grail']"
   ]
  },
  {
   "cell_type": "code",
   "execution_count": 41,
   "metadata": {
    "collapsed": false,
    "nbpresent": {
     "id": "af4259b9-85b7-4e88-b2dd-e700a467d18f"
    }
   },
   "outputs": [
    {
     "data": {
      "text/plain": [
       "[('Life of Brian', '1978'),\n",
       " ('The meaning of life', '1983'),\n",
       " ('Holy Grail', '1976')]"
      ]
     },
     "execution_count": 41,
     "metadata": {},
     "output_type": "execute_result"
    }
   ],
   "source": [
    "list(table1.items())"
   ]
  },
  {
   "cell_type": "code",
   "execution_count": 42,
   "metadata": {
    "collapsed": false,
    "nbpresent": {
     "id": "861bbfd5-9272-4e79-b64f-31db1fbf92fa"
    }
   },
   "outputs": [
    {
     "data": {
      "text/plain": [
       "['Holy Grail']"
      ]
     },
     "execution_count": 42,
     "metadata": {},
     "output_type": "execute_result"
    }
   ],
   "source": [
    "[title for (title,year) in table1.items()if year=='1976']"
   ]
  },
  {
   "cell_type": "code",
   "execution_count": 43,
   "metadata": {
    "collapsed": false,
    "nbpresent": {
     "id": "361f2213-e101-409f-b831-d2ed9cfa3b9a"
    }
   },
   "outputs": [
    {
     "data": {
      "text/plain": [
       "['Holy Grail']"
      ]
     },
     "execution_count": 43,
     "metadata": {},
     "output_type": "execute_result"
    }
   ],
   "source": [
    "[movie_name for (movie_name,time) in table1.items()if time=='1976']"
   ]
  },
  {
   "cell_type": "markdown",
   "metadata": {
    "nbpresent": {
     "id": "2b363e96-6f8a-47f2-a400-ee2b74a3f670"
    }
   },
   "source": [
    "    use dictionaries for sparse data structures:tuple keys"
   ]
  },
  {
   "cell_type": "code",
   "execution_count": 45,
   "metadata": {
    "collapsed": false,
    "nbpresent": {
     "id": "422959a6-6631-4a55-a986-9f7d15bf62e3"
    }
   },
   "outputs": [
    {
     "data": {
      "text/plain": [
       "88"
      ]
     },
     "execution_count": 45,
     "metadata": {},
     "output_type": "execute_result"
    }
   ],
   "source": [
    "Matrix={}\n",
    "Matrix[(2,3,4)]=88\n",
    "Matrix[(3,5,9)]=99\n",
    "X=2;Y=3;Z=4 #这个地方必须用分号，use for separate statements\n",
    "Matrix[(X,Y,Z)]"
   ]
  },
  {
   "cell_type": "code",
   "execution_count": 46,
   "metadata": {
    "collapsed": false,
    "nbpresent": {
     "id": "b1203016-e81e-4996-9485-6d2af7df0fa9"
    }
   },
   "outputs": [
    {
     "data": {
      "text/plain": [
       "{(2, 3, 4): 88, (3, 5, 9): 99}"
      ]
     },
     "execution_count": 46,
     "metadata": {},
     "output_type": "execute_result"
    }
   ],
   "source": [
    "Matrix"
   ]
  },
  {
   "cell_type": "markdown",
   "metadata": {
    "nbpresent": {
     "id": "9f5ee0a3-6c2e-4c48-8183-d6b7cb5d7f7b"
    }
   },
   "source": [
    "    try to avoid missing-key errors"
   ]
  },
  {
   "cell_type": "code",
   "execution_count": 47,
   "metadata": {
    "collapsed": false,
    "nbpresent": {
     "id": "b917aaf6-8b38-4c6b-befb-dfa123995e0d"
    }
   },
   "outputs": [
    {
     "name": "stdout",
     "output_type": "stream",
     "text": [
      "0\n"
     ]
    }
   ],
   "source": [
    "#A\n",
    "if (2,3,6)in Matrix:\n",
    "    print(Matrix[2,3,6])\n",
    "else:\n",
    "    print(0)"
   ]
  },
  {
   "cell_type": "code",
   "execution_count": 48,
   "metadata": {
    "collapsed": false,
    "nbpresent": {
     "id": "b4991ca2-2ced-4193-8ce1-ebee3419b1a3"
    }
   },
   "outputs": [
    {
     "name": "stdout",
     "output_type": "stream",
     "text": [
      "0\n"
     ]
    }
   ],
   "source": [
    "#B\n",
    "try:\n",
    "    print(Matrix[(2,3,6)])\n",
    "except KeyError:\n",
    "    print(0)"
   ]
  },
  {
   "cell_type": "code",
   "execution_count": 49,
   "metadata": {
    "collapsed": false,
    "nbpresent": {
     "id": "ad6587cc-6b65-4af1-8880-fa8ff3afc159"
    }
   },
   "outputs": [
    {
     "data": {
      "text/plain": [
       "88"
      ]
     },
     "execution_count": 49,
     "metadata": {},
     "output_type": "execute_result"
    }
   ],
   "source": [
    "Matrix.get((2,3,4),0)"
   ]
  },
  {
   "cell_type": "code",
   "execution_count": 50,
   "metadata": {
    "collapsed": false,
    "nbpresent": {
     "id": "07db5840-9475-4775-9090-db1a412f4f3b"
    }
   },
   "outputs": [
    {
     "data": {
      "text/plain": [
       "0"
      ]
     },
     "execution_count": 50,
     "metadata": {},
     "output_type": "execute_result"
    }
   ],
   "source": [
    "Matrix.get((2,3,6),0)"
   ]
  },
  {
   "cell_type": "code",
   "execution_count": 51,
   "metadata": {
    "collapsed": false,
    "nbpresent": {
     "id": "67b94abf-49a6-40c7-b1c6-bdb37063da79"
    }
   },
   "outputs": [
    {
     "data": {
      "text/plain": [
       "{'a': 0, 'b': 0}"
      ]
     },
     "execution_count": 51,
     "metadata": {},
     "output_type": "execute_result"
    }
   ],
   "source": [
    "dict.fromkeys(['a','b'],0)#an initial value for all of the values (the default is None)"
   ]
  },
  {
   "cell_type": "markdown",
   "metadata": {
    "nbpresent": {
     "id": "372192e5-9750-412d-88cd-207e1423aa73"
    }
   },
   "source": [
    "sorting dictionary keys"
   ]
  },
  {
   "cell_type": "code",
   "execution_count": 60,
   "metadata": {
    "collapsed": false,
    "nbpresent": {
     "id": "1f7cb6a7-6775-4600-8d3b-5043e1f8f16e"
    }
   },
   "outputs": [
    {
     "name": "stdout",
     "output_type": "stream",
     "text": [
      "a 1\n",
      "b 2\n",
      "c 3\n"
     ]
    }
   ],
   "source": [
    "D=dict(a=1,b=2,c=3)\n",
    "Ks=list(D.keys())\n",
    "Ks.sort()\n",
    "for k in Ks: print(k,D[k])"
   ]
  },
  {
   "cell_type": "code",
   "execution_count": 62,
   "metadata": {
    "collapsed": false,
    "nbpresent": {
     "id": "bf5262b1-324d-4df4-9708-c2f345ae7c5e"
    }
   },
   "outputs": [
    {
     "name": "stdout",
     "output_type": "stream",
     "text": [
      "a 1\n",
      "b 2\n",
      "c 3\n"
     ]
    }
   ],
   "source": [
    "Ks1=D.keys()\n",
    "for k in sorted(Ks1):print(k,D[k])"
   ]
  },
  {
   "cell_type": "code",
   "execution_count": 63,
   "metadata": {
    "collapsed": false,
    "nbpresent": {
     "id": "c7df9684-b458-490d-9a41-25eead42f9ac"
    }
   },
   "outputs": [
    {
     "data": {
      "text/plain": [
       "['0', '0', '0', '0', '0']"
      ]
     },
     "execution_count": 63,
     "metadata": {},
     "output_type": "execute_result"
    }
   ],
   "source": [
    "list('0'*5)"
   ]
  },
  {
   "cell_type": "code",
   "execution_count": null,
   "metadata": {
    "collapsed": true,
    "nbpresent": {
     "id": "c2833577-990d-4b37-b3c4-21bec8e7f8b0"
    }
   },
   "outputs": [],
   "source": []
  }
 ],
 "metadata": {
  "anaconda-cloud": {},
  "kernelspec": {
   "display_name": "Python [conda root]",
   "language": "python",
   "name": "conda-root-py"
  },
  "language_info": {
   "codemirror_mode": {
    "name": "ipython",
    "version": 3
   },
   "file_extension": ".py",
   "mimetype": "text/x-python",
   "name": "python",
   "nbconvert_exporter": "python",
   "pygments_lexer": "ipython3",
   "version": "3.5.2"
  }
 },
 "nbformat": 4,
 "nbformat_minor": 1
}
